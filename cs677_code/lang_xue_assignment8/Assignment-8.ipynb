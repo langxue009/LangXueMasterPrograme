{
 "cells": [
  {
   "cell_type": "markdown",
   "metadata": {},
   "source": [
    "## Questions from \"data_science_assignment_heart_failure_linear_models.pdf\""
   ]
  },
  {
   "cell_type": "code",
   "execution_count": 320,
   "metadata": {},
   "outputs": [],
   "source": [
    "import pandas as pd\n",
    "import numpy as np\n",
    "import matplotlib.pyplot as plt\n",
    "import seaborn as sns\n",
    "from sklearn.model_selection import train_test_split\n",
    "from sklearn.linear_model import LinearRegression\n",
    "\n",
    "from scipy.stats import f as fisher_f"
   ]
  },
  {
   "cell_type": "markdown",
   "metadata": {},
   "source": [
    "### Question 1.1"
   ]
  },
  {
   "cell_type": "code",
   "execution_count": 2,
   "metadata": {},
   "outputs": [],
   "source": [
    "heart_failture = pd.read_csv('heart_failure_clinical_records_dataset.csv')"
   ]
  },
  {
   "cell_type": "code",
   "execution_count": 3,
   "metadata": {},
   "outputs": [
    {
     "data": {
      "text/plain": [
       "(299, 13)"
      ]
     },
     "execution_count": 3,
     "metadata": {},
     "output_type": "execute_result"
    }
   ],
   "source": [
    "heart_failture.shape"
   ]
  },
  {
   "cell_type": "code",
   "execution_count": 4,
   "metadata": {},
   "outputs": [
    {
     "data": {
      "text/plain": [
       "Index(['age', 'anaemia', 'creatinine_phosphokinase', 'diabetes',\n",
       "       'ejection_fraction', 'high_blood_pressure', 'platelets',\n",
       "       'serum_creatinine', 'serum_sodium', 'sex', 'smoking', 'time',\n",
       "       'DEATH_EVENT'],\n",
       "      dtype='object')"
      ]
     },
     "execution_count": 4,
     "metadata": {},
     "output_type": "execute_result"
    }
   ],
   "source": [
    "heart_failture.columns"
   ]
  },
  {
   "cell_type": "code",
   "execution_count": 5,
   "metadata": {
    "scrolled": true
   },
   "outputs": [
    {
     "data": {
      "text/html": [
       "<div>\n",
       "<style scoped>\n",
       "    .dataframe tbody tr th:only-of-type {\n",
       "        vertical-align: middle;\n",
       "    }\n",
       "\n",
       "    .dataframe tbody tr th {\n",
       "        vertical-align: top;\n",
       "    }\n",
       "\n",
       "    .dataframe thead th {\n",
       "        text-align: right;\n",
       "    }\n",
       "</style>\n",
       "<table border=\"1\" class=\"dataframe\">\n",
       "  <thead>\n",
       "    <tr style=\"text-align: right;\">\n",
       "      <th></th>\n",
       "      <th>age</th>\n",
       "      <th>anaemia</th>\n",
       "      <th>creatinine_phosphokinase</th>\n",
       "      <th>diabetes</th>\n",
       "      <th>ejection_fraction</th>\n",
       "      <th>high_blood_pressure</th>\n",
       "      <th>platelets</th>\n",
       "      <th>serum_creatinine</th>\n",
       "      <th>serum_sodium</th>\n",
       "      <th>sex</th>\n",
       "      <th>smoking</th>\n",
       "      <th>time</th>\n",
       "      <th>DEATH_EVENT</th>\n",
       "    </tr>\n",
       "  </thead>\n",
       "  <tbody>\n",
       "    <tr>\n",
       "      <th>0</th>\n",
       "      <td>75.0</td>\n",
       "      <td>0</td>\n",
       "      <td>582</td>\n",
       "      <td>0</td>\n",
       "      <td>20</td>\n",
       "      <td>1</td>\n",
       "      <td>265000.00</td>\n",
       "      <td>1.9</td>\n",
       "      <td>130</td>\n",
       "      <td>1</td>\n",
       "      <td>0</td>\n",
       "      <td>4</td>\n",
       "      <td>1</td>\n",
       "    </tr>\n",
       "    <tr>\n",
       "      <th>1</th>\n",
       "      <td>55.0</td>\n",
       "      <td>0</td>\n",
       "      <td>7861</td>\n",
       "      <td>0</td>\n",
       "      <td>38</td>\n",
       "      <td>0</td>\n",
       "      <td>263358.03</td>\n",
       "      <td>1.1</td>\n",
       "      <td>136</td>\n",
       "      <td>1</td>\n",
       "      <td>0</td>\n",
       "      <td>6</td>\n",
       "      <td>1</td>\n",
       "    </tr>\n",
       "    <tr>\n",
       "      <th>2</th>\n",
       "      <td>65.0</td>\n",
       "      <td>0</td>\n",
       "      <td>146</td>\n",
       "      <td>0</td>\n",
       "      <td>20</td>\n",
       "      <td>0</td>\n",
       "      <td>162000.00</td>\n",
       "      <td>1.3</td>\n",
       "      <td>129</td>\n",
       "      <td>1</td>\n",
       "      <td>1</td>\n",
       "      <td>7</td>\n",
       "      <td>1</td>\n",
       "    </tr>\n",
       "    <tr>\n",
       "      <th>3</th>\n",
       "      <td>50.0</td>\n",
       "      <td>1</td>\n",
       "      <td>111</td>\n",
       "      <td>0</td>\n",
       "      <td>20</td>\n",
       "      <td>0</td>\n",
       "      <td>210000.00</td>\n",
       "      <td>1.9</td>\n",
       "      <td>137</td>\n",
       "      <td>1</td>\n",
       "      <td>0</td>\n",
       "      <td>7</td>\n",
       "      <td>1</td>\n",
       "    </tr>\n",
       "    <tr>\n",
       "      <th>4</th>\n",
       "      <td>65.0</td>\n",
       "      <td>1</td>\n",
       "      <td>160</td>\n",
       "      <td>1</td>\n",
       "      <td>20</td>\n",
       "      <td>0</td>\n",
       "      <td>327000.00</td>\n",
       "      <td>2.7</td>\n",
       "      <td>116</td>\n",
       "      <td>0</td>\n",
       "      <td>0</td>\n",
       "      <td>8</td>\n",
       "      <td>1</td>\n",
       "    </tr>\n",
       "  </tbody>\n",
       "</table>\n",
       "</div>"
      ],
      "text/plain": [
       "    age  anaemia  creatinine_phosphokinase  diabetes  ejection_fraction  \\\n",
       "0  75.0        0                       582         0                 20   \n",
       "1  55.0        0                      7861         0                 38   \n",
       "2  65.0        0                       146         0                 20   \n",
       "3  50.0        1                       111         0                 20   \n",
       "4  65.0        1                       160         1                 20   \n",
       "\n",
       "   high_blood_pressure  platelets  serum_creatinine  serum_sodium  sex  \\\n",
       "0                    1  265000.00               1.9           130    1   \n",
       "1                    0  263358.03               1.1           136    1   \n",
       "2                    0  162000.00               1.3           129    1   \n",
       "3                    0  210000.00               1.9           137    1   \n",
       "4                    0  327000.00               2.7           116    0   \n",
       "\n",
       "   smoking  time  DEATH_EVENT  \n",
       "0        0     4            1  \n",
       "1        0     6            1  \n",
       "2        1     7            1  \n",
       "3        0     7            1  \n",
       "4        0     8            1  "
      ]
     },
     "execution_count": 5,
     "metadata": {},
     "output_type": "execute_result"
    }
   ],
   "source": [
    "heart_failture.head()"
   ]
  },
  {
   "cell_type": "code",
   "execution_count": 10,
   "metadata": {},
   "outputs": [],
   "source": [
    "df_0 = heart_failture[heart_failture.DEATH_EVENT == 0][['creatinine_phosphokinase', 'serum_creatinine', 'serum_sodium', 'platelets']]"
   ]
  },
  {
   "cell_type": "code",
   "execution_count": 11,
   "metadata": {},
   "outputs": [],
   "source": [
    "df_1 = heart_failture[heart_failture.DEATH_EVENT == 1][['creatinine_phosphokinase', 'serum_creatinine', 'serum_sodium', 'platelets']]"
   ]
  },
  {
   "cell_type": "markdown",
   "metadata": {},
   "source": [
    "### Question 1.2"
   ]
  },
  {
   "cell_type": "code",
   "execution_count": 18,
   "metadata": {},
   "outputs": [
    {
     "data": {
      "text/html": [
       "<div>\n",
       "<style scoped>\n",
       "    .dataframe tbody tr th:only-of-type {\n",
       "        vertical-align: middle;\n",
       "    }\n",
       "\n",
       "    .dataframe tbody tr th {\n",
       "        vertical-align: top;\n",
       "    }\n",
       "\n",
       "    .dataframe thead th {\n",
       "        text-align: right;\n",
       "    }\n",
       "</style>\n",
       "<table border=\"1\" class=\"dataframe\">\n",
       "  <thead>\n",
       "    <tr style=\"text-align: right;\">\n",
       "      <th></th>\n",
       "      <th>creatinine_phosphokinase</th>\n",
       "      <th>serum_creatinine</th>\n",
       "      <th>serum_sodium</th>\n",
       "      <th>platelets</th>\n",
       "    </tr>\n",
       "  </thead>\n",
       "  <tbody>\n",
       "    <tr>\n",
       "      <th>creatinine_phosphokinase</th>\n",
       "      <td>1.000000</td>\n",
       "      <td>-0.043110</td>\n",
       "      <td>-0.002474</td>\n",
       "      <td>-0.012940</td>\n",
       "    </tr>\n",
       "    <tr>\n",
       "      <th>serum_creatinine</th>\n",
       "      <td>-0.043110</td>\n",
       "      <td>1.000000</td>\n",
       "      <td>-0.215651</td>\n",
       "      <td>-0.031217</td>\n",
       "    </tr>\n",
       "    <tr>\n",
       "      <th>serum_sodium</th>\n",
       "      <td>-0.002474</td>\n",
       "      <td>-0.215651</td>\n",
       "      <td>1.000000</td>\n",
       "      <td>0.001807</td>\n",
       "    </tr>\n",
       "    <tr>\n",
       "      <th>platelets</th>\n",
       "      <td>-0.012940</td>\n",
       "      <td>-0.031217</td>\n",
       "      <td>0.001807</td>\n",
       "      <td>1.000000</td>\n",
       "    </tr>\n",
       "  </tbody>\n",
       "</table>\n",
       "</div>"
      ],
      "text/plain": [
       "                          creatinine_phosphokinase  serum_creatinine  \\\n",
       "creatinine_phosphokinase                  1.000000         -0.043110   \n",
       "serum_creatinine                         -0.043110          1.000000   \n",
       "serum_sodium                             -0.002474         -0.215651   \n",
       "platelets                                -0.012940         -0.031217   \n",
       "\n",
       "                          serum_sodium  platelets  \n",
       "creatinine_phosphokinase     -0.002474  -0.012940  \n",
       "serum_creatinine             -0.215651  -0.031217  \n",
       "serum_sodium                  1.000000   0.001807  \n",
       "platelets                     0.001807   1.000000  "
      ]
     },
     "execution_count": 18,
     "metadata": {},
     "output_type": "execute_result"
    }
   ],
   "source": [
    "M0 = df_0.corr()\n",
    "M0"
   ]
  },
  {
   "cell_type": "code",
   "execution_count": 39,
   "metadata": {
    "scrolled": false
   },
   "outputs": [
    {
     "data": {
      "image/png": "[encoded data removed]",
      "text/plain": [
       "<Figure size 1080x720 with 2 Axes>"
      ]
     },
     "metadata": {},
     "output_type": "display_data"
    }
   ],
   "source": [
    "M0_plot, ax = plt.subplots(figsize = (15,10))\n",
    "sns.heatmap(M0, cmap = \"BrBG\").set_title(\"Correlation Matrix Plot for M0\")\n",
    "M0_plot.savefig('M0_plot.png')"
   ]
  },
  {
   "cell_type": "code",
   "execution_count": 19,
   "metadata": {
    "scrolled": true
   },
   "outputs": [
    {
     "data": {
      "text/html": [
       "<div>\n",
       "<style scoped>\n",
       "    .dataframe tbody tr th:only-of-type {\n",
       "        vertical-align: middle;\n",
       "    }\n",
       "\n",
       "    .dataframe tbody tr th {\n",
       "        vertical-align: top;\n",
       "    }\n",
       "\n",
       "    .dataframe thead th {\n",
       "        text-align: right;\n",
       "    }\n",
       "</style>\n",
       "<table border=\"1\" class=\"dataframe\">\n",
       "  <thead>\n",
       "    <tr style=\"text-align: right;\">\n",
       "      <th></th>\n",
       "      <th>creatinine_phosphokinase</th>\n",
       "      <th>serum_creatinine</th>\n",
       "      <th>serum_sodium</th>\n",
       "      <th>platelets</th>\n",
       "    </tr>\n",
       "  </thead>\n",
       "  <tbody>\n",
       "    <tr>\n",
       "      <th>creatinine_phosphokinase</th>\n",
       "      <td>1.000000</td>\n",
       "      <td>-0.033407</td>\n",
       "      <td>0.148823</td>\n",
       "      <td>0.078808</td>\n",
       "    </tr>\n",
       "    <tr>\n",
       "      <th>serum_creatinine</th>\n",
       "      <td>-0.033407</td>\n",
       "      <td>1.000000</td>\n",
       "      <td>-0.094011</td>\n",
       "      <td>-0.029384</td>\n",
       "    </tr>\n",
       "    <tr>\n",
       "      <th>serum_sodium</th>\n",
       "      <td>0.148823</td>\n",
       "      <td>-0.094011</td>\n",
       "      <td>1.000000</td>\n",
       "      <td>0.141284</td>\n",
       "    </tr>\n",
       "    <tr>\n",
       "      <th>platelets</th>\n",
       "      <td>0.078808</td>\n",
       "      <td>-0.029384</td>\n",
       "      <td>0.141284</td>\n",
       "      <td>1.000000</td>\n",
       "    </tr>\n",
       "  </tbody>\n",
       "</table>\n",
       "</div>"
      ],
      "text/plain": [
       "                          creatinine_phosphokinase  serum_creatinine  \\\n",
       "creatinine_phosphokinase                  1.000000         -0.033407   \n",
       "serum_creatinine                         -0.033407          1.000000   \n",
       "serum_sodium                              0.148823         -0.094011   \n",
       "platelets                                 0.078808         -0.029384   \n",
       "\n",
       "                          serum_sodium  platelets  \n",
       "creatinine_phosphokinase      0.148823   0.078808  \n",
       "serum_creatinine             -0.094011  -0.029384  \n",
       "serum_sodium                  1.000000   0.141284  \n",
       "platelets                     0.141284   1.000000  "
      ]
     },
     "execution_count": 19,
     "metadata": {},
     "output_type": "execute_result"
    }
   ],
   "source": [
    "M1 = df_1.corr()\n",
    "M1"
   ]
  },
  {
   "cell_type": "code",
   "execution_count": 40,
   "metadata": {},
   "outputs": [
    {
     "data": {
      "image/png": "[encoded data removed]",
      "text/plain": [
       "<Figure size 1080x720 with 2 Axes>"
      ]
     },
     "metadata": {},
     "output_type": "display_data"
    }
   ],
   "source": [
    "M1_plot, ax = plt.subplots(figsize = (15,10))\n",
    "sns.heatmap(M1, cmap = \"BrBG\").set_title(\"Correlation Matrix Plot for M1\")\n",
    "M1_plot.savefig('M1_plot.png')"
   ]
  },
  {
   "cell_type": "markdown",
   "metadata": {},
   "source": [
    "### Question 1.3(a)"
   ]
  },
  {
   "cell_type": "code",
   "execution_count": 36,
   "metadata": {},
   "outputs": [
    {
     "data": {
      "text/html": [
       "<div>\n",
       "<style scoped>\n",
       "    .dataframe tbody tr th:only-of-type {\n",
       "        vertical-align: middle;\n",
       "    }\n",
       "\n",
       "    .dataframe tbody tr th {\n",
       "        vertical-align: top;\n",
       "    }\n",
       "\n",
       "    .dataframe thead th {\n",
       "        text-align: right;\n",
       "    }\n",
       "</style>\n",
       "<table border=\"1\" class=\"dataframe\">\n",
       "  <thead>\n",
       "    <tr style=\"text-align: right;\">\n",
       "      <th></th>\n",
       "      <th>creatinine_phosphokinase</th>\n",
       "      <th>serum_creatinine</th>\n",
       "      <th>serum_sodium</th>\n",
       "      <th>platelets</th>\n",
       "    </tr>\n",
       "  </thead>\n",
       "  <tbody>\n",
       "    <tr>\n",
       "      <th>creatinine_phosphokinase</th>\n",
       "      <td>1.000000</td>\n",
       "      <td>-0.043110</td>\n",
       "      <td>-0.002474</td>\n",
       "      <td>-0.012940</td>\n",
       "    </tr>\n",
       "    <tr>\n",
       "      <th>serum_creatinine</th>\n",
       "      <td>-0.043110</td>\n",
       "      <td>1.000000</td>\n",
       "      <td>-0.215651</td>\n",
       "      <td>-0.031217</td>\n",
       "    </tr>\n",
       "    <tr>\n",
       "      <th>serum_sodium</th>\n",
       "      <td>-0.002474</td>\n",
       "      <td>-0.215651</td>\n",
       "      <td>1.000000</td>\n",
       "      <td>0.001807</td>\n",
       "    </tr>\n",
       "    <tr>\n",
       "      <th>platelets</th>\n",
       "      <td>-0.012940</td>\n",
       "      <td>-0.031217</td>\n",
       "      <td>0.001807</td>\n",
       "      <td>1.000000</td>\n",
       "    </tr>\n",
       "  </tbody>\n",
       "</table>\n",
       "</div>"
      ],
      "text/plain": [
       "                          creatinine_phosphokinase  serum_creatinine  \\\n",
       "creatinine_phosphokinase                  1.000000         -0.043110   \n",
       "serum_creatinine                         -0.043110          1.000000   \n",
       "serum_sodium                             -0.002474         -0.215651   \n",
       "platelets                                -0.012940         -0.031217   \n",
       "\n",
       "                          serum_sodium  platelets  \n",
       "creatinine_phosphokinase     -0.002474  -0.012940  \n",
       "serum_creatinine             -0.215651  -0.031217  \n",
       "serum_sodium                  1.000000   0.001807  \n",
       "platelets                     0.001807   1.000000  "
      ]
     },
     "execution_count": 36,
     "metadata": {},
     "output_type": "execute_result"
    }
   ],
   "source": [
    "M0"
   ]
  },
  {
   "cell_type": "markdown",
   "metadata": {},
   "source": [
    "serum_sodium and serum_creatinine have the highest correlation for surviving patients. "
   ]
  },
  {
   "cell_type": "markdown",
   "metadata": {},
   "source": [
    "### Question 1.3(b)"
   ]
  },
  {
   "cell_type": "markdown",
   "metadata": {},
   "source": [
    "serum_sodium and platelets have the lowest correlation for surviving patients. "
   ]
  },
  {
   "cell_type": "markdown",
   "metadata": {},
   "source": [
    "### Question 1.3(c)"
   ]
  },
  {
   "cell_type": "code",
   "execution_count": 41,
   "metadata": {},
   "outputs": [
    {
     "data": {
      "text/html": [
       "<div>\n",
       "<style scoped>\n",
       "    .dataframe tbody tr th:only-of-type {\n",
       "        vertical-align: middle;\n",
       "    }\n",
       "\n",
       "    .dataframe tbody tr th {\n",
       "        vertical-align: top;\n",
       "    }\n",
       "\n",
       "    .dataframe thead th {\n",
       "        text-align: right;\n",
       "    }\n",
       "</style>\n",
       "<table border=\"1\" class=\"dataframe\">\n",
       "  <thead>\n",
       "    <tr style=\"text-align: right;\">\n",
       "      <th></th>\n",
       "      <th>creatinine_phosphokinase</th>\n",
       "      <th>serum_creatinine</th>\n",
       "      <th>serum_sodium</th>\n",
       "      <th>platelets</th>\n",
       "    </tr>\n",
       "  </thead>\n",
       "  <tbody>\n",
       "    <tr>\n",
       "      <th>creatinine_phosphokinase</th>\n",
       "      <td>1.000000</td>\n",
       "      <td>-0.033407</td>\n",
       "      <td>0.148823</td>\n",
       "      <td>0.078808</td>\n",
       "    </tr>\n",
       "    <tr>\n",
       "      <th>serum_creatinine</th>\n",
       "      <td>-0.033407</td>\n",
       "      <td>1.000000</td>\n",
       "      <td>-0.094011</td>\n",
       "      <td>-0.029384</td>\n",
       "    </tr>\n",
       "    <tr>\n",
       "      <th>serum_sodium</th>\n",
       "      <td>0.148823</td>\n",
       "      <td>-0.094011</td>\n",
       "      <td>1.000000</td>\n",
       "      <td>0.141284</td>\n",
       "    </tr>\n",
       "    <tr>\n",
       "      <th>platelets</th>\n",
       "      <td>0.078808</td>\n",
       "      <td>-0.029384</td>\n",
       "      <td>0.141284</td>\n",
       "      <td>1.000000</td>\n",
       "    </tr>\n",
       "  </tbody>\n",
       "</table>\n",
       "</div>"
      ],
      "text/plain": [
       "                          creatinine_phosphokinase  serum_creatinine  \\\n",
       "creatinine_phosphokinase                  1.000000         -0.033407   \n",
       "serum_creatinine                         -0.033407          1.000000   \n",
       "serum_sodium                              0.148823         -0.094011   \n",
       "platelets                                 0.078808         -0.029384   \n",
       "\n",
       "                          serum_sodium  platelets  \n",
       "creatinine_phosphokinase      0.148823   0.078808  \n",
       "serum_creatinine             -0.094011  -0.029384  \n",
       "serum_sodium                  1.000000   0.141284  \n",
       "platelets                     0.141284   1.000000  "
      ]
     },
     "execution_count": 41,
     "metadata": {},
     "output_type": "execute_result"
    }
   ],
   "source": [
    "M1"
   ]
  },
  {
   "cell_type": "markdown",
   "metadata": {},
   "source": [
    "creatinine_phosphokinase and serum_sodium have the highest correlation for deceased patients."
   ]
  },
  {
   "cell_type": "markdown",
   "metadata": {},
   "source": [
    "### Question 1.3(d)"
   ]
  },
  {
   "cell_type": "markdown",
   "metadata": {},
   "source": [
    "serum_creatinine and platelets have the lowest correlation for deceased patients. "
   ]
  },
  {
   "cell_type": "markdown",
   "metadata": {},
   "source": [
    "### Question 1.3(e)"
   ]
  },
  {
   "cell_type": "markdown",
   "metadata": {},
   "source": [
    "No, the results are not the same for both dataframes."
   ]
  },
  {
   "cell_type": "markdown",
   "metadata": {},
   "source": [
    "### Question 2"
   ]
  },
  {
   "cell_type": "markdown",
   "metadata": {},
   "source": [
    "According to the last digit of my student ID, I belong to group 1. So, X is creatinine phosphokinase and Y is platelets. First, we are going to split both dataframes for surviving patients and for the deceased patients into train and test data. "
   ]
  },
  {
   "cell_type": "code",
   "execution_count": 166,
   "metadata": {},
   "outputs": [],
   "source": [
    "# split the dataframe for surviving patients\n",
    "X0 = df_0['creatinine_phosphokinase']\n",
    "y0 = df_0['platelets']\n",
    "X0_train, X0_test, y0_train, y0_test = train_test_split(X0, y0, test_size = 0.5, random_state = 2021)"
   ]
  },
  {
   "cell_type": "code",
   "execution_count": 167,
   "metadata": {},
   "outputs": [],
   "source": [
    "# split the dataframe for the deceased patients\n",
    "X1 = df_1['creatinine_phosphokinase']\n",
    "y1 = df_1['platelets']\n",
    "X1_train, X1_test, y1_train, y1_test = train_test_split(X1, y1, test_size = 0.5, random_state = 2022)"
   ]
  },
  {
   "cell_type": "markdown",
   "metadata": {},
   "source": [
    "### Question 2.1 (simple linear regression)"
   ]
  },
  {
   "cell_type": "markdown",
   "metadata": {},
   "source": [
    "Model 1 for the surviving patients. "
   ]
  },
  {
   "cell_type": "code",
   "execution_count": 168,
   "metadata": {},
   "outputs": [],
   "source": [
    "### For the surviving patients\n",
    "\n",
    "# (a)\n",
    "df_0_model1 = LinearRegression().fit(np.array(X0_train).reshape(-1,1), y0_train)"
   ]
  },
  {
   "cell_type": "code",
   "execution_count": 169,
   "metadata": {},
   "outputs": [
    {
     "name": "stdout",
     "output_type": "stream",
     "text": [
      "The value for 'a' is -9.5857 and for 'b' is 262284.9937\n"
     ]
    }
   ],
   "source": [
    "# (b)\n",
    "print(\"The value for 'a' is %.4lf and for 'b' is %.4lf\" % (df_0_model1.coef_, df_0_model1.intercept_))"
   ]
  },
  {
   "cell_type": "code",
   "execution_count": 170,
   "metadata": {},
   "outputs": [],
   "source": [
    "# (c)\n",
    "df_0_model1_predicted = df_0_model1.predict(np.array(X0_test).reshape(-1,1))"
   ]
  },
  {
   "cell_type": "code",
   "execution_count": 171,
   "metadata": {},
   "outputs": [
    {
     "data": {
      "text/plain": [
       "<matplotlib.legend.Legend at 0x7ff4adabd3d0>"
      ]
     },
     "execution_count": 171,
     "metadata": {},
     "output_type": "execute_result"
    },
    {
     "data": {
      "image/png": "[encoded data removed]",
      "text/plain": [
       "<Figure size 1080x720 with 1 Axes>"
      ]
     },
     "metadata": {},
     "output_type": "display_data"
    }
   ],
   "source": [
    "# (d)\n",
    "plt.figure(figsize=(15,10))\n",
    "plt.scatter(X0_test, y0_test, color = 'black', label = 'actual data')\n",
    "plt.scatter(X0_test, df_0_model1_predicted, color = 'red', label = 'predicted data')\n",
    "plt.title(\"Model 1 and Surviving patients: Scatterplot of the actual y and the predicted y\")\n",
    "plt.legend(loc = \"upper left\")"
   ]
  },
  {
   "cell_type": "code",
   "execution_count": 172,
   "metadata": {},
   "outputs": [
    {
     "name": "stdout",
     "output_type": "stream",
     "text": [
      "The corresponding loss function is 1292865482231.5530\n"
     ]
    }
   ],
   "source": [
    "# (e)\n",
    "df_0_model1_loss = sum((y0_test-df_0_model1_predicted)**2)\n",
    "print(\"The corresponding loss function is %.4lf\" % df_0_model1_loss)"
   ]
  },
  {
   "cell_type": "markdown",
   "metadata": {},
   "source": [
    "Model 1 for the deceased patients. "
   ]
  },
  {
   "cell_type": "code",
   "execution_count": 173,
   "metadata": {},
   "outputs": [],
   "source": [
    "# (a)\n",
    "df_1_model1 = LinearRegression().fit(np.array(X1_train).reshape(-1,1), y1_train)"
   ]
  },
  {
   "cell_type": "code",
   "execution_count": 174,
   "metadata": {},
   "outputs": [
    {
     "name": "stdout",
     "output_type": "stream",
     "text": [
      "The value for 'a' is 14.5070 and for 'b' is 230407.4507\n"
     ]
    }
   ],
   "source": [
    "# (b)\n",
    "print(\"The value for 'a' is %.4lf and for 'b' is %.4lf\" % (df_1_model1.coef_, df_1_model1.intercept_))"
   ]
  },
  {
   "cell_type": "code",
   "execution_count": 175,
   "metadata": {},
   "outputs": [],
   "source": [
    "# (c)\n",
    "df_1_model1_predicted = df_1_model1.predict(np.array(X1_test).reshape(-1,1))"
   ]
  },
  {
   "cell_type": "code",
   "execution_count": 176,
   "metadata": {
    "scrolled": false
   },
   "outputs": [
    {
     "data": {
      "text/plain": [
       "<matplotlib.legend.Legend at 0x7ff4add185e0>"
      ]
     },
     "execution_count": 176,
     "metadata": {},
     "output_type": "execute_result"
    },
    {
     "data": {
      "image/png": "[encoded data removed]",
      "text/plain": [
       "<Figure size 1080x720 with 1 Axes>"
      ]
     },
     "metadata": {},
     "output_type": "display_data"
    }
   ],
   "source": [
    "# (d)\n",
    "plt.figure(figsize=(15,10))\n",
    "plt.scatter(X1_test, y1_test, color = 'black', label = 'actual data')\n",
    "plt.scatter(X1_test, df_1_model1_predicted, color = 'red', label = 'predicted data')\n",
    "plt.title(\"Model 1 and Deceased patients: Scatterplot of the actual y and the predicted y\")\n",
    "plt.legend(loc = \"upper left\")"
   ]
  },
  {
   "cell_type": "code",
   "execution_count": 177,
   "metadata": {},
   "outputs": [
    {
     "name": "stdout",
     "output_type": "stream",
     "text": [
      "The corresponding loss function is 542334440182.3041\n"
     ]
    }
   ],
   "source": [
    "# (e)\n",
    "df_1_model1_loss = sum((y1_test-df_1_model1_predicted)**2)\n",
    "print(\"The corresponding loss function is %.4lf\" % df_1_model1_loss)"
   ]
  },
  {
   "cell_type": "markdown",
   "metadata": {},
   "source": [
    "Model 2 for surviving patients. "
   ]
  },
  {
   "cell_type": "code",
   "execution_count": 178,
   "metadata": {},
   "outputs": [],
   "source": [
    "# (a)\n",
    "df_0_model2 = LinearRegression().fit(np.column_stack((X0_train**2, X0_train)), y0_train)"
   ]
  },
  {
   "cell_type": "code",
   "execution_count": 179,
   "metadata": {},
   "outputs": [
    {
     "name": "stdout",
     "output_type": "stream",
     "text": [
      "The value for 'a' is 0.0076, 'b' is -40.6767 and 'c' is 271746.3429\n"
     ]
    }
   ],
   "source": [
    "# (b)\n",
    "print(\"The value for 'a' is %.4lf, 'b' is %.4lf and 'c' is %.4lf\" % (df_0_model2.coef_[0], df_0_model2.coef_[1], df_0_model2.intercept_))"
   ]
  },
  {
   "cell_type": "code",
   "execution_count": 180,
   "metadata": {},
   "outputs": [],
   "source": [
    "# (c)\n",
    "df_0_model2_predicted = df_0_model2.predict(np.column_stack((X0_test**2, X0_test)))"
   ]
  },
  {
   "cell_type": "code",
   "execution_count": 181,
   "metadata": {},
   "outputs": [
    {
     "data": {
      "text/plain": [
       "<matplotlib.legend.Legend at 0x7ff4ae172640>"
      ]
     },
     "execution_count": 181,
     "metadata": {},
     "output_type": "execute_result"
    },
    {
     "data": {
      "image/png": "[encoded data removed]",
      "text/plain": [
       "<Figure size 1080x720 with 1 Axes>"
      ]
     },
     "metadata": {},
     "output_type": "display_data"
    }
   ],
   "source": [
    "# (d)\n",
    "plt.figure(figsize=(15,10))\n",
    "plt.scatter(X0_test, y0_test, color = 'black', label = 'actual data')\n",
    "plt.scatter(X0_test, df_0_model2_predicted, color = 'red', label = 'predicted data')\n",
    "plt.title(\"Model 2 and Surviving patients: Scatterplot of the actual y and the predicted y\")\n",
    "plt.legend(loc = \"upper left\")"
   ]
  },
  {
   "cell_type": "code",
   "execution_count": 182,
   "metadata": {},
   "outputs": [
    {
     "name": "stdout",
     "output_type": "stream",
     "text": [
      "The corresponding loss function is 1341597636786.2158\n"
     ]
    }
   ],
   "source": [
    "# (e)\n",
    "df_0_model2_loss = sum((y0_test-df_0_model2_predicted)**2)\n",
    "print(\"The corresponding loss function is %.4lf\" % df_0_model2_loss)"
   ]
  },
  {
   "cell_type": "markdown",
   "metadata": {},
   "source": [
    "Model 2 for deceased patients"
   ]
  },
  {
   "cell_type": "code",
   "execution_count": 183,
   "metadata": {},
   "outputs": [],
   "source": [
    "# (a)\n",
    "df_1_model2 = LinearRegression().fit(np.column_stack((X1_train**2, X1_train)), y1_train)"
   ]
  },
  {
   "cell_type": "code",
   "execution_count": 184,
   "metadata": {},
   "outputs": [
    {
     "name": "stdout",
     "output_type": "stream",
     "text": [
      "The value for 'a' is 0.0048, 'b' is -17.9995 and 'c' is 243128.9510\n"
     ]
    }
   ],
   "source": [
    "# (b)\n",
    "print(\"The value for 'a' is %.4lf, 'b' is %.4lf and 'c' is %.4lf\" % (df_1_model2.coef_[0], df_1_model2.coef_[1], df_1_model2.intercept_))"
   ]
  },
  {
   "cell_type": "code",
   "execution_count": 185,
   "metadata": {},
   "outputs": [],
   "source": [
    "# (c)\n",
    "df_1_model2_predicted = df_1_model2.predict(np.column_stack((X1_test**2, X1_test)))"
   ]
  },
  {
   "cell_type": "code",
   "execution_count": 186,
   "metadata": {},
   "outputs": [
    {
     "data": {
      "text/plain": [
       "<matplotlib.legend.Legend at 0x7ff4ae1cf760>"
      ]
     },
     "execution_count": 186,
     "metadata": {},
     "output_type": "execute_result"
    },
    {
     "data": {
      "image/png": "[encoded data removed]",
      "text/plain": [
       "<Figure size 1080x720 with 1 Axes>"
      ]
     },
     "metadata": {},
     "output_type": "display_data"
    }
   ],
   "source": [
    "# (d)\n",
    "plt.figure(figsize=(15,10))\n",
    "plt.scatter(X1_test, y1_test, color = 'black', label = 'actual data')\n",
    "plt.scatter(X1_test, df_1_model2_predicted, color = 'red', label = 'predicted data')\n",
    "plt.title(\"Model 2 and Deceased patients: Scatterplot of the actual y and the predicted y\")\n",
    "plt.legend(loc = \"upper left\")"
   ]
  },
  {
   "cell_type": "code",
   "execution_count": 187,
   "metadata": {
    "scrolled": true
   },
   "outputs": [
    {
     "name": "stdout",
     "output_type": "stream",
     "text": [
      "The corresponding loss function is 552029732256.2186\n"
     ]
    }
   ],
   "source": [
    "# (e)\n",
    "df_1_model2_loss = sum((y1_test-df_1_model2_predicted)**2)\n",
    "print(\"The corresponding loss function is %.4lf\" % df_1_model2_loss)"
   ]
  },
  {
   "cell_type": "markdown",
   "metadata": {},
   "source": [
    "Model 3 and Surviving Patients. "
   ]
  },
  {
   "cell_type": "code",
   "execution_count": 188,
   "metadata": {},
   "outputs": [],
   "source": [
    "# (a)\n",
    "df_0_model3 = LinearRegression().fit(np.column_stack((X0_train**3, X0_train**2, X0_train)), y0_train)"
   ]
  },
  {
   "cell_type": "code",
   "execution_count": 189,
   "metadata": {},
   "outputs": [
    {
     "name": "stdout",
     "output_type": "stream",
     "text": [
      "The value for 'a' is -0.00000394, 'b' is 0.0331, 'c' is -73.8815 and 'd' is 277884.9847.\n"
     ]
    }
   ],
   "source": [
    "# (b)\n",
    "print(\"The value for 'a' is %.8lf, 'b' is %.4lf, 'c' is %.4lf and 'd' is %.4lf.\" % (df_0_model3.coef_[0], df_0_model3.coef_[1], df_0_model3.coef_[2], df_0_model3.intercept_))"
   ]
  },
  {
   "cell_type": "code",
   "execution_count": 190,
   "metadata": {},
   "outputs": [],
   "source": [
    "# (c)\n",
    "df_0_model3_predicted = df_0_model3.predict(np.column_stack((X0_test**3, X0_test**2, X0_test)))"
   ]
  },
  {
   "cell_type": "code",
   "execution_count": 191,
   "metadata": {},
   "outputs": [
    {
     "data": {
      "text/plain": [
       "<matplotlib.legend.Legend at 0x7ff4ae74cd30>"
      ]
     },
     "execution_count": 191,
     "metadata": {},
     "output_type": "execute_result"
    },
    {
     "data": {
      "image/png": "[encoded data removed]",
      "text/plain": [
       "<Figure size 1080x720 with 1 Axes>"
      ]
     },
     "metadata": {},
     "output_type": "display_data"
    }
   ],
   "source": [
    "# (d)\n",
    "plt.figure(figsize=(15,10))\n",
    "plt.scatter(X0_test, y0_test, color = 'black', label = 'actual data')\n",
    "plt.scatter(X0_test, df_0_model3_predicted, color = 'red', label = 'predicted data')\n",
    "plt.title(\"Model 3 and Surviving patients: Scatterplot of the actual y and the predicted y\")\n",
    "plt.legend(loc = \"upper left\")"
   ]
  },
  {
   "cell_type": "code",
   "execution_count": 192,
   "metadata": {},
   "outputs": [
    {
     "name": "stdout",
     "output_type": "stream",
     "text": [
      "The corresponding loss function is 1343323330509.4695\n"
     ]
    }
   ],
   "source": [
    "# (e)\n",
    "df_0_model3_loss = sum((y0_test-df_0_model3_predicted)**2)\n",
    "print(\"The corresponding loss function is %.4lf\" % df_0_model3_loss)"
   ]
  },
  {
   "cell_type": "markdown",
   "metadata": {},
   "source": [
    "Model 3 and Deceased patients"
   ]
  },
  {
   "cell_type": "code",
   "execution_count": 193,
   "metadata": {},
   "outputs": [],
   "source": [
    "# (a)\n",
    "df_1_model3 = LinearRegression().fit(np.column_stack((X1_train**3, X1_train**2, X1_train)), y1_train)"
   ]
  },
  {
   "cell_type": "code",
   "execution_count": 194,
   "metadata": {},
   "outputs": [
    {
     "name": "stdout",
     "output_type": "stream",
     "text": [
      "The value for 'a' is 0.00000038, 'b' is 0.0009, 'c' is -10.0716 and 'd' is 240990.0281.\n"
     ]
    }
   ],
   "source": [
    "# (b)\n",
    "print(\"The value for 'a' is %.8lf, 'b' is %.4lf, 'c' is %.4lf and 'd' is %.4lf.\" % (df_1_model3.coef_[0], df_1_model3.coef_[1], df_1_model3.coef_[2], df_1_model3.intercept_))"
   ]
  },
  {
   "cell_type": "code",
   "execution_count": 195,
   "metadata": {},
   "outputs": [],
   "source": [
    "# (c)\n",
    "df_1_model3_predicted = df_1_model3.predict(np.column_stack((X1_test**3, X1_test**2, X1_test)))"
   ]
  },
  {
   "cell_type": "code",
   "execution_count": 196,
   "metadata": {},
   "outputs": [
    {
     "data": {
      "text/plain": [
       "<matplotlib.legend.Legend at 0x7ff4ae9e1d30>"
      ]
     },
     "execution_count": 196,
     "metadata": {},
     "output_type": "execute_result"
    },
    {
     "data": {
      "image/png": "[encoded data removed]",
      "text/plain": [
       "<Figure size 1080x720 with 1 Axes>"
      ]
     },
     "metadata": {},
     "output_type": "display_data"
    }
   ],
   "source": [
    "# (d)\n",
    "plt.figure(figsize=(15,10))\n",
    "plt.scatter(X1_test, y1_test, color = 'black', label = 'actual data')\n",
    "plt.scatter(X1_test, df_1_model3_predicted, color = 'red', label = 'predicted data')\n",
    "plt.title(\"Model 3 and Deceased patients: Scatterplot of the actual y and the predicted y\")\n",
    "plt.legend(loc = \"upper left\")"
   ]
  },
  {
   "cell_type": "code",
   "execution_count": 197,
   "metadata": {},
   "outputs": [
    {
     "name": "stdout",
     "output_type": "stream",
     "text": [
      "The corresponding loss function is 552387274213.1921\n"
     ]
    }
   ],
   "source": [
    "# (e)\n",
    "df_1_model3_loss = sum((y1_test-df_1_model3_predicted)**2)\n",
    "print(\"The corresponding loss function is %.4lf\" % df_1_model3_loss)"
   ]
  },
  {
   "cell_type": "markdown",
   "metadata": {},
   "source": [
    "Model 4 and Surviving patients."
   ]
  },
  {
   "cell_type": "code",
   "execution_count": 198,
   "metadata": {},
   "outputs": [],
   "source": [
    "# (a)\n",
    "df_0_model4 = LinearRegression().fit(np.array(np.log(X0_train)).reshape(-1,1), y0_train)"
   ]
  },
  {
   "cell_type": "code",
   "execution_count": 199,
   "metadata": {},
   "outputs": [
    {
     "name": "stdout",
     "output_type": "stream",
     "text": [
      "The value for 'a' is -10302.3130 and 'b' is 314988.1418.\n"
     ]
    }
   ],
   "source": [
    "# (b)\n",
    "print(\"The value for 'a' is %.4lf and 'b' is %.4lf.\" % (df_0_model4.coef_, df_0_model4.intercept_))"
   ]
  },
  {
   "cell_type": "code",
   "execution_count": 200,
   "metadata": {},
   "outputs": [],
   "source": [
    "# (c)\n",
    "df_0_model4_predicted = df_0_model4.predict(np.array(np.log(X0_test)).reshape(-1,1))"
   ]
  },
  {
   "cell_type": "code",
   "execution_count": 201,
   "metadata": {},
   "outputs": [
    {
     "data": {
      "text/plain": [
       "<matplotlib.legend.Legend at 0x7ff4aee55e80>"
      ]
     },
     "execution_count": 201,
     "metadata": {},
     "output_type": "execute_result"
    },
    {
     "data": {
      "image/png": "[encoded data removed]",
      "text/plain": [
       "<Figure size 1080x720 with 1 Axes>"
      ]
     },
     "metadata": {},
     "output_type": "display_data"
    }
   ],
   "source": [
    "# (d)\n",
    "plt.figure(figsize=(15,10))\n",
    "plt.scatter(X0_test, y0_test, color = 'black', label = 'actual data')\n",
    "plt.scatter(X0_test, df_0_model4_predicted, color = 'red', label = 'predicted data')\n",
    "plt.title(\"Model 4 and Surviving patients: Scatterplot of the actual y and the predicted y\")\n",
    "plt.legend(loc = \"upper left\")"
   ]
  },
  {
   "cell_type": "code",
   "execution_count": 202,
   "metadata": {},
   "outputs": [
    {
     "name": "stdout",
     "output_type": "stream",
     "text": [
      "The corresponding loss function is 1328858922971.0068\n"
     ]
    }
   ],
   "source": [
    "# (e)\n",
    "df_0_model4_loss = sum((y0_test-df_0_model4_predicted)**2)\n",
    "print(\"The corresponding loss function is %.4lf\" % df_0_model4_loss)"
   ]
  },
  {
   "cell_type": "markdown",
   "metadata": {},
   "source": [
    "Model 4 and deceased patients."
   ]
  },
  {
   "cell_type": "code",
   "execution_count": 203,
   "metadata": {},
   "outputs": [],
   "source": [
    "# (a)\n",
    "df_1_model4 = LinearRegression().fit(np.array(np.log(X1_train)).reshape(-1,1), y1_train)"
   ]
  },
  {
   "cell_type": "code",
   "execution_count": 204,
   "metadata": {},
   "outputs": [
    {
     "name": "stdout",
     "output_type": "stream",
     "text": [
      "The value for 'a' is 7598.1561 and 'b' is 195622.4657.\n"
     ]
    }
   ],
   "source": [
    "# (b)\n",
    "print(\"The value for 'a' is %.4lf and 'b' is %.4lf.\" % (df_1_model4.coef_, df_1_model4.intercept_))"
   ]
  },
  {
   "cell_type": "code",
   "execution_count": 205,
   "metadata": {},
   "outputs": [],
   "source": [
    "# (c)\n",
    "df_1_model4_predicted = df_1_model4.predict(np.array(np.log(X1_test)).reshape(-1,1))"
   ]
  },
  {
   "cell_type": "code",
   "execution_count": 206,
   "metadata": {},
   "outputs": [
    {
     "data": {
      "text/plain": [
       "<matplotlib.legend.Legend at 0x7ff4aeeb0190>"
      ]
     },
     "execution_count": 206,
     "metadata": {},
     "output_type": "execute_result"
    },
    {
     "data": {
      "image/png": "[encoded data removed]",
      "text/plain": [
       "<Figure size 1080x720 with 1 Axes>"
      ]
     },
     "metadata": {},
     "output_type": "display_data"
    }
   ],
   "source": [
    "# (d)\n",
    "plt.figure(figsize=(15,10))\n",
    "plt.scatter(X1_test, y1_test, color = 'black', label = 'actual data')\n",
    "plt.scatter(X1_test, df_1_model4_predicted, color = 'red', label = 'predicted data')\n",
    "plt.title(\"Model 4 and Deceased patients: Scatterplot of the actual y and the predicted y\")\n",
    "plt.legend(loc = \"upper left\")"
   ]
  },
  {
   "cell_type": "code",
   "execution_count": 207,
   "metadata": {},
   "outputs": [
    {
     "name": "stdout",
     "output_type": "stream",
     "text": [
      "The corresponding loss function is 528654771964.3132\n"
     ]
    }
   ],
   "source": [
    "# (e)\n",
    "df_1_model4_loss = sum((y1_test-df_1_model4_predicted)**2)\n",
    "print(\"The corresponding loss function is %.4lf\" % df_1_model4_loss)"
   ]
  },
  {
   "cell_type": "markdown",
   "metadata": {},
   "source": [
    "Model 5 and Surviving patients."
   ]
  },
  {
   "cell_type": "code",
   "execution_count": 208,
   "metadata": {},
   "outputs": [],
   "source": [
    "# (a)\n",
    "df_0_model5 = LinearRegression().fit(np.array(np.log(X0_train)).reshape(-1,1), np.log(y0_train))"
   ]
  },
  {
   "cell_type": "code",
   "execution_count": 209,
   "metadata": {},
   "outputs": [
    {
     "name": "stdout",
     "output_type": "stream",
     "text": [
      "The value for 'a' is -0.0417 and 'b' is 12.6391.\n"
     ]
    }
   ],
   "source": [
    "# (b)\n",
    "print(\"The value for 'a' is %.4lf and 'b' is %.4lf.\" % (df_0_model5.coef_, df_0_model5.intercept_))"
   ]
  },
  {
   "cell_type": "code",
   "execution_count": 210,
   "metadata": {},
   "outputs": [],
   "source": [
    "# (c)\n",
    "df_0_model5_predicted = df_0_model5.predict(np.array(np.log(X0_test)).reshape(-1,1))"
   ]
  },
  {
   "cell_type": "code",
   "execution_count": 211,
   "metadata": {},
   "outputs": [
    {
     "data": {
      "text/plain": [
       "<matplotlib.legend.Legend at 0x7ff4af118340>"
      ]
     },
     "execution_count": 211,
     "metadata": {},
     "output_type": "execute_result"
    },
    {
     "data": {
      "image/png": "[encoded data removed]",
      "text/plain": [
       "<Figure size 1080x720 with 1 Axes>"
      ]
     },
     "metadata": {},
     "output_type": "display_data"
    }
   ],
   "source": [
    "# (d)\n",
    "plt.figure(figsize=(15,10))\n",
    "plt.scatter(X0_test, np.log(y0_test), color = 'black', label = 'actual data')\n",
    "plt.scatter(X0_test, df_0_model5_predicted, color = 'red', label = 'predicted data')\n",
    "plt.title(\"Model 5 and Surviving patients: Scatterplot of the actual log(y) and the predicted log(y)\")\n",
    "plt.legend(loc = \"upper left\")"
   ]
  },
  {
   "cell_type": "code",
   "execution_count": 212,
   "metadata": {},
   "outputs": [
    {
     "name": "stdout",
     "output_type": "stream",
     "text": [
      "The corresponding loss function is 18.2696\n"
     ]
    }
   ],
   "source": [
    "# (e)\n",
    "df_0_model5_loss = sum((np.log(y0_test)-df_0_model5_predicted)**2)\n",
    "print(\"The corresponding loss function is %.4lf\" % df_0_model5_loss)"
   ]
  },
  {
   "cell_type": "markdown",
   "metadata": {},
   "source": [
    "Model 5 and Deceased patients"
   ]
  },
  {
   "cell_type": "code",
   "execution_count": 213,
   "metadata": {},
   "outputs": [],
   "source": [
    "# (a)\n",
    "df_1_model5 = LinearRegression().fit(np.array(np.log(X1_train)).reshape(-1,1), np.log(y1_train))"
   ]
  },
  {
   "cell_type": "code",
   "execution_count": 214,
   "metadata": {},
   "outputs": [
    {
     "name": "stdout",
     "output_type": "stream",
     "text": [
      "The value for 'a' is 0.0155 and 'b' is 12.2019.\n"
     ]
    }
   ],
   "source": [
    "# (b)\n",
    "print(\"The value for 'a' is %.4lf and 'b' is %.4lf.\" % (df_1_model5.coef_, df_1_model5.intercept_))"
   ]
  },
  {
   "cell_type": "code",
   "execution_count": 215,
   "metadata": {},
   "outputs": [],
   "source": [
    "# (c)\n",
    "df_1_model5_predicted = df_1_model5.predict(np.array(np.log(X1_test)).reshape(-1,1))"
   ]
  },
  {
   "cell_type": "code",
   "execution_count": 216,
   "metadata": {},
   "outputs": [
    {
     "data": {
      "text/plain": [
       "<matplotlib.legend.Legend at 0x7ff4af38d250>"
      ]
     },
     "execution_count": 216,
     "metadata": {},
     "output_type": "execute_result"
    },
    {
     "data": {
      "image/png": "[encoded data removed]",
      "text/plain": [
       "<Figure size 1080x720 with 1 Axes>"
      ]
     },
     "metadata": {},
     "output_type": "display_data"
    }
   ],
   "source": [
    "# (d)\n",
    "plt.figure(figsize=(15,10))\n",
    "plt.scatter(X1_test, np.log(y1_test), color = 'black', label = 'actual data')\n",
    "plt.scatter(X1_test, df_1_model5_predicted, color = 'red', label = 'predicted data')\n",
    "plt.title(\"Model 5 and Deceased patients: Scatterplot of the actual log(y) and the predicted log(y)\")\n",
    "plt.legend(loc = \"upper left\")"
   ]
  },
  {
   "cell_type": "code",
   "execution_count": 217,
   "metadata": {},
   "outputs": [
    {
     "name": "stdout",
     "output_type": "stream",
     "text": [
      "The corresponding loss function is 8.0399\n"
     ]
    }
   ],
   "source": [
    "# (e)\n",
    "df_1_model5_loss = sum((np.log(y1_test)-df_1_model5_predicted)**2)\n",
    "print(\"The corresponding loss function is %.4lf\" % df_1_model5_loss)"
   ]
  },
  {
   "cell_type": "markdown",
   "metadata": {},
   "source": [
    "### Question 3"
   ]
  },
  {
   "cell_type": "markdown",
   "metadata": {},
   "source": [
    "| Model | SSE(death_event=0) | SSE(death_event=1) |\n",
    "| --- | --- | --- |\n",
    "| $$y=ax+b$$ | 1292865482231.553 | 542334440182.30414 | \n",
    "| $$y=ax^2+bx+c$$ | 1341597636786.2158 | 552029732256.2186 |\n",
    "| $$y=ax^3+bx^2+cx+d$$ | 1343323330509.4695 | 552387274213.1921 | \n",
    "| $$y=a\\log(x)+b$$ | 1328858922971.0068 | 528654771964.31323 |\n",
    "| $$\\log(y)=a\\log(x)+b$$ | 18.2696 | 8.0399 |"
   ]
  },
  {
   "cell_type": "markdown",
   "metadata": {},
   "source": [
    "### Question 3.1"
   ]
  },
  {
   "cell_type": "markdown",
   "metadata": {},
   "source": [
    "For both surviving and deceased patients, Model 5 was the best (smallest SSE). "
   ]
  },
  {
   "cell_type": "markdown",
   "metadata": {},
   "source": [
    "### Question 3.2"
   ]
  },
  {
   "cell_type": "markdown",
   "metadata": {},
   "source": [
    "For both surviving and deceased patients, model 3 is the worst (largest SSE)."
   ]
  },
  {
   "cell_type": "markdown",
   "metadata": {},
   "source": [
    "## Questions from \"data_science_assignment_trend_change_analysis.pdf\""
   ]
  },
  {
   "cell_type": "markdown",
   "metadata": {},
   "source": [
    "### Question 1"
   ]
  },
  {
   "cell_type": "code",
   "execution_count": 229,
   "metadata": {},
   "outputs": [
    {
     "data": {
      "text/html": [
       "<div>\n",
       "<style scoped>\n",
       "    .dataframe tbody tr th:only-of-type {\n",
       "        vertical-align: middle;\n",
       "    }\n",
       "\n",
       "    .dataframe tbody tr th {\n",
       "        vertical-align: top;\n",
       "    }\n",
       "\n",
       "    .dataframe thead th {\n",
       "        text-align: right;\n",
       "    }\n",
       "</style>\n",
       "<table border=\"1\" class=\"dataframe\">\n",
       "  <thead>\n",
       "    <tr style=\"text-align: right;\">\n",
       "      <th></th>\n",
       "      <th>Date</th>\n",
       "      <th>Year</th>\n",
       "      <th>Month</th>\n",
       "      <th>Day</th>\n",
       "      <th>Weekday</th>\n",
       "      <th>Week_Number</th>\n",
       "      <th>Year_Week</th>\n",
       "      <th>Open</th>\n",
       "      <th>High</th>\n",
       "      <th>Low</th>\n",
       "      <th>Close</th>\n",
       "      <th>Volume</th>\n",
       "      <th>Adj Close</th>\n",
       "      <th>Return</th>\n",
       "      <th>Short_MA</th>\n",
       "      <th>Long_MA</th>\n",
       "    </tr>\n",
       "  </thead>\n",
       "  <tbody>\n",
       "    <tr>\n",
       "      <th>0</th>\n",
       "      <td>2016-01-04</td>\n",
       "      <td>2016</td>\n",
       "      <td>1</td>\n",
       "      <td>4</td>\n",
       "      <td>&lt;bound method PandasDelegate._add_delegate_acc...</td>\n",
       "      <td>1</td>\n",
       "      <td>2016-01</td>\n",
       "      <td>77.50</td>\n",
       "      <td>77.94</td>\n",
       "      <td>76.46</td>\n",
       "      <td>77.46</td>\n",
       "      <td>20400100.0</td>\n",
       "      <td>60.14</td>\n",
       "      <td>0.000000</td>\n",
       "      <td>60.1400</td>\n",
       "      <td>60.1400</td>\n",
       "    </tr>\n",
       "    <tr>\n",
       "      <th>1</th>\n",
       "      <td>2016-01-05</td>\n",
       "      <td>2016</td>\n",
       "      <td>1</td>\n",
       "      <td>5</td>\n",
       "      <td>&lt;bound method PandasDelegate._add_delegate_acc...</td>\n",
       "      <td>1</td>\n",
       "      <td>2016-01</td>\n",
       "      <td>77.19</td>\n",
       "      <td>78.14</td>\n",
       "      <td>76.92</td>\n",
       "      <td>78.12</td>\n",
       "      <td>11993500.0</td>\n",
       "      <td>60.65</td>\n",
       "      <td>0.008521</td>\n",
       "      <td>60.3950</td>\n",
       "      <td>60.3950</td>\n",
       "    </tr>\n",
       "    <tr>\n",
       "      <th>2</th>\n",
       "      <td>2016-01-06</td>\n",
       "      <td>2016</td>\n",
       "      <td>1</td>\n",
       "      <td>6</td>\n",
       "      <td>&lt;bound method PandasDelegate._add_delegate_acc...</td>\n",
       "      <td>1</td>\n",
       "      <td>2016-01</td>\n",
       "      <td>76.64</td>\n",
       "      <td>77.64</td>\n",
       "      <td>76.59</td>\n",
       "      <td>77.47</td>\n",
       "      <td>18826900.0</td>\n",
       "      <td>60.14</td>\n",
       "      <td>-0.008321</td>\n",
       "      <td>60.3100</td>\n",
       "      <td>60.3100</td>\n",
       "    </tr>\n",
       "    <tr>\n",
       "      <th>3</th>\n",
       "      <td>2016-01-07</td>\n",
       "      <td>2016</td>\n",
       "      <td>1</td>\n",
       "      <td>7</td>\n",
       "      <td>&lt;bound method PandasDelegate._add_delegate_acc...</td>\n",
       "      <td>1</td>\n",
       "      <td>2016-01</td>\n",
       "      <td>76.06</td>\n",
       "      <td>77.99</td>\n",
       "      <td>75.90</td>\n",
       "      <td>76.23</td>\n",
       "      <td>21263800.0</td>\n",
       "      <td>59.18</td>\n",
       "      <td>-0.016006</td>\n",
       "      <td>60.0275</td>\n",
       "      <td>60.0275</td>\n",
       "    </tr>\n",
       "    <tr>\n",
       "      <th>4</th>\n",
       "      <td>2016-01-08</td>\n",
       "      <td>2016</td>\n",
       "      <td>1</td>\n",
       "      <td>8</td>\n",
       "      <td>&lt;bound method PandasDelegate._add_delegate_acc...</td>\n",
       "      <td>1</td>\n",
       "      <td>2016-01</td>\n",
       "      <td>76.35</td>\n",
       "      <td>76.65</td>\n",
       "      <td>74.50</td>\n",
       "      <td>74.69</td>\n",
       "      <td>19033600.0</td>\n",
       "      <td>57.99</td>\n",
       "      <td>-0.020202</td>\n",
       "      <td>59.6200</td>\n",
       "      <td>59.6200</td>\n",
       "    </tr>\n",
       "  </tbody>\n",
       "</table>\n",
       "</div>"
      ],
      "text/plain": [
       "         Date  Year  Month  Day  \\\n",
       "0  2016-01-04  2016      1    4   \n",
       "1  2016-01-05  2016      1    5   \n",
       "2  2016-01-06  2016      1    6   \n",
       "3  2016-01-07  2016      1    7   \n",
       "4  2016-01-08  2016      1    8   \n",
       "\n",
       "                                             Weekday  Week_Number Year_Week  \\\n",
       "0  <bound method PandasDelegate._add_delegate_acc...            1   2016-01   \n",
       "1  <bound method PandasDelegate._add_delegate_acc...            1   2016-01   \n",
       "2  <bound method PandasDelegate._add_delegate_acc...            1   2016-01   \n",
       "3  <bound method PandasDelegate._add_delegate_acc...            1   2016-01   \n",
       "4  <bound method PandasDelegate._add_delegate_acc...            1   2016-01   \n",
       "\n",
       "    Open   High    Low  Close      Volume  Adj Close    Return  Short_MA  \\\n",
       "0  77.50  77.94  76.46  77.46  20400100.0      60.14  0.000000   60.1400   \n",
       "1  77.19  78.14  76.92  78.12  11993500.0      60.65  0.008521   60.3950   \n",
       "2  76.64  77.64  76.59  77.47  18826900.0      60.14 -0.008321   60.3100   \n",
       "3  76.06  77.99  75.90  76.23  21263800.0      59.18 -0.016006   60.0275   \n",
       "4  76.35  76.65  74.50  74.69  19033600.0      57.99 -0.020202   59.6200   \n",
       "\n",
       "   Long_MA  \n",
       "0  60.1400  \n",
       "1  60.3950  \n",
       "2  60.3100  \n",
       "3  60.0275  \n",
       "4  59.6200  "
      ]
     },
     "execution_count": 229,
     "metadata": {},
     "output_type": "execute_result"
    }
   ],
   "source": [
    "XOM = pd.read_csv(\"XOM.csv\")\n",
    "XOM.head()"
   ]
  },
  {
   "cell_type": "code",
   "execution_count": 365,
   "metadata": {},
   "outputs": [],
   "source": [
    "# function to detect change for each month\n",
    "def change_detection(P, alpha = 0.1):\n",
    "    n = len(P)\n",
    "    T = np.array(list(range(1,len(P)+1))).reshape(-1,1)\n",
    "    L1L2 = []\n",
    "    for k in range(3, n-3+1):\n",
    "        T1 = T[:k,:]\n",
    "        T2 = T[(k+1):,:]\n",
    "        P1 = P[:k]\n",
    "        P2 = P[(k+1):]\n",
    "        # regression for T1 period\n",
    "        fit1 = LinearRegression().fit(T1, P1)\n",
    "        L1 = sum((fit1.predict(T1)-P1)**2)\n",
    "        # regression for T2 period\n",
    "        fit2 = LinearRegression().fit(T2, P2)\n",
    "        L2 = sum((fit1.predict(T2)-P2)**2)\n",
    "        L1L2.append(L1+L2)\n",
    "    # find the optimal break point to minimize L1+L2\n",
    "    L1L2_min_index = L1L2.index(np.min(L1L2))\n",
    "    k_opt = list(range(3, n-3+1))[L1L2_min_index]\n",
    "    # using optimal break point, perform F-test\n",
    "    T1 = T[:k_opt,:]\n",
    "    T2 = T[(k_opt+1):,:]\n",
    "    P1 = P[:k_opt]\n",
    "    P2 = P[(k_opt+1):]\n",
    "    fit1 = LinearRegression().fit(T1, P1)\n",
    "    L1 = sum((fit1.predict(T1)-P1)**2)\n",
    "    fit2 = LinearRegression().fit(T2, P2)\n",
    "    L2 = sum((fit1.predict(T2)-P2)**2)\n",
    "    # regression for T period\n",
    "    fit0 = LinearRegression().fit(T, P)\n",
    "    L = sum((fit0.predict(T)-P)**2)\n",
    "    # calculate f-statistic\n",
    "    f_statistics = ((L-(L1+L2))/2)/((L1+L2)/(n-4))\n",
    "    # p-value\n",
    "    p_value = 1-fisher_f.cdf(f_statistics, 2, n-4)\n",
    "    if p_value > alpha:\n",
    "        return k_opt, 'fail to reject', p_value\n",
    "    else:\n",
    "        return k_opt, 'reject', p_value"
   ]
  },
  {
   "cell_type": "code",
   "execution_count": 366,
   "metadata": {},
   "outputs": [],
   "source": [
    "year = []\n",
    "month = []\n",
    "break_day = []\n",
    "F_test_decision = []\n",
    "p_values = []"
   ]
  },
  {
   "cell_type": "code",
   "execution_count": 367,
   "metadata": {},
   "outputs": [],
   "source": [
    "for i in [2019,2020]:\n",
    "    for j in range(1,13):\n",
    "        P = np.array(XOM[(XOM['Year'] == i) & (XOM['Month'] == j)]['Adj Close'])\n",
    "        k_opt, test_result, p_value = change_detection(P)\n",
    "        year.append(i)\n",
    "        month.append(j)\n",
    "        break_day.append(k_opt)\n",
    "        F_test_decision.append(test_result)\n",
    "        p_values.append(p_value)"
   ]
  },
  {
   "cell_type": "code",
   "execution_count": 368,
   "metadata": {},
   "outputs": [],
   "source": [
    "F_test_result = pd.DataFrame({'year':year, 'month':month, 'break_day':break_day,\\\n",
    "                              'F_test_decision':F_test_decision, 'p_value':p_values})"
   ]
  },
  {
   "cell_type": "code",
   "execution_count": 369,
   "metadata": {},
   "outputs": [
    {
     "data": {
      "text/html": [
       "<div>\n",
       "<style scoped>\n",
       "    .dataframe tbody tr th:only-of-type {\n",
       "        vertical-align: middle;\n",
       "    }\n",
       "\n",
       "    .dataframe tbody tr th {\n",
       "        vertical-align: top;\n",
       "    }\n",
       "\n",
       "    .dataframe thead th {\n",
       "        text-align: right;\n",
       "    }\n",
       "</style>\n",
       "<table border=\"1\" class=\"dataframe\">\n",
       "  <thead>\n",
       "    <tr style=\"text-align: right;\">\n",
       "      <th></th>\n",
       "      <th>year</th>\n",
       "      <th>month</th>\n",
       "      <th>break_day</th>\n",
       "      <th>F_test_decision</th>\n",
       "      <th>p_value</th>\n",
       "    </tr>\n",
       "  </thead>\n",
       "  <tbody>\n",
       "    <tr>\n",
       "      <th>0</th>\n",
       "      <td>2019</td>\n",
       "      <td>1</td>\n",
       "      <td>17</td>\n",
       "      <td>fail to reject</td>\n",
       "      <td>0.553971</td>\n",
       "    </tr>\n",
       "    <tr>\n",
       "      <th>1</th>\n",
       "      <td>2019</td>\n",
       "      <td>2</td>\n",
       "      <td>12</td>\n",
       "      <td>fail to reject</td>\n",
       "      <td>0.476390</td>\n",
       "    </tr>\n",
       "    <tr>\n",
       "      <th>2</th>\n",
       "      <td>2019</td>\n",
       "      <td>3</td>\n",
       "      <td>18</td>\n",
       "      <td>fail to reject</td>\n",
       "      <td>0.779199</td>\n",
       "    </tr>\n",
       "    <tr>\n",
       "      <th>3</th>\n",
       "      <td>2019</td>\n",
       "      <td>4</td>\n",
       "      <td>15</td>\n",
       "      <td>fail to reject</td>\n",
       "      <td>0.192906</td>\n",
       "    </tr>\n",
       "    <tr>\n",
       "      <th>4</th>\n",
       "      <td>2019</td>\n",
       "      <td>5</td>\n",
       "      <td>19</td>\n",
       "      <td>fail to reject</td>\n",
       "      <td>1.000000</td>\n",
       "    </tr>\n",
       "    <tr>\n",
       "      <th>5</th>\n",
       "      <td>2019</td>\n",
       "      <td>6</td>\n",
       "      <td>14</td>\n",
       "      <td>fail to reject</td>\n",
       "      <td>0.260007</td>\n",
       "    </tr>\n",
       "    <tr>\n",
       "      <th>6</th>\n",
       "      <td>2019</td>\n",
       "      <td>7</td>\n",
       "      <td>19</td>\n",
       "      <td>fail to reject</td>\n",
       "      <td>0.901958</td>\n",
       "    </tr>\n",
       "    <tr>\n",
       "      <th>7</th>\n",
       "      <td>2019</td>\n",
       "      <td>8</td>\n",
       "      <td>15</td>\n",
       "      <td>fail to reject</td>\n",
       "      <td>0.573035</td>\n",
       "    </tr>\n",
       "    <tr>\n",
       "      <th>8</th>\n",
       "      <td>2019</td>\n",
       "      <td>9</td>\n",
       "      <td>17</td>\n",
       "      <td>fail to reject</td>\n",
       "      <td>1.000000</td>\n",
       "    </tr>\n",
       "    <tr>\n",
       "      <th>9</th>\n",
       "      <td>2019</td>\n",
       "      <td>10</td>\n",
       "      <td>16</td>\n",
       "      <td>fail to reject</td>\n",
       "      <td>0.709356</td>\n",
       "    </tr>\n",
       "    <tr>\n",
       "      <th>10</th>\n",
       "      <td>2019</td>\n",
       "      <td>11</td>\n",
       "      <td>9</td>\n",
       "      <td>fail to reject</td>\n",
       "      <td>0.830823</td>\n",
       "    </tr>\n",
       "    <tr>\n",
       "      <th>11</th>\n",
       "      <td>2019</td>\n",
       "      <td>12</td>\n",
       "      <td>18</td>\n",
       "      <td>fail to reject</td>\n",
       "      <td>1.000000</td>\n",
       "    </tr>\n",
       "    <tr>\n",
       "      <th>12</th>\n",
       "      <td>2020</td>\n",
       "      <td>1</td>\n",
       "      <td>18</td>\n",
       "      <td>fail to reject</td>\n",
       "      <td>1.000000</td>\n",
       "    </tr>\n",
       "    <tr>\n",
       "      <th>13</th>\n",
       "      <td>2020</td>\n",
       "      <td>2</td>\n",
       "      <td>16</td>\n",
       "      <td>fail to reject</td>\n",
       "      <td>1.000000</td>\n",
       "    </tr>\n",
       "    <tr>\n",
       "      <th>14</th>\n",
       "      <td>2020</td>\n",
       "      <td>3</td>\n",
       "      <td>19</td>\n",
       "      <td>fail to reject</td>\n",
       "      <td>1.000000</td>\n",
       "    </tr>\n",
       "    <tr>\n",
       "      <th>15</th>\n",
       "      <td>2020</td>\n",
       "      <td>4</td>\n",
       "      <td>12</td>\n",
       "      <td>fail to reject</td>\n",
       "      <td>0.753061</td>\n",
       "    </tr>\n",
       "    <tr>\n",
       "      <th>16</th>\n",
       "      <td>2020</td>\n",
       "      <td>5</td>\n",
       "      <td>5</td>\n",
       "      <td>fail to reject</td>\n",
       "      <td>0.479190</td>\n",
       "    </tr>\n",
       "    <tr>\n",
       "      <th>17</th>\n",
       "      <td>2020</td>\n",
       "      <td>6</td>\n",
       "      <td>19</td>\n",
       "      <td>fail to reject</td>\n",
       "      <td>0.835789</td>\n",
       "    </tr>\n",
       "    <tr>\n",
       "      <th>18</th>\n",
       "      <td>2020</td>\n",
       "      <td>7</td>\n",
       "      <td>13</td>\n",
       "      <td>fail to reject</td>\n",
       "      <td>0.389475</td>\n",
       "    </tr>\n",
       "    <tr>\n",
       "      <th>19</th>\n",
       "      <td>2020</td>\n",
       "      <td>8</td>\n",
       "      <td>18</td>\n",
       "      <td>fail to reject</td>\n",
       "      <td>0.617980</td>\n",
       "    </tr>\n",
       "    <tr>\n",
       "      <th>20</th>\n",
       "      <td>2020</td>\n",
       "      <td>9</td>\n",
       "      <td>16</td>\n",
       "      <td>fail to reject</td>\n",
       "      <td>0.440127</td>\n",
       "    </tr>\n",
       "    <tr>\n",
       "      <th>21</th>\n",
       "      <td>2020</td>\n",
       "      <td>10</td>\n",
       "      <td>19</td>\n",
       "      <td>fail to reject</td>\n",
       "      <td>0.161852</td>\n",
       "    </tr>\n",
       "    <tr>\n",
       "      <th>22</th>\n",
       "      <td>2020</td>\n",
       "      <td>11</td>\n",
       "      <td>16</td>\n",
       "      <td>fail to reject</td>\n",
       "      <td>0.212330</td>\n",
       "    </tr>\n",
       "    <tr>\n",
       "      <th>23</th>\n",
       "      <td>2020</td>\n",
       "      <td>12</td>\n",
       "      <td>19</td>\n",
       "      <td>fail to reject</td>\n",
       "      <td>1.000000</td>\n",
       "    </tr>\n",
       "  </tbody>\n",
       "</table>\n",
       "</div>"
      ],
      "text/plain": [
       "    year  month  break_day F_test_decision   p_value\n",
       "0   2019      1         17  fail to reject  0.553971\n",
       "1   2019      2         12  fail to reject  0.476390\n",
       "2   2019      3         18  fail to reject  0.779199\n",
       "3   2019      4         15  fail to reject  0.192906\n",
       "4   2019      5         19  fail to reject  1.000000\n",
       "5   2019      6         14  fail to reject  0.260007\n",
       "6   2019      7         19  fail to reject  0.901958\n",
       "7   2019      8         15  fail to reject  0.573035\n",
       "8   2019      9         17  fail to reject  1.000000\n",
       "9   2019     10         16  fail to reject  0.709356\n",
       "10  2019     11          9  fail to reject  0.830823\n",
       "11  2019     12         18  fail to reject  1.000000\n",
       "12  2020      1         18  fail to reject  1.000000\n",
       "13  2020      2         16  fail to reject  1.000000\n",
       "14  2020      3         19  fail to reject  1.000000\n",
       "15  2020      4         12  fail to reject  0.753061\n",
       "16  2020      5          5  fail to reject  0.479190\n",
       "17  2020      6         19  fail to reject  0.835789\n",
       "18  2020      7         13  fail to reject  0.389475\n",
       "19  2020      8         18  fail to reject  0.617980\n",
       "20  2020      9         16  fail to reject  0.440127\n",
       "21  2020     10         19  fail to reject  0.161852\n",
       "22  2020     11         16  fail to reject  0.212330\n",
       "23  2020     12         19  fail to reject  1.000000"
      ]
     },
     "execution_count": 369,
     "metadata": {},
     "output_type": "execute_result"
    }
   ],
   "source": [
    "F_test_result"
   ]
  },
  {
   "cell_type": "markdown",
   "metadata": {},
   "source": [
    "### Question 2"
   ]
  },
  {
   "cell_type": "markdown",
   "metadata": {},
   "source": [
    "0 month exhibits significant price changes for XOM in 2019 and 2020. "
   ]
  },
  {
   "cell_type": "markdown",
   "metadata": {},
   "source": [
    "### Question 3"
   ]
  },
  {
   "cell_type": "markdown",
   "metadata": {},
   "source": [
    "No. They are the same, no \"change\" in both years. "
   ]
  },
  {
   "cell_type": "code",
   "execution_count": null,
   "metadata": {},
   "outputs": [],
   "source": []
  }
 ],
 "metadata": {
  "kernelspec": {
   "display_name": "Python 3",
   "language": "python",
   "name": "python3"
  },
  "language_info": {
   "codemirror_mode": {
    "name": "ipython",
    "version": 3
   },
   "file_extension": ".py",
   "mimetype": "text/x-python",
   "name": "python",
   "nbconvert_exporter": "python",
   "pygments_lexer": "ipython3",
   "version": "3.8.5"
  }
 },
 "nbformat": 4,
 "nbformat_minor": 4
}
