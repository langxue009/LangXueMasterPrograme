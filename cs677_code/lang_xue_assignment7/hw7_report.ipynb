{
 "cells": [
  {
   "cell_type": "code",
   "execution_count": 1,
   "metadata": {},
   "outputs": [],
   "source": [
    "import pandas as pd\n",
    "import numpy as np\n",
    "import warnings \n",
    "warnings.filterwarnings(\"ignore\")\n",
    "import matplotlib.pyplot as plt"
   ]
  },
  {
   "cell_type": "code",
   "execution_count": 3,
   "metadata": {},
   "outputs": [],
   "source": [
    "XOM = pd.read_csv('XOM.csv')"
   ]
  },
  {
   "cell_type": "code",
   "execution_count": 4,
   "metadata": {},
   "outputs": [],
   "source": [
    "XOM2 = XOM[XOM['Year'].isin([2019,2020])]\n",
    "\n",
    "year = []\n",
    "week = []\n",
    "start_price = [list(XOM[XOM['Year'].isin([2018])][\"Adj Close\"])[-1]]\n",
    "end_price = []\n",
    "mu = []\n",
    "sigma = []\n",
    "label = []\n",
    "\n",
    "week_sign = []\n",
    "for i in [2019, 2020]:\n",
    "    for j in range(53):\n",
    "        subset = XOM2[(XOM2.Week_Number == j) & (XOM.Year == i)]\n",
    "        n = subset.shape[0]\n",
    "        sign = np.where(np.mean(subset.Return >= 0) >= 0.5, 'green', 'red')\n",
    "        for k in range(n):\n",
    "            week_sign.append(sign.tolist())\n",
    "            \n",
    "        year.append(i)\n",
    "        week.append(j)\n",
    "        start_price.append(list(subset[\"Adj Close\"])[-1])\n",
    "        end_price.append(list(subset[\"Adj Close\"])[-1])\n",
    "        mu.append(np.round(100*np.mean(subset.Return), 2))\n",
    "        sigma.append(np.round(100*np.std(subset.Return), 2))\n",
    "        label.append(sign)\n",
    "\n",
    "start_price.pop() # delete the last adjusted close price        \n",
    "XOM2['week_sign'] = week_sign            "
   ]
  },
  {
   "cell_type": "code",
   "execution_count": 5,
   "metadata": {},
   "outputs": [
    {
     "data": {
      "text/html": [
       "<div>\n",
       "<style scoped>\n",
       "    .dataframe tbody tr th:only-of-type {\n",
       "        vertical-align: middle;\n",
       "    }\n",
       "\n",
       "    .dataframe tbody tr th {\n",
       "        vertical-align: top;\n",
       "    }\n",
       "\n",
       "    .dataframe thead th {\n",
       "        text-align: right;\n",
       "    }\n",
       "</style>\n",
       "<table border=\"1\" class=\"dataframe\">\n",
       "  <thead>\n",
       "    <tr style=\"text-align: right;\">\n",
       "      <th></th>\n",
       "      <th>Date</th>\n",
       "      <th>Year</th>\n",
       "      <th>Month</th>\n",
       "      <th>Day</th>\n",
       "      <th>Weekday</th>\n",
       "      <th>Week_Number</th>\n",
       "      <th>Year_Week</th>\n",
       "      <th>Open</th>\n",
       "      <th>High</th>\n",
       "      <th>Low</th>\n",
       "      <th>Close</th>\n",
       "      <th>Volume</th>\n",
       "      <th>Adj Close</th>\n",
       "      <th>Return</th>\n",
       "      <th>Short_MA</th>\n",
       "      <th>Long_MA</th>\n",
       "      <th>week_sign</th>\n",
       "    </tr>\n",
       "  </thead>\n",
       "  <tbody>\n",
       "    <tr>\n",
       "      <th>754</th>\n",
       "      <td>2019-01-02</td>\n",
       "      <td>2019</td>\n",
       "      <td>1</td>\n",
       "      <td>2</td>\n",
       "      <td>&lt;bound method PandasDelegate._add_delegate_acc...</td>\n",
       "      <td>0</td>\n",
       "      <td>2019-00</td>\n",
       "      <td>67.35</td>\n",
       "      <td>69.87</td>\n",
       "      <td>67.26</td>\n",
       "      <td>69.69</td>\n",
       "      <td>16727200.0</td>\n",
       "      <td>60.56</td>\n",
       "      <td>0.021997</td>\n",
       "      <td>61.530000</td>\n",
       "      <td>66.4856</td>\n",
       "      <td>green</td>\n",
       "    </tr>\n",
       "    <tr>\n",
       "      <th>755</th>\n",
       "      <td>2019-01-03</td>\n",
       "      <td>2019</td>\n",
       "      <td>1</td>\n",
       "      <td>3</td>\n",
       "      <td>&lt;bound method PandasDelegate._add_delegate_acc...</td>\n",
       "      <td>0</td>\n",
       "      <td>2019-00</td>\n",
       "      <td>70.00</td>\n",
       "      <td>70.25</td>\n",
       "      <td>68.36</td>\n",
       "      <td>68.62</td>\n",
       "      <td>13866100.0</td>\n",
       "      <td>59.63</td>\n",
       "      <td>-0.015354</td>\n",
       "      <td>61.070714</td>\n",
       "      <td>66.2680</td>\n",
       "      <td>green</td>\n",
       "    </tr>\n",
       "    <tr>\n",
       "      <th>756</th>\n",
       "      <td>2019-01-04</td>\n",
       "      <td>2019</td>\n",
       "      <td>1</td>\n",
       "      <td>4</td>\n",
       "      <td>&lt;bound method PandasDelegate._add_delegate_acc...</td>\n",
       "      <td>0</td>\n",
       "      <td>2019-00</td>\n",
       "      <td>69.64</td>\n",
       "      <td>71.27</td>\n",
       "      <td>69.36</td>\n",
       "      <td>71.15</td>\n",
       "      <td>16043600.0</td>\n",
       "      <td>61.83</td>\n",
       "      <td>0.036870</td>\n",
       "      <td>60.709286</td>\n",
       "      <td>66.1084</td>\n",
       "      <td>green</td>\n",
       "    </tr>\n",
       "    <tr>\n",
       "      <th>757</th>\n",
       "      <td>2019-01-07</td>\n",
       "      <td>2019</td>\n",
       "      <td>1</td>\n",
       "      <td>7</td>\n",
       "      <td>&lt;bound method PandasDelegate._add_delegate_acc...</td>\n",
       "      <td>1</td>\n",
       "      <td>2019-01</td>\n",
       "      <td>71.25</td>\n",
       "      <td>72.10</td>\n",
       "      <td>70.74</td>\n",
       "      <td>71.52</td>\n",
       "      <td>10844200.0</td>\n",
       "      <td>62.15</td>\n",
       "      <td>0.005200</td>\n",
       "      <td>60.457143</td>\n",
       "      <td>65.9778</td>\n",
       "      <td>green</td>\n",
       "    </tr>\n",
       "    <tr>\n",
       "      <th>758</th>\n",
       "      <td>2019-01-08</td>\n",
       "      <td>2019</td>\n",
       "      <td>1</td>\n",
       "      <td>8</td>\n",
       "      <td>&lt;bound method PandasDelegate._add_delegate_acc...</td>\n",
       "      <td>1</td>\n",
       "      <td>2019-01</td>\n",
       "      <td>72.54</td>\n",
       "      <td>72.59</td>\n",
       "      <td>71.94</td>\n",
       "      <td>72.04</td>\n",
       "      <td>11439000.0</td>\n",
       "      <td>62.60</td>\n",
       "      <td>0.007271</td>\n",
       "      <td>60.332857</td>\n",
       "      <td>65.8944</td>\n",
       "      <td>green</td>\n",
       "    </tr>\n",
       "    <tr>\n",
       "      <th>...</th>\n",
       "      <td>...</td>\n",
       "      <td>...</td>\n",
       "      <td>...</td>\n",
       "      <td>...</td>\n",
       "      <td>...</td>\n",
       "      <td>...</td>\n",
       "      <td>...</td>\n",
       "      <td>...</td>\n",
       "      <td>...</td>\n",
       "      <td>...</td>\n",
       "      <td>...</td>\n",
       "      <td>...</td>\n",
       "      <td>...</td>\n",
       "      <td>...</td>\n",
       "      <td>...</td>\n",
       "      <td>...</td>\n",
       "      <td>...</td>\n",
       "    </tr>\n",
       "    <tr>\n",
       "      <th>1254</th>\n",
       "      <td>2020-12-24</td>\n",
       "      <td>2020</td>\n",
       "      <td>12</td>\n",
       "      <td>24</td>\n",
       "      <td>&lt;bound method PandasDelegate._add_delegate_acc...</td>\n",
       "      <td>51</td>\n",
       "      <td>2020-51</td>\n",
       "      <td>41.65</td>\n",
       "      <td>41.85</td>\n",
       "      <td>41.38</td>\n",
       "      <td>41.60</td>\n",
       "      <td>8039000.0</td>\n",
       "      <td>40.91</td>\n",
       "      <td>-0.004070</td>\n",
       "      <td>41.824286</td>\n",
       "      <td>36.9676</td>\n",
       "      <td>red</td>\n",
       "    </tr>\n",
       "    <tr>\n",
       "      <th>1255</th>\n",
       "      <td>2020-12-28</td>\n",
       "      <td>2020</td>\n",
       "      <td>12</td>\n",
       "      <td>28</td>\n",
       "      <td>&lt;bound method PandasDelegate._add_delegate_acc...</td>\n",
       "      <td>52</td>\n",
       "      <td>2020-52</td>\n",
       "      <td>41.69</td>\n",
       "      <td>42.55</td>\n",
       "      <td>41.52</td>\n",
       "      <td>41.74</td>\n",
       "      <td>23877500.0</td>\n",
       "      <td>41.04</td>\n",
       "      <td>0.003365</td>\n",
       "      <td>41.882857</td>\n",
       "      <td>37.1268</td>\n",
       "      <td>green</td>\n",
       "    </tr>\n",
       "    <tr>\n",
       "      <th>1256</th>\n",
       "      <td>2020-12-29</td>\n",
       "      <td>2020</td>\n",
       "      <td>12</td>\n",
       "      <td>29</td>\n",
       "      <td>&lt;bound method PandasDelegate._add_delegate_acc...</td>\n",
       "      <td>52</td>\n",
       "      <td>2020-52</td>\n",
       "      <td>42.04</td>\n",
       "      <td>42.12</td>\n",
       "      <td>41.20</td>\n",
       "      <td>41.27</td>\n",
       "      <td>20287700.0</td>\n",
       "      <td>40.58</td>\n",
       "      <td>-0.011260</td>\n",
       "      <td>41.815000</td>\n",
       "      <td>37.2836</td>\n",
       "      <td>green</td>\n",
       "    </tr>\n",
       "    <tr>\n",
       "      <th>1257</th>\n",
       "      <td>2020-12-30</td>\n",
       "      <td>2020</td>\n",
       "      <td>12</td>\n",
       "      <td>30</td>\n",
       "      <td>&lt;bound method PandasDelegate._add_delegate_acc...</td>\n",
       "      <td>52</td>\n",
       "      <td>2020-52</td>\n",
       "      <td>41.33</td>\n",
       "      <td>42.42</td>\n",
       "      <td>41.27</td>\n",
       "      <td>41.60</td>\n",
       "      <td>23807300.0</td>\n",
       "      <td>40.91</td>\n",
       "      <td>0.007996</td>\n",
       "      <td>41.730714</td>\n",
       "      <td>37.4600</td>\n",
       "      <td>green</td>\n",
       "    </tr>\n",
       "    <tr>\n",
       "      <th>1258</th>\n",
       "      <td>2020-12-31</td>\n",
       "      <td>2020</td>\n",
       "      <td>12</td>\n",
       "      <td>31</td>\n",
       "      <td>&lt;bound method PandasDelegate._add_delegate_acc...</td>\n",
       "      <td>52</td>\n",
       "      <td>2020-52</td>\n",
       "      <td>41.47</td>\n",
       "      <td>41.68</td>\n",
       "      <td>40.97</td>\n",
       "      <td>41.22</td>\n",
       "      <td>22786500.0</td>\n",
       "      <td>40.53</td>\n",
       "      <td>-0.009135</td>\n",
       "      <td>41.534286</td>\n",
       "      <td>37.6234</td>\n",
       "      <td>green</td>\n",
       "    </tr>\n",
       "  </tbody>\n",
       "</table>\n",
       "<p>505 rows × 17 columns</p>\n",
       "</div>"
      ],
      "text/plain": [
       "            Date  Year  Month  Day  \\\n",
       "754   2019-01-02  2019      1    2   \n",
       "755   2019-01-03  2019      1    3   \n",
       "756   2019-01-04  2019      1    4   \n",
       "757   2019-01-07  2019      1    7   \n",
       "758   2019-01-08  2019      1    8   \n",
       "...          ...   ...    ...  ...   \n",
       "1254  2020-12-24  2020     12   24   \n",
       "1255  2020-12-28  2020     12   28   \n",
       "1256  2020-12-29  2020     12   29   \n",
       "1257  2020-12-30  2020     12   30   \n",
       "1258  2020-12-31  2020     12   31   \n",
       "\n",
       "                                                Weekday  Week_Number  \\\n",
       "754   <bound method PandasDelegate._add_delegate_acc...            0   \n",
       "755   <bound method PandasDelegate._add_delegate_acc...            0   \n",
       "756   <bound method PandasDelegate._add_delegate_acc...            0   \n",
       "757   <bound method PandasDelegate._add_delegate_acc...            1   \n",
       "758   <bound method PandasDelegate._add_delegate_acc...            1   \n",
       "...                                                 ...          ...   \n",
       "1254  <bound method PandasDelegate._add_delegate_acc...           51   \n",
       "1255  <bound method PandasDelegate._add_delegate_acc...           52   \n",
       "1256  <bound method PandasDelegate._add_delegate_acc...           52   \n",
       "1257  <bound method PandasDelegate._add_delegate_acc...           52   \n",
       "1258  <bound method PandasDelegate._add_delegate_acc...           52   \n",
       "\n",
       "     Year_Week   Open   High    Low  Close      Volume  Adj Close    Return  \\\n",
       "754    2019-00  67.35  69.87  67.26  69.69  16727200.0      60.56  0.021997   \n",
       "755    2019-00  70.00  70.25  68.36  68.62  13866100.0      59.63 -0.015354   \n",
       "756    2019-00  69.64  71.27  69.36  71.15  16043600.0      61.83  0.036870   \n",
       "757    2019-01  71.25  72.10  70.74  71.52  10844200.0      62.15  0.005200   \n",
       "758    2019-01  72.54  72.59  71.94  72.04  11439000.0      62.60  0.007271   \n",
       "...        ...    ...    ...    ...    ...         ...        ...       ...   \n",
       "1254   2020-51  41.65  41.85  41.38  41.60   8039000.0      40.91 -0.004070   \n",
       "1255   2020-52  41.69  42.55  41.52  41.74  23877500.0      41.04  0.003365   \n",
       "1256   2020-52  42.04  42.12  41.20  41.27  20287700.0      40.58 -0.011260   \n",
       "1257   2020-52  41.33  42.42  41.27  41.60  23807300.0      40.91  0.007996   \n",
       "1258   2020-52  41.47  41.68  40.97  41.22  22786500.0      40.53 -0.009135   \n",
       "\n",
       "       Short_MA  Long_MA week_sign  \n",
       "754   61.530000  66.4856     green  \n",
       "755   61.070714  66.2680     green  \n",
       "756   60.709286  66.1084     green  \n",
       "757   60.457143  65.9778     green  \n",
       "758   60.332857  65.8944     green  \n",
       "...         ...      ...       ...  \n",
       "1254  41.824286  36.9676       red  \n",
       "1255  41.882857  37.1268     green  \n",
       "1256  41.815000  37.2836     green  \n",
       "1257  41.730714  37.4600     green  \n",
       "1258  41.534286  37.6234     green  \n",
       "\n",
       "[505 rows x 17 columns]"
      ]
     },
     "execution_count": 5,
     "metadata": {},
     "output_type": "execute_result"
    }
   ],
   "source": [
    "XOM2"
   ]
  },
  {
   "cell_type": "code",
   "execution_count": 6,
   "metadata": {},
   "outputs": [],
   "source": [
    "mydata = pd.DataFrame({'year':year, 'week':week, \n",
    "                       'start_price':start_price, 'end_price':end_price,\n",
    "                       'mu':mu, 'sigma':sigma, 'label':label})"
   ]
  },
  {
   "cell_type": "code",
   "execution_count": 12,
   "metadata": {},
   "outputs": [],
   "source": [
    "mydata.to_csv(\"XOM_clean.csv\")"
   ]
  },
  {
   "cell_type": "code",
   "execution_count": 9,
   "metadata": {
    "scrolled": true
   },
   "outputs": [
    {
     "data": {
      "text/html": [
       "<div>\n",
       "<style scoped>\n",
       "    .dataframe tbody tr th:only-of-type {\n",
       "        vertical-align: middle;\n",
       "    }\n",
       "\n",
       "    .dataframe tbody tr th {\n",
       "        vertical-align: top;\n",
       "    }\n",
       "\n",
       "    .dataframe thead th {\n",
       "        text-align: right;\n",
       "    }\n",
       "</style>\n",
       "<table border=\"1\" class=\"dataframe\">\n",
       "  <thead>\n",
       "    <tr style=\"text-align: right;\">\n",
       "      <th></th>\n",
       "      <th>year</th>\n",
       "      <th>week</th>\n",
       "      <th>start_price</th>\n",
       "      <th>end_price</th>\n",
       "      <th>mu</th>\n",
       "      <th>sigma</th>\n",
       "      <th>label</th>\n",
       "    </tr>\n",
       "  </thead>\n",
       "  <tbody>\n",
       "    <tr>\n",
       "      <th>0</th>\n",
       "      <td>2019</td>\n",
       "      <td>0</td>\n",
       "      <td>59.25</td>\n",
       "      <td>61.83</td>\n",
       "      <td>1.45</td>\n",
       "      <td>2.20</td>\n",
       "      <td>green</td>\n",
       "    </tr>\n",
       "    <tr>\n",
       "      <th>1</th>\n",
       "      <td>2019</td>\n",
       "      <td>1</td>\n",
       "      <td>61.83</td>\n",
       "      <td>62.32</td>\n",
       "      <td>0.16</td>\n",
       "      <td>0.53</td>\n",
       "      <td>green</td>\n",
       "    </tr>\n",
       "    <tr>\n",
       "      <th>2</th>\n",
       "      <td>2019</td>\n",
       "      <td>2</td>\n",
       "      <td>62.32</td>\n",
       "      <td>63.43</td>\n",
       "      <td>0.35</td>\n",
       "      <td>0.51</td>\n",
       "      <td>green</td>\n",
       "    </tr>\n",
       "    <tr>\n",
       "      <th>3</th>\n",
       "      <td>2019</td>\n",
       "      <td>3</td>\n",
       "      <td>63.43</td>\n",
       "      <td>62.32</td>\n",
       "      <td>-0.43</td>\n",
       "      <td>0.78</td>\n",
       "      <td>green</td>\n",
       "    </tr>\n",
       "    <tr>\n",
       "      <th>4</th>\n",
       "      <td>2019</td>\n",
       "      <td>4</td>\n",
       "      <td>62.32</td>\n",
       "      <td>65.97</td>\n",
       "      <td>1.15</td>\n",
       "      <td>1.41</td>\n",
       "      <td>green</td>\n",
       "    </tr>\n",
       "  </tbody>\n",
       "</table>\n",
       "</div>"
      ],
      "text/plain": [
       "   year  week  start_price  end_price    mu  sigma  label\n",
       "0  2019     0        59.25      61.83  1.45   2.20  green\n",
       "1  2019     1        61.83      62.32  0.16   0.53  green\n",
       "2  2019     2        62.32      63.43  0.35   0.51  green\n",
       "3  2019     3        63.43      62.32 -0.43   0.78  green\n",
       "4  2019     4        62.32      65.97  1.15   1.41  green"
      ]
     },
     "execution_count": 9,
     "metadata": {},
     "output_type": "execute_result"
    }
   ],
   "source": [
    "mydata.head()"
   ]
  },
  {
   "cell_type": "code",
   "execution_count": 15,
   "metadata": {},
   "outputs": [],
   "source": [
    "mydata2019 = mydata[mydata.year == 2019]"
   ]
  },
  {
   "cell_type": "markdown",
   "metadata": {},
   "source": [
    "## For Questions from \"data_science_module_assignment_weekly_trading_linear_models.pdf\""
   ]
  },
  {
   "cell_type": "markdown",
   "metadata": {},
   "source": [
    "### Q1"
   ]
  },
  {
   "cell_type": "code",
   "execution_count": 182,
   "metadata": {},
   "outputs": [],
   "source": [
    "n = mydata2019.shape[0] # total number of weeks in 2019\n",
    "\n",
    "d1_accuracy = []\n",
    "d2_accuracy = []\n",
    "d3_accuracy = []\n",
    "\n",
    "for W in range(5, 13):\n",
    "    predict_d1 = []\n",
    "    predict_d2 = []\n",
    "    predict_d3 = []\n",
    "    for i in range(W, n):\n",
    "        d1_coeff = np.polyfit(mydata2019.week[(i-W):i], mydata2019.end_price[(i-W):i], 1)\n",
    "        d1_pred_P = d1_coeff[0]+d1_coeff[1]*(mydata2019.week[i])\n",
    "        if d1_pred_P > mydata2019.end_price[i-1]:\n",
    "            predict_d1.append('green')\n",
    "        elif d1_pred_P < mydata2019.end_price[i-1]:\n",
    "            predict_d1.append('red')\n",
    "        else:\n",
    "            predict_d1.append(mydata2019.label[i-1])\n",
    "    for i in range(W, n):\n",
    "        d2_coeff = np.polyfit(mydata2019.week[(i-W):i], mydata2019.end_price[(i-W):i], 2)\n",
    "        d2_pred_P = d2_coeff[0]+d2_coeff[1]*(mydata2019.week[i])+d2_coeff[2]*(mydata2019.week[i]^2)\n",
    "        if d2_pred_P > mydata2019.end_price[i-1]:\n",
    "            predict_d2.append('green')\n",
    "        elif d2_pred_P < mydata2019.end_price[i-1]:\n",
    "            predict_d2.append('red')\n",
    "        else:\n",
    "            predict_d2.append(mydata2019.label[i-1])          \n",
    "    for i in range(W, n):\n",
    "        d3_coeff = np.polyfit(mydata2019.week[(i-W):i], mydata2019.end_price[(i-W):i], 3)\n",
    "        d3_pred_P = d3_coeff[0]+d3_coeff[1]*(mydata2019.week[i])+d3_coeff[2]*(mydata2019.week[i]^2)+d3_coeff[3]*(mydata2019.week[i]^3)\n",
    "        if d3_pred_P > mydata2019.end_price[i-1]:\n",
    "            predict_d3.append('green')\n",
    "        elif d3_pred_P < mydata2019.end_price[i-1]:\n",
    "            predict_d3.append('red')\n",
    "        else:\n",
    "            predict_d3.append(mydata2019.label[i-1])              \n",
    "            \n",
    "    d1_accuracy.append(np.mean(predict_d1 == mydata2019.label[W:]))\n",
    "    d2_accuracy.append(np.mean(predict_d2 == mydata2019.label[W:]))\n",
    "    d3_accuracy.append(np.mean(predict_d3 == mydata2019.label[W:]))    "
   ]
  },
  {
   "cell_type": "code",
   "execution_count": 183,
   "metadata": {
    "scrolled": false
   },
   "outputs": [
    {
     "data": {
      "text/plain": [
       "<matplotlib.legend.Legend at 0x129ef95f8>"
      ]
     },
     "execution_count": 183,
     "metadata": {},
     "output_type": "execute_result"
    },
    {
     "data": {
      "image/png": "[encoded data removed]",
      "text/plain": [
       "<Figure size 1080x720 with 1 Axes>"
      ]
     },
     "metadata": {},
     "output_type": "display_data"
    }
   ],
   "source": [
    "fig = plt.figure(figsize = (15,10))\n",
    "ax = plt.axes()\n",
    "ax.plot(list(range(5, 13)), d1_accuracy, color = 'blue', label = \"d = 1\")\n",
    "ax.plot(list(range(5, 13)), d2_accuracy, color = 'red',  label = \"d = 2\")\n",
    "ax.plot(list(range(5, 13)), d3_accuracy, color = 'green', label = \"d = 3\")\n",
    "ax.set(xlabel = \"W\", ylabel = \"Accuracy\", \n",
    "      title = \"Accuracy against W\")\n",
    "ax.legend()"
   ]
  },
  {
   "cell_type": "markdown",
   "metadata": {},
   "source": [
    "### Q2"
   ]
  },
  {
   "cell_type": "markdown",
   "metadata": {},
   "source": [
    "For d = 1, the best W is 6. \n",
    "\n",
    "For d = 2, the best W is 7. \n",
    "\n",
    "For d = 3, the best W is 5. "
   ]
  },
  {
   "cell_type": "code",
   "execution_count": 116,
   "metadata": {},
   "outputs": [],
   "source": [
    "mydata2020 = mydata[mydata.year == 2020]"
   ]
  },
  {
   "cell_type": "code",
   "execution_count": 124,
   "metadata": {},
   "outputs": [],
   "source": [
    "mydata2020 = mydata2020.reset_index(drop = True)"
   ]
  },
  {
   "cell_type": "code",
   "execution_count": 132,
   "metadata": {},
   "outputs": [],
   "source": [
    "n = mydata2020.shape[0] # total number of weeks in 2019\n",
    "\n",
    "d1_accuracy = []\n",
    "d2_accuracy = []\n",
    "d3_accuracy = []\n",
    "\n",
    "d1_best_W_pred_P = []\n",
    "d2_best_W_pred_P = []\n",
    "d3_best_W_pred_P = []\n",
    "\n",
    "for W in range(5, 13):\n",
    "    predict_d1 = []\n",
    "    predict_d2 = []\n",
    "    predict_d3 = []\n",
    "    for i in range(W, n):\n",
    "        d1_coeff = np.polyfit(mydata2020.week[(i-W):i], mydata2020.end_price[(i-W):i], 1)\n",
    "        d1_pred_P = d1_coeff[0]+d1_coeff[1]*(mydata2020.week[i])\n",
    "        if d1_pred_P > mydata2020.end_price[i-1]:            \n",
    "            predict_d1.append('green')\n",
    "            if W == 6:\n",
    "                d1_best_W_pred_P.append('green')\n",
    "        elif d1_pred_P < mydata2020.end_price[i-1]:            \n",
    "            predict_d1.append('red')\n",
    "            if W == 6:\n",
    "                d1_best_W_pred_P.append('red')\n",
    "        else:\n",
    "            predict_d1.append(mydata2020.label[i-1])\n",
    "            if W == 6:\n",
    "                d1_best_W_pred_P.append(mydata2020.label[i-1])\n",
    "    for i in range(W, n):\n",
    "        d2_coeff = np.polyfit(mydata2020.week[(i-W):i], mydata2020.end_price[(i-W):i], 2)\n",
    "        d2_pred_P = d2_coeff[0]+d2_coeff[1]*(mydata2020.week[i])+d2_coeff[2]*(mydata2020.week[i]^2)\n",
    "        if d2_pred_P > mydata2020.end_price[i-1]:\n",
    "            predict_d2.append('green')\n",
    "            if W == 7:\n",
    "                d2_best_W_pred_P.append('green')\n",
    "        elif d2_pred_P < mydata2020.end_price[i-1]:        \n",
    "            predict_d2.append('red')\n",
    "            if W == 7:\n",
    "                d2_best_W_pred_P.append('red')\n",
    "        else:\n",
    "            predict_d2.append(mydata2020.label[i-1])          \n",
    "            if W == 7:\n",
    "                d2_best_W_pred_P.append(mydata2020.label[i-1])          \n",
    "    for i in range(W, n):\n",
    "        d3_coeff = np.polyfit(mydata2020.week[(i-W):i], mydata2020.end_price[(i-W):i], 3)\n",
    "        d3_pred_P = d3_coeff[0]+d3_coeff[1]*(mydata2020.week[i])+d3_coeff[2]*(mydata2020.week[i]^2)+d3_coeff[3]*(mydata2020.week[i]^3)\n",
    "        if d3_pred_P > mydata2020.end_price[i-1]:\n",
    "            predict_d3.append('green')\n",
    "            if W == 5:\n",
    "                d3_best_W_pred_P.append('green')\n",
    "        elif d3_pred_P < mydata2020.end_price[i-1]:\n",
    "            predict_d3.append('red')\n",
    "            if W == 5:\n",
    "                d3_best_W_pred_P.append('red')\n",
    "        else:\n",
    "            predict_d3.append(mydata2020.label[i-1])              \n",
    "            if W == 5:\n",
    "                d3_best_W_pred_P.append(mydata2020.label[i-1])              \n",
    "            \n",
    "    d1_accuracy.append(np.mean(predict_d1 == mydata2020.label[W:]))\n",
    "    d2_accuracy.append(np.mean(predict_d2 == mydata2020.label[W:]))\n",
    "    d3_accuracy.append(np.mean(predict_d3 == mydata2020.label[W:]))    "
   ]
  },
  {
   "cell_type": "code",
   "execution_count": 133,
   "metadata": {},
   "outputs": [
    {
     "name": "stdout",
     "output_type": "stream",
     "text": [
      "With d = 1 and W = 6, the accuracy for year 2 is 44.68%.\n",
      "With d = 2 and W = 7, the accuracy for year 2 is 47.83%.\n",
      "With d = 3 and W = 5, the accuracy for year 2 is 41.67%.\n"
     ]
    }
   ],
   "source": [
    "print(\"With d = 1 and W = 6, the accuracy for year 2 is %.2lf%%.\" % (100*d1_accuracy[1]))\n",
    "print(\"With d = 2 and W = 7, the accuracy for year 2 is %.2lf%%.\" % (100*d2_accuracy[2]))\n",
    "print(\"With d = 3 and W = 5, the accuracy for year 2 is %.2lf%%.\" % (100*d3_accuracy[0]))"
   ]
  },
  {
   "cell_type": "markdown",
   "metadata": {},
   "source": [
    "### Q3"
   ]
  },
  {
   "cell_type": "code",
   "execution_count": 135,
   "metadata": {},
   "outputs": [],
   "source": [
    "from sklearn.metrics import confusion_matrix"
   ]
  },
  {
   "cell_type": "code",
   "execution_count": 152,
   "metadata": {},
   "outputs": [],
   "source": [
    "d1_true_label = mydata2020.label[6:] \n",
    "d1_true_label = [str(x) for x in d1_true_label]"
   ]
  },
  {
   "cell_type": "code",
   "execution_count": 154,
   "metadata": {},
   "outputs": [
    {
     "data": {
      "text/plain": [
       "array([[19,  3],\n",
       "       [23,  2]])"
      ]
     },
     "execution_count": 154,
     "metadata": {},
     "output_type": "execute_result"
    }
   ],
   "source": [
    "# row = true label\n",
    "# column = predict label\n",
    "confusion_matrix(d1_true_label, d1_best_W_pred_P)"
   ]
  },
  {
   "cell_type": "markdown",
   "metadata": {},
   "source": [
    "\n",
    " | | pred label | green | red | \n",
    " | --- | --- | --- | --- |\n",
    " | true label | green | 19 | 3 |\n",
    " |        | red | 23 | 2 | "
   ]
  },
  {
   "cell_type": "code",
   "execution_count": 160,
   "metadata": {},
   "outputs": [],
   "source": [
    "d2_true_label = mydata2020.label[7:] \n",
    "d2_true_label = [str(x) for x in d2_true_label]"
   ]
  },
  {
   "cell_type": "code",
   "execution_count": 161,
   "metadata": {},
   "outputs": [
    {
     "data": {
      "text/plain": [
       "array([[14,  8],\n",
       "       [16,  8]])"
      ]
     },
     "execution_count": 161,
     "metadata": {},
     "output_type": "execute_result"
    }
   ],
   "source": [
    "# row = true label\n",
    "# column = predict label\n",
    "confusion_matrix(d2_true_label, d2_best_W_pred_P)"
   ]
  },
  {
   "cell_type": "markdown",
   "metadata": {},
   "source": [
    "\n",
    " | | pred label | green | red | \n",
    " | --- | --- | --- | --- |\n",
    " | true label | green | 14 | 8 |\n",
    " |        | red | 16 | 8 | "
   ]
  },
  {
   "cell_type": "code",
   "execution_count": 162,
   "metadata": {},
   "outputs": [],
   "source": [
    "d3_true_label = mydata2020.label[5:] \n",
    "d3_true_label = [str(x) for x in d3_true_label]"
   ]
  },
  {
   "cell_type": "code",
   "execution_count": 163,
   "metadata": {},
   "outputs": [
    {
     "data": {
      "text/plain": [
       "array([[12, 10],\n",
       "       [18,  8]])"
      ]
     },
     "execution_count": 163,
     "metadata": {},
     "output_type": "execute_result"
    }
   ],
   "source": [
    "# row = true label\n",
    "# column = predict label\n",
    "confusion_matrix(d3_true_label, d3_best_W_pred_P)"
   ]
  },
  {
   "cell_type": "markdown",
   "metadata": {},
   "source": [
    "\n",
    " | | pred label | green | red | \n",
    " | --- | --- | --- | --- |\n",
    " | true label | green | 12 | 10 |\n",
    " |        | red | 18 | 8 | "
   ]
  },
  {
   "cell_type": "markdown",
   "metadata": {},
   "source": [
    "### Q4"
   ]
  },
  {
   "cell_type": "code",
   "execution_count": 173,
   "metadata": {},
   "outputs": [],
   "source": [
    "d1_balances = []\n",
    "d2_balances = []\n",
    "d3_balances = []\n",
    "n = mydata2020.shape[0]"
   ]
  },
  {
   "cell_type": "code",
   "execution_count": 174,
   "metadata": {},
   "outputs": [],
   "source": [
    "current_amount = 100\n",
    "W = 6\n",
    "for i in range(W, n):\n",
    "    if d1_best_W_pred_P[i-W] == 'green': \n",
    "        current_amount = current_amount*(1+((mydata2020.end_price[i]-mydata2020.start_price[i])/mydata2020.end_price[i]))\n",
    "        d1_balances.append(current_amount)\n",
    "    else:\n",
    "        d1_balances.append(current_amount)"
   ]
  },
  {
   "cell_type": "code",
   "execution_count": 175,
   "metadata": {},
   "outputs": [],
   "source": [
    "current_amount = 100\n",
    "W = 7\n",
    "for i in range(W, n):\n",
    "    if d2_best_W_pred_P[i-W] == 'green': \n",
    "        current_amount = current_amount*(1+((mydata2020.end_price[i]-mydata2020.start_price[i])/mydata2020.end_price[i]))\n",
    "        d2_balances.append(current_amount)\n",
    "    else:\n",
    "        d2_balances.append(current_amount)"
   ]
  },
  {
   "cell_type": "code",
   "execution_count": 176,
   "metadata": {},
   "outputs": [],
   "source": [
    "current_amount = 100\n",
    "W = 5\n",
    "for i in range(W, n):\n",
    "    if d3_best_W_pred_P[i-W] == 'green': \n",
    "        current_amount = current_amount*(1+((mydata2020.end_price[i]-mydata2020.start_price[i])/mydata2020.end_price[i]))\n",
    "        d3_balances.append(current_amount)\n",
    "    else:\n",
    "        d3_balances.append(current_amount)"
   ]
  },
  {
   "cell_type": "code",
   "execution_count": 180,
   "metadata": {},
   "outputs": [
    {
     "data": {
      "text/plain": [
       "<matplotlib.legend.Legend at 0x129c96fd0>"
      ]
     },
     "execution_count": 180,
     "metadata": {},
     "output_type": "execute_result"
    },
    {
     "data": {
      "image/png": "[encoded data removed]",
      "text/plain": [
       "<Figure size 1080x720 with 1 Axes>"
      ]
     },
     "metadata": {},
     "output_type": "display_data"
    }
   ],
   "source": [
    "fig = plt.figure(figsize = (15,10))\n",
    "ax = plt.axes()\n",
    "ax.plot(list(range(6, n)), d1_balances, color = 'blue', label = \"d = 1 with Best W\")\n",
    "ax.plot(list(range(7, n)), d2_balances, color = 'red',  label = \"d = 2 with Best W\")\n",
    "ax.plot(list(range(5, n)), d3_balances, color = 'green', label = \"d = 3 with Best W\")\n",
    "ax.set(xlabel = \"Weeks\", ylabel = \"Account Balance\", \n",
    "      title = \"Account Balance against Weeks\")\n",
    "ax.legend()"
   ]
  },
  {
   "cell_type": "markdown",
   "metadata": {},
   "source": [
    "## Questions from \"data_science_module_assignment_bakery_dataset.pdf\""
   ]
  },
  {
   "cell_type": "code",
   "execution_count": 195,
   "metadata": {},
   "outputs": [],
   "source": [
    "bread = pd.read_csv(\"BreadBasket_DMS_output.csv\")"
   ]
  },
  {
   "cell_type": "code",
   "execution_count": 196,
   "metadata": {
    "scrolled": true
   },
   "outputs": [
    {
     "data": {
      "text/html": [
       "<div>\n",
       "<style scoped>\n",
       "    .dataframe tbody tr th:only-of-type {\n",
       "        vertical-align: middle;\n",
       "    }\n",
       "\n",
       "    .dataframe tbody tr th {\n",
       "        vertical-align: top;\n",
       "    }\n",
       "\n",
       "    .dataframe thead th {\n",
       "        text-align: right;\n",
       "    }\n",
       "</style>\n",
       "<table border=\"1\" class=\"dataframe\">\n",
       "  <thead>\n",
       "    <tr style=\"text-align: right;\">\n",
       "      <th></th>\n",
       "      <th>Year</th>\n",
       "      <th>Month</th>\n",
       "      <th>Day</th>\n",
       "      <th>Weekday</th>\n",
       "      <th>Period</th>\n",
       "      <th>Hour</th>\n",
       "      <th>Min</th>\n",
       "      <th>Sec</th>\n",
       "      <th>Transaction</th>\n",
       "      <th>Item</th>\n",
       "      <th>Item_Price</th>\n",
       "    </tr>\n",
       "  </thead>\n",
       "  <tbody>\n",
       "    <tr>\n",
       "      <th>0</th>\n",
       "      <td>2016</td>\n",
       "      <td>10</td>\n",
       "      <td>30</td>\n",
       "      <td>Sunday</td>\n",
       "      <td>morning</td>\n",
       "      <td>9</td>\n",
       "      <td>58</td>\n",
       "      <td>11</td>\n",
       "      <td>1</td>\n",
       "      <td>Bread</td>\n",
       "      <td>3.01</td>\n",
       "    </tr>\n",
       "    <tr>\n",
       "      <th>1</th>\n",
       "      <td>2016</td>\n",
       "      <td>10</td>\n",
       "      <td>30</td>\n",
       "      <td>Sunday</td>\n",
       "      <td>morning</td>\n",
       "      <td>10</td>\n",
       "      <td>5</td>\n",
       "      <td>34</td>\n",
       "      <td>2</td>\n",
       "      <td>Scandinavian</td>\n",
       "      <td>10.38</td>\n",
       "    </tr>\n",
       "    <tr>\n",
       "      <th>2</th>\n",
       "      <td>2016</td>\n",
       "      <td>10</td>\n",
       "      <td>30</td>\n",
       "      <td>Sunday</td>\n",
       "      <td>morning</td>\n",
       "      <td>10</td>\n",
       "      <td>5</td>\n",
       "      <td>34</td>\n",
       "      <td>2</td>\n",
       "      <td>Scandinavian</td>\n",
       "      <td>10.38</td>\n",
       "    </tr>\n",
       "    <tr>\n",
       "      <th>3</th>\n",
       "      <td>2016</td>\n",
       "      <td>10</td>\n",
       "      <td>30</td>\n",
       "      <td>Sunday</td>\n",
       "      <td>morning</td>\n",
       "      <td>10</td>\n",
       "      <td>7</td>\n",
       "      <td>57</td>\n",
       "      <td>3</td>\n",
       "      <td>Hot chocolate</td>\n",
       "      <td>9.58</td>\n",
       "    </tr>\n",
       "    <tr>\n",
       "      <th>4</th>\n",
       "      <td>2016</td>\n",
       "      <td>10</td>\n",
       "      <td>30</td>\n",
       "      <td>Sunday</td>\n",
       "      <td>morning</td>\n",
       "      <td>10</td>\n",
       "      <td>7</td>\n",
       "      <td>57</td>\n",
       "      <td>3</td>\n",
       "      <td>Jam</td>\n",
       "      <td>10.08</td>\n",
       "    </tr>\n",
       "  </tbody>\n",
       "</table>\n",
       "</div>"
      ],
      "text/plain": [
       "   Year  Month  Day Weekday   Period  Hour  Min  Sec  Transaction  \\\n",
       "0  2016     10   30  Sunday  morning     9   58   11            1   \n",
       "1  2016     10   30  Sunday  morning    10    5   34            2   \n",
       "2  2016     10   30  Sunday  morning    10    5   34            2   \n",
       "3  2016     10   30  Sunday  morning    10    7   57            3   \n",
       "4  2016     10   30  Sunday  morning    10    7   57            3   \n",
       "\n",
       "            Item  Item_Price  \n",
       "0          Bread        3.01  \n",
       "1   Scandinavian       10.38  \n",
       "2   Scandinavian       10.38  \n",
       "3  Hot chocolate        9.58  \n",
       "4            Jam       10.08  "
      ]
     },
     "execution_count": 196,
     "metadata": {},
     "output_type": "execute_result"
    }
   ],
   "source": [
    "bread.head()"
   ]
  },
  {
   "cell_type": "markdown",
   "metadata": {},
   "source": [
    "### Q1(a)"
   ]
  },
  {
   "cell_type": "code",
   "execution_count": 297,
   "metadata": {},
   "outputs": [
    {
     "data": {
      "text/html": [
       "<div>\n",
       "<style scoped>\n",
       "    .dataframe tbody tr th:only-of-type {\n",
       "        vertical-align: middle;\n",
       "    }\n",
       "\n",
       "    .dataframe tbody tr th {\n",
       "        vertical-align: top;\n",
       "    }\n",
       "\n",
       "    .dataframe thead th {\n",
       "        text-align: right;\n",
       "    }\n",
       "</style>\n",
       "<table border=\"1\" class=\"dataframe\">\n",
       "  <thead>\n",
       "    <tr style=\"text-align: right;\">\n",
       "      <th></th>\n",
       "      <th>unique_transaction</th>\n",
       "    </tr>\n",
       "    <tr>\n",
       "      <th>Hour</th>\n",
       "      <th></th>\n",
       "    </tr>\n",
       "  </thead>\n",
       "  <tbody>\n",
       "    <tr>\n",
       "      <th>11</th>\n",
       "      <td>1445</td>\n",
       "    </tr>\n",
       "    <tr>\n",
       "      <th>12</th>\n",
       "      <td>1347</td>\n",
       "    </tr>\n",
       "    <tr>\n",
       "      <th>10</th>\n",
       "      <td>1267</td>\n",
       "    </tr>\n",
       "    <tr>\n",
       "      <th>13</th>\n",
       "      <td>1163</td>\n",
       "    </tr>\n",
       "    <tr>\n",
       "      <th>14</th>\n",
       "      <td>1130</td>\n",
       "    </tr>\n",
       "    <tr>\n",
       "      <th>9</th>\n",
       "      <td>1007</td>\n",
       "    </tr>\n",
       "    <tr>\n",
       "      <th>15</th>\n",
       "      <td>924</td>\n",
       "    </tr>\n",
       "    <tr>\n",
       "      <th>16</th>\n",
       "      <td>583</td>\n",
       "    </tr>\n",
       "    <tr>\n",
       "      <th>8</th>\n",
       "      <td>375</td>\n",
       "    </tr>\n",
       "    <tr>\n",
       "      <th>17</th>\n",
       "      <td>160</td>\n",
       "    </tr>\n",
       "    <tr>\n",
       "      <th>18</th>\n",
       "      <td>52</td>\n",
       "    </tr>\n",
       "    <tr>\n",
       "      <th>19</th>\n",
       "      <td>34</td>\n",
       "    </tr>\n",
       "    <tr>\n",
       "      <th>7</th>\n",
       "      <td>16</td>\n",
       "    </tr>\n",
       "    <tr>\n",
       "      <th>20</th>\n",
       "      <td>15</td>\n",
       "    </tr>\n",
       "    <tr>\n",
       "      <th>22</th>\n",
       "      <td>7</td>\n",
       "    </tr>\n",
       "    <tr>\n",
       "      <th>23</th>\n",
       "      <td>3</td>\n",
       "    </tr>\n",
       "    <tr>\n",
       "      <th>21</th>\n",
       "      <td>2</td>\n",
       "    </tr>\n",
       "    <tr>\n",
       "      <th>1</th>\n",
       "      <td>1</td>\n",
       "    </tr>\n",
       "  </tbody>\n",
       "</table>\n",
       "</div>"
      ],
      "text/plain": [
       "      unique_transaction\n",
       "Hour                    \n",
       "11                  1445\n",
       "12                  1347\n",
       "10                  1267\n",
       "13                  1163\n",
       "14                  1130\n",
       "9                   1007\n",
       "15                   924\n",
       "16                   583\n",
       "8                    375\n",
       "17                   160\n",
       "18                    52\n",
       "19                    34\n",
       "7                     16\n",
       "20                    15\n",
       "22                     7\n",
       "23                     3\n",
       "21                     2\n",
       "1                      1"
      ]
     },
     "execution_count": 297,
     "metadata": {},
     "output_type": "execute_result"
    }
   ],
   "source": [
    "bread.groupby('Hour').agg(unique_transaction = ('Transaction', lambda x: len(np.unique(x)))).sort_values(by = 'unique_transaction', ascending = False)"
   ]
  },
  {
   "cell_type": "markdown",
   "metadata": {},
   "source": [
    "The busiest hour is 11am. "
   ]
  },
  {
   "cell_type": "markdown",
   "metadata": {},
   "source": [
    "### Q1(b)"
   ]
  },
  {
   "cell_type": "code",
   "execution_count": 299,
   "metadata": {},
   "outputs": [
    {
     "data": {
      "text/html": [
       "<div>\n",
       "<style scoped>\n",
       "    .dataframe tbody tr th:only-of-type {\n",
       "        vertical-align: middle;\n",
       "    }\n",
       "\n",
       "    .dataframe tbody tr th {\n",
       "        vertical-align: top;\n",
       "    }\n",
       "\n",
       "    .dataframe thead th {\n",
       "        text-align: right;\n",
       "    }\n",
       "</style>\n",
       "<table border=\"1\" class=\"dataframe\">\n",
       "  <thead>\n",
       "    <tr style=\"text-align: right;\">\n",
       "      <th></th>\n",
       "      <th>unique_transaction</th>\n",
       "    </tr>\n",
       "    <tr>\n",
       "      <th>Weekday</th>\n",
       "      <th></th>\n",
       "    </tr>\n",
       "  </thead>\n",
       "  <tbody>\n",
       "    <tr>\n",
       "      <th>Saturday</th>\n",
       "      <td>2068</td>\n",
       "    </tr>\n",
       "    <tr>\n",
       "      <th>Friday</th>\n",
       "      <td>1488</td>\n",
       "    </tr>\n",
       "    <tr>\n",
       "      <th>Sunday</th>\n",
       "      <td>1264</td>\n",
       "    </tr>\n",
       "    <tr>\n",
       "      <th>Thursday</th>\n",
       "      <td>1252</td>\n",
       "    </tr>\n",
       "    <tr>\n",
       "      <th>Tuesday</th>\n",
       "      <td>1203</td>\n",
       "    </tr>\n",
       "    <tr>\n",
       "      <th>Monday</th>\n",
       "      <td>1135</td>\n",
       "    </tr>\n",
       "    <tr>\n",
       "      <th>Wednesday</th>\n",
       "      <td>1121</td>\n",
       "    </tr>\n",
       "  </tbody>\n",
       "</table>\n",
       "</div>"
      ],
      "text/plain": [
       "           unique_transaction\n",
       "Weekday                      \n",
       "Saturday                 2068\n",
       "Friday                   1488\n",
       "Sunday                   1264\n",
       "Thursday                 1252\n",
       "Tuesday                  1203\n",
       "Monday                   1135\n",
       "Wednesday                1121"
      ]
     },
     "execution_count": 299,
     "metadata": {},
     "output_type": "execute_result"
    }
   ],
   "source": [
    "bread.groupby('Weekday').agg(unique_transaction = ('Transaction', lambda x: len(np.unique(x)))).sort_values(by = 'unique_transaction', ascending = False)"
   ]
  },
  {
   "cell_type": "markdown",
   "metadata": {},
   "source": [
    "The busiest day of the week is Saturaday"
   ]
  },
  {
   "cell_type": "markdown",
   "metadata": {},
   "source": [
    "### Q1(c)"
   ]
  },
  {
   "cell_type": "code",
   "execution_count": 300,
   "metadata": {},
   "outputs": [
    {
     "data": {
      "text/html": [
       "<div>\n",
       "<style scoped>\n",
       "    .dataframe tbody tr th:only-of-type {\n",
       "        vertical-align: middle;\n",
       "    }\n",
       "\n",
       "    .dataframe tbody tr th {\n",
       "        vertical-align: top;\n",
       "    }\n",
       "\n",
       "    .dataframe thead th {\n",
       "        text-align: right;\n",
       "    }\n",
       "</style>\n",
       "<table border=\"1\" class=\"dataframe\">\n",
       "  <thead>\n",
       "    <tr style=\"text-align: right;\">\n",
       "      <th></th>\n",
       "      <th>unique_transaction</th>\n",
       "    </tr>\n",
       "    <tr>\n",
       "      <th>Period</th>\n",
       "      <th></th>\n",
       "    </tr>\n",
       "  </thead>\n",
       "  <tbody>\n",
       "    <tr>\n",
       "      <th>afternoon</th>\n",
       "      <td>5307</td>\n",
       "    </tr>\n",
       "    <tr>\n",
       "      <th>morning</th>\n",
       "      <td>4110</td>\n",
       "    </tr>\n",
       "    <tr>\n",
       "      <th>evening</th>\n",
       "      <td>113</td>\n",
       "    </tr>\n",
       "    <tr>\n",
       "      <th>night</th>\n",
       "      <td>1</td>\n",
       "    </tr>\n",
       "  </tbody>\n",
       "</table>\n",
       "</div>"
      ],
      "text/plain": [
       "           unique_transaction\n",
       "Period                       \n",
       "afternoon                5307\n",
       "morning                  4110\n",
       "evening                   113\n",
       "night                       1"
      ]
     },
     "execution_count": 300,
     "metadata": {},
     "output_type": "execute_result"
    }
   ],
   "source": [
    "bread.groupby('Period').agg(unique_transaction = ('Transaction', lambda x: len(np.unique(x)))).sort_values(by = 'unique_transaction', ascending = False)"
   ]
  },
  {
   "cell_type": "markdown",
   "metadata": {},
   "source": [
    "The busiest period is afternoon. "
   ]
  },
  {
   "cell_type": "markdown",
   "metadata": {},
   "source": [
    "### Q2(a)"
   ]
  },
  {
   "cell_type": "code",
   "execution_count": 305,
   "metadata": {},
   "outputs": [
    {
     "data": {
      "text/html": [
       "<div>\n",
       "<style scoped>\n",
       "    .dataframe tbody tr th:only-of-type {\n",
       "        vertical-align: middle;\n",
       "    }\n",
       "\n",
       "    .dataframe tbody tr th {\n",
       "        vertical-align: top;\n",
       "    }\n",
       "\n",
       "    .dataframe thead th {\n",
       "        text-align: right;\n",
       "    }\n",
       "</style>\n",
       "<table border=\"1\" class=\"dataframe\">\n",
       "  <thead>\n",
       "    <tr style=\"text-align: right;\">\n",
       "      <th></th>\n",
       "      <th>revenue</th>\n",
       "    </tr>\n",
       "    <tr>\n",
       "      <th>Hour</th>\n",
       "      <th></th>\n",
       "    </tr>\n",
       "  </thead>\n",
       "  <tbody>\n",
       "    <tr>\n",
       "      <th>11</th>\n",
       "      <td>21453.44</td>\n",
       "    </tr>\n",
       "    <tr>\n",
       "      <th>12</th>\n",
       "      <td>19680.60</td>\n",
       "    </tr>\n",
       "    <tr>\n",
       "      <th>13</th>\n",
       "      <td>18097.61</td>\n",
       "    </tr>\n",
       "    <tr>\n",
       "      <th>10</th>\n",
       "      <td>18068.59</td>\n",
       "    </tr>\n",
       "    <tr>\n",
       "      <th>14</th>\n",
       "      <td>17847.87</td>\n",
       "    </tr>\n",
       "  </tbody>\n",
       "</table>\n",
       "</div>"
      ],
      "text/plain": [
       "       revenue\n",
       "Hour          \n",
       "11    21453.44\n",
       "12    19680.60\n",
       "13    18097.61\n",
       "10    18068.59\n",
       "14    17847.87"
      ]
     },
     "execution_count": 305,
     "metadata": {},
     "output_type": "execute_result"
    }
   ],
   "source": [
    "bread.groupby('Hour').agg(revenue = ('Item_Price', lambda x: sum(x))).sort_values(by = \"revenue\", ascending = False).head()"
   ]
  },
  {
   "cell_type": "markdown",
   "metadata": {},
   "source": [
    "The most profitable time is 11am. "
   ]
  },
  {
   "cell_type": "markdown",
   "metadata": {},
   "source": [
    "### Q2(b)"
   ]
  },
  {
   "cell_type": "code",
   "execution_count": 306,
   "metadata": {},
   "outputs": [
    {
     "data": {
      "text/html": [
       "<div>\n",
       "<style scoped>\n",
       "    .dataframe tbody tr th:only-of-type {\n",
       "        vertical-align: middle;\n",
       "    }\n",
       "\n",
       "    .dataframe tbody tr th {\n",
       "        vertical-align: top;\n",
       "    }\n",
       "\n",
       "    .dataframe thead th {\n",
       "        text-align: right;\n",
       "    }\n",
       "</style>\n",
       "<table border=\"1\" class=\"dataframe\">\n",
       "  <thead>\n",
       "    <tr style=\"text-align: right;\">\n",
       "      <th></th>\n",
       "      <th>revenue</th>\n",
       "    </tr>\n",
       "    <tr>\n",
       "      <th>Weekday</th>\n",
       "      <th></th>\n",
       "    </tr>\n",
       "  </thead>\n",
       "  <tbody>\n",
       "    <tr>\n",
       "      <th>Saturday</th>\n",
       "      <td>31531.83</td>\n",
       "    </tr>\n",
       "    <tr>\n",
       "      <th>Sunday</th>\n",
       "      <td>21495.75</td>\n",
       "    </tr>\n",
       "    <tr>\n",
       "      <th>Friday</th>\n",
       "      <td>21200.60</td>\n",
       "    </tr>\n",
       "    <tr>\n",
       "      <th>Thursday</th>\n",
       "      <td>17314.29</td>\n",
       "    </tr>\n",
       "    <tr>\n",
       "      <th>Tuesday</th>\n",
       "      <td>16331.23</td>\n",
       "    </tr>\n",
       "  </tbody>\n",
       "</table>\n",
       "</div>"
      ],
      "text/plain": [
       "           revenue\n",
       "Weekday           \n",
       "Saturday  31531.83\n",
       "Sunday    21495.75\n",
       "Friday    21200.60\n",
       "Thursday  17314.29\n",
       "Tuesday   16331.23"
      ]
     },
     "execution_count": 306,
     "metadata": {},
     "output_type": "execute_result"
    }
   ],
   "source": [
    "bread.groupby('Weekday').agg(revenue = ('Item_Price', lambda x: sum(x))).sort_values(by = \"revenue\", ascending = False).head()"
   ]
  },
  {
   "cell_type": "markdown",
   "metadata": {},
   "source": [
    "The most profitable day of the week is Saturday"
   ]
  },
  {
   "cell_type": "markdown",
   "metadata": {},
   "source": [
    "### Q2(c)"
   ]
  },
  {
   "cell_type": "code",
   "execution_count": 307,
   "metadata": {},
   "outputs": [
    {
     "data": {
      "text/html": [
       "<div>\n",
       "<style scoped>\n",
       "    .dataframe tbody tr th:only-of-type {\n",
       "        vertical-align: middle;\n",
       "    }\n",
       "\n",
       "    .dataframe tbody tr th {\n",
       "        vertical-align: top;\n",
       "    }\n",
       "\n",
       "    .dataframe thead th {\n",
       "        text-align: right;\n",
       "    }\n",
       "</style>\n",
       "<table border=\"1\" class=\"dataframe\">\n",
       "  <thead>\n",
       "    <tr style=\"text-align: right;\">\n",
       "      <th></th>\n",
       "      <th>revenue</th>\n",
       "    </tr>\n",
       "    <tr>\n",
       "      <th>Period</th>\n",
       "      <th></th>\n",
       "    </tr>\n",
       "  </thead>\n",
       "  <tbody>\n",
       "    <tr>\n",
       "      <th>afternoon</th>\n",
       "      <td>81299.97</td>\n",
       "    </tr>\n",
       "    <tr>\n",
       "      <th>morning</th>\n",
       "      <td>56986.96</td>\n",
       "    </tr>\n",
       "    <tr>\n",
       "      <th>evening</th>\n",
       "      <td>972.61</td>\n",
       "    </tr>\n",
       "    <tr>\n",
       "      <th>night</th>\n",
       "      <td>3.01</td>\n",
       "    </tr>\n",
       "  </tbody>\n",
       "</table>\n",
       "</div>"
      ],
      "text/plain": [
       "            revenue\n",
       "Period             \n",
       "afternoon  81299.97\n",
       "morning    56986.96\n",
       "evening      972.61\n",
       "night          3.01"
      ]
     },
     "execution_count": 307,
     "metadata": {},
     "output_type": "execute_result"
    }
   ],
   "source": [
    "bread.groupby('Period').agg(revenue = ('Item_Price', lambda x: sum(x))).sort_values(by = \"revenue\", ascending = False).head()"
   ]
  },
  {
   "cell_type": "markdown",
   "metadata": {},
   "source": [
    "The most profitable period is afternoon. "
   ]
  },
  {
   "cell_type": "markdown",
   "metadata": {},
   "source": [
    "### Q3"
   ]
  },
  {
   "cell_type": "code",
   "execution_count": 323,
   "metadata": {},
   "outputs": [
    {
     "data": {
      "text/html": [
       "<div>\n",
       "<style scoped>\n",
       "    .dataframe tbody tr th:only-of-type {\n",
       "        vertical-align: middle;\n",
       "    }\n",
       "\n",
       "    .dataframe tbody tr th {\n",
       "        vertical-align: top;\n",
       "    }\n",
       "\n",
       "    .dataframe thead th {\n",
       "        text-align: right;\n",
       "    }\n",
       "</style>\n",
       "<table border=\"1\" class=\"dataframe\">\n",
       "  <thead>\n",
       "    <tr style=\"text-align: right;\">\n",
       "      <th></th>\n",
       "      <th>Item_count</th>\n",
       "    </tr>\n",
       "    <tr>\n",
       "      <th>Item</th>\n",
       "      <th></th>\n",
       "    </tr>\n",
       "  </thead>\n",
       "  <tbody>\n",
       "    <tr>\n",
       "      <th>Coffee</th>\n",
       "      <td>5471</td>\n",
       "    </tr>\n",
       "    <tr>\n",
       "      <th>Bread</th>\n",
       "      <td>3325</td>\n",
       "    </tr>\n",
       "    <tr>\n",
       "      <th>Tea</th>\n",
       "      <td>1435</td>\n",
       "    </tr>\n",
       "    <tr>\n",
       "      <th>Cake</th>\n",
       "      <td>1025</td>\n",
       "    </tr>\n",
       "    <tr>\n",
       "      <th>Pastry</th>\n",
       "      <td>856</td>\n",
       "    </tr>\n",
       "  </tbody>\n",
       "</table>\n",
       "</div>"
      ],
      "text/plain": [
       "        Item_count\n",
       "Item              \n",
       "Coffee        5471\n",
       "Bread         3325\n",
       "Tea           1435\n",
       "Cake          1025\n",
       "Pastry         856"
      ]
     },
     "execution_count": 323,
     "metadata": {},
     "output_type": "execute_result"
    }
   ],
   "source": [
    "bread.groupby('Item').agg(Item_count = ('Item', lambda x: len(x))).sort_values(by = \"Item_count\", ascending = False).head()"
   ]
  },
  {
   "cell_type": "markdown",
   "metadata": {},
   "source": [
    "The most popular item is coffee. "
   ]
  },
  {
   "cell_type": "code",
   "execution_count": 325,
   "metadata": {},
   "outputs": [
    {
     "data": {
      "text/html": [
       "<div>\n",
       "<style scoped>\n",
       "    .dataframe tbody tr th:only-of-type {\n",
       "        vertical-align: middle;\n",
       "    }\n",
       "\n",
       "    .dataframe tbody tr th {\n",
       "        vertical-align: top;\n",
       "    }\n",
       "\n",
       "    .dataframe thead th {\n",
       "        text-align: right;\n",
       "    }\n",
       "</style>\n",
       "<table border=\"1\" class=\"dataframe\">\n",
       "  <thead>\n",
       "    <tr style=\"text-align: right;\">\n",
       "      <th></th>\n",
       "      <th>Item_count</th>\n",
       "    </tr>\n",
       "    <tr>\n",
       "      <th>Item</th>\n",
       "      <th></th>\n",
       "    </tr>\n",
       "  </thead>\n",
       "  <tbody>\n",
       "    <tr>\n",
       "      <th>Adjustment</th>\n",
       "      <td>1</td>\n",
       "    </tr>\n",
       "    <tr>\n",
       "      <th>Chicken sand</th>\n",
       "      <td>1</td>\n",
       "    </tr>\n",
       "    <tr>\n",
       "      <th>Olum &amp; polenta</th>\n",
       "      <td>1</td>\n",
       "    </tr>\n",
       "    <tr>\n",
       "      <th>Polenta</th>\n",
       "      <td>1</td>\n",
       "    </tr>\n",
       "    <tr>\n",
       "      <th>Bacon</th>\n",
       "      <td>1</td>\n",
       "    </tr>\n",
       "    <tr>\n",
       "      <th>Gift voucher</th>\n",
       "      <td>1</td>\n",
       "    </tr>\n",
       "    <tr>\n",
       "      <th>The BART</th>\n",
       "      <td>1</td>\n",
       "    </tr>\n",
       "    <tr>\n",
       "      <th>Raw bars</th>\n",
       "      <td>1</td>\n",
       "    </tr>\n",
       "    <tr>\n",
       "      <th>Siblings</th>\n",
       "      <td>2</td>\n",
       "    </tr>\n",
       "    <tr>\n",
       "      <th>Hack the stack</th>\n",
       "      <td>2</td>\n",
       "    </tr>\n",
       "  </tbody>\n",
       "</table>\n",
       "</div>"
      ],
      "text/plain": [
       "                Item_count\n",
       "Item                      \n",
       "Adjustment               1\n",
       "Chicken sand             1\n",
       "Olum & polenta           1\n",
       "Polenta                  1\n",
       "Bacon                    1\n",
       "Gift voucher             1\n",
       "The BART                 1\n",
       "Raw bars                 1\n",
       "Siblings                 2\n",
       "Hack the stack           2"
      ]
     },
     "execution_count": 325,
     "metadata": {},
     "output_type": "execute_result"
    }
   ],
   "source": [
    "bread.groupby('Item').agg(Item_count = ('Item', lambda x: len(x))).sort_values(by = \"Item_count\", ascending = True).head(10)"
   ]
  },
  {
   "cell_type": "markdown",
   "metadata": {},
   "source": [
    "The least popular items are Adjustment, Chicken sand, Olumn & polenta, Polenta, Bacon, Gift voucher, the BART, Raw bars. "
   ]
  },
  {
   "cell_type": "markdown",
   "metadata": {},
   "source": [
    "The most popular item is Coffee since it has the most transactions. "
   ]
  },
  {
   "cell_type": "markdown",
   "metadata": {},
   "source": [
    "### Q4"
   ]
  },
  {
   "cell_type": "code",
   "execution_count": 327,
   "metadata": {},
   "outputs": [
    {
     "data": {
      "text/html": [
       "<div>\n",
       "<style scoped>\n",
       "    .dataframe tbody tr th:only-of-type {\n",
       "        vertical-align: middle;\n",
       "    }\n",
       "\n",
       "    .dataframe tbody tr th {\n",
       "        vertical-align: top;\n",
       "    }\n",
       "\n",
       "    .dataframe thead th {\n",
       "        text-align: right;\n",
       "    }\n",
       "</style>\n",
       "<table border=\"1\" class=\"dataframe\">\n",
       "  <thead>\n",
       "    <tr style=\"text-align: right;\">\n",
       "      <th></th>\n",
       "      <th></th>\n",
       "      <th></th>\n",
       "      <th></th>\n",
       "      <th>transaction_count</th>\n",
       "    </tr>\n",
       "    <tr>\n",
       "      <th>Year</th>\n",
       "      <th>Month</th>\n",
       "      <th>Day</th>\n",
       "      <th>Weekday</th>\n",
       "      <th></th>\n",
       "    </tr>\n",
       "  </thead>\n",
       "  <tbody>\n",
       "    <tr>\n",
       "      <th rowspan=\"5\" valign=\"top\">2016</th>\n",
       "      <th rowspan=\"2\" valign=\"top\">10</th>\n",
       "      <th>30</th>\n",
       "      <th>Sunday</th>\n",
       "      <td>180</td>\n",
       "    </tr>\n",
       "    <tr>\n",
       "      <th>31</th>\n",
       "      <th>Monday</th>\n",
       "      <td>205</td>\n",
       "    </tr>\n",
       "    <tr>\n",
       "      <th rowspan=\"3\" valign=\"top\">11</th>\n",
       "      <th>1</th>\n",
       "      <th>Tuesday</th>\n",
       "      <td>154</td>\n",
       "    </tr>\n",
       "    <tr>\n",
       "      <th>2</th>\n",
       "      <th>Wednesday</th>\n",
       "      <td>169</td>\n",
       "    </tr>\n",
       "    <tr>\n",
       "      <th>3</th>\n",
       "      <th>Thursday</th>\n",
       "      <td>195</td>\n",
       "    </tr>\n",
       "    <tr>\n",
       "      <th>...</th>\n",
       "      <th>...</th>\n",
       "      <th>...</th>\n",
       "      <th>...</th>\n",
       "      <td>...</td>\n",
       "    </tr>\n",
       "    <tr>\n",
       "      <th rowspan=\"5\" valign=\"top\">2017</th>\n",
       "      <th rowspan=\"5\" valign=\"top\">4</th>\n",
       "      <th>5</th>\n",
       "      <th>Wednesday</th>\n",
       "      <td>145</td>\n",
       "    </tr>\n",
       "    <tr>\n",
       "      <th>6</th>\n",
       "      <th>Thursday</th>\n",
       "      <td>119</td>\n",
       "    </tr>\n",
       "    <tr>\n",
       "      <th>7</th>\n",
       "      <th>Friday</th>\n",
       "      <td>103</td>\n",
       "    </tr>\n",
       "    <tr>\n",
       "      <th>8</th>\n",
       "      <th>Saturday</th>\n",
       "      <td>209</td>\n",
       "    </tr>\n",
       "    <tr>\n",
       "      <th>9</th>\n",
       "      <th>Sunday</th>\n",
       "      <td>72</td>\n",
       "    </tr>\n",
       "  </tbody>\n",
       "</table>\n",
       "<p>159 rows × 1 columns</p>\n",
       "</div>"
      ],
      "text/plain": [
       "                          transaction_count\n",
       "Year Month Day Weekday                     \n",
       "2016 10    30  Sunday                   180\n",
       "           31  Monday                   205\n",
       "     11    1   Tuesday                  154\n",
       "           2   Wednesday                169\n",
       "           3   Thursday                 195\n",
       "...                                     ...\n",
       "2017 4     5   Wednesday                145\n",
       "           6   Thursday                 119\n",
       "           7   Friday                   103\n",
       "           8   Saturday                 209\n",
       "           9   Sunday                    72\n",
       "\n",
       "[159 rows x 1 columns]"
      ]
     },
     "execution_count": 327,
     "metadata": {},
     "output_type": "execute_result"
    }
   ],
   "source": [
    "bread_collapse_by_day = bread.groupby([\"Year\", \"Month\", \"Day\", \"Weekday\"]).agg(transaction_count = ('Transaction', lambda x: len(x)))\n",
    "bread_collapse_by_day"
   ]
  },
  {
   "cell_type": "markdown",
   "metadata": {},
   "source": [
    "The number of barristas per day of week are given below. "
   ]
  },
  {
   "cell_type": "code",
   "execution_count": 349,
   "metadata": {},
   "outputs": [
    {
     "data": {
      "text/plain": [
       "Weekday\n",
       "Friday       140.652174\n",
       "Monday       114.000000\n",
       "Saturday     208.826087\n",
       "Sunday       140.565217\n",
       "Thursday     118.217391\n",
       "Tuesday      107.826087\n",
       "Wednesday    105.608696\n",
       "Name: transaction_count, dtype: float64"
      ]
     },
     "execution_count": 349,
     "metadata": {},
     "output_type": "execute_result"
    }
   ],
   "source": [
    "pd.DataFrame(bread_collapse_by_day).groupby('Weekday')['transaction_count'].mean()"
   ]
  },
  {
   "cell_type": "markdown",
   "metadata": {},
   "source": [
    "The number of barristas we need for each day of the week on average are listed below. "
   ]
  },
  {
   "cell_type": "code",
   "execution_count": 329,
   "metadata": {},
   "outputs": [
    {
     "data": {
      "text/plain": [
       "Weekday\n",
       "Friday       2.813043\n",
       "Monday       2.280000\n",
       "Saturday     4.176522\n",
       "Sunday       2.811304\n",
       "Thursday     2.364348\n",
       "Tuesday      2.156522\n",
       "Wednesday    2.112174\n",
       "Name: transaction_count, dtype: float64"
      ]
     },
     "execution_count": 329,
     "metadata": {},
     "output_type": "execute_result"
    }
   ],
   "source": [
    "pd.DataFrame(bread_collapse_by_day).groupby('Weekday')['transaction_count'].mean()/50"
   ]
  },
  {
   "cell_type": "markdown",
   "metadata": {},
   "source": [
    "### Q5"
   ]
  },
  {
   "cell_type": "code",
   "execution_count": 235,
   "metadata": {},
   "outputs": [
    {
     "data": {
      "text/html": [
       "<div>\n",
       "<style scoped>\n",
       "    .dataframe tbody tr th:only-of-type {\n",
       "        vertical-align: middle;\n",
       "    }\n",
       "\n",
       "    .dataframe tbody tr th {\n",
       "        vertical-align: top;\n",
       "    }\n",
       "\n",
       "    .dataframe thead th {\n",
       "        text-align: right;\n",
       "    }\n",
       "</style>\n",
       "<table border=\"1\" class=\"dataframe\">\n",
       "  <thead>\n",
       "    <tr style=\"text-align: right;\">\n",
       "      <th></th>\n",
       "      <th>Year</th>\n",
       "      <th>Month</th>\n",
       "      <th>Day</th>\n",
       "      <th>Weekday</th>\n",
       "      <th>Period</th>\n",
       "      <th>Hour</th>\n",
       "      <th>Min</th>\n",
       "      <th>Sec</th>\n",
       "      <th>Transaction</th>\n",
       "      <th>Item</th>\n",
       "      <th>Item_Price</th>\n",
       "      <th>Revenue</th>\n",
       "    </tr>\n",
       "  </thead>\n",
       "  <tbody>\n",
       "    <tr>\n",
       "      <th>0</th>\n",
       "      <td>2016</td>\n",
       "      <td>10</td>\n",
       "      <td>30</td>\n",
       "      <td>Sunday</td>\n",
       "      <td>morning</td>\n",
       "      <td>9</td>\n",
       "      <td>58</td>\n",
       "      <td>11</td>\n",
       "      <td>1</td>\n",
       "      <td>Bread</td>\n",
       "      <td>3.01</td>\n",
       "      <td>3.01</td>\n",
       "    </tr>\n",
       "    <tr>\n",
       "      <th>1</th>\n",
       "      <td>2016</td>\n",
       "      <td>10</td>\n",
       "      <td>30</td>\n",
       "      <td>Sunday</td>\n",
       "      <td>morning</td>\n",
       "      <td>10</td>\n",
       "      <td>5</td>\n",
       "      <td>34</td>\n",
       "      <td>2</td>\n",
       "      <td>Scandinavian</td>\n",
       "      <td>10.38</td>\n",
       "      <td>20.76</td>\n",
       "    </tr>\n",
       "    <tr>\n",
       "      <th>2</th>\n",
       "      <td>2016</td>\n",
       "      <td>10</td>\n",
       "      <td>30</td>\n",
       "      <td>Sunday</td>\n",
       "      <td>morning</td>\n",
       "      <td>10</td>\n",
       "      <td>5</td>\n",
       "      <td>34</td>\n",
       "      <td>2</td>\n",
       "      <td>Scandinavian</td>\n",
       "      <td>10.38</td>\n",
       "      <td>20.76</td>\n",
       "    </tr>\n",
       "    <tr>\n",
       "      <th>3</th>\n",
       "      <td>2016</td>\n",
       "      <td>10</td>\n",
       "      <td>30</td>\n",
       "      <td>Sunday</td>\n",
       "      <td>morning</td>\n",
       "      <td>10</td>\n",
       "      <td>7</td>\n",
       "      <td>57</td>\n",
       "      <td>3</td>\n",
       "      <td>Hot chocolate</td>\n",
       "      <td>9.58</td>\n",
       "      <td>28.74</td>\n",
       "    </tr>\n",
       "    <tr>\n",
       "      <th>4</th>\n",
       "      <td>2016</td>\n",
       "      <td>10</td>\n",
       "      <td>30</td>\n",
       "      <td>Sunday</td>\n",
       "      <td>morning</td>\n",
       "      <td>10</td>\n",
       "      <td>7</td>\n",
       "      <td>57</td>\n",
       "      <td>3</td>\n",
       "      <td>Jam</td>\n",
       "      <td>10.08</td>\n",
       "      <td>30.24</td>\n",
       "    </tr>\n",
       "  </tbody>\n",
       "</table>\n",
       "</div>"
      ],
      "text/plain": [
       "   Year  Month  Day Weekday   Period  Hour  Min  Sec  Transaction  \\\n",
       "0  2016     10   30  Sunday  morning     9   58   11            1   \n",
       "1  2016     10   30  Sunday  morning    10    5   34            2   \n",
       "2  2016     10   30  Sunday  morning    10    5   34            2   \n",
       "3  2016     10   30  Sunday  morning    10    7   57            3   \n",
       "4  2016     10   30  Sunday  morning    10    7   57            3   \n",
       "\n",
       "            Item  Item_Price  Revenue  \n",
       "0          Bread        3.01     3.01  \n",
       "1   Scandinavian       10.38    20.76  \n",
       "2   Scandinavian       10.38    20.76  \n",
       "3  Hot chocolate        9.58    28.74  \n",
       "4            Jam       10.08    30.24  "
      ]
     },
     "execution_count": 235,
     "metadata": {},
     "output_type": "execute_result"
    }
   ],
   "source": [
    "bread.head()"
   ]
  },
  {
   "cell_type": "code",
   "execution_count": 237,
   "metadata": {},
   "outputs": [
    {
     "data": {
      "text/plain": [
       "array(['Bread', 'Scandinavian', 'Hot chocolate', 'Jam', 'Cookies',\n",
       "       'Muffin', 'Coffee', 'Pastry', 'Medialuna', 'Tea', 'NONE',\n",
       "       'Tartine', 'Basket', 'Mineral water', 'Farm House', 'Fudge',\n",
       "       'Juice', \"Ella's Kitchen Pouches\", 'Victorian Sponge', 'Frittata',\n",
       "       'Hearty & Seasonal', 'Soup', 'Pick and Mix Bowls', 'Smoothies',\n",
       "       'Cake', 'Mighty Protein', 'Chicken sand', 'Coke',\n",
       "       'My-5 Fruit Shoot', 'Focaccia', 'Sandwich', 'Alfajores', 'Eggs',\n",
       "       'Brownie', 'Dulce de Leche', 'Honey', 'The BART', 'Granola',\n",
       "       'Fairy Doors', 'Empanadas', 'Keeping It Local', 'Art Tray',\n",
       "       'Bowl Nic Pitt', 'Bread Pudding', 'Adjustment', 'Truffles',\n",
       "       'Chimichurri Oil', 'Bacon', 'Spread', 'Kids biscuit', 'Siblings',\n",
       "       'Caramel bites', 'Jammie Dodgers', 'Tiffin', 'Olum & polenta',\n",
       "       'Polenta', 'The Nomad', 'Hack the stack', 'Bakewell',\n",
       "       'Lemon and coconut', 'Toast', 'Scone', 'Crepes', 'Vegan mincepie',\n",
       "       'Bare Popcorn', 'Muesli', 'Crisps', 'Pintxos', 'Gingerbread syrup',\n",
       "       'Panatone', 'Brioche and salami', 'Afternoon with the baker',\n",
       "       'Salad', 'Chicken Stew', 'Spanish Brunch',\n",
       "       'Raspberry shortbread sandwich', 'Extra Salami or Feta',\n",
       "       'Duck egg', 'Baguette', \"Valentine's card\", 'Tshirt',\n",
       "       'Vegan Feast', 'Postcard', 'Nomad bag', 'Chocolates',\n",
       "       'Coffee granules ', 'Drinking chocolate spoons ',\n",
       "       'Christmas common', 'Argentina Night', 'Half slice Monster ',\n",
       "       'Gift voucher', 'Cherry me Dried fruit', 'Mortimer', 'Raw bars',\n",
       "       'Tacos/Fajita'], dtype=object)"
      ]
     },
     "execution_count": 237,
     "metadata": {},
     "output_type": "execute_result"
    }
   ],
   "source": [
    "pd.unique(bread.Item)"
   ]
  },
  {
   "cell_type": "code",
   "execution_count": 238,
   "metadata": {},
   "outputs": [],
   "source": [
    "drink_names = ['Hot chocolate', 'Coffee', 'Tea', 'Mineral water', \n",
    "              'Smoothies', 'Coke', 'Juice', 'Coffee granules ', \n",
    "              'My-5 Fruit Shoot', \"Ella's Kitchen Pouches\", 'Lemon and coconut'] \n",
    "food_names = ['Drinking chocolate spoons ', 'Chocolates', 'Soup'\n",
    "             'Gingerbread syrup', 'Honey', 'Sandwich', 'Eggs',\n",
    "             'Crepes', 'Toast', 'Bare Popcorn', 'Duck egg', 'Tacos/Fajita',\n",
    "             'Bacon', 'Bread Pudding', 'Jam', 'Cookies', 'Muffin', \n",
    "             'Pastry', 'Chicken sand', 'Cake', 'Brownie', 'Frittata', \n",
    "             'Fudge', 'Bread', 'Medialuna', 'Tartine', 'Focaccia',\n",
    "             'Dulce de Leche', 'Alfajores', 'Granola', 'Empanadas', \n",
    "             'Caramel bites', 'Tiffin', 'Truffles', 'Mighty Protein', \n",
    "             'Victorian Sponge', 'Chimichurri Oil', 'Jammie Dodgers', \n",
    "             'Kids biscuit', 'Salad', 'Chicken Stew', 'Spanish Brunch',\n",
    "             'Muesli', 'Crisps', 'Pintxos', 'Raspberry shortbread sandwich',\n",
    "             'Brioche and salami', 'Cherry me Dried fruit', \n",
    "             'Hearty & Seasonal', 'Spread', 'Olum & polenta', 'Polenta',\n",
    "             'Vegan Feast', 'Scone', 'Vegan mincepie', 'Panatone', \n",
    "             'Extra Salami or Feta', 'Baguette']\n",
    "unknown = [\"Valentine's card\", 'Tshirt', 'Postcard', 'Nomad bag', \n",
    "          'Gift voucher', 'Farm House', 'NONE', 'Art Tray', \n",
    "          'Keeping It Local', 'Fairy Doors', 'Basket', 'Scandinavian',\n",
    "          'Afternoon with the baker', 'Pick and Mix Bowls', 'Adjustment', \n",
    "          'Siblings', 'The BART', 'Christmas common', 'Mortimer', 'Raw bars', \n",
    "          'Argentina Night', 'Half slice Monster ', 'Bowl Nic Pitt', \n",
    "          'Hack the stack', 'Bakewell', 'The Nomad']"
   ]
  },
  {
   "cell_type": "code",
   "execution_count": 243,
   "metadata": {},
   "outputs": [],
   "source": [
    "bread['groups'] = bread['Item'].apply(lambda x: np.where(x in drink_names, \"Drinks\", np.where(x in food_names, \"Food\", \"Unknown\")))"
   ]
  },
  {
   "cell_type": "code",
   "execution_count": 245,
   "metadata": {},
   "outputs": [
    {
     "data": {
      "text/plain": [
       "groups\n",
       "Drinks     8.400981\n",
       "Food       4.819024\n",
       "Unknown    8.019688\n",
       "Name: Item_Price, dtype: float64"
      ]
     },
     "execution_count": 245,
     "metadata": {},
     "output_type": "execute_result"
    }
   ],
   "source": [
    "bread.groupby(\"groups\")['Item_Price'].mean()"
   ]
  },
  {
   "cell_type": "markdown",
   "metadata": {},
   "source": [
    "The average price of a drink is \\$8.4. The average price of a food is \\$4.82. "
   ]
  },
  {
   "cell_type": "markdown",
   "metadata": {},
   "source": [
    "### Q6"
   ]
  },
  {
   "cell_type": "code",
   "execution_count": 331,
   "metadata": {},
   "outputs": [
    {
     "data": {
      "text/plain": [
       "groups\n",
       "Drinks     69820.55\n",
       "Food       52199.67\n",
       "Unknown    17242.33\n",
       "Name: Item_Price, dtype: float64"
      ]
     },
     "execution_count": 331,
     "metadata": {},
     "output_type": "execute_result"
    }
   ],
   "source": [
    "bread.groupby(\"groups\")['Item_Price'].sum()"
   ]
  },
  {
   "cell_type": "markdown",
   "metadata": {},
   "source": [
    "The coffee shope makes more money from selling drinks. "
   ]
  },
  {
   "cell_type": "markdown",
   "metadata": {},
   "source": [
    "### Q7"
   ]
  },
  {
   "cell_type": "code",
   "execution_count": 248,
   "metadata": {},
   "outputs": [
    {
     "data": {
      "text/html": [
       "<div>\n",
       "<style scoped>\n",
       "    .dataframe tbody tr th:only-of-type {\n",
       "        vertical-align: middle;\n",
       "    }\n",
       "\n",
       "    .dataframe tbody tr th {\n",
       "        vertical-align: top;\n",
       "    }\n",
       "\n",
       "    .dataframe thead th {\n",
       "        text-align: right;\n",
       "    }\n",
       "</style>\n",
       "<table border=\"1\" class=\"dataframe\">\n",
       "  <thead>\n",
       "    <tr style=\"text-align: right;\">\n",
       "      <th></th>\n",
       "      <th>Year</th>\n",
       "      <th>Month</th>\n",
       "      <th>Day</th>\n",
       "      <th>Weekday</th>\n",
       "      <th>Period</th>\n",
       "      <th>Hour</th>\n",
       "      <th>Min</th>\n",
       "      <th>Sec</th>\n",
       "      <th>Transaction</th>\n",
       "      <th>Item</th>\n",
       "      <th>Item_Price</th>\n",
       "      <th>Revenue</th>\n",
       "      <th>groups</th>\n",
       "    </tr>\n",
       "  </thead>\n",
       "  <tbody>\n",
       "    <tr>\n",
       "      <th>0</th>\n",
       "      <td>2016</td>\n",
       "      <td>10</td>\n",
       "      <td>30</td>\n",
       "      <td>Sunday</td>\n",
       "      <td>morning</td>\n",
       "      <td>9</td>\n",
       "      <td>58</td>\n",
       "      <td>11</td>\n",
       "      <td>1</td>\n",
       "      <td>Bread</td>\n",
       "      <td>3.01</td>\n",
       "      <td>3.01</td>\n",
       "      <td>Food</td>\n",
       "    </tr>\n",
       "    <tr>\n",
       "      <th>1</th>\n",
       "      <td>2016</td>\n",
       "      <td>10</td>\n",
       "      <td>30</td>\n",
       "      <td>Sunday</td>\n",
       "      <td>morning</td>\n",
       "      <td>10</td>\n",
       "      <td>5</td>\n",
       "      <td>34</td>\n",
       "      <td>2</td>\n",
       "      <td>Scandinavian</td>\n",
       "      <td>10.38</td>\n",
       "      <td>20.76</td>\n",
       "      <td>Unknown</td>\n",
       "    </tr>\n",
       "    <tr>\n",
       "      <th>2</th>\n",
       "      <td>2016</td>\n",
       "      <td>10</td>\n",
       "      <td>30</td>\n",
       "      <td>Sunday</td>\n",
       "      <td>morning</td>\n",
       "      <td>10</td>\n",
       "      <td>5</td>\n",
       "      <td>34</td>\n",
       "      <td>2</td>\n",
       "      <td>Scandinavian</td>\n",
       "      <td>10.38</td>\n",
       "      <td>20.76</td>\n",
       "      <td>Unknown</td>\n",
       "    </tr>\n",
       "    <tr>\n",
       "      <th>3</th>\n",
       "      <td>2016</td>\n",
       "      <td>10</td>\n",
       "      <td>30</td>\n",
       "      <td>Sunday</td>\n",
       "      <td>morning</td>\n",
       "      <td>10</td>\n",
       "      <td>7</td>\n",
       "      <td>57</td>\n",
       "      <td>3</td>\n",
       "      <td>Hot chocolate</td>\n",
       "      <td>9.58</td>\n",
       "      <td>28.74</td>\n",
       "      <td>Drinks</td>\n",
       "    </tr>\n",
       "    <tr>\n",
       "      <th>4</th>\n",
       "      <td>2016</td>\n",
       "      <td>10</td>\n",
       "      <td>30</td>\n",
       "      <td>Sunday</td>\n",
       "      <td>morning</td>\n",
       "      <td>10</td>\n",
       "      <td>7</td>\n",
       "      <td>57</td>\n",
       "      <td>3</td>\n",
       "      <td>Jam</td>\n",
       "      <td>10.08</td>\n",
       "      <td>30.24</td>\n",
       "      <td>Food</td>\n",
       "    </tr>\n",
       "  </tbody>\n",
       "</table>\n",
       "</div>"
      ],
      "text/plain": [
       "   Year  Month  Day Weekday   Period  Hour  Min  Sec  Transaction  \\\n",
       "0  2016     10   30  Sunday  morning     9   58   11            1   \n",
       "1  2016     10   30  Sunday  morning    10    5   34            2   \n",
       "2  2016     10   30  Sunday  morning    10    5   34            2   \n",
       "3  2016     10   30  Sunday  morning    10    7   57            3   \n",
       "4  2016     10   30  Sunday  morning    10    7   57            3   \n",
       "\n",
       "            Item  Item_Price  Revenue   groups  \n",
       "0          Bread        3.01     3.01     Food  \n",
       "1   Scandinavian       10.38    20.76  Unknown  \n",
       "2   Scandinavian       10.38    20.76  Unknown  \n",
       "3  Hot chocolate        9.58    28.74   Drinks  \n",
       "4            Jam       10.08    30.24     Food  "
      ]
     },
     "execution_count": 248,
     "metadata": {},
     "output_type": "execute_result"
    }
   ],
   "source": [
    "bread.head()"
   ]
  },
  {
   "cell_type": "code",
   "execution_count": 336,
   "metadata": {},
   "outputs": [],
   "source": [
    "item_counts = bread.groupby([\"Year\", \"Month\", \"Day\", \"Weekday\", \"Item\"]).agg(Transaction_count = (\"Item\", lambda x: len(x)))"
   ]
  },
  {
   "cell_type": "code",
   "execution_count": 337,
   "metadata": {},
   "outputs": [
    {
     "data": {
      "text/html": [
       "<div>\n",
       "<style scoped>\n",
       "    .dataframe tbody tr th:only-of-type {\n",
       "        vertical-align: middle;\n",
       "    }\n",
       "\n",
       "    .dataframe tbody tr th {\n",
       "        vertical-align: top;\n",
       "    }\n",
       "\n",
       "    .dataframe thead th {\n",
       "        text-align: right;\n",
       "    }\n",
       "</style>\n",
       "<table border=\"1\" class=\"dataframe\">\n",
       "  <thead>\n",
       "    <tr style=\"text-align: right;\">\n",
       "      <th></th>\n",
       "      <th></th>\n",
       "      <th></th>\n",
       "      <th></th>\n",
       "      <th></th>\n",
       "      <th>Transaction_count</th>\n",
       "    </tr>\n",
       "    <tr>\n",
       "      <th>Year</th>\n",
       "      <th>Month</th>\n",
       "      <th>Day</th>\n",
       "      <th>Weekday</th>\n",
       "      <th>Item</th>\n",
       "      <th></th>\n",
       "    </tr>\n",
       "  </thead>\n",
       "  <tbody>\n",
       "    <tr>\n",
       "      <th rowspan=\"5\" valign=\"top\">2016</th>\n",
       "      <th rowspan=\"5\" valign=\"top\">10</th>\n",
       "      <th rowspan=\"5\" valign=\"top\">30</th>\n",
       "      <th rowspan=\"5\" valign=\"top\">Sunday</th>\n",
       "      <th>Basket</th>\n",
       "      <td>2</td>\n",
       "    </tr>\n",
       "    <tr>\n",
       "      <th>Bread</th>\n",
       "      <td>29</td>\n",
       "    </tr>\n",
       "    <tr>\n",
       "      <th>Cake</th>\n",
       "      <td>1</td>\n",
       "    </tr>\n",
       "    <tr>\n",
       "      <th>Chicken sand</th>\n",
       "      <td>1</td>\n",
       "    </tr>\n",
       "    <tr>\n",
       "      <th>Coffee</th>\n",
       "      <td>33</td>\n",
       "    </tr>\n",
       "    <tr>\n",
       "      <th>...</th>\n",
       "      <th>...</th>\n",
       "      <th>...</th>\n",
       "      <th>...</th>\n",
       "      <th>...</th>\n",
       "      <td>...</td>\n",
       "    </tr>\n",
       "    <tr>\n",
       "      <th rowspan=\"5\" valign=\"top\">2017</th>\n",
       "      <th rowspan=\"5\" valign=\"top\">4</th>\n",
       "      <th rowspan=\"5\" valign=\"top\">9</th>\n",
       "      <th rowspan=\"5\" valign=\"top\">Sunday</th>\n",
       "      <th>Spanish Brunch</th>\n",
       "      <td>5</td>\n",
       "    </tr>\n",
       "    <tr>\n",
       "      <th>Tacos/Fajita</th>\n",
       "      <td>3</td>\n",
       "    </tr>\n",
       "    <tr>\n",
       "      <th>Tea</th>\n",
       "      <td>5</td>\n",
       "    </tr>\n",
       "    <tr>\n",
       "      <th>Toast</th>\n",
       "      <td>2</td>\n",
       "    </tr>\n",
       "    <tr>\n",
       "      <th>Truffles</th>\n",
       "      <td>1</td>\n",
       "    </tr>\n",
       "  </tbody>\n",
       "</table>\n",
       "<p>3808 rows × 1 columns</p>\n",
       "</div>"
      ],
      "text/plain": [
       "                                       Transaction_count\n",
       "Year Month Day Weekday Item                             \n",
       "2016 10    30  Sunday  Basket                          2\n",
       "                       Bread                          29\n",
       "                       Cake                            1\n",
       "                       Chicken sand                    1\n",
       "                       Coffee                         33\n",
       "...                                                  ...\n",
       "2017 4     9   Sunday  Spanish Brunch                  5\n",
       "                       Tacos/Fajita                    3\n",
       "                       Tea                             5\n",
       "                       Toast                           2\n",
       "                       Truffles                        1\n",
       "\n",
       "[3808 rows x 1 columns]"
      ]
     },
     "execution_count": 337,
     "metadata": {},
     "output_type": "execute_result"
    }
   ],
   "source": [
    "item_counts"
   ]
  },
  {
   "cell_type": "code",
   "execution_count": 339,
   "metadata": {},
   "outputs": [],
   "source": [
    "g = item_counts['Transaction_count'].groupby([\"Year\", \"Month\", \"Day\", \"Weekday\"], group_keys = False)"
   ]
  },
  {
   "cell_type": "code",
   "execution_count": 340,
   "metadata": {},
   "outputs": [],
   "source": [
    "g_all_list = g.apply(lambda x: x.sort_values(ascending = False).head(5))"
   ]
  },
  {
   "cell_type": "code",
   "execution_count": 341,
   "metadata": {},
   "outputs": [
    {
     "data": {
      "text/html": [
       "<div>\n",
       "<style scoped>\n",
       "    .dataframe tbody tr th:only-of-type {\n",
       "        vertical-align: middle;\n",
       "    }\n",
       "\n",
       "    .dataframe tbody tr th {\n",
       "        vertical-align: top;\n",
       "    }\n",
       "\n",
       "    .dataframe thead th {\n",
       "        text-align: right;\n",
       "    }\n",
       "</style>\n",
       "<table border=\"1\" class=\"dataframe\">\n",
       "  <thead>\n",
       "    <tr style=\"text-align: right;\">\n",
       "      <th></th>\n",
       "      <th></th>\n",
       "      <th></th>\n",
       "      <th></th>\n",
       "      <th></th>\n",
       "      <th>Transaction_count</th>\n",
       "    </tr>\n",
       "    <tr>\n",
       "      <th>Year</th>\n",
       "      <th>Month</th>\n",
       "      <th>Day</th>\n",
       "      <th>Weekday</th>\n",
       "      <th>Item</th>\n",
       "      <th></th>\n",
       "    </tr>\n",
       "  </thead>\n",
       "  <tbody>\n",
       "    <tr>\n",
       "      <th rowspan=\"5\" valign=\"top\">2016</th>\n",
       "      <th rowspan=\"5\" valign=\"top\">10</th>\n",
       "      <th rowspan=\"5\" valign=\"top\">30</th>\n",
       "      <th rowspan=\"5\" valign=\"top\">Sunday</th>\n",
       "      <th>Coffee</th>\n",
       "      <td>33</td>\n",
       "    </tr>\n",
       "    <tr>\n",
       "      <th>Bread</th>\n",
       "      <td>29</td>\n",
       "    </tr>\n",
       "    <tr>\n",
       "      <th>Scandinavian</th>\n",
       "      <td>16</td>\n",
       "    </tr>\n",
       "    <tr>\n",
       "      <th>Muffin</th>\n",
       "      <td>12</td>\n",
       "    </tr>\n",
       "    <tr>\n",
       "      <th>Tea</th>\n",
       "      <td>12</td>\n",
       "    </tr>\n",
       "    <tr>\n",
       "      <th>...</th>\n",
       "      <th>...</th>\n",
       "      <th>...</th>\n",
       "      <th>...</th>\n",
       "      <th>...</th>\n",
       "      <td>...</td>\n",
       "    </tr>\n",
       "    <tr>\n",
       "      <th rowspan=\"5\" valign=\"top\">2017</th>\n",
       "      <th rowspan=\"5\" valign=\"top\">4</th>\n",
       "      <th rowspan=\"5\" valign=\"top\">9</th>\n",
       "      <th rowspan=\"5\" valign=\"top\">Sunday</th>\n",
       "      <th>Coffee</th>\n",
       "      <td>17</td>\n",
       "    </tr>\n",
       "    <tr>\n",
       "      <th>Bread</th>\n",
       "      <td>9</td>\n",
       "    </tr>\n",
       "    <tr>\n",
       "      <th>Tea</th>\n",
       "      <td>5</td>\n",
       "    </tr>\n",
       "    <tr>\n",
       "      <th>Spanish Brunch</th>\n",
       "      <td>5</td>\n",
       "    </tr>\n",
       "    <tr>\n",
       "      <th>NONE</th>\n",
       "      <td>3</td>\n",
       "    </tr>\n",
       "  </tbody>\n",
       "</table>\n",
       "<p>791 rows × 1 columns</p>\n",
       "</div>"
      ],
      "text/plain": [
       "                                       Transaction_count\n",
       "Year Month Day Weekday Item                             \n",
       "2016 10    30  Sunday  Coffee                         33\n",
       "                       Bread                          29\n",
       "                       Scandinavian                   16\n",
       "                       Muffin                         12\n",
       "                       Tea                            12\n",
       "...                                                  ...\n",
       "2017 4     9   Sunday  Coffee                         17\n",
       "                       Bread                           9\n",
       "                       Tea                             5\n",
       "                       Spanish Brunch                  5\n",
       "                       NONE                            3\n",
       "\n",
       "[791 rows x 1 columns]"
      ]
     },
     "execution_count": 341,
     "metadata": {},
     "output_type": "execute_result"
    }
   ],
   "source": [
    "pd.DataFrame(g_all_list)"
   ]
  },
  {
   "cell_type": "markdown",
   "metadata": {},
   "source": [
    "The top 5 most popular items for each day of the week does not stay the same from day to day."
   ]
  },
  {
   "cell_type": "markdown",
   "metadata": {},
   "source": [
    "### Q8"
   ]
  },
  {
   "cell_type": "code",
   "execution_count": 344,
   "metadata": {},
   "outputs": [
    {
     "data": {
      "text/html": [
       "<div>\n",
       "<style scoped>\n",
       "    .dataframe tbody tr th:only-of-type {\n",
       "        vertical-align: middle;\n",
       "    }\n",
       "\n",
       "    .dataframe tbody tr th {\n",
       "        vertical-align: top;\n",
       "    }\n",
       "\n",
       "    .dataframe thead th {\n",
       "        text-align: right;\n",
       "    }\n",
       "</style>\n",
       "<table border=\"1\" class=\"dataframe\">\n",
       "  <thead>\n",
       "    <tr style=\"text-align: right;\">\n",
       "      <th></th>\n",
       "      <th></th>\n",
       "      <th></th>\n",
       "      <th></th>\n",
       "      <th></th>\n",
       "      <th>Transaction_count</th>\n",
       "    </tr>\n",
       "    <tr>\n",
       "      <th>Year</th>\n",
       "      <th>Month</th>\n",
       "      <th>Day</th>\n",
       "      <th>Weekday</th>\n",
       "      <th>Item</th>\n",
       "      <th></th>\n",
       "    </tr>\n",
       "  </thead>\n",
       "  <tbody>\n",
       "    <tr>\n",
       "      <th rowspan=\"5\" valign=\"top\">2016</th>\n",
       "      <th rowspan=\"5\" valign=\"top\">10</th>\n",
       "      <th rowspan=\"5\" valign=\"top\">30</th>\n",
       "      <th rowspan=\"5\" valign=\"top\">Sunday</th>\n",
       "      <th>Cake</th>\n",
       "      <td>1</td>\n",
       "    </tr>\n",
       "    <tr>\n",
       "      <th>Chicken sand</th>\n",
       "      <td>1</td>\n",
       "    </tr>\n",
       "    <tr>\n",
       "      <th>Soup</th>\n",
       "      <td>1</td>\n",
       "    </tr>\n",
       "    <tr>\n",
       "      <th>Ella's Kitchen Pouches</th>\n",
       "      <td>1</td>\n",
       "    </tr>\n",
       "    <tr>\n",
       "      <th>Smoothies</th>\n",
       "      <td>1</td>\n",
       "    </tr>\n",
       "    <tr>\n",
       "      <th>...</th>\n",
       "      <th>...</th>\n",
       "      <th>...</th>\n",
       "      <th>...</th>\n",
       "      <th>...</th>\n",
       "      <td>...</td>\n",
       "    </tr>\n",
       "    <tr>\n",
       "      <th rowspan=\"5\" valign=\"top\">2017</th>\n",
       "      <th rowspan=\"5\" valign=\"top\">4</th>\n",
       "      <th rowspan=\"5\" valign=\"top\">9</th>\n",
       "      <th rowspan=\"5\" valign=\"top\">Sunday</th>\n",
       "      <th>Cookies</th>\n",
       "      <td>1</td>\n",
       "    </tr>\n",
       "    <tr>\n",
       "      <th>Truffles</th>\n",
       "      <td>1</td>\n",
       "    </tr>\n",
       "    <tr>\n",
       "      <th>Coke</th>\n",
       "      <td>1</td>\n",
       "    </tr>\n",
       "    <tr>\n",
       "      <th>Christmas common</th>\n",
       "      <td>1</td>\n",
       "    </tr>\n",
       "    <tr>\n",
       "      <th>Extra Salami or Feta</th>\n",
       "      <td>2</td>\n",
       "    </tr>\n",
       "  </tbody>\n",
       "</table>\n",
       "<p>1581 rows × 1 columns</p>\n",
       "</div>"
      ],
      "text/plain": [
       "                                               Transaction_count\n",
       "Year Month Day Weekday Item                                     \n",
       "2016 10    30  Sunday  Cake                                    1\n",
       "                       Chicken sand                            1\n",
       "                       Soup                                    1\n",
       "                       Ella's Kitchen Pouches                  1\n",
       "                       Smoothies                               1\n",
       "...                                                          ...\n",
       "2017 4     9   Sunday  Cookies                                 1\n",
       "                       Truffles                                1\n",
       "                       Coke                                    1\n",
       "                       Christmas common                        1\n",
       "                       Extra Salami or Feta                    2\n",
       "\n",
       "[1581 rows x 1 columns]"
      ]
     },
     "execution_count": 344,
     "metadata": {},
     "output_type": "execute_result"
    }
   ],
   "source": [
    "g2_all_list = g.apply(lambda x: x.sort_values(ascending = True).head(10))\n",
    "pd.DataFrame(g2_all_list)"
   ]
  },
  {
   "cell_type": "markdown",
   "metadata": {},
   "source": [
    "The bottom 5 least popular items for each day of the week does not stay the same from day to day."
   ]
  },
  {
   "cell_type": "markdown",
   "metadata": {},
   "source": [
    "### Q9"
   ]
  },
  {
   "cell_type": "code",
   "execution_count": 280,
   "metadata": {
    "scrolled": true
   },
   "outputs": [
    {
     "data": {
      "text/html": [
       "<div>\n",
       "<style scoped>\n",
       "    .dataframe tbody tr th:only-of-type {\n",
       "        vertical-align: middle;\n",
       "    }\n",
       "\n",
       "    .dataframe tbody tr th {\n",
       "        vertical-align: top;\n",
       "    }\n",
       "\n",
       "    .dataframe thead th {\n",
       "        text-align: right;\n",
       "    }\n",
       "</style>\n",
       "<table border=\"1\" class=\"dataframe\">\n",
       "  <thead>\n",
       "    <tr style=\"text-align: right;\">\n",
       "      <th></th>\n",
       "      <th>Year</th>\n",
       "      <th>Month</th>\n",
       "      <th>Day</th>\n",
       "      <th>Weekday</th>\n",
       "      <th>Period</th>\n",
       "      <th>Hour</th>\n",
       "      <th>Min</th>\n",
       "      <th>Sec</th>\n",
       "      <th>Transaction</th>\n",
       "      <th>Item</th>\n",
       "      <th>Item_Price</th>\n",
       "      <th>Revenue</th>\n",
       "      <th>groups</th>\n",
       "    </tr>\n",
       "  </thead>\n",
       "  <tbody>\n",
       "    <tr>\n",
       "      <th>0</th>\n",
       "      <td>2016</td>\n",
       "      <td>10</td>\n",
       "      <td>30</td>\n",
       "      <td>Sunday</td>\n",
       "      <td>morning</td>\n",
       "      <td>9</td>\n",
       "      <td>58</td>\n",
       "      <td>11</td>\n",
       "      <td>1</td>\n",
       "      <td>Bread</td>\n",
       "      <td>3.01</td>\n",
       "      <td>3.01</td>\n",
       "      <td>Food</td>\n",
       "    </tr>\n",
       "    <tr>\n",
       "      <th>1</th>\n",
       "      <td>2016</td>\n",
       "      <td>10</td>\n",
       "      <td>30</td>\n",
       "      <td>Sunday</td>\n",
       "      <td>morning</td>\n",
       "      <td>10</td>\n",
       "      <td>5</td>\n",
       "      <td>34</td>\n",
       "      <td>2</td>\n",
       "      <td>Scandinavian</td>\n",
       "      <td>10.38</td>\n",
       "      <td>20.76</td>\n",
       "      <td>Unknown</td>\n",
       "    </tr>\n",
       "    <tr>\n",
       "      <th>2</th>\n",
       "      <td>2016</td>\n",
       "      <td>10</td>\n",
       "      <td>30</td>\n",
       "      <td>Sunday</td>\n",
       "      <td>morning</td>\n",
       "      <td>10</td>\n",
       "      <td>5</td>\n",
       "      <td>34</td>\n",
       "      <td>2</td>\n",
       "      <td>Scandinavian</td>\n",
       "      <td>10.38</td>\n",
       "      <td>20.76</td>\n",
       "      <td>Unknown</td>\n",
       "    </tr>\n",
       "    <tr>\n",
       "      <th>3</th>\n",
       "      <td>2016</td>\n",
       "      <td>10</td>\n",
       "      <td>30</td>\n",
       "      <td>Sunday</td>\n",
       "      <td>morning</td>\n",
       "      <td>10</td>\n",
       "      <td>7</td>\n",
       "      <td>57</td>\n",
       "      <td>3</td>\n",
       "      <td>Hot chocolate</td>\n",
       "      <td>9.58</td>\n",
       "      <td>28.74</td>\n",
       "      <td>Drinks</td>\n",
       "    </tr>\n",
       "    <tr>\n",
       "      <th>4</th>\n",
       "      <td>2016</td>\n",
       "      <td>10</td>\n",
       "      <td>30</td>\n",
       "      <td>Sunday</td>\n",
       "      <td>morning</td>\n",
       "      <td>10</td>\n",
       "      <td>7</td>\n",
       "      <td>57</td>\n",
       "      <td>3</td>\n",
       "      <td>Jam</td>\n",
       "      <td>10.08</td>\n",
       "      <td>30.24</td>\n",
       "      <td>Food</td>\n",
       "    </tr>\n",
       "  </tbody>\n",
       "</table>\n",
       "</div>"
      ],
      "text/plain": [
       "   Year  Month  Day Weekday   Period  Hour  Min  Sec  Transaction  \\\n",
       "0  2016     10   30  Sunday  morning     9   58   11            1   \n",
       "1  2016     10   30  Sunday  morning    10    5   34            2   \n",
       "2  2016     10   30  Sunday  morning    10    5   34            2   \n",
       "3  2016     10   30  Sunday  morning    10    7   57            3   \n",
       "4  2016     10   30  Sunday  morning    10    7   57            3   \n",
       "\n",
       "            Item  Item_Price  Revenue   groups  \n",
       "0          Bread        3.01     3.01     Food  \n",
       "1   Scandinavian       10.38    20.76  Unknown  \n",
       "2   Scandinavian       10.38    20.76  Unknown  \n",
       "3  Hot chocolate        9.58    28.74   Drinks  \n",
       "4            Jam       10.08    30.24     Food  "
      ]
     },
     "execution_count": 280,
     "metadata": {},
     "output_type": "execute_result"
    }
   ],
   "source": [
    "bread.head()"
   ]
  },
  {
   "cell_type": "code",
   "execution_count": 346,
   "metadata": {},
   "outputs": [],
   "source": [
    "drink_count_by_transaction = bread.groupby(\"Transaction\").agg(drink_count = ('groups', lambda x: sum(x == \"Drinks\")))"
   ]
  },
  {
   "cell_type": "code",
   "execution_count": 347,
   "metadata": {},
   "outputs": [
    {
     "data": {
      "text/html": [
       "<div>\n",
       "<style scoped>\n",
       "    .dataframe tbody tr th:only-of-type {\n",
       "        vertical-align: middle;\n",
       "    }\n",
       "\n",
       "    .dataframe tbody tr th {\n",
       "        vertical-align: top;\n",
       "    }\n",
       "\n",
       "    .dataframe thead th {\n",
       "        text-align: right;\n",
       "    }\n",
       "</style>\n",
       "<table border=\"1\" class=\"dataframe\">\n",
       "  <thead>\n",
       "    <tr style=\"text-align: right;\">\n",
       "      <th></th>\n",
       "      <th>drink_count</th>\n",
       "    </tr>\n",
       "    <tr>\n",
       "      <th>Transaction</th>\n",
       "      <th></th>\n",
       "    </tr>\n",
       "  </thead>\n",
       "  <tbody>\n",
       "    <tr>\n",
       "      <th>1</th>\n",
       "      <td>0</td>\n",
       "    </tr>\n",
       "    <tr>\n",
       "      <th>2</th>\n",
       "      <td>0</td>\n",
       "    </tr>\n",
       "    <tr>\n",
       "      <th>3</th>\n",
       "      <td>1</td>\n",
       "    </tr>\n",
       "    <tr>\n",
       "      <th>4</th>\n",
       "      <td>0</td>\n",
       "    </tr>\n",
       "    <tr>\n",
       "      <th>5</th>\n",
       "      <td>1</td>\n",
       "    </tr>\n",
       "    <tr>\n",
       "      <th>...</th>\n",
       "      <td>...</td>\n",
       "    </tr>\n",
       "    <tr>\n",
       "      <th>9680</th>\n",
       "      <td>0</td>\n",
       "    </tr>\n",
       "    <tr>\n",
       "      <th>9681</th>\n",
       "      <td>1</td>\n",
       "    </tr>\n",
       "    <tr>\n",
       "      <th>9682</th>\n",
       "      <td>2</td>\n",
       "    </tr>\n",
       "    <tr>\n",
       "      <th>9683</th>\n",
       "      <td>1</td>\n",
       "    </tr>\n",
       "    <tr>\n",
       "      <th>9684</th>\n",
       "      <td>1</td>\n",
       "    </tr>\n",
       "  </tbody>\n",
       "</table>\n",
       "<p>9531 rows × 1 columns</p>\n",
       "</div>"
      ],
      "text/plain": [
       "             drink_count\n",
       "Transaction             \n",
       "1                      0\n",
       "2                      0\n",
       "3                      1\n",
       "4                      0\n",
       "5                      1\n",
       "...                  ...\n",
       "9680                   0\n",
       "9681                   1\n",
       "9682                   2\n",
       "9683                   1\n",
       "9684                   1\n",
       "\n",
       "[9531 rows x 1 columns]"
      ]
     },
     "execution_count": 347,
     "metadata": {},
     "output_type": "execute_result"
    }
   ],
   "source": [
    "drink_count_by_transaction"
   ]
  },
  {
   "cell_type": "code",
   "execution_count": 348,
   "metadata": {},
   "outputs": [
    {
     "data": {
      "text/plain": [
       "drink_count    0.871997\n",
       "dtype: float64"
      ]
     },
     "execution_count": 348,
     "metadata": {},
     "output_type": "execute_result"
    }
   ],
   "source": [
    "np.mean(drink_count_by_transaction)"
   ]
  },
  {
   "cell_type": "markdown",
   "metadata": {},
   "source": [
    "The average drinks per transaction is 0.872. "
   ]
  },
  {
   "cell_type": "code",
   "execution_count": null,
   "metadata": {},
   "outputs": [],
   "source": []
  }
 ],
 "metadata": {
  "kernelspec": {
   "display_name": "Python 3",
   "language": "python",
   "name": "python3"
  },
  "language_info": {
   "codemirror_mode": {
    "name": "ipython",
    "version": 3
   },
   "file_extension": ".py",
   "mimetype": "text/x-python",
   "name": "python",
   "nbconvert_exporter": "python",
   "pygments_lexer": "ipython3",
   "version": "3.6.4"
  }
 },
 "nbformat": 4,
 "nbformat_minor": 2
}
