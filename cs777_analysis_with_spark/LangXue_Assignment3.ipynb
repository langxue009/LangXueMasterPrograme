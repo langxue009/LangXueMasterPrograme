{
 "cells": [
  {
   "cell_type": "code",
   "execution_count": 1,
   "metadata": {},
   "outputs": [
    {
     "data": {
      "text/html": [
       "\n",
       "        <div>\n",
       "            <p><b>SparkContext</b></p>\n",
       "\n",
       "            <p><a href=\"http://puddings-mbp:4041\">Spark UI</a></p>\n",
       "\n",
       "            <dl>\n",
       "              <dt>Version</dt>\n",
       "                <dd><code>v3.1.1</code></dd>\n",
       "              <dt>Master</dt>\n",
       "                <dd><code>local[*]</code></dd>\n",
       "              <dt>AppName</dt>\n",
       "                <dd><code>PySparkShell</code></dd>\n",
       "            </dl>\n",
       "        </div>\n",
       "        "
      ],
      "text/plain": [
       "<SparkContext master=local[*] appName=PySparkShell>"
      ]
     },
     "execution_count": 1,
     "metadata": {},
     "output_type": "execute_result"
    }
   ],
   "source": [
    "sc"
   ]
  },
  {
   "cell_type": "code",
   "execution_count": 5,
   "metadata": {},
   "outputs": [],
   "source": [
    "import pandas as pd\n",
    "import matplotlib.pyplot as plt\n",
    "from pyspark import SparkContext\n",
    "from pyspark.sql import SparkSession\n",
    "from pyspark.sql.types import *\n",
    "from pyspark.sql import functions as func\n",
    "from pyspark.sql.functions import col, lit, concat, array, coalesce\n",
    "\n",
    "from pyspark.ml.linalg import Vectors\n",
    "from pandas import Series,DataFrame\n",
    "import pandas as pd\n",
    "import numpy as np\n",
    "\n",
    "import ast\n",
    "import time"
   ]
  },
  {
   "cell_type": "markdown",
   "metadata": {},
   "source": [
    "## Clean/Prepare Data"
   ]
  },
  {
   "cell_type": "code",
   "execution_count": 6,
   "metadata": {},
   "outputs": [],
   "source": [
    "lines = sc.textFile(\"/Users/xuelang/Desktop/BU/cs777/Module3/taxi-data-sorted-small.csv\")"
   ]
  },
  {
   "cell_type": "code",
   "execution_count": 7,
   "metadata": {},
   "outputs": [],
   "source": [
    "taxilines = lines.map(lambda x: x.split(','))\n",
    "\n",
    "# Exception Handling and removing wrong data lines\n",
    "def isfloat(value): \n",
    "    try :\n",
    "        float(value)\n",
    "        return True\n",
    "    except :\n",
    "        return False\n",
    "\n",
    "# Remove lines if they don’t have 16 values and \n",
    "# with total amount of larger than 600 USD and less than 1 USD\n",
    "def correctRows (p) : \n",
    "    if(len(p) == 17):\n",
    "        if(isfloat(p[5]) and isfloat(p[11])): \n",
    "            if(float(p[5])!=0 and float(p[11])!=0):\n",
    "                if(float(p[11])>=1 and float(p[11])<=600):\n",
    "                    return p\n",
    "\n",
    "# cleaning up data\n",
    "texilinesCorrected = taxilines.filter(correctRows)"
   ]
  },
  {
   "cell_type": "markdown",
   "metadata": {},
   "source": [
    "## Task 1"
   ]
  },
  {
   "cell_type": "code",
   "execution_count": 8,
   "metadata": {},
   "outputs": [],
   "source": [
    "start = time.time()"
   ]
  },
  {
   "cell_type": "code",
   "execution_count": 9,
   "metadata": {},
   "outputs": [],
   "source": [
    "xy = texilinesCorrected.map(lambda x: float(x[5])*float(x[11])).sum()\n",
    "x = texilinesCorrected.map(lambda x: float(x[5])).sum()\n",
    "x2 = texilinesCorrected.map(lambda x: float(x[5])**2).sum()\n",
    "y = texilinesCorrected.map(lambda x: float(x[11])).sum()\n",
    "n = texilinesCorrected.count()\n",
    "m = (n*xy-x*y)/(n*x2-(x**2))\n",
    "b = (x2*y-x*xy)/(n*x2-(x**2))"
   ]
  },
  {
   "cell_type": "code",
   "execution_count": 10,
   "metadata": {},
   "outputs": [
    {
     "name": "stdout",
     "output_type": "stream",
     "text": [
      "The slope is 2.6986.\n",
      "The intercept is 3.9702.\n"
     ]
    }
   ],
   "source": [
    "print(\"The slope is %.4lf.\" % m)\n",
    "print(\"The intercept is %.4lf.\" % b)"
   ]
  },
  {
   "cell_type": "code",
   "execution_count": 11,
   "metadata": {},
   "outputs": [
    {
     "name": "stdout",
     "output_type": "stream",
     "text": [
      "Time it took is 47.1611\n"
     ]
    }
   ],
   "source": [
    "end = time.time()\n",
    "print(\"Time it took is %.4lf\" % (end-start))"
   ]
  },
  {
   "cell_type": "markdown",
   "metadata": {},
   "source": [
    "## Task 2"
   ]
  },
  {
   "cell_type": "code",
   "execution_count": 12,
   "metadata": {},
   "outputs": [],
   "source": [
    "b_current = 0.1 \n",
    "m_current = 0.1\n",
    "\n",
    "learningRate = 0.01\n",
    "maxIteration = 400\n",
    "num_iteration = 100\n",
    "\n",
    "precision = 0.01\n",
    "\n",
    "previous_step_size = 1 \n",
    "\n",
    "oldCost=0"
   ]
  },
  {
   "cell_type": "code",
   "execution_count": 14,
   "metadata": {},
   "outputs": [],
   "source": [
    "n = texilinesCorrected.count()\n",
    "initCost = texilinesCorrected.map(lambda x: (float(x[11])-(m_current*float(x[5])+b_current))**2).sum()"
   ]
  },
  {
   "cell_type": "code",
   "execution_count": 15,
   "metadata": {},
   "outputs": [
    {
     "name": "stdout",
     "output_type": "stream",
     "text": [
      "Iteration No.= 0  m =  1.3783430859138257  b= 0.3283392434996259  Cost= 436320487.1504411\n",
      "Iteration No.= 1  m =  2.125151327080011  b= 0.47786253951552726  Cost= 170110028.2328706\n",
      "Iteration No.= 2  m =  2.5605001030747423  b= 0.5810189965930902  Cost= 78495301.60778184\n",
      "Iteration No.= 3  m =  2.813355991652339  b= 0.656826247247734  Cost= 46843010.77959038\n",
      "Iteration No.= 4  m =  2.9592946949343806  b= 0.7164308902364099  Cost= 35786785.84963435\n",
      "Iteration No.= 5  m =  3.0426042082929996  b= 0.7663669784271789  Cost= 31807706.345493816\n",
      "Iteration No.= 6  m =  3.0892375492899706  b= 0.8104655330572103  Cost= 30263137.590638958\n",
      "Iteration No.= 7  m =  3.1144032161990736  b= 0.850973542850196  Cost= 29558656.165889848\n",
      "Iteration No.= 8  m =  3.1270132900739487  b= 0.8892097115298813  Cost= 29146628.31477824\n",
      "Iteration No.= 9  m =  3.1322900772625553  b= 0.9259487341897952  Cost= 28838900.85759987\n",
      "Iteration No.= 10  m =  3.1332936339619017  b= 0.9616464882288496  Cost= 28570772.039586354\n",
      "Iteration No.= 11  m =  3.131816914368588  b= 0.9965719982618858  Cost= 28319936.613339566\n",
      "Iteration No.= 12  m =  3.1289103384745984  b= 1.030884769429381  Cost= 28078650.689778615\n",
      "Iteration No.= 13  m =  3.1251891952150896  b= 1.0646801059138886  Cost= 27844172.81333006\n",
      "Iteration No.= 14  m =  3.121013784460287  b= 1.0980156683908435  Cost= 27615481.284041356\n",
      "Iteration No.= 15  m =  3.1165949824043366  b= 1.130927037261237  Cost= 27392146.80928558\n",
      "Iteration No.= 16  m =  3.112056104147382  b= 1.1634368331344318  Cost= 27173945.319127146\n",
      "Iteration No.= 17  m =  3.10746915589544  b= 1.1955600617775635  Cost= 26960724.962461088\n",
      "Iteration No.= 18  m =  3.1028760791615233  b= 1.2273072465532051  Cost= 26752360.392489027\n",
      "Iteration No.= 19  m =  3.098301200095214  b= 1.2586862642953054  Cost= 26548737.029116273\n",
      "Iteration No.= 20  m =  3.093758524909621  b= 1.2897034213813479  Cost= 26349745.616631128\n",
      "Iteration No.= 21  m =  3.0892560150583974  b= 1.320364084547582  Cost= 26155280.317749523\n",
      "Iteration No.= 22  m =  3.0847980925094807  b= 1.350673050775647  Cost= 25965238.022929125\n",
      "Iteration No.= 23  m =  3.0803871078341007  b= 1.3806347642692804  Cost= 25779518.077839993\n",
      "Iteration No.= 24  m =  3.0760242004931513  b= 1.410253443821464  Cost= 25598022.15523898\n",
      "Iteration No.= 25  m =  3.071709802944108  b= 1.4395331576667603  Cost= 25420654.177223496\n",
      "Iteration No.= 26  m =  3.067443936022729  b= 1.468477867556895  Cost= 25247320.255534682\n",
      "Iteration No.= 27  m =  3.063226382009615  b= 1.4970914547983494  Cost= 25077928.638851553\n",
      "Iteration No.= 28  m =  3.05905678601889  b= 1.5253777357171918  Cost= 24912389.663158335\n",
      "Iteration No.= 29  m =  3.0549347153831587  b= 1.553340470925509  Cost= 24750615.703941006\n",
      "Iteration No.= 30  m =  3.0508596944240773  b= 1.5809833709535028  Cost= 24592521.129677106\n",
      "Iteration No.= 31  m =  3.0468312247989537  b= 1.6083100997492847  Cost= 24438022.25647357\n",
      "Iteration No.= 32  m =  3.04284879739503  b= 1.6353242769269167  Cost= 24287037.303746056\n",
      "Iteration No.= 33  m =  3.038911899270973  b= 1.662029479278641  Cost= 24139486.350924503\n",
      "Iteration No.= 34  m =  3.0350200176962585  b= 1.6884292418536824  Cost= 23995291.295160517\n",
      "Iteration No.= 35  m =  3.0311726424902408  b= 1.7145270587808876  Cost= 23854375.809970304\n",
      "Iteration No.= 36  m =  3.0273692673651147  b= 1.7403263839390029  Cost= 23716665.304843493\n",
      "Iteration No.= 37  m =  3.0236093906854853  b= 1.7658306315355827  Cost= 23582086.88575268\n",
      "Iteration No.= 38  m =  3.019892515886358  b= 1.7910431766301935  Cost= 23450569.316569068\n",
      "Iteration No.= 39  m =  3.0162181516912763  b= 1.8159673556228662  Cost= 23322042.981361672\n",
      "Iteration No.= 40  m =  3.012585812213655  b= 1.840606466720121  Cost= 23196439.847541776\n",
      "Iteration No.= 41  m =  3.008995016989958  b= 1.8649637703857764  Cost= 23073693.429853775\n",
      "Iteration No.= 42  m =  3.0054452909732463  b= 1.8890424897808271  Cost= 22953738.755178507\n",
      "Iteration No.= 43  m =  3.001936164503783  b= 1.912845811194884  Cost= 22836512.328149784\n",
      "Iteration No.= 44  m =  2.9984671732665054  b= 1.9363768844707059  Cost= 22721952.09753616\n",
      "Iteration No.= 45  m =  2.995037858241081  b= 1.9596388234227027  Cost= 22609997.42339532\n",
      "Iteration No.= 46  m =  2.9916477656478953  b= 1.9826347062499738  Cost= 22500589.04499057\n",
      "Iteration No.= 47  m =  2.988296446891965  b= 2.0053675759442195  Cost= 22393669.049395192\n",
      "Iteration No.= 48  m =  2.9849834585058765  b= 2.027840440692754  Cost= 22289180.84086649\n",
      "Iteration No.= 49  m =  2.9817083620924625  b= 2.0500562742767734  Cost= 22187069.110866237\n",
      "Iteration No.= 50  m =  2.9784707242675945  b= 2.0720180164649826  Cost= 22087279.808799226\n",
      "Iteration No.= 51  m =  2.9752701166032782  b= 2.0937285734026814  Cost= 21989760.11338827\n",
      "Iteration No.= 52  m =  2.9721061155712567  b= 2.115190817996361  Cost= 21894458.404733807\n",
      "Iteration No.= 53  m =  2.96897830248711  b= 2.136407590293901  Cost= 21801324.236969963\n",
      "Iteration No.= 54  m =  2.965886263454953  b= 2.157381697860392  Cost= 21710308.311568744\n",
      "Iteration No.= 55  m =  2.9628295893127166  b= 2.178115916149672  Cost= 21621362.451254994\n",
      "Iteration No.= 56  m =  2.95980787557804  b= 2.198612988871588  Cost= 21534439.574495535\n",
      "Iteration No.= 57  m =  2.9568207223947627  b= 2.218875628355076  Cost= 21449493.670577258\n",
      "Iteration No.= 58  m =  2.953867734480024  b= 2.2389065159070767  Cost= 21366479.77525284\n",
      "Iteration No.= 59  m =  2.9509485210719624  b= 2.2587083021673457  Cost= 21285353.946942165\n",
      "Iteration No.= 60  m =  2.948062695878011  b= 2.2782836074592097  Cost= 21206073.24347364\n",
      "Iteration No.= 61  m =  2.9452098770237827  b= 2.2976350221363053  Cost= 21128595.699348036\n",
      "Iteration No.= 62  m =  2.942389687002541  b= 2.316765106925357  Cost= 21052880.30353415\n",
      "Iteration No.= 63  m =  2.9396017526252423  b= 2.33567639326503  Cost= 20978886.977750618\n",
      "Iteration No.= 64  m =  2.936845704971157  b= 2.354371383640913  Cost= 20906576.555260282\n",
      "Iteration No.= 65  m =  2.934121179339047  b= 2.372852551916661  Cost= 20835910.76012914\n",
      "Iteration No.= 66  m =  2.9314278151989077  b= 2.3911223436613533  Cost= 20766852.1869721\n",
      "Iteration No.= 67  m =  2.9287652561442656  b= 2.4091831764731264  Cost= 20699364.281154327\n",
      "Iteration No.= 68  m =  2.926133149845007  b= 2.4270374402990695  Cost= 20633411.319438376\n",
      "Iteration No.= 69  m =  2.923531148000758  b= 2.4446874977514925  Cost= 20568958.391070772\n",
      "Iteration No.= 70  m =  2.920958906294798  b= 2.4621356844205593  Cost= 20505971.379312593\n",
      "Iteration No.= 71  m =  2.9184160843484945  b= 2.4793843091833536  Cost= 20444416.943375506\n",
      "Iteration No.= 72  m =  2.9159023456762596  b= 2.4964356545094066  Cost= 20384262.50077372\n",
      "Iteration No.= 73  m =  2.9134173576410296  b= 2.513291976762729  Cost= 20325476.2100734\n",
      "Iteration No.= 74  m =  2.9109607914102393  b= 2.5299555065003925  Cost= 20268026.95404586\n",
      "Iteration No.= 75  m =  2.9085323219123187  b= 2.5464284487676925  Cost= 20211884.32319128\n",
      "Iteration No.= 76  m =  2.9061316277936715  b= 2.56271298338994  Cost= 20157018.59964462\n",
      "Iteration No.= 77  m =  2.9037583913761478  b= 2.578811265260906  Cost= 20103400.741436116\n",
      "Iteration No.= 78  m =  2.9014122986150097  b= 2.5947254246279803  Cost= 20051002.36713491\n",
      "Iteration No.= 79  m =  2.8990930390573775  b= 2.610457567374058  Cost= 19999795.74081783\n",
      "Iteration No.= 80  m =  2.896800305801145  b= 2.6260097752962084  Cost= 19949753.757376403\n",
      "Iteration No.= 81  m =  2.8945337954543686  b= 2.6413841063811523  Cost= 19900849.928194217\n",
      "Iteration No.= 82  m =  2.8922932080951176  b= 2.6565825950775905  Cost= 19853058.367099006\n",
      "Iteration No.= 83  m =  2.890078247231794  b= 2.67160725256542  Cost= 19806353.77668358\n",
      "Iteration No.= 84  m =  2.887888619763887  b= 2.686460067021865  Cost= 19760711.434896614\n",
      "Iteration No.= 85  m =  2.885724035943198  b= 2.701143003884572  Cost= 19716107.181968376\n",
      "Iteration No.= 86  m =  2.8835842093354915  b= 2.7156580061116884  Cost= 19672517.407623913\n",
      "Iteration No.= 87  m =  2.881468856782598  b= 2.730006994438969  Cost= 19629919.03856899\n",
      "Iteration No.= 88  m =  2.879377698364941  b= 2.7441918676339445  Cost= 19588289.526297923\n",
      "Iteration No.= 89  m =  2.8773104573644948  b= 2.758214502747181  Cost= 19547606.83513814\n",
      "Iteration No.= 90  m =  2.875266860228171  b= 2.772076755360663  Cost= 19507849.43060776\n"
     ]
    },
    {
     "name": "stdout",
     "output_type": "stream",
     "text": [
      "Iteration No.= 91  m =  2.873246636531616  b= 2.7857804598333415  Cost= 19468996.267998543\n",
      "Iteration No.= 92  m =  2.8712495189434257  b= 2.799327429543868  Cost= 19431026.781239275\n",
      "Iteration No.= 93  m =  2.869275243189779  b= 2.812719457130555  Cost= 19393920.87202164\n",
      "Iteration No.= 94  m =  2.8673235480194554  b= 2.825958314728593  Cost= 19357658.899145916\n",
      "Iteration No.= 95  m =  2.8653941751692678  b= 2.839045754204551  Cost= 19322221.668138176\n",
      "Iteration No.= 96  m =  2.863486869329894  b= 2.8519835073881956  Cost= 19287590.42107225\n",
      "Iteration No.= 97  m =  2.8616013781120837  b= 2.864773286301669  Cost= 19253746.826666377\n",
      "Iteration No.= 98  m =  2.859737452013265  b= 2.877416783386022  Cost= 19220672.970554218\n",
      "Iteration No.= 99  m =  2.857894844384523  b= 2.8899156717251824  Cost= 19188351.345819782\n",
      "The number of iterations run in total is 99\n",
      "m =  2.857894844384523  b= 2.8899156717251824\n"
     ]
    },
    {
     "data": {
      "image/png": "[encoded data removed]",
      "text/plain": [
       "<Figure size 1000x600 with 1 Axes>"
      ]
     },
     "metadata": {},
     "output_type": "display_data"
    }
   ],
   "source": [
    "# two variables for visualizing the cost\n",
    "xx, costHist = [], [] \n",
    "\n",
    "fig=plt.figure(figsize=(10,6), dpi= 100, facecolor='w', edgecolor='k')\n",
    "ax1 = plt.subplot(1, 1, 1)\n",
    "ax1.set_xlim(left = 0, right=num_iteration)\n",
    "ax1.set_ylim(bottom = 0, top=initCost)\n",
    "\n",
    "# Let's start with main iterative part of gradient descent algorithm \n",
    "\n",
    "# Start of iterations\n",
    "for i in range(num_iteration):\n",
    "    \n",
    "    # Calculate the prediction with current regression coefficients. \n",
    "    #y_prediction = m_current * x + b_current\n",
    "    \n",
    "    # We compute costs just for monitoring \n",
    "    cost = texilinesCorrected.map(lambda x: (float(x[11])-(m_current*float(x[5])+b_current))**2).sum()\n",
    "    #cost= (1/n) * sum (( y_prediction - y)**2)\n",
    "\n",
    "    # calculate gradients. \n",
    "    m_gradient = (-2.0/n) * texilinesCorrected.map(lambda x: float(x[5])*(float(x[11])-(m_current*float(x[5])+b_current))).sum()\n",
    "    b_gradient = (-2.0/n) * texilinesCorrected.map(lambda x: float(x[11])-(m_current*float(x[5])+b_current)).sum()\n",
    "    \n",
    "    # update the weights - Regression Coefficients \n",
    "    m_current = m_current - learningRate * m_gradient\n",
    "    b_current = b_current - learningRate * b_gradient\n",
    "    \n",
    "    # Stop if the cost is not descreasing \n",
    "    if(abs(cost - oldCost) <= precision):\n",
    "        print(\"Stopped at iteration\", i)\n",
    "        break\n",
    "        \n",
    "    if(i >= maxIteration):\n",
    "        print(\"Reach maximum iteration allowed, stopped at iteration\", maxIteration)\n",
    "        break\n",
    "    \n",
    "    oldCost = cost\n",
    "    \n",
    "    # Visualization     \n",
    "    # Update the Cost Diagram. \n",
    "    xx.append(i)\n",
    "    costHist.append(cost)    \n",
    "    ax1.plot(xx, costHist, color='blue')\n",
    "\n",
    "    fig.canvas.draw()\n",
    "    \n",
    "    print(\"Iteration No.=\", i ,\" m = \", m_current, \" b=\", b_current, \" Cost=\", cost) \n",
    "\n",
    "print(\"The number of iterations run in total is %d\" % i)    \n",
    "print(\"m = \", m_current, \" b=\", b_current)"
   ]
  },
  {
   "cell_type": "markdown",
   "metadata": {},
   "source": [
    "## Task 3"
   ]
  },
  {
   "cell_type": "markdown",
   "metadata": {},
   "source": [
    "Using example from https://github.com/kiat/BigDataAnalytics/blob/master/Notebooks/Spark-Example-18-Linear-Regression-with-Vectorized-GD-2d.ipynb"
   ]
  },
  {
   "cell_type": "code",
   "execution_count": null,
   "metadata": {},
   "outputs": [],
   "source": [
    "texilinesCorrected = sc.textFile(\"/Users/pudding/Downloads/taxi_clean_data\")\n",
    "texilinesCorrected = texilinesCorrected.map(lambda x: ast.literal_eval(x))"
   ]
  },
  {
   "cell_type": "code",
   "execution_count": 46,
   "metadata": {},
   "outputs": [],
   "source": [
    "column_names = ['medallion', 'hack_license', 'pickup_datetime', 'dropoff_datetime', \n",
    "               'trip_time_in_secs', 'trip_distance', 'pickup_longitude', \n",
    "               'pickup_latitude', 'dropoff_logitude', 'dropoff_latitude', \n",
    "               'payment_type', 'fare_amount', 'surcharge', 'mta_tax', \n",
    "               'tip_amount', 'tolls_amount', 'total_amount']"
   ]
  },
  {
   "cell_type": "code",
   "execution_count": 48,
   "metadata": {},
   "outputs": [],
   "source": [
    "# create the dataframe from RDD\n",
    "taxiDF = sqlContext.createDataFrame(texilinesCorrected, column_names)"
   ]
  },
  {
   "cell_type": "code",
   "execution_count": 49,
   "metadata": {},
   "outputs": [],
   "source": [
    "# create a column by adding the fare amount and tips\n",
    "taxiDF = taxiDF.withColumn('amount_with_tip', func.expr(\"fare_amount+tip_amount\"))"
   ]
  },
  {
   "cell_type": "code",
   "execution_count": 50,
   "metadata": {},
   "outputs": [],
   "source": [
    "# using regular expression, extract the pickup hour\n",
    "taxiDF = taxiDF.withColumn('pickup_hour', func.regexp_extract(col('pickup_datetime'), '(.)([0-9]{2}):(.)', 2))"
   ]
  },
  {
   "cell_type": "code",
   "execution_count": 51,
   "metadata": {},
   "outputs": [],
   "source": [
    "# check whether the pickup hour is between 1am and 6am, count as a night ride\n",
    "taxiDF = taxiDF.withColumn(\"isNightRides\", (col('pickup_hour') >= 1) & (col('pickup_hour') <= 6))"
   ]
  },
  {
   "cell_type": "code",
   "execution_count": 52,
   "metadata": {},
   "outputs": [],
   "source": [
    "# calculate all the variables by Driver ID\n",
    "taxi_reg_data = taxiDF.groupBy('hack_license').agg(func.sum('trip_time_in_secs').alias('total_working_time'),\\\n",
    "                                  func.sum('trip_distance').alias('total_travel_distance'),\\\n",
    "                                  func.sum('tolls_amount').alias('total_amount_of_toll'),\\\n",
    "                                  func.count(lit(1)).alias('total_number_of_rides'),\\\n",
    "                                  func.sum(col('isNightRides').cast('long')).alias('total_night_rides'),\\\n",
    "                                  func.sum('amount_with_tip').alias('total_earning'))"
   ]
  },
  {
   "cell_type": "code",
   "execution_count": 53,
   "metadata": {},
   "outputs": [
    {
     "name": "stdout",
     "output_type": "stream",
     "text": [
      "+--------------------+------------------+---------------------+--------------------+---------------------+-----------------+------------------+\n",
      "|        hack_license|total_working_time|total_travel_distance|total_amount_of_toll|total_number_of_rides|total_night_rides|     total_earning|\n",
      "+--------------------+------------------+---------------------+--------------------+---------------------+-----------------+------------------+\n",
      "|3183016714F5E253E...|           79020.0|               386.93|   71.99999999999999|                   94|                0|           1555.14|\n",
      "|31195E1D3AA1EC26D...|          102840.0|               396.31|   38.39999999999999|                  142|                0|1902.1700000000003|\n",
      "|69996930170E51265...|          147900.0|    583.5900000000001|                 9.6|                  269|               43|2796.0099999999998|\n",
      "|FDEA95843CF14F503...|          154800.0|               603.56|  63.050000000000004|                  223|                1|2831.5999999999995|\n",
      "|477E608A18D83F7DE...|          107160.0|               371.48|                24.0|                  150|               16|1784.1500000000003|\n",
      "|4CEC9B9F46ABAB3AD...|           97980.0|   327.02000000000004|                16.6|                  168|                0|           1724.29|\n",
      "|CF1BF49F7229C883D...|          111000.0|   368.74000000000007|                 0.0|                  155|                3|1857.8099999999997|\n",
      "|83279FE1F7D548407...|          149280.0|               559.39|                33.6|                  227|               22|2635.1099999999997|\n",
      "|7DA853581E8C09723...|          116640.0|    551.5500000000001|  33.599999999999994|                  191|               33|           2433.74|\n",
      "|1FD12923F545A7F28...|           98640.0|   349.30999999999995|                38.4|                  153|               21|           1709.76|\n",
      "|E7E6F9F97F18C35E0...|          114000.0|   381.07000000000005|  14.399999999999999|                  189|                0|           1965.85|\n",
      "|03A2D28F831C5C3E5...|          115980.0|   455.85999999999996|               29.45|                  186|                1|           2176.21|\n",
      "|88B5A703C9407B0B3...|          117180.0|   439.73999999999995|                38.4|                  160|                8|           2063.62|\n",
      "|FDD2748CAB6CA1D7E...|          119580.0|   484.31000000000006|   57.59999999999999|                  165|                5|2200.6600000000003|\n",
      "|669FA40A7222D4DC2...|          128520.0|    489.5800000000001|                24.0|                  225|               18|            2378.5|\n",
      "|213681DDDA5D57D1B...|          134700.0|    529.4499999999999|                52.8|                  198|                5|2494.8499999999995|\n",
      "|E28E161B7FA30EE03...|           98640.0|   354.90999999999997|               19.85|                  169|                0|           1804.26|\n",
      "|588A002C06DD0B24F...|           88920.0|   285.70000000000005|                 4.8|                  138|                0|           1521.01|\n",
      "|549755BB2C577826A...|          110040.0|   487.71000000000004|   69.39999999999999|                  148|                3|2096.4500000000003|\n",
      "|9ED622FC032925E45...|          103980.0|    427.2800000000001|   48.64999999999999|                  172|                3|           1997.03|\n",
      "+--------------------+------------------+---------------------+--------------------+---------------------+-----------------+------------------+\n",
      "only showing top 20 rows\n",
      "\n"
     ]
    }
   ],
   "source": [
    "taxi_reg_data.show()"
   ]
  },
  {
   "cell_type": "code",
   "execution_count": 57,
   "metadata": {
    "scrolled": true
   },
   "outputs": [
    {
     "data": {
      "text/plain": [
       "['hack_license',\n",
       " 'total_working_time',\n",
       " 'total_travel_distance',\n",
       " 'total_amount_of_toll',\n",
       " 'total_number_of_rides',\n",
       " 'total_night_rides',\n",
       " 'total_earning']"
      ]
     },
     "execution_count": 57,
     "metadata": {},
     "output_type": "execute_result"
    }
   ],
   "source": [
    "taxi_reg_data.columns"
   ]
  },
  {
   "cell_type": "code",
   "execution_count": 125,
   "metadata": {},
   "outputs": [],
   "source": [
    "df = taxi_reg_data.withColumn('x', array(lit(1), 'total_working_time', 'total_travel_distance', 'total_amount_of_toll', 'total_number_of_rides', 'total_night_rides'))"
   ]
  },
  {
   "cell_type": "code",
   "execution_count": 126,
   "metadata": {},
   "outputs": [],
   "source": [
    "df = df.withColumn('y', col('total_earning'))"
   ]
  },
  {
   "cell_type": "code",
   "execution_count": 127,
   "metadata": {},
   "outputs": [
    {
     "data": {
      "text/plain": [
       "['hack_license',\n",
       " 'total_working_time',\n",
       " 'total_travel_distance',\n",
       " 'total_amount_of_toll',\n",
       " 'total_number_of_rides',\n",
       " 'total_night_rides',\n",
       " 'total_earning',\n",
       " 'x',\n",
       " 'y']"
      ]
     },
     "execution_count": 127,
     "metadata": {},
     "output_type": "execute_result"
    }
   ],
   "source": [
    "df.columns"
   ]
  },
  {
   "cell_type": "code",
   "execution_count": 128,
   "metadata": {},
   "outputs": [],
   "source": [
    "df_reg = df.select(col('y'), col('x'))"
   ]
  },
  {
   "cell_type": "code",
   "execution_count": 129,
   "metadata": {},
   "outputs": [
    {
     "data": {
      "text/plain": [
       "['y', 'x']"
      ]
     },
     "execution_count": 129,
     "metadata": {},
     "output_type": "execute_result"
    }
   ],
   "source": [
    "df_reg.columns"
   ]
  },
  {
   "cell_type": "code",
   "execution_count": 130,
   "metadata": {
    "scrolled": false
   },
   "outputs": [
    {
     "name": "stdout",
     "output_type": "stream",
     "text": [
      "+------------------+--------------------+\n",
      "|                 y|                   x|\n",
      "+------------------+--------------------+\n",
      "|           1555.14|[1.0, 79020.0, 38...|\n",
      "|1902.1700000000003|[1.0, 102840.0, 3...|\n",
      "|2796.0099999999998|[1.0, 147900.0, 5...|\n",
      "|2831.5999999999995|[1.0, 154800.0, 6...|\n",
      "|1784.1500000000003|[1.0, 107160.0, 3...|\n",
      "|           1724.29|[1.0, 97980.0, 32...|\n",
      "|1857.8099999999997|[1.0, 111000.0, 3...|\n",
      "|2635.1099999999997|[1.0, 149280.0, 5...|\n",
      "|           2433.74|[1.0, 116640.0, 5...|\n",
      "|           1709.76|[1.0, 98640.0, 34...|\n",
      "|           1965.85|[1.0, 114000.0, 3...|\n",
      "|           2176.21|[1.0, 115980.0, 4...|\n",
      "|           2063.62|[1.0, 117180.0, 4...|\n",
      "|2200.6600000000003|[1.0, 119580.0, 4...|\n",
      "|            2378.5|[1.0, 128520.0, 4...|\n",
      "|2494.8499999999995|[1.0, 134700.0, 5...|\n",
      "|           1804.26|[1.0, 98640.0, 35...|\n",
      "|           1521.01|[1.0, 88920.0, 28...|\n",
      "|2096.4500000000003|[1.0, 110040.0, 4...|\n",
      "|           1997.03|[1.0, 103980.0, 4...|\n",
      "+------------------+--------------------+\n",
      "only showing top 20 rows\n",
      "\n"
     ]
    }
   ],
   "source": [
    "df_reg.show()"
   ]
  },
  {
   "cell_type": "code",
   "execution_count": 142,
   "metadata": {},
   "outputs": [],
   "source": [
    "# Now we do gradient Decent on our RDD data set. \n",
    "\n",
    "learningRate = 0.00000000001\n",
    "num_iteration = 100\n",
    "maxIteration = 400\n",
    "\n",
    "precision = 0.01\n",
    "\n",
    "previous_step_size = 1 \n",
    "\n",
    "beta = np.zeros(6)\n",
    "oldCost = 0"
   ]
  },
  {
   "cell_type": "code",
   "execution_count": 143,
   "metadata": {},
   "outputs": [],
   "source": [
    "# # Now, we create an RDD from this data. \n",
    "# # X is a numpy array \n",
    "# # y is a simple value lable\n",
    "myRDD = df_reg.rdd.map(lambda x: (float(x[0]), np.array(x[1])))"
   ]
  },
  {
   "cell_type": "code",
   "execution_count": 144,
   "metadata": {},
   "outputs": [
    {
     "data": {
      "text/plain": [
       "[(1555.14,\n",
       "  array([1.0000e+00, 7.9020e+04, 3.8693e+02, 7.2000e+01, 9.4000e+01,\n",
       "         0.0000e+00])),\n",
       " (1902.1700000000003,\n",
       "  array([1.0000e+00, 1.0284e+05, 3.9631e+02, 3.8400e+01, 1.4200e+02,\n",
       "         0.0000e+00])),\n",
       " (2796.0099999999998,\n",
       "  array([1.0000e+00, 1.4790e+05, 5.8359e+02, 9.6000e+00, 2.6900e+02,\n",
       "         4.3000e+01])),\n",
       " (2831.5999999999995,\n",
       "  array([1.0000e+00, 1.5480e+05, 6.0356e+02, 6.3050e+01, 2.2300e+02,\n",
       "         1.0000e+00])),\n",
       " (1784.1500000000003,\n",
       "  array([1.0000e+00, 1.0716e+05, 3.7148e+02, 2.4000e+01, 1.5000e+02,\n",
       "         1.6000e+01]))]"
      ]
     },
     "execution_count": 144,
     "metadata": {},
     "output_type": "execute_result"
    }
   ],
   "source": [
    "myRDD.take(5)"
   ]
  },
  {
   "cell_type": "code",
   "execution_count": 145,
   "metadata": {},
   "outputs": [],
   "source": [
    "size = myRDD.count()"
   ]
  },
  {
   "cell_type": "code",
   "execution_count": 146,
   "metadata": {
    "scrolled": false
   },
   "outputs": [
    {
     "name": "stdout",
     "output_type": "stream",
     "text": [
      "0 Beta [0. 0. 0. 0. 0. 0.]  Cost 52748652071.77891\n",
      "1 Beta [1.27602548e-08 1.35145306e-03 5.80307940e-06 4.51125332e-07\n",
      " 2.00041903e-06 2.04503292e-07]  Cost 45595071076.84623\n",
      "2 Beta [2.46223244e-08 2.60720205e-03 1.12004301e-05 8.71518411e-07\n",
      " 3.85882191e-06 3.94878469e-07]  Cost 39418786952.08431\n",
      "3 Beta [3.56498143e-08 3.77402434e-03 1.62207840e-05 1.26335556e-06\n",
      " 5.58526560e-06 5.72126024e-07]  Cost 34086284863.97765\n",
      "4 Beta [4.59018259e-08 4.85821732e-03 2.08908384e-05 1.62865899e-06\n",
      " 7.18909487e-06 7.37175596e-07]  Cost 29482290302.205032\n",
      "5 Beta [5.54332752e-08 5.86563244e-03 2.52354000e-05 1.96930770e-06\n",
      " 8.67899275e-06 8.90890996e-07]  Cost 25507277151.353546\n",
      "6 Beta [6.42951893e-08 6.80170678e-03 2.92775187e-05 2.28704763e-06\n",
      " 1.00630274e-05 1.03407486e-06]  Cost 22075316201.040295\n",
      "7 Beta [7.25349816e-08 7.67149238e-03 3.30386124e-05 2.58350108e-06\n",
      " 1.13486955e-05 1.16747298e-06]  Cost 19112217584.953274\n",
      "8 Beta [8.01967083e-08 8.47968351e-03 3.65385818e-05 2.86017546e-06\n",
      " 1.25429630e-05 1.29177835e-06]  Cost 16553926993.284914\n",
      "9 Beta [8.73213054e-08 9.23064204e-03 3.97959188e-05 3.11847145e-06\n",
      " 1.36523025e-05 1.40763487e-06]  Cost 14345140988.936771\n",
      "10 Beta [9.39468100e-08 9.92842093e-03 4.28278055e-05 3.35969053e-06\n",
      " 1.46827282e-05 1.51564086e-06]  Cost 12438111494.315163\n",
      "11 Beta [1.00108566e-07 1.05767861e-02 4.56502073e-05 3.58504200e-06\n",
      " 1.56398285e-05 1.61635225e-06]  Cost 10791613604.90227\n",
      "12 Beta [1.05839413e-07 1.11792369e-02 4.82779590e-05 3.79564954e-06\n",
      " 1.65287960e-05 1.71028562e-06]  Cost 9370054416.477623\n",
      "13 Beta [1.11169868e-07 1.17390247e-02 5.07248448e-05 3.99255725e-06\n",
      " 1.73544554e-05 1.79792096e-06]  Cost 8142703601.205014\n",
      "14 Beta [1.16128283e-07 1.22591707e-02 5.30036731e-05 4.17673529e-06\n",
      " 1.81212901e-05 1.87970426e-06]  Cost 7083029099.68658\n",
      "15 Beta [1.20741006e-07 1.27424823e-02 5.51263447e-05 4.34908513e-06\n",
      " 1.88334657e-05 1.95604995e-06]  Cost 6168123568.413212\n",
      "16 Beta [1.25032516e-07 1.31915677e-02 5.71039181e-05 4.51044438e-06\n",
      " 1.94948529e-05 2.02734308e-06]  Cost 5378209183.930822\n",
      "17 Beta [1.29025561e-07 1.36088509e-02 5.89466685e-05 4.66159135e-06\n",
      " 2.01090484e-05 2.09394147e-06]  Cost 4696210098.905739\n",
      "18 Beta [1.32741276e-07 1.39965839e-02 6.06641435e-05 4.80324924e-06\n",
      " 2.06793941e-05 2.15617757e-06]  Cost 4107383307.7266736\n",
      "19 Beta [1.36199301e-07 1.43568593e-02 6.22652145e-05 4.93609001e-06\n",
      " 2.12089952e-05 2.21436029e-06]  Cost 3598999941.939424\n",
      "20 Beta [1.39417884e-07 1.46916215e-02 6.37581247e-05 5.06073805e-06\n",
      " 2.17007370e-05 2.26877669e-06]  Cost 3160070105.9693513\n",
      "21 Beta [1.42413982e-07 1.50026773e-02 6.51505337e-05 5.17777355e-06\n",
      " 2.21573007e-05 2.31969348e-06]  Cost 2781105304.81187\n",
      "22 Beta [1.45203350e-07 1.52917055e-02 6.64495585e-05 5.28773558e-06\n",
      " 2.25811774e-05 2.36735848e-06]  Cost 2453913328.009627\n",
      "23 Beta [1.47800627e-07 1.55602659e-02 6.76618121e-05 5.39112505e-06\n",
      " 2.29746817e-05 2.41200197e-06]  Cost 2171421155.853467\n",
      "24 Beta [1.50219417e-07 1.58098080e-02 6.87934394e-05 5.48840742e-06\n",
      " 2.33399647e-05 2.45383793e-06]  Cost 1927522059.510365\n",
      "25 Beta [1.52472360e-07 1.60416786e-02 6.98501498e-05 5.58001515e-06\n",
      " 2.36790247e-05 2.49306516e-06]  Cost 1716943589.7897954\n",
      "26 Beta [1.54571199e-07 1.62571291e-02 7.08372488e-05 5.66635011e-06\n",
      " 2.39937188e-05 2.52986841e-06]  Cost 1535133600.8168244\n",
      "27 Beta [1.56526848e-07 1.64573223e-02 7.17596659e-05 5.74778568e-06\n",
      " 2.42857724e-05 2.56441934e-06]  Cost 1378161844.7468603\n",
      "28 Beta [1.58349448e-07 1.66433387e-02 7.26219815e-05 5.82466881e-06\n",
      " 2.45567889e-05 2.59687744e-06]  Cost 1242635010.2616336\n",
      "29 Beta [1.60048419e-07 1.68161822e-02 7.34284518e-05 5.89732190e-06\n",
      " 2.48082581e-05 2.62739091e-06]  Cost 1125623368.2045984\n",
      "30 Beta [1.61632517e-07 1.69767857e-02 7.41830316e-05 5.96604450e-06\n",
      " 2.50415641e-05 2.65609748e-06]  Cost 1024597438.629579\n",
      "31 Beta [1.63109877e-07 1.71260158e-02 7.48893954e-05 6.03111494e-06\n",
      " 2.52579932e-05 2.68312509e-06]  Cost 937373310.1726834\n",
      "32 Beta [1.64488057e-07 1.72646782e-02 7.55509578e-05 6.09279185e-06\n",
      " 2.54587405e-05 2.70859264e-06]  Cost 862065429.6977614\n",
      "33 Beta [1.65774082e-07 1.73935210e-02 7.61708913e-05 6.15131556e-06\n",
      " 2.56449167e-05 2.73261062e-06]  Cost 797045841.6531253\n",
      "34 Beta [1.66974476e-07 1.75132397e-02 7.67521440e-05 6.20690935e-06\n",
      " 2.58175535e-05 2.75528166e-06]  Cost 740908996.0028366\n",
      "35 Beta [1.68095304e-07 1.76244805e-02 7.72974550e-05 6.25978071e-06\n",
      " 2.59776097e-05 2.77670116e-06]  Cost 692441363.9736676\n",
      "36 Beta [1.69142200e-07 1.77278436e-02 7.78093696e-05 6.31012243e-06\n",
      " 2.61259763e-05 2.79695774e-06]  Cost 650595204.7909625\n",
      "37 Beta [1.70120400e-07 1.78238870e-02 7.82902528e-05 6.35811366e-06\n",
      " 2.62634810e-05 2.81613376e-06]  Cost 614465916.3100653\n",
      "38 Beta [1.71034769e-07 1.79131290e-02 7.87423021e-05 6.40392083e-06\n",
      " 2.63908931e-05 2.83430574e-06]  Cost 583272479.9241655\n",
      "39 Beta [1.71889827e-07 1.79960512e-02 7.91675593e-05 6.44769862e-06\n",
      " 2.65089272e-05 2.85154477e-06]  Cost 556340577.0195085\n",
      "40 Beta [1.72689774e-07 1.80731013e-02 7.95679219e-05 6.48959073e-06\n",
      " 2.66182475e-05 2.86791694e-06]  Cost 533088012.0006357\n",
      "41 Beta [1.73438513e-07 1.81446949e-02 7.99451526e-05 6.52973071e-06\n",
      " 2.67194710e-05 2.88348361e-06]  Cost 513012126.7702371\n",
      "42 Beta [1.74139670e-07 1.82112186e-02 8.03008896e-05 6.56824264e-06\n",
      " 2.68131712e-05 2.89830185e-06]  Cost 495678934.5981439\n",
      "43 Beta [1.74796615e-07 1.82730313e-02 8.06366550e-05 6.60524179e-06\n",
      " 2.68998807e-05 2.91242464e-06]  Cost 480713738.4826144\n",
      "44 Beta [1.75412478e-07 1.83304668e-02 8.09538632e-05 6.64083531e-06\n",
      " 2.69800947e-05 2.92590123e-06]  Cost 467793031.19784486\n",
      "45 Beta [1.75990169e-07 1.83838348e-02 8.12538281e-05 6.67512273e-06\n",
      " 2.70542731e-05 2.93877739e-06]  Cost 456637501.9282623\n",
      "46 Beta [1.76532391e-07 1.84334236e-02 8.15377710e-05 6.70819654e-06\n",
      " 2.71228433e-05 2.95109564e-06]  Cost 447005998.3116571\n",
      "47 Beta [1.77041656e-07 1.84795006e-02 8.18068264e-05 6.74014269e-06\n",
      " 2.71862026e-05 2.96289548e-06]  Cost 438690313.36656666\n",
      "48 Beta [1.77520298e-07 1.85223147e-02 8.20620486e-05 6.77104104e-06\n",
      " 2.72447198e-05 2.97421363e-06]  Cost 431510684.61116475\n",
      "49 Beta [1.77970485e-07 1.85620968e-02 8.23044173e-05 6.80096577e-06\n",
      " 2.72987379e-05 2.98508420e-06]  Cost 425311908.0765654\n",
      "50 Beta [1.78394232e-07 1.85990617e-02 8.25348426e-05 6.82998585e-06\n",
      " 2.73485755e-05 2.99553888e-06]  Cost 419959983.20985496\n",
      "51 Beta [1.78793412e-07 1.86334089e-02 8.27541703e-05 6.85816533e-06\n",
      " 2.73945287e-05 3.00560712e-06]  Cost 415339216.1385768\n",
      "52 Beta [1.79169764e-07 1.86653238e-02 8.29631863e-05 6.88556375e-06\n",
      " 2.74368725e-05 3.01531630e-06]  Cost 411349718.67695045\n",
      "53 Beta [1.79524905e-07 1.86949786e-02 8.31626208e-05 6.91223641e-06\n",
      " 2.74758625e-05 3.02469183e-06]  Cost 407905249.00899446\n",
      "54 Beta [1.79860337e-07 1.87225333e-02 8.33531524e-05 6.93823470e-06\n",
      " 2.75117363e-05 3.03375735e-06]  Cost 404931347.3698681\n",
      "55 Beta [1.80177456e-07 1.87481367e-02 8.35354115e-05 6.96360639e-06\n",
      " 2.75447144e-05 3.04253480e-06]  Cost 402363726.42381513\n",
      "56 Beta [1.80477559e-07 1.87719269e-02 8.37099840e-05 6.98839585e-06\n",
      " 2.75750020e-05 3.05104460e-06]  Cost 400146881.5429665\n",
      "57 Beta [1.80761850e-07 1.87940324e-02 8.38774141e-05 7.01264430e-06\n",
      " 2.76027896e-05 3.05930569e-06]  Cost 398232890.9449283\n",
      "58 Beta [1.81031449e-07 1.88145725e-02 8.40382077e-05 7.03639007e-06\n",
      " 2.76282543e-05 3.06733568e-06]  Cost 396580379.7513163\n",
      "59 Beta [1.81287397e-07 1.88336580e-02 8.41928347e-05 7.05966874e-06\n",
      " 2.76515605e-05 3.07515095e-06]  Cost 395153625.57294095\n",
      "60 Beta [1.81530661e-07 1.88513919e-02 8.43417319e-05 7.08251340e-06\n",
      " 2.76728610e-05 3.08276669e-06]  Cost 393921786.2867765\n",
      "61 Beta [1.81762138e-07 1.88678699e-02 8.44853049e-05 7.10495478e-06\n",
      " 2.76922980e-05 3.09019704e-06]  Cost 392858233.31129503\n",
      "62 Beta [1.81982664e-07 1.88831811e-02 8.46239309e-05 7.12702144e-06\n",
      " 2.77100034e-05 3.09745512e-06]  Cost 391939975.96737075\n",
      "63 Beta [1.82193014e-07 1.88974079e-02 8.47579601e-05 7.14873991e-06\n",
      " 2.77260997e-05 3.10455314e-06]  Cost 391147164.4809484\n",
      "64 Beta [1.82393908e-07 1.89106272e-02 8.48877181e-05 7.17013486e-06\n",
      " 2.77407011e-05 3.11150242e-06]  Cost 390462660.8837291\n",
      "65 Beta [1.82586016e-07 1.89229104e-02 8.50135073e-05 7.19122918e-06\n",
      " 2.77539132e-05 3.11831351e-06]  Cost 389871668.5358837\n",
      "66 Beta [1.82769961e-07 1.89343237e-02 8.51356088e-05 7.21204418e-06\n",
      " 2.77658346e-05 3.12499618e-06]  Cost 389361412.26205486\n"
     ]
    },
    {
     "name": "stdout",
     "output_type": "stream",
     "text": [
      "67 Beta [1.82946320e-07 1.89449288e-02 8.52542837e-05 7.23259963e-06\n",
      " 2.77765566e-05 3.13155954e-06]  Cost 388920862.1860512\n",
      "68 Beta [1.83115631e-07 1.89547828e-02 8.53697748e-05 7.25291391e-06\n",
      " 2.77861641e-05 3.13801202e-06]  Cost 388540495.2942606\n",
      "69 Beta [1.83278392e-07 1.89639390e-02 8.54823074e-05 7.27300411e-06\n",
      " 2.77947361e-05 3.14436149e-06]  Cost 388212089.5734286\n",
      "70 Beta [1.83435068e-07 1.89724467e-02 8.55920910e-05 7.29288608e-06\n",
      " 2.78023459e-05 3.15061524e-06]  Cost 387928546.2726012\n",
      "71 Beta [1.83586089e-07 1.89803520e-02 8.56993204e-05 7.31257457e-06\n",
      " 2.78090616e-05 3.15678005e-06]  Cost 387683736.44701207\n",
      "72 Beta [1.83731857e-07 1.89876974e-02 8.58041764e-05 7.33208330e-06\n",
      " 2.78149466e-05 3.16286221e-06]  Cost 387472368.46659905\n",
      "73 Beta [1.83872742e-07 1.89945226e-02 8.59068271e-05 7.35142497e-06\n",
      " 2.78200596e-05 3.16886757e-06]  Cost 387289873.62503827\n",
      "74 Beta [1.84009091e-07 1.90008645e-02 8.60074287e-05 7.37061144e-06\n",
      " 2.78244554e-05 3.17480158e-06]  Cost 387132307.3764663\n",
      "75 Beta [1.84141225e-07 1.90067572e-02 8.61061262e-05 7.38965368e-06\n",
      " 2.78281848e-05 3.18066930e-06]  Cost 386996264.06489164\n",
      "76 Beta [1.84269442e-07 1.90122327e-02 8.62030545e-05 7.40856191e-06\n",
      " 2.78312948e-05 3.18647540e-06]  Cost 386878803.3029674\n",
      "77 Beta [1.84394020e-07 1.90173203e-02 8.62983389e-05 7.42734562e-06\n",
      " 2.78338295e-05 3.19222426e-06]  Cost 386777386.4086444\n",
      "78 Beta [1.84515217e-07 1.90220477e-02 8.63920959e-05 7.44601363e-06\n",
      " 2.78358295e-05 3.19791993e-06]  Cost 386689821.52561146\n",
      "79 Beta [1.84633271e-07 1.90264402e-02 8.64844335e-05 7.46457413e-06\n",
      " 2.78373327e-05 3.20356618e-06]  Cost 386614216.24119806\n",
      "80 Beta [1.84748406e-07 1.90305217e-02 8.65754522e-05 7.48303474e-06\n",
      " 2.78383743e-05 3.20916651e-06]  Cost 386548936.67744184\n",
      "81 Beta [1.84860829e-07 1.90343141e-02 8.66652456e-05 7.50140252e-06\n",
      " 2.78389869e-05 3.21472416e-06]  Cost 386492572.1709956\n",
      "82 Beta [1.84970730e-07 1.90378379e-02 8.67539003e-05 7.51968406e-06\n",
      " 2.78392010e-05 3.22024216e-06]  Cost 386443904.77833784\n",
      "83 Beta [1.85078290e-07 1.90411122e-02 8.68414970e-05 7.53788546e-06\n",
      " 2.78390448e-05 3.22572333e-06]  Cost 386401882.94707155\n",
      "84 Beta [1.85183673e-07 1.90441546e-02 8.69281106e-05 7.55601239e-06\n",
      " 2.78385445e-05 3.23117026e-06]  Cost 386365598.7841608\n",
      "85 Beta [1.85287034e-07 1.90469815e-02 8.70138108e-05 7.57407013e-06\n",
      " 2.78377244e-05 3.23658538e-06]  Cost 386334268.4296979\n",
      "86 Beta [1.85388516e-07 1.90496082e-02 8.70986622e-05 7.59206358e-06\n",
      " 2.78366072e-05 3.24197094e-06]  Cost 386307215.1119357\n",
      "87 Beta [1.85488252e-07 1.90520488e-02 8.71827248e-05 7.60999728e-06\n",
      " 2.78352140e-05 3.24732905e-06]  Cost 386283854.5172845\n",
      "88 Beta [1.85586365e-07 1.90543166e-02 8.72660547e-05 7.62787548e-06\n",
      " 2.78335642e-05 3.25266163e-06]  Cost 386263682.15900517\n",
      "89 Beta [1.85682972e-07 1.90564238e-02 8.73487036e-05 7.64570211e-06\n",
      " 2.78316762e-05 3.25797050e-06]  Cost 386246262.47154796\n",
      "90 Beta [1.85778177e-07 1.90583818e-02 8.74307199e-05 7.66348080e-06\n",
      " 2.78295666e-05 3.26325735e-06]  Cost 386231219.39478505\n",
      "91 Beta [1.85872082e-07 1.90602010e-02 8.75121482e-05 7.68121497e-06\n",
      " 2.78272513e-05 3.26852372e-06]  Cost 386218228.2445904\n",
      "92 Beta [1.85964776e-07 1.90618915e-02 8.75930303e-05 7.69890775e-06\n",
      " 2.78247448e-05 3.27377106e-06]  Cost 386207008.69403034\n",
      "93 Beta [1.86056348e-07 1.90634621e-02 8.76734047e-05 7.71656209e-06\n",
      " 2.78220606e-05 3.27900074e-06]  Cost 386197318.71344423\n",
      "94 Beta [1.86146875e-07 1.90649216e-02 8.77533076e-05 7.73418070e-06\n",
      " 2.78192113e-05 3.28421399e-06]  Cost 386188949.33840656\n",
      "95 Beta [1.86236432e-07 1.90662776e-02 8.78327721e-05 7.75176612e-06\n",
      " 2.78162086e-05 3.28941198e-06]  Cost 386181720.1524684\n",
      "96 Beta [1.86325087e-07 1.90675376e-02 8.79118295e-05 7.76932069e-06\n",
      " 2.78130634e-05 3.29459579e-06]  Cost 386175475.38703847\n",
      "97 Beta [1.86412905e-07 1.90687084e-02 8.79905085e-05 7.78684661e-06\n",
      " 2.78097857e-05 3.29976642e-06]  Cost 386170080.5540768\n",
      "98 Beta [1.86499945e-07 1.90697962e-02 8.80688359e-05 7.80434589e-06\n",
      " 2.78063850e-05 3.30492481e-06]  Cost 386165419.53882354\n",
      "99 Beta [1.86586261e-07 1.90708070e-02 8.81468367e-05 7.82182043e-06\n",
      " 2.78028700e-05 3.31007183e-06]  Cost 386161392.0897055\n"
     ]
    },
    {
     "data": {
      "image/png": "[encoded data removed]",
      "text/plain": [
       "<Figure size 1000x600 with 1 Axes>"
      ]
     },
     "metadata": {},
     "output_type": "display_data"
    }
   ],
   "source": [
    "initCost = myRDD.map(lambda x: (x[1], (x[0] - np.dot(x[1] , beta) )))\\\n",
    "                           .map(lambda x: (x[0]*x[1], x[1]**2 )).reduce(lambda x, y: (x[0] +y[0], x[1]+y[1] ))\n",
    "\n",
    "# two variables for visualizing the cost\n",
    "xx, costHist = [], [] \n",
    "\n",
    "fig = plt.figure(figsize=(10,6), dpi= 100, facecolor='w', edgecolor='k')\n",
    "ax2 = plt.subplot(1, 1, 1)\n",
    "ax2.set_xlim(left = 0, right=num_iteration)\n",
    "ax2.set_ylim(bottom = 0, top=initCost[1])\n",
    "\n",
    "# Let's start with main iterative part of gradient descent algorithm \n",
    "for i in range(num_iteration):\n",
    "\n",
    "    gradientCost = myRDD.map(lambda x: (x[1], (x[0] - np.dot(x[1] , beta) )))\\\n",
    "                           .map(lambda x: (x[0]*x[1], x[1]**2 )).reduce(lambda x, y: (x[0] +y[0], x[1]+y[1] ))\n",
    "    \n",
    "    cost = gradientCost[1]\n",
    "    \n",
    "    gradient = (-1/float(size)) * gradientCost[0]\n",
    "    \n",
    "    # Stop if the cost is not descreasing \n",
    "    if(abs(cost - oldCost) <= precision):\n",
    "        print(\"Stopped at iteration\", i)\n",
    "        break\n",
    "        \n",
    "    if(i >= maxIteration):\n",
    "        print(\"Reach maximum iteration allowed, stopped at iteration\", maxIteration)\n",
    "        break\n",
    "\n",
    "    oldCost = cost\n",
    "    \n",
    "    # Visualization     \n",
    "    # Update the Cost Diagram. \n",
    "    xx.append(i)\n",
    "    costHist.append(cost)    \n",
    "    ax2.plot(xx, costHist, color='blue')\n",
    "\n",
    "    fig.canvas.draw()\n",
    "    \n",
    "    print(i, \"Beta\", beta, \" Cost\", cost)\n",
    "    beta = beta - learningRate * gradient"
   ]
  },
  {
   "cell_type": "code",
   "execution_count": 147,
   "metadata": {},
   "outputs": [
    {
     "data": {
      "text/plain": [
       "[52748652071.77891,\n",
       " 45595071076.84623,\n",
       " 39418786952.08431,\n",
       " 34086284863.97765,\n",
       " 29482290302.205032,\n",
       " 25507277151.353546,\n",
       " 22075316201.040295,\n",
       " 19112217584.953274,\n",
       " 16553926993.284914,\n",
       " 14345140988.936771,\n",
       " 12438111494.315163,\n",
       " 10791613604.90227,\n",
       " 9370054416.477623,\n",
       " 8142703601.205014,\n",
       " 7083029099.68658,\n",
       " 6168123568.413212,\n",
       " 5378209183.930822,\n",
       " 4696210098.905739,\n",
       " 4107383307.7266736,\n",
       " 3598999941.939424,\n",
       " 3160070105.9693513,\n",
       " 2781105304.81187,\n",
       " 2453913328.009627,\n",
       " 2171421155.853467,\n",
       " 1927522059.510365,\n",
       " 1716943589.7897954,\n",
       " 1535133600.8168244,\n",
       " 1378161844.7468603,\n",
       " 1242635010.2616336,\n",
       " 1125623368.2045984,\n",
       " 1024597438.629579,\n",
       " 937373310.1726834,\n",
       " 862065429.6977614,\n",
       " 797045841.6531253,\n",
       " 740908996.0028366,\n",
       " 692441363.9736676,\n",
       " 650595204.7909625,\n",
       " 614465916.3100653,\n",
       " 583272479.9241655,\n",
       " 556340577.0195085,\n",
       " 533088012.0006357,\n",
       " 513012126.7702371,\n",
       " 495678934.5981439,\n",
       " 480713738.4826144,\n",
       " 467793031.19784486,\n",
       " 456637501.9282623,\n",
       " 447005998.3116571,\n",
       " 438690313.36656666,\n",
       " 431510684.61116475,\n",
       " 425311908.0765654,\n",
       " 419959983.20985496,\n",
       " 415339216.1385768,\n",
       " 411349718.67695045,\n",
       " 407905249.00899446,\n",
       " 404931347.3698681,\n",
       " 402363726.42381513,\n",
       " 400146881.5429665,\n",
       " 398232890.9449283,\n",
       " 396580379.7513163,\n",
       " 395153625.57294095,\n",
       " 393921786.2867765,\n",
       " 392858233.31129503,\n",
       " 391939975.96737075,\n",
       " 391147164.4809484,\n",
       " 390462660.8837291,\n",
       " 389871668.5358837,\n",
       " 389361412.26205486,\n",
       " 388920862.1860512,\n",
       " 388540495.2942606,\n",
       " 388212089.5734286,\n",
       " 387928546.2726012,\n",
       " 387683736.44701207,\n",
       " 387472368.46659905,\n",
       " 387289873.62503827,\n",
       " 387132307.3764663,\n",
       " 386996264.06489164,\n",
       " 386878803.3029674,\n",
       " 386777386.4086444,\n",
       " 386689821.52561146,\n",
       " 386614216.24119806,\n",
       " 386548936.67744184,\n",
       " 386492572.1709956,\n",
       " 386443904.77833784,\n",
       " 386401882.94707155,\n",
       " 386365598.7841608,\n",
       " 386334268.4296979,\n",
       " 386307215.1119357,\n",
       " 386283854.5172845,\n",
       " 386263682.15900517,\n",
       " 386246262.47154796,\n",
       " 386231219.39478505,\n",
       " 386218228.2445904,\n",
       " 386207008.69403034,\n",
       " 386197318.71344423,\n",
       " 386188949.33840656,\n",
       " 386181720.1524684,\n",
       " 386175475.38703847,\n",
       " 386170080.5540768,\n",
       " 386165419.53882354,\n",
       " 386161392.0897055]"
      ]
     },
     "execution_count": 147,
     "metadata": {},
     "output_type": "execute_result"
    }
   ],
   "source": [
    "costHist"
   ]
  },
  {
   "cell_type": "code",
   "execution_count": null,
   "metadata": {},
   "outputs": [],
   "source": []
  }
 ],
 "metadata": {
  "kernelspec": {
   "display_name": "Python 3",
   "language": "python",
   "name": "python3"
  },
  "language_info": {
   "codemirror_mode": {
    "name": "ipython",
    "version": 3
   },
   "file_extension": ".py",
   "mimetype": "text/x-python",
   "name": "python",
   "nbconvert_exporter": "python",
   "pygments_lexer": "ipython3",
   "version": "3.7.3"
  }
 },
 "nbformat": 4,
 "nbformat_minor": 4
}
