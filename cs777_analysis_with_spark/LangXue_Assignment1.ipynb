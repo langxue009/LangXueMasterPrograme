{
 "cells": [
  {
   "cell_type": "code",
   "execution_count": 1,
   "metadata": {},
   "outputs": [
    {
     "data": {
      "text/html": [
       "\n",
       "        <div>\n",
       "            <p><b>SparkContext</b></p>\n",
       "\n",
       "            <p><a href=\"http://puddings-mbp:4041\">Spark UI</a></p>\n",
       "\n",
       "            <dl>\n",
       "              <dt>Version</dt>\n",
       "                <dd><code>v3.1.1</code></dd>\n",
       "              <dt>Master</dt>\n",
       "                <dd><code>local[*]</code></dd>\n",
       "              <dt>AppName</dt>\n",
       "                <dd><code>PySparkShell</code></dd>\n",
       "            </dl>\n",
       "        </div>\n",
       "        "
      ],
      "text/plain": [
       "<SparkContext master=local[*] appName=PySparkShell>"
      ]
     },
     "execution_count": 1,
     "metadata": {},
     "output_type": "execute_result"
    }
   ],
   "source": [
    "sc"
   ]
  },
  {
   "cell_type": "code",
   "execution_count": 2,
   "metadata": {},
   "outputs": [],
   "source": [
    "import pandas as pd\n",
    "import matplotlib.pyplot as plt\n",
    "from pyspark import SparkContext\n",
    "from pyspark.sql import SparkSession\n",
    "from pyspark.sql.types import *\n",
    "from pyspark.sql import functions as func\n",
    "from pyspark.sql.functions import col, lit, concat, array, coalesce\n",
    "\n",
    "from pyspark.ml.linalg import Vectors\n",
    "from pandas import Series,DataFrame\n",
    "import pandas as pd\n",
    "import numpy as np\n",
    "\n",
    "import ast\n",
    "import time"
   ]
  },
  {
   "cell_type": "markdown",
   "metadata": {},
   "source": [
    "## Clean/Prepare Data"
   ]
  },
  {
   "cell_type": "code",
   "execution_count": 3,
   "metadata": {},
   "outputs": [],
   "source": [
    "lines = sc.textFile(\"/Users/pudding/Downloads/taxi-data-sorted-small.csv\")"
   ]
  },
  {
   "cell_type": "code",
   "execution_count": 4,
   "metadata": {},
   "outputs": [],
   "source": [
    "taxilines = lines.map(lambda x: x.split(','))\n",
    "\n",
    "# Exception Handling and removing wrong data lines\n",
    "def isfloat(value): \n",
    "    try :\n",
    "        float(value)\n",
    "        return True\n",
    "    except :\n",
    "        return False\n",
    "\n",
    "# Remove lines if they don’t have 16 values and \n",
    "# with total amount of larger than 600 USD and less than 1 USD\n",
    "def correctRows (p) : \n",
    "    if(len(p) == 17):\n",
    "        if(isfloat(p[5]) and isfloat(p[11])): \n",
    "            if(float(p[5])!=0 and float(p[11])!=0):\n",
    "                if(float(p[11])>=1 and float(p[11])<=600):\n",
    "                    return p\n",
    "\n",
    "# cleaning up data\n",
    "texilinesCorrected = taxilines.filter(correctRows)"
   ]
  },
  {
   "cell_type": "code",
   "execution_count": null,
   "metadata": {},
   "outputs": [],
   "source": [
    "texilinesCorrected.saveAsTextFile(\"/Users/pudding/Downloads/taxi_clean_data\")"
   ]
  },
  {
   "cell_type": "markdown",
   "metadata": {},
   "source": [
    "## Task 1"
   ]
  },
  {
   "cell_type": "code",
   "execution_count": 5,
   "metadata": {},
   "outputs": [],
   "source": [
    "texilinesCorrected = sc.textFile(\"/Users/pudding/Downloads/taxi_clean_data\")\n",
    "texilinesCorrected = texilinesCorrected.map(lambda x: ast.literal_eval(x))"
   ]
  },
  {
   "cell_type": "code",
   "execution_count": 13,
   "metadata": {},
   "outputs": [],
   "source": [
    "column_names = ['medallion', 'hack_license', 'pickup_datetime', 'dropoff_datetime', \n",
    "               'trip_time_in_secs', 'trip_distance', 'pickup_longitude', \n",
    "               'pickup_latitude', 'dropoff_logitude', 'dropoff_latitude', \n",
    "               'payment_type', 'fare_amount', 'surcharge', 'mta_tax', \n",
    "               'tip_amount', 'tolls_amount', 'total_amount']"
   ]
  },
  {
   "cell_type": "code",
   "execution_count": 14,
   "metadata": {},
   "outputs": [],
   "source": [
    "# create the dataframe from RDD\n",
    "taxiDF = sqlContext.createDataFrame(texilinesCorrected, column_names)"
   ]
  },
  {
   "cell_type": "code",
   "execution_count": 15,
   "metadata": {},
   "outputs": [
    {
     "data": {
      "text/plain": [
       "['medallion',\n",
       " 'hack_license',\n",
       " 'pickup_datetime',\n",
       " 'dropoff_datetime',\n",
       " 'trip_time_in_secs',\n",
       " 'trip_distance',\n",
       " 'pickup_longitude',\n",
       " 'pickup_latitude',\n",
       " 'dropoff_logitude',\n",
       " 'dropoff_latitude',\n",
       " 'payment_type',\n",
       " 'fare_amount',\n",
       " 'surcharge',\n",
       " 'mta_tax',\n",
       " 'tip_amount',\n",
       " 'tolls_amount',\n",
       " 'total_amount']"
      ]
     },
     "execution_count": 15,
     "metadata": {},
     "output_type": "execute_result"
    }
   ],
   "source": [
    "taxiDF.columns"
   ]
  },
  {
   "cell_type": "code",
   "execution_count": 26,
   "metadata": {},
   "outputs": [],
   "source": [
    "task1_output = taxiDF.groupby(taxiDF.medallion)\\\n",
    ".agg(func.countDistinct('hack_license')\\\n",
    ".alias('Distinct_Drivers_Count'))\\\n",
    ".sort('Distinct_Drivers_Count', ascending = False)"
   ]
  },
  {
   "cell_type": "code",
   "execution_count": 39,
   "metadata": {},
   "outputs": [
    {
     "name": "stdout",
     "output_type": "stream",
     "text": [
      "+--------------------+----------------------+\n",
      "|           medallion|Distinct_Drivers_Count|\n",
      "+--------------------+----------------------+\n",
      "|3C08296D0EB7ABE24...|                    20|\n",
      "|65EFB7D02BAD12D5D...|                    20|\n",
      "|7DEB25123AE57111F...|                    19|\n",
      "|55D311AD2752BC278...|                    19|\n",
      "|F36564AB9C6EA3B63...|                    19|\n",
      "|3B6AE3CF05F34ADC9...|                    19|\n",
      "|CD7B02776E6948339...|                    19|\n",
      "|9FB7A7C1D7B960D8B...|                    18|\n",
      "|799153A138F4E8334...|                    18|\n",
      "|F2A08960199BCDB7E...|                    18|\n",
      "+--------------------+----------------------+\n",
      "only showing top 10 rows\n",
      "\n"
     ]
    }
   ],
   "source": [
    "task1_output.show(n=10)"
   ]
  },
  {
   "cell_type": "markdown",
   "metadata": {},
   "source": [
    "## Task 2"
   ]
  },
  {
   "cell_type": "code",
   "execution_count": null,
   "metadata": {},
   "outputs": [],
   "source": [
    "texilinesCorrected.groupBy(lambda x: x[1])"
   ]
  },
  {
   "cell_type": "code",
   "execution_count": 32,
   "metadata": {},
   "outputs": [],
   "source": [
    "taxiDF_by_Driver = taxiDF.groupBy('hack_license')\\\n",
    ".agg(func.sum('total_amount').alias('all_total_amount'), \\\n",
    "     func.sum('trip_time_in_secs').alias('all_trip_time_in_secs'))"
   ]
  },
  {
   "cell_type": "code",
   "execution_count": 33,
   "metadata": {},
   "outputs": [
    {
     "name": "stdout",
     "output_type": "stream",
     "text": [
      "+--------------------+------------------+---------------------+\n",
      "|        hack_license|  all_total_amount|all_trip_time_in_secs|\n",
      "+--------------------+------------------+---------------------+\n",
      "|3183016714F5E253E...|           1675.14|              79020.0|\n",
      "|31195E1D3AA1EC26D...|           2024.57|             102840.0|\n",
      "|69996930170E51265...| 2950.609999999999|             147900.0|\n",
      "|FDEA95843CF14F503...|           3037.15|             154800.0|\n",
      "|477E608A18D83F7DE...|1885.1499999999999|             107160.0|\n",
      "|4CEC9B9F46ABAB3AD...|           1835.89|              97980.0|\n",
      "|CF1BF49F7229C883D...|1948.3100000000002|             111000.0|\n",
      "|83279FE1F7D548407...|           2803.71|             149280.0|\n",
      "|7DA853581E8C09723...|2571.8399999999997|             116640.0|\n",
      "|1FD12923F545A7F28...|           1828.66|              98640.0|\n",
      "|E7E6F9F97F18C35E0...|2092.7500000000005|             114000.0|\n",
      "|03A2D28F831C5C3E5...|2309.1600000000003|             115980.0|\n",
      "|88B5A703C9407B0B3...|2195.0199999999995|             117180.0|\n",
      "|FDD2748CAB6CA1D7E...|2342.7599999999998|             119580.0|\n",
      "|669FA40A7222D4DC2...|            2516.5|             128520.0|\n",
      "|213681DDDA5D57D1B...|2650.6499999999996|             134700.0|\n",
      "|E28E161B7FA30EE03...|1918.1099999999997|              98640.0|\n",
      "|588A002C06DD0B24F...|1614.8099999999997|              88920.0|\n",
      "|549755BB2C577826A...|           2258.35|             110040.0|\n",
      "|9ED622FC032925E45...|2134.6800000000007|             103980.0|\n",
      "+--------------------+------------------+---------------------+\n",
      "only showing top 20 rows\n",
      "\n"
     ]
    }
   ],
   "source": [
    "taxiDF_by_Driver.show()"
   ]
  },
  {
   "cell_type": "code",
   "execution_count": 36,
   "metadata": {},
   "outputs": [],
   "source": [
    "taxiDF_by_Driver = taxiDF_by_Driver.withColumn(\"average_earned_per_minute\", \\\n",
    "                                               func.expr(\"all_total_amount/(all_trip_time_in_secs/60)\"))"
   ]
  },
  {
   "cell_type": "code",
   "execution_count": 37,
   "metadata": {},
   "outputs": [
    {
     "name": "stdout",
     "output_type": "stream",
     "text": [
      "+--------------------+------------------+---------------------+-------------------------+\n",
      "|        hack_license|  all_total_amount|all_trip_time_in_secs|average_earned_per_minute|\n",
      "+--------------------+------------------+---------------------+-------------------------+\n",
      "|3183016714F5E253E...|           1675.14|              79020.0|       1.2719362186788155|\n",
      "|31195E1D3AA1EC26D...|           2024.57|             102840.0|        1.181196032672112|\n",
      "|69996930170E51265...| 2950.609999999999|             147900.0|       1.1970020283975655|\n",
      "|FDEA95843CF14F503...|           3037.15|             154800.0|       1.1771899224806202|\n",
      "|477E608A18D83F7DE...|1885.1499999999999|             107160.0|        1.055515117581187|\n",
      "|4CEC9B9F46ABAB3AD...|           1835.89|              97980.0|       1.1242437232088183|\n",
      "|CF1BF49F7229C883D...|1948.3100000000002|             111000.0|       1.0531405405405407|\n",
      "|83279FE1F7D548407...|           2803.71|             149280.0|       1.1268930868167202|\n",
      "|7DA853581E8C09723...|2571.8399999999997|             116640.0|        1.322962962962963|\n",
      "|1FD12923F545A7F28...|           1828.66|              98640.0|        1.112323600973236|\n",
      "|E7E6F9F97F18C35E0...|2092.7500000000005|             114000.0|       1.1014473684210528|\n",
      "|03A2D28F831C5C3E5...|2309.1600000000003|             115980.0|       1.1945990688049666|\n",
      "|88B5A703C9407B0B3...|2195.0199999999995|             117180.0|       1.1239221710189449|\n",
      "|FDD2748CAB6CA1D7E...|2342.7599999999998|             119580.0|        1.175494229804315|\n",
      "|669FA40A7222D4DC2...|            2516.5|             128520.0|       1.1748366013071896|\n",
      "|213681DDDA5D57D1B...|2650.6499999999996|             134700.0|       1.1806904231625834|\n",
      "|E28E161B7FA30EE03...|1918.1099999999997|              98640.0|       1.1667335766423355|\n",
      "|588A002C06DD0B24F...|1614.8099999999997|              88920.0|       1.0896153846153844|\n",
      "|549755BB2C577826A...|           2258.35|             110040.0|       1.2313794983642312|\n",
      "|9ED622FC032925E45...|2134.6800000000007|             103980.0|       1.2317830351990773|\n",
      "+--------------------+------------------+---------------------+-------------------------+\n",
      "only showing top 20 rows\n",
      "\n"
     ]
    }
   ],
   "source": [
    "taxiDF_by_Driver.show()"
   ]
  },
  {
   "cell_type": "code",
   "execution_count": 40,
   "metadata": {},
   "outputs": [
    {
     "name": "stdout",
     "output_type": "stream",
     "text": [
      "+--------------------+-------------------------+\n",
      "|        hack_license|average_earned_per_minute|\n",
      "+--------------------+-------------------------+\n",
      "|30B2ACBAF00230553...|                    702.0|\n",
      "|4C3B2A31227663A59...|                    625.0|\n",
      "|08026D69508127F4D...|                    375.0|\n",
      "|6E1D7195E38AA7A36...|        317.3076923076923|\n",
      "|E8E22AC46DF6AC99C...|                    273.0|\n",
      "|975D5E840C0F5D961...|       190.90909090909093|\n",
      "|17F72121B9F612D81...|       107.14285714285714|\n",
      "|619BF4020E6542AA0...|       105.88235294117648|\n",
      "|CD9D0B4429613F1B6...|       103.25172413793103|\n",
      "|52C99F4F8CD2560F8...|        89.28571428571429|\n",
      "+--------------------+-------------------------+\n",
      "only showing top 10 rows\n",
      "\n"
     ]
    }
   ],
   "source": [
    "taxiDF_by_Driver\\\n",
    ".select('hack_license', 'average_earned_per_minute')\\\n",
    ".sort('average_earned_per_minute', ascending = False)\\\n",
    ".show(n=10)"
   ]
  },
  {
   "cell_type": "markdown",
   "metadata": {},
   "source": [
    "## Task 3"
   ]
  },
  {
   "cell_type": "code",
   "execution_count": 42,
   "metadata": {},
   "outputs": [],
   "source": [
    "# using regular expression, extract the pickup hour\n",
    "taxiDF = taxiDF.withColumn('pickup_hour', func.regexp_extract(col('pickup_datetime'), '(.)([0-9]{2}):(.)', 2))"
   ]
  },
  {
   "cell_type": "code",
   "execution_count": 43,
   "metadata": {},
   "outputs": [],
   "source": [
    "taxiDF_by_hour = taxiDF.groupBy('pickup_hour')\\\n",
    ".agg(func.sum('surcharge').alias('total_surcharge'),\\\n",
    "     func.sum('trip_distance').alias('total_distance'))"
   ]
  },
  {
   "cell_type": "code",
   "execution_count": 44,
   "metadata": {},
   "outputs": [
    {
     "name": "stdout",
     "output_type": "stream",
     "text": [
      "+-----------+---------------+------------------+\n",
      "|pickup_hour|total_surcharge|    total_distance|\n",
      "+-----------+---------------+------------------+\n",
      "|         07|            0.0|226322.13999999972|\n",
      "|         15|            9.5| 304992.9999999997|\n",
      "|         11|            1.0|244987.90000000005|\n",
      "|         01|        23359.5|157744.13000000027|\n",
      "|         22|        50954.5| 312854.0799999997|\n",
      "|         16|        59141.0|273484.30000000016|\n",
      "|         18|        92658.5| 339670.9699999995|\n",
      "|         00|        32440.5|         216450.19|\n",
      "|         17|        74738.5|309579.85000000027|\n",
      "|         09|            0.0| 242875.2900000002|\n",
      "|         05|         9521.5|103116.99999999997|\n",
      "|         19|        93973.5|335863.16000000003|\n",
      "|         23|        39627.5|         257190.42|\n",
      "|         08|            0.0|250561.12999999986|\n",
      "|         03|        14707.5|104491.94999999997|\n",
      "|         02|        18976.5| 124523.3799999999|\n",
      "|         06|            1.5|         155507.33|\n",
      "|         20|        56698.5| 326477.0599999999|\n",
      "|         10|            0.0|235301.56999999966|\n",
      "|         12|            1.5| 259796.0000000001|\n",
      "+-----------+---------------+------------------+\n",
      "only showing top 20 rows\n",
      "\n"
     ]
    }
   ],
   "source": [
    "taxiDF_by_hour.show()"
   ]
  },
  {
   "cell_type": "code",
   "execution_count": 45,
   "metadata": {},
   "outputs": [],
   "source": [
    "taxiDF_by_hour = taxiDF_by_hour.withColumn(\"Profit_Ratio\", func.expr(\"total_surcharge/total_distance\"))"
   ]
  },
  {
   "cell_type": "code",
   "execution_count": 46,
   "metadata": {},
   "outputs": [
    {
     "name": "stdout",
     "output_type": "stream",
     "text": [
      "+-----------+--------------------+\n",
      "|pickup_hour|        Profit_Ratio|\n",
      "+-----------+--------------------+\n",
      "|         19|  0.2797969863679005|\n",
      "|         18| 0.27278898753108083|\n",
      "|         17| 0.24141913629068537|\n",
      "|         16| 0.21625007358740508|\n",
      "|         20|  0.1736676383939503|\n",
      "|         21|  0.1661948774517453|\n",
      "|         22| 0.16286985932866863|\n",
      "|         23| 0.15407844506805501|\n",
      "|         02| 0.15239306867513566|\n",
      "|         00| 0.14987512831474067|\n",
      "|         01|  0.1480847496512229|\n",
      "|         03|  0.1407524694486035|\n",
      "|         04| 0.11624931403920369|\n",
      "|         05| 0.09233686007156922|\n",
      "|         15|3.114825586160997E-5|\n",
      "|         06|9.645847562298189E-6|\n",
      "|         12|5.773760950899935E-6|\n",
      "|         11|4.081834245691317E-6|\n",
      "|         09|                 0.0|\n",
      "|         10|                 0.0|\n",
      "+-----------+--------------------+\n",
      "only showing top 20 rows\n",
      "\n"
     ]
    }
   ],
   "source": [
    "taxiDF_by_hour.select(\"pickup_hour\", \"Profit_Ratio\").sort(\"Profit_Ratio\", ascending = False).show()"
   ]
  },
  {
   "cell_type": "code",
   "execution_count": null,
   "metadata": {},
   "outputs": [],
   "source": []
  }
 ],
 "metadata": {
  "kernelspec": {
   "display_name": "Python 3",
   "language": "python",
   "name": "python3"
  },
  "language_info": {
   "codemirror_mode": {
    "name": "ipython",
    "version": 3
   },
   "file_extension": ".py",
   "mimetype": "text/x-python",
   "name": "python",
   "nbconvert_exporter": "python",
   "pygments_lexer": "ipython3",
   "version": "3.7.3"
  }
 },
 "nbformat": 4,
 "nbformat_minor": 4
}
