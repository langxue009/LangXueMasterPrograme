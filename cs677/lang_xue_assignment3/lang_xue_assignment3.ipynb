{
 "cells": [
  {
   "cell_type": "markdown",
   "metadata": {},
   "source": [
    "## Question 1.1"
   ]
  },
  {
   "cell_type": "code",
   "execution_count": 145,
   "metadata": {},
   "outputs": [],
   "source": [
    "import pandas as pd\n",
    "import numpy as np\n",
    "import seaborn as sns\n",
    "import matplotlib.pyplot as plt\n",
    "import datetime\n",
    "import calendar"
   ]
  },
  {
   "cell_type": "code",
   "execution_count": 3,
   "metadata": {
    "scrolled": true
   },
   "outputs": [
    {
     "data": {
      "text/html": [
       "<div>\n",
       "<style scoped>\n",
       "    .dataframe tbody tr th:only-of-type {\n",
       "        vertical-align: middle;\n",
       "    }\n",
       "\n",
       "    .dataframe tbody tr th {\n",
       "        vertical-align: top;\n",
       "    }\n",
       "\n",
       "    .dataframe thead th {\n",
       "        text-align: right;\n",
       "    }\n",
       "</style>\n",
       "<table border=\"1\" class=\"dataframe\">\n",
       "  <thead>\n",
       "    <tr style=\"text-align: right;\">\n",
       "      <th></th>\n",
       "      <th>Date</th>\n",
       "      <th>Year</th>\n",
       "      <th>Month</th>\n",
       "      <th>Day</th>\n",
       "      <th>Weekday</th>\n",
       "      <th>Week_Number</th>\n",
       "      <th>Year_Week</th>\n",
       "      <th>Open</th>\n",
       "      <th>High</th>\n",
       "      <th>Low</th>\n",
       "      <th>Close</th>\n",
       "      <th>Volume</th>\n",
       "      <th>Adj Close</th>\n",
       "      <th>Return</th>\n",
       "      <th>Short_MA</th>\n",
       "      <th>Long_MA</th>\n",
       "    </tr>\n",
       "  </thead>\n",
       "  <tbody>\n",
       "    <tr>\n",
       "      <th>0</th>\n",
       "      <td>2016-01-04</td>\n",
       "      <td>2016</td>\n",
       "      <td>1</td>\n",
       "      <td>4</td>\n",
       "      <td>&lt;bound method PandasDelegate._add_delegate_acc...</td>\n",
       "      <td>1</td>\n",
       "      <td>2016-01</td>\n",
       "      <td>77.50</td>\n",
       "      <td>77.94</td>\n",
       "      <td>76.46</td>\n",
       "      <td>77.46</td>\n",
       "      <td>20400100.0</td>\n",
       "      <td>60.14</td>\n",
       "      <td>0.000000</td>\n",
       "      <td>60.1400</td>\n",
       "      <td>60.1400</td>\n",
       "    </tr>\n",
       "    <tr>\n",
       "      <th>1</th>\n",
       "      <td>2016-01-05</td>\n",
       "      <td>2016</td>\n",
       "      <td>1</td>\n",
       "      <td>5</td>\n",
       "      <td>&lt;bound method PandasDelegate._add_delegate_acc...</td>\n",
       "      <td>1</td>\n",
       "      <td>2016-01</td>\n",
       "      <td>77.19</td>\n",
       "      <td>78.14</td>\n",
       "      <td>76.92</td>\n",
       "      <td>78.12</td>\n",
       "      <td>11993500.0</td>\n",
       "      <td>60.65</td>\n",
       "      <td>0.008521</td>\n",
       "      <td>60.3950</td>\n",
       "      <td>60.3950</td>\n",
       "    </tr>\n",
       "    <tr>\n",
       "      <th>2</th>\n",
       "      <td>2016-01-06</td>\n",
       "      <td>2016</td>\n",
       "      <td>1</td>\n",
       "      <td>6</td>\n",
       "      <td>&lt;bound method PandasDelegate._add_delegate_acc...</td>\n",
       "      <td>1</td>\n",
       "      <td>2016-01</td>\n",
       "      <td>76.64</td>\n",
       "      <td>77.64</td>\n",
       "      <td>76.59</td>\n",
       "      <td>77.47</td>\n",
       "      <td>18826900.0</td>\n",
       "      <td>60.14</td>\n",
       "      <td>-0.008321</td>\n",
       "      <td>60.3100</td>\n",
       "      <td>60.3100</td>\n",
       "    </tr>\n",
       "    <tr>\n",
       "      <th>3</th>\n",
       "      <td>2016-01-07</td>\n",
       "      <td>2016</td>\n",
       "      <td>1</td>\n",
       "      <td>7</td>\n",
       "      <td>&lt;bound method PandasDelegate._add_delegate_acc...</td>\n",
       "      <td>1</td>\n",
       "      <td>2016-01</td>\n",
       "      <td>76.06</td>\n",
       "      <td>77.99</td>\n",
       "      <td>75.90</td>\n",
       "      <td>76.23</td>\n",
       "      <td>21263800.0</td>\n",
       "      <td>59.18</td>\n",
       "      <td>-0.016006</td>\n",
       "      <td>60.0275</td>\n",
       "      <td>60.0275</td>\n",
       "    </tr>\n",
       "    <tr>\n",
       "      <th>4</th>\n",
       "      <td>2016-01-08</td>\n",
       "      <td>2016</td>\n",
       "      <td>1</td>\n",
       "      <td>8</td>\n",
       "      <td>&lt;bound method PandasDelegate._add_delegate_acc...</td>\n",
       "      <td>1</td>\n",
       "      <td>2016-01</td>\n",
       "      <td>76.35</td>\n",
       "      <td>76.65</td>\n",
       "      <td>74.50</td>\n",
       "      <td>74.69</td>\n",
       "      <td>19033600.0</td>\n",
       "      <td>57.99</td>\n",
       "      <td>-0.020202</td>\n",
       "      <td>59.6200</td>\n",
       "      <td>59.6200</td>\n",
       "    </tr>\n",
       "  </tbody>\n",
       "</table>\n",
       "</div>"
      ],
      "text/plain": [
       "         Date  Year  Month  Day  \\\n",
       "0  2016-01-04  2016      1    4   \n",
       "1  2016-01-05  2016      1    5   \n",
       "2  2016-01-06  2016      1    6   \n",
       "3  2016-01-07  2016      1    7   \n",
       "4  2016-01-08  2016      1    8   \n",
       "\n",
       "                                             Weekday  Week_Number Year_Week  \\\n",
       "0  <bound method PandasDelegate._add_delegate_acc...            1   2016-01   \n",
       "1  <bound method PandasDelegate._add_delegate_acc...            1   2016-01   \n",
       "2  <bound method PandasDelegate._add_delegate_acc...            1   2016-01   \n",
       "3  <bound method PandasDelegate._add_delegate_acc...            1   2016-01   \n",
       "4  <bound method PandasDelegate._add_delegate_acc...            1   2016-01   \n",
       "\n",
       "    Open   High    Low  Close      Volume  Adj Close    Return  Short_MA  \\\n",
       "0  77.50  77.94  76.46  77.46  20400100.0      60.14  0.000000   60.1400   \n",
       "1  77.19  78.14  76.92  78.12  11993500.0      60.65  0.008521   60.3950   \n",
       "2  76.64  77.64  76.59  77.47  18826900.0      60.14 -0.008321   60.3100   \n",
       "3  76.06  77.99  75.90  76.23  21263800.0      59.18 -0.016006   60.0275   \n",
       "4  76.35  76.65  74.50  74.69  19033600.0      57.99 -0.020202   59.6200   \n",
       "\n",
       "   Long_MA  \n",
       "0  60.1400  \n",
       "1  60.3950  \n",
       "2  60.3100  \n",
       "3  60.0275  \n",
       "4  59.6200  "
      ]
     },
     "execution_count": 3,
     "metadata": {},
     "output_type": "execute_result"
    }
   ],
   "source": [
    "XOM = pd.read_csv(\"XOM.csv\")\n",
    "XOM.head()"
   ]
  },
  {
   "cell_type": "code",
   "execution_count": null,
   "metadata": {},
   "outputs": [],
   "source": [
    "# convert the column Date from string to datetime format\n",
    "XOM.Date = XOM.Date.apply(lambda x: datetime.datetime.strptime(x, \"%Y-%m-%d\"))"
   ]
  },
  {
   "cell_type": "code",
   "execution_count": 33,
   "metadata": {},
   "outputs": [],
   "source": [
    "# create a day of week column \"wday\"\n",
    "XOM['wday'] = XOM.Date.apply(lambda x: calendar.day_name[x.weekday()])"
   ]
  },
  {
   "cell_type": "code",
   "execution_count": 41,
   "metadata": {},
   "outputs": [],
   "source": [
    "day_of_week_names = calendar.day_name[0:5]\n",
    "r_dict = {}\n",
    "for year in range(2016, 2021):\n",
    "    r_dict[year] = {}\n",
    "    XOM_year = XOM[XOM.Year == year]\n",
    "    for day in day_of_week_names:\n",
    "        XOM_year_day = XOM_year[XOM_year.wday == day]\n",
    "        r_dict[year][day] = XOM_year_day.Return"
   ]
  },
  {
   "cell_type": "code",
   "execution_count": 98,
   "metadata": {},
   "outputs": [],
   "source": [
    "result_dict = {}\n",
    "for year in range(2016, 2021):\n",
    "    R_mean = [] \n",
    "    R_sd = []    \n",
    "    R_minus_mean = []    \n",
    "    R_minus_sd = []   \n",
    "    R_minus_len = []    \n",
    "    R_plus_mean = []\n",
    "    R_plus_sd = []    \n",
    "    R_plus_len = []\n",
    "    for day in day_of_week_names:\n",
    "        \n",
    "        # calculate the statistics for R\n",
    "        r = r_dict[year][day]\n",
    "        r_mean = np.mean(r)\n",
    "        r_sd = np.sqrt(np.mean(r**2)-(r_mean**2))\n",
    "        R_mean.append(r_mean)    \n",
    "        R_sd.append(r_sd)\n",
    "        \n",
    "        # calculate the statistics for R_minus\n",
    "        r_minus = r[r < 0]\n",
    "        r_minus_len = len(r_minus)\n",
    "        r_minus_mean = np.mean(r_minus)\n",
    "        r_minus_sd = np.sqrt(np.mean(r_minus**2)-(r_minus_mean**2))\n",
    "        R_minus_len.append(r_minus_len)\n",
    "        R_minus_mean.append(r_minus_mean)\n",
    "        R_minus_sd.append(r_minus_sd)\n",
    "        \n",
    "        # calculate the statistics for R_plus\n",
    "        r_plus = r[r >= 0]\n",
    "        r_plus_len = len(r_plus)\n",
    "        r_plus_mean = np.mean(r_plus)\n",
    "        r_plus_sd = np.sqrt(np.mean(r_plus**2)-(r_plus_mean**2))\n",
    "        R_plus_len.append(r_plus_len)\n",
    "        R_plus_mean.append(r_plus_mean)\n",
    "        R_plus_sd.append(r_plus_sd)\n",
    "        \n",
    "    result_dict[year] = pd.DataFrame(list(zip(R_mean, R_sd, \n",
    "                                              R_minus_len, R_minus_mean, R_minus_sd,\n",
    "                                              R_plus_len, R_plus_mean, R_plus_sd)), \n",
    "                                     index = day_of_week_names, \n",
    "                                     columns = ['mu(R)', 'sigma(R)', \n",
    "                                                '|Rminus|', 'mu(Rminus)', 'sigma(Rminus)',\n",
    "                                                '|Rplus|', 'mu(Rplus)', 'sigma(Rplus)'])"
   ]
  },
  {
   "cell_type": "markdown",
   "metadata": {},
   "source": [
    "## Question 1.2"
   ]
  },
  {
   "cell_type": "code",
   "execution_count": 99,
   "metadata": {},
   "outputs": [
    {
     "data": {
      "text/html": [
       "<div>\n",
       "<style scoped>\n",
       "    .dataframe tbody tr th:only-of-type {\n",
       "        vertical-align: middle;\n",
       "    }\n",
       "\n",
       "    .dataframe tbody tr th {\n",
       "        vertical-align: top;\n",
       "    }\n",
       "\n",
       "    .dataframe thead th {\n",
       "        text-align: right;\n",
       "    }\n",
       "</style>\n",
       "<table border=\"1\" class=\"dataframe\">\n",
       "  <thead>\n",
       "    <tr style=\"text-align: right;\">\n",
       "      <th></th>\n",
       "      <th>mu(R)</th>\n",
       "      <th>sigma(R)</th>\n",
       "      <th>|Rminus|</th>\n",
       "      <th>mu(Rminus)</th>\n",
       "      <th>sigma(Rminus)</th>\n",
       "      <th>|Rplus|</th>\n",
       "      <th>mu(Rplus)</th>\n",
       "      <th>sigma(Rplus)</th>\n",
       "    </tr>\n",
       "  </thead>\n",
       "  <tbody>\n",
       "    <tr>\n",
       "      <th>Monday</th>\n",
       "      <td>0.000145</td>\n",
       "      <td>0.012738</td>\n",
       "      <td>20</td>\n",
       "      <td>-0.010484</td>\n",
       "      <td>0.010164</td>\n",
       "      <td>26</td>\n",
       "      <td>0.008321</td>\n",
       "      <td>0.007340</td>\n",
       "    </tr>\n",
       "    <tr>\n",
       "      <th>Tuesday</th>\n",
       "      <td>0.001311</td>\n",
       "      <td>0.011967</td>\n",
       "      <td>21</td>\n",
       "      <td>-0.009770</td>\n",
       "      <td>0.006765</td>\n",
       "      <td>31</td>\n",
       "      <td>0.008818</td>\n",
       "      <td>0.008348</td>\n",
       "    </tr>\n",
       "    <tr>\n",
       "      <th>Wednesday</th>\n",
       "      <td>0.001613</td>\n",
       "      <td>0.013851</td>\n",
       "      <td>25</td>\n",
       "      <td>-0.007872</td>\n",
       "      <td>0.008876</td>\n",
       "      <td>27</td>\n",
       "      <td>0.010395</td>\n",
       "      <td>0.011666</td>\n",
       "    </tr>\n",
       "    <tr>\n",
       "      <th>Thursday</th>\n",
       "      <td>0.002583</td>\n",
       "      <td>0.009911</td>\n",
       "      <td>21</td>\n",
       "      <td>-0.005469</td>\n",
       "      <td>0.004250</td>\n",
       "      <td>30</td>\n",
       "      <td>0.008219</td>\n",
       "      <td>0.008787</td>\n",
       "    </tr>\n",
       "    <tr>\n",
       "      <th>Friday</th>\n",
       "      <td>-0.001659</td>\n",
       "      <td>0.010793</td>\n",
       "      <td>27</td>\n",
       "      <td>-0.008793</td>\n",
       "      <td>0.008094</td>\n",
       "      <td>24</td>\n",
       "      <td>0.006367</td>\n",
       "      <td>0.007223</td>\n",
       "    </tr>\n",
       "  </tbody>\n",
       "</table>\n",
       "</div>"
      ],
      "text/plain": [
       "              mu(R)  sigma(R)  |Rminus|  mu(Rminus)  sigma(Rminus)  |Rplus|  \\\n",
       "Monday     0.000145  0.012738        20   -0.010484       0.010164       26   \n",
       "Tuesday    0.001311  0.011967        21   -0.009770       0.006765       31   \n",
       "Wednesday  0.001613  0.013851        25   -0.007872       0.008876       27   \n",
       "Thursday   0.002583  0.009911        21   -0.005469       0.004250       30   \n",
       "Friday    -0.001659  0.010793        27   -0.008793       0.008094       24   \n",
       "\n",
       "           mu(Rplus)  sigma(Rplus)  \n",
       "Monday      0.008321      0.007340  \n",
       "Tuesday     0.008818      0.008348  \n",
       "Wednesday   0.010395      0.011666  \n",
       "Thursday    0.008219      0.008787  \n",
       "Friday      0.006367      0.007223  "
      ]
     },
     "execution_count": 99,
     "metadata": {},
     "output_type": "execute_result"
    }
   ],
   "source": [
    "result_dict[2016]"
   ]
  },
  {
   "cell_type": "code",
   "execution_count": 100,
   "metadata": {},
   "outputs": [
    {
     "data": {
      "text/html": [
       "<div>\n",
       "<style scoped>\n",
       "    .dataframe tbody tr th:only-of-type {\n",
       "        vertical-align: middle;\n",
       "    }\n",
       "\n",
       "    .dataframe tbody tr th {\n",
       "        vertical-align: top;\n",
       "    }\n",
       "\n",
       "    .dataframe thead th {\n",
       "        text-align: right;\n",
       "    }\n",
       "</style>\n",
       "<table border=\"1\" class=\"dataframe\">\n",
       "  <thead>\n",
       "    <tr style=\"text-align: right;\">\n",
       "      <th></th>\n",
       "      <th>mu(R)</th>\n",
       "      <th>sigma(R)</th>\n",
       "      <th>|Rminus|</th>\n",
       "      <th>mu(Rminus)</th>\n",
       "      <th>sigma(Rminus)</th>\n",
       "      <th>|Rplus|</th>\n",
       "      <th>mu(Rplus)</th>\n",
       "      <th>sigma(Rplus)</th>\n",
       "    </tr>\n",
       "  </thead>\n",
       "  <tbody>\n",
       "    <tr>\n",
       "      <th>Monday</th>\n",
       "      <td>0.001156</td>\n",
       "      <td>0.006076</td>\n",
       "      <td>19</td>\n",
       "      <td>-0.004348</td>\n",
       "      <td>0.003941</td>\n",
       "      <td>27</td>\n",
       "      <td>0.005029</td>\n",
       "      <td>0.003954</td>\n",
       "    </tr>\n",
       "    <tr>\n",
       "      <th>Tuesday</th>\n",
       "      <td>-0.000218</td>\n",
       "      <td>0.005472</td>\n",
       "      <td>27</td>\n",
       "      <td>-0.004385</td>\n",
       "      <td>0.003086</td>\n",
       "      <td>24</td>\n",
       "      <td>0.004470</td>\n",
       "      <td>0.003376</td>\n",
       "    </tr>\n",
       "    <tr>\n",
       "      <th>Wednesday</th>\n",
       "      <td>-0.000496</td>\n",
       "      <td>0.008130</td>\n",
       "      <td>25</td>\n",
       "      <td>-0.007300</td>\n",
       "      <td>0.004632</td>\n",
       "      <td>27</td>\n",
       "      <td>0.005805</td>\n",
       "      <td>0.004986</td>\n",
       "    </tr>\n",
       "    <tr>\n",
       "      <th>Thursday</th>\n",
       "      <td>-0.000326</td>\n",
       "      <td>0.007864</td>\n",
       "      <td>23</td>\n",
       "      <td>-0.007263</td>\n",
       "      <td>0.005088</td>\n",
       "      <td>28</td>\n",
       "      <td>0.005372</td>\n",
       "      <td>0.004403</td>\n",
       "    </tr>\n",
       "    <tr>\n",
       "      <th>Friday</th>\n",
       "      <td>-0.000633</td>\n",
       "      <td>0.006983</td>\n",
       "      <td>27</td>\n",
       "      <td>-0.005336</td>\n",
       "      <td>0.005029</td>\n",
       "      <td>24</td>\n",
       "      <td>0.004658</td>\n",
       "      <td>0.004722</td>\n",
       "    </tr>\n",
       "  </tbody>\n",
       "</table>\n",
       "</div>"
      ],
      "text/plain": [
       "              mu(R)  sigma(R)  |Rminus|  mu(Rminus)  sigma(Rminus)  |Rplus|  \\\n",
       "Monday     0.001156  0.006076        19   -0.004348       0.003941       27   \n",
       "Tuesday   -0.000218  0.005472        27   -0.004385       0.003086       24   \n",
       "Wednesday -0.000496  0.008130        25   -0.007300       0.004632       27   \n",
       "Thursday  -0.000326  0.007864        23   -0.007263       0.005088       28   \n",
       "Friday    -0.000633  0.006983        27   -0.005336       0.005029       24   \n",
       "\n",
       "           mu(Rplus)  sigma(Rplus)  \n",
       "Monday      0.005029      0.003954  \n",
       "Tuesday     0.004470      0.003376  \n",
       "Wednesday   0.005805      0.004986  \n",
       "Thursday    0.005372      0.004403  \n",
       "Friday      0.004658      0.004722  "
      ]
     },
     "execution_count": 100,
     "metadata": {},
     "output_type": "execute_result"
    }
   ],
   "source": [
    "result_dict[2017]"
   ]
  },
  {
   "cell_type": "code",
   "execution_count": 101,
   "metadata": {},
   "outputs": [
    {
     "data": {
      "text/html": [
       "<div>\n",
       "<style scoped>\n",
       "    .dataframe tbody tr th:only-of-type {\n",
       "        vertical-align: middle;\n",
       "    }\n",
       "\n",
       "    .dataframe tbody tr th {\n",
       "        vertical-align: top;\n",
       "    }\n",
       "\n",
       "    .dataframe thead th {\n",
       "        text-align: right;\n",
       "    }\n",
       "</style>\n",
       "<table border=\"1\" class=\"dataframe\">\n",
       "  <thead>\n",
       "    <tr style=\"text-align: right;\">\n",
       "      <th></th>\n",
       "      <th>mu(R)</th>\n",
       "      <th>sigma(R)</th>\n",
       "      <th>|Rminus|</th>\n",
       "      <th>mu(Rminus)</th>\n",
       "      <th>sigma(Rminus)</th>\n",
       "      <th>|Rplus|</th>\n",
       "      <th>mu(Rplus)</th>\n",
       "      <th>sigma(Rplus)</th>\n",
       "    </tr>\n",
       "  </thead>\n",
       "  <tbody>\n",
       "    <tr>\n",
       "      <th>Monday</th>\n",
       "      <td>-0.001070</td>\n",
       "      <td>0.014521</td>\n",
       "      <td>22</td>\n",
       "      <td>-0.012982</td>\n",
       "      <td>0.012664</td>\n",
       "      <td>26</td>\n",
       "      <td>0.009009</td>\n",
       "      <td>0.005650</td>\n",
       "    </tr>\n",
       "    <tr>\n",
       "      <th>Tuesday</th>\n",
       "      <td>-0.001349</td>\n",
       "      <td>0.012329</td>\n",
       "      <td>30</td>\n",
       "      <td>-0.008960</td>\n",
       "      <td>0.008201</td>\n",
       "      <td>21</td>\n",
       "      <td>0.009523</td>\n",
       "      <td>0.008494</td>\n",
       "    </tr>\n",
       "    <tr>\n",
       "      <th>Wednesday</th>\n",
       "      <td>0.001443</td>\n",
       "      <td>0.015416</td>\n",
       "      <td>23</td>\n",
       "      <td>-0.011987</td>\n",
       "      <td>0.007557</td>\n",
       "      <td>27</td>\n",
       "      <td>0.012884</td>\n",
       "      <td>0.010341</td>\n",
       "    </tr>\n",
       "    <tr>\n",
       "      <th>Thursday</th>\n",
       "      <td>-0.000078</td>\n",
       "      <td>0.012327</td>\n",
       "      <td>26</td>\n",
       "      <td>-0.009466</td>\n",
       "      <td>0.008735</td>\n",
       "      <td>25</td>\n",
       "      <td>0.009686</td>\n",
       "      <td>0.006608</td>\n",
       "    </tr>\n",
       "    <tr>\n",
       "      <th>Friday</th>\n",
       "      <td>-0.001719</td>\n",
       "      <td>0.013752</td>\n",
       "      <td>24</td>\n",
       "      <td>-0.012538</td>\n",
       "      <td>0.012239</td>\n",
       "      <td>27</td>\n",
       "      <td>0.007897</td>\n",
       "      <td>0.005250</td>\n",
       "    </tr>\n",
       "  </tbody>\n",
       "</table>\n",
       "</div>"
      ],
      "text/plain": [
       "              mu(R)  sigma(R)  |Rminus|  mu(Rminus)  sigma(Rminus)  |Rplus|  \\\n",
       "Monday    -0.001070  0.014521        22   -0.012982       0.012664       26   \n",
       "Tuesday   -0.001349  0.012329        30   -0.008960       0.008201       21   \n",
       "Wednesday  0.001443  0.015416        23   -0.011987       0.007557       27   \n",
       "Thursday  -0.000078  0.012327        26   -0.009466       0.008735       25   \n",
       "Friday    -0.001719  0.013752        24   -0.012538       0.012239       27   \n",
       "\n",
       "           mu(Rplus)  sigma(Rplus)  \n",
       "Monday      0.009009      0.005650  \n",
       "Tuesday     0.009523      0.008494  \n",
       "Wednesday   0.012884      0.010341  \n",
       "Thursday    0.009686      0.006608  \n",
       "Friday      0.007897      0.005250  "
      ]
     },
     "execution_count": 101,
     "metadata": {},
     "output_type": "execute_result"
    }
   ],
   "source": [
    "result_dict[2018]"
   ]
  },
  {
   "cell_type": "code",
   "execution_count": 102,
   "metadata": {},
   "outputs": [
    {
     "data": {
      "text/html": [
       "<div>\n",
       "<style scoped>\n",
       "    .dataframe tbody tr th:only-of-type {\n",
       "        vertical-align: middle;\n",
       "    }\n",
       "\n",
       "    .dataframe tbody tr th {\n",
       "        vertical-align: top;\n",
       "    }\n",
       "\n",
       "    .dataframe thead th {\n",
       "        text-align: right;\n",
       "    }\n",
       "</style>\n",
       "<table border=\"1\" class=\"dataframe\">\n",
       "  <thead>\n",
       "    <tr style=\"text-align: right;\">\n",
       "      <th></th>\n",
       "      <th>mu(R)</th>\n",
       "      <th>sigma(R)</th>\n",
       "      <th>|Rminus|</th>\n",
       "      <th>mu(Rminus)</th>\n",
       "      <th>sigma(Rminus)</th>\n",
       "      <th>|Rplus|</th>\n",
       "      <th>mu(Rplus)</th>\n",
       "      <th>sigma(Rplus)</th>\n",
       "    </tr>\n",
       "  </thead>\n",
       "  <tbody>\n",
       "    <tr>\n",
       "      <th>Monday</th>\n",
       "      <td>0.001507</td>\n",
       "      <td>0.010107</td>\n",
       "      <td>21</td>\n",
       "      <td>-0.007652</td>\n",
       "      <td>0.004781</td>\n",
       "      <td>27</td>\n",
       "      <td>0.008631</td>\n",
       "      <td>0.006916</td>\n",
       "    </tr>\n",
       "    <tr>\n",
       "      <th>Tuesday</th>\n",
       "      <td>-0.000874</td>\n",
       "      <td>0.010065</td>\n",
       "      <td>26</td>\n",
       "      <td>-0.008938</td>\n",
       "      <td>0.006159</td>\n",
       "      <td>26</td>\n",
       "      <td>0.007190</td>\n",
       "      <td>0.005885</td>\n",
       "    </tr>\n",
       "    <tr>\n",
       "      <th>Wednesday</th>\n",
       "      <td>-0.001842</td>\n",
       "      <td>0.011551</td>\n",
       "      <td>28</td>\n",
       "      <td>-0.010014</td>\n",
       "      <td>0.008809</td>\n",
       "      <td>23</td>\n",
       "      <td>0.008108</td>\n",
       "      <td>0.004594</td>\n",
       "    </tr>\n",
       "    <tr>\n",
       "      <th>Thursday</th>\n",
       "      <td>0.001306</td>\n",
       "      <td>0.011429</td>\n",
       "      <td>26</td>\n",
       "      <td>-0.007392</td>\n",
       "      <td>0.006358</td>\n",
       "      <td>24</td>\n",
       "      <td>0.010729</td>\n",
       "      <td>0.007590</td>\n",
       "    </tr>\n",
       "    <tr>\n",
       "      <th>Friday</th>\n",
       "      <td>0.001731</td>\n",
       "      <td>0.013643</td>\n",
       "      <td>21</td>\n",
       "      <td>-0.010848</td>\n",
       "      <td>0.007562</td>\n",
       "      <td>30</td>\n",
       "      <td>0.010537</td>\n",
       "      <td>0.009385</td>\n",
       "    </tr>\n",
       "  </tbody>\n",
       "</table>\n",
       "</div>"
      ],
      "text/plain": [
       "              mu(R)  sigma(R)  |Rminus|  mu(Rminus)  sigma(Rminus)  |Rplus|  \\\n",
       "Monday     0.001507  0.010107        21   -0.007652       0.004781       27   \n",
       "Tuesday   -0.000874  0.010065        26   -0.008938       0.006159       26   \n",
       "Wednesday -0.001842  0.011551        28   -0.010014       0.008809       23   \n",
       "Thursday   0.001306  0.011429        26   -0.007392       0.006358       24   \n",
       "Friday     0.001731  0.013643        21   -0.010848       0.007562       30   \n",
       "\n",
       "           mu(Rplus)  sigma(Rplus)  \n",
       "Monday      0.008631      0.006916  \n",
       "Tuesday     0.007190      0.005885  \n",
       "Wednesday   0.008108      0.004594  \n",
       "Thursday    0.010729      0.007590  \n",
       "Friday      0.010537      0.009385  "
      ]
     },
     "execution_count": 102,
     "metadata": {},
     "output_type": "execute_result"
    }
   ],
   "source": [
    "result_dict[2019]"
   ]
  },
  {
   "cell_type": "code",
   "execution_count": 103,
   "metadata": {},
   "outputs": [
    {
     "data": {
      "text/html": [
       "<div>\n",
       "<style scoped>\n",
       "    .dataframe tbody tr th:only-of-type {\n",
       "        vertical-align: middle;\n",
       "    }\n",
       "\n",
       "    .dataframe tbody tr th {\n",
       "        vertical-align: top;\n",
       "    }\n",
       "\n",
       "    .dataframe thead th {\n",
       "        text-align: right;\n",
       "    }\n",
       "</style>\n",
       "<table border=\"1\" class=\"dataframe\">\n",
       "  <thead>\n",
       "    <tr style=\"text-align: right;\">\n",
       "      <th></th>\n",
       "      <th>mu(R)</th>\n",
       "      <th>sigma(R)</th>\n",
       "      <th>|Rminus|</th>\n",
       "      <th>mu(Rminus)</th>\n",
       "      <th>sigma(Rminus)</th>\n",
       "      <th>|Rplus|</th>\n",
       "      <th>mu(Rplus)</th>\n",
       "      <th>sigma(Rplus)</th>\n",
       "    </tr>\n",
       "  </thead>\n",
       "  <tbody>\n",
       "    <tr>\n",
       "      <th>Monday</th>\n",
       "      <td>0.001030</td>\n",
       "      <td>0.040758</td>\n",
       "      <td>23</td>\n",
       "      <td>-0.029535</td>\n",
       "      <td>0.028259</td>\n",
       "      <td>25</td>\n",
       "      <td>0.029149</td>\n",
       "      <td>0.028365</td>\n",
       "    </tr>\n",
       "    <tr>\n",
       "      <th>Tuesday</th>\n",
       "      <td>0.003733</td>\n",
       "      <td>0.030152</td>\n",
       "      <td>29</td>\n",
       "      <td>-0.016758</td>\n",
       "      <td>0.010854</td>\n",
       "      <td>23</td>\n",
       "      <td>0.029568</td>\n",
       "      <td>0.026647</td>\n",
       "    </tr>\n",
       "    <tr>\n",
       "      <th>Wednesday</th>\n",
       "      <td>-0.003334</td>\n",
       "      <td>0.030940</td>\n",
       "      <td>30</td>\n",
       "      <td>-0.023587</td>\n",
       "      <td>0.021025</td>\n",
       "      <td>22</td>\n",
       "      <td>0.024284</td>\n",
       "      <td>0.018379</td>\n",
       "    </tr>\n",
       "    <tr>\n",
       "      <th>Thursday</th>\n",
       "      <td>-0.005055</td>\n",
       "      <td>0.032730</td>\n",
       "      <td>32</td>\n",
       "      <td>-0.022779</td>\n",
       "      <td>0.025721</td>\n",
       "      <td>20</td>\n",
       "      <td>0.023304</td>\n",
       "      <td>0.020493</td>\n",
       "    </tr>\n",
       "    <tr>\n",
       "      <th>Friday</th>\n",
       "      <td>-0.002389</td>\n",
       "      <td>0.029997</td>\n",
       "      <td>33</td>\n",
       "      <td>-0.017473</td>\n",
       "      <td>0.016615</td>\n",
       "      <td>16</td>\n",
       "      <td>0.028721</td>\n",
       "      <td>0.027371</td>\n",
       "    </tr>\n",
       "  </tbody>\n",
       "</table>\n",
       "</div>"
      ],
      "text/plain": [
       "              mu(R)  sigma(R)  |Rminus|  mu(Rminus)  sigma(Rminus)  |Rplus|  \\\n",
       "Monday     0.001030  0.040758        23   -0.029535       0.028259       25   \n",
       "Tuesday    0.003733  0.030152        29   -0.016758       0.010854       23   \n",
       "Wednesday -0.003334  0.030940        30   -0.023587       0.021025       22   \n",
       "Thursday  -0.005055  0.032730        32   -0.022779       0.025721       20   \n",
       "Friday    -0.002389  0.029997        33   -0.017473       0.016615       16   \n",
       "\n",
       "           mu(Rplus)  sigma(Rplus)  \n",
       "Monday      0.029149      0.028365  \n",
       "Tuesday     0.029568      0.026647  \n",
       "Wednesday   0.024284      0.018379  \n",
       "Thursday    0.023304      0.020493  \n",
       "Friday      0.028721      0.027371  "
      ]
     },
     "execution_count": 103,
     "metadata": {},
     "output_type": "execute_result"
    }
   ],
   "source": [
    "result_dict[2020]"
   ]
  },
  {
   "cell_type": "markdown",
   "metadata": {},
   "source": [
    "## Question 1.3"
   ]
  },
  {
   "cell_type": "code",
   "execution_count": 112,
   "metadata": {},
   "outputs": [
    {
     "data": {
      "text/plain": [
       "629"
      ]
     },
     "execution_count": 112,
     "metadata": {},
     "output_type": "execute_result"
    }
   ],
   "source": [
    "days_with_negative = np.sum([np.sum(result_dict[year]['|Rminus|']) for year in range(2016,2021)])\n",
    "days_with_negative"
   ]
  },
  {
   "cell_type": "code",
   "execution_count": 113,
   "metadata": {},
   "outputs": [
    {
     "data": {
      "text/plain": [
       "630"
      ]
     },
     "execution_count": 113,
     "metadata": {},
     "output_type": "execute_result"
    }
   ],
   "source": [
    "days_with_non_negative = np.sum([np.sum(result_dict[year]['|Rplus|']) for year in range(2016,2021)])\n",
    "days_with_non_negative"
   ]
  },
  {
   "cell_type": "markdown",
   "metadata": {},
   "source": [
    "The number of days with non-negative is one day more than the number of days with negative."
   ]
  },
  {
   "cell_type": "markdown",
   "metadata": {},
   "source": [
    "## Question 1.4"
   ]
  },
  {
   "cell_type": "code",
   "execution_count": 117,
   "metadata": {},
   "outputs": [],
   "source": [
    "all_r = XOM.Return\n",
    "all_r_plus = all_r[all_r >= 0]\n",
    "all_r_minus = all_r[all_r < 0]"
   ]
  },
  {
   "cell_type": "code",
   "execution_count": 123,
   "metadata": {
    "scrolled": true
   },
   "outputs": [
    {
     "name": "stdout",
     "output_type": "stream",
     "text": [
      "The average return amount in 'up' day is 0.01130\n",
      "The average return amount in 'down' day is -0.01162\n"
     ]
    }
   ],
   "source": [
    "print(\"The average return amount in 'up' day is %.5f\" % np.mean(all_r_plus))\n",
    "print(\"The average return amount in 'down' day is %.5f\" % np.mean(all_r_minus))"
   ]
  },
  {
   "cell_type": "markdown",
   "metadata": {},
   "source": [
    "The absolute value of the average return amount in 'down' day, 0.01162, is slightly higher than the average return amount in 'up' day, 0.01130. Therefore, the stock XOM lose more on a 'down' day than it gains on an 'up' day."
   ]
  },
  {
   "cell_type": "markdown",
   "metadata": {},
   "source": [
    "## Question 1.5"
   ]
  },
  {
   "cell_type": "markdown",
   "metadata": {},
   "source": [
    "In order to check whether the pattern stay the same for each year, we compare the magnitude of the columns 'mu(Rminus)' and 'mu(Rplus)' for each day of the week. "
   ]
  },
  {
   "cell_type": "code",
   "execution_count": 124,
   "metadata": {},
   "outputs": [
    {
     "data": {
      "text/html": [
       "<div>\n",
       "<style scoped>\n",
       "    .dataframe tbody tr th:only-of-type {\n",
       "        vertical-align: middle;\n",
       "    }\n",
       "\n",
       "    .dataframe tbody tr th {\n",
       "        vertical-align: top;\n",
       "    }\n",
       "\n",
       "    .dataframe thead th {\n",
       "        text-align: right;\n",
       "    }\n",
       "</style>\n",
       "<table border=\"1\" class=\"dataframe\">\n",
       "  <thead>\n",
       "    <tr style=\"text-align: right;\">\n",
       "      <th></th>\n",
       "      <th>mu(R)</th>\n",
       "      <th>sigma(R)</th>\n",
       "      <th>|Rminus|</th>\n",
       "      <th>mu(Rminus)</th>\n",
       "      <th>sigma(Rminus)</th>\n",
       "      <th>|Rplus|</th>\n",
       "      <th>mu(Rplus)</th>\n",
       "      <th>sigma(Rplus)</th>\n",
       "    </tr>\n",
       "  </thead>\n",
       "  <tbody>\n",
       "    <tr>\n",
       "      <th>Monday</th>\n",
       "      <td>0.000145</td>\n",
       "      <td>0.012738</td>\n",
       "      <td>20</td>\n",
       "      <td>-0.010484</td>\n",
       "      <td>0.010164</td>\n",
       "      <td>26</td>\n",
       "      <td>0.008321</td>\n",
       "      <td>0.007340</td>\n",
       "    </tr>\n",
       "    <tr>\n",
       "      <th>Tuesday</th>\n",
       "      <td>0.001311</td>\n",
       "      <td>0.011967</td>\n",
       "      <td>21</td>\n",
       "      <td>-0.009770</td>\n",
       "      <td>0.006765</td>\n",
       "      <td>31</td>\n",
       "      <td>0.008818</td>\n",
       "      <td>0.008348</td>\n",
       "    </tr>\n",
       "    <tr>\n",
       "      <th>Wednesday</th>\n",
       "      <td>0.001613</td>\n",
       "      <td>0.013851</td>\n",
       "      <td>25</td>\n",
       "      <td>-0.007872</td>\n",
       "      <td>0.008876</td>\n",
       "      <td>27</td>\n",
       "      <td>0.010395</td>\n",
       "      <td>0.011666</td>\n",
       "    </tr>\n",
       "    <tr>\n",
       "      <th>Thursday</th>\n",
       "      <td>0.002583</td>\n",
       "      <td>0.009911</td>\n",
       "      <td>21</td>\n",
       "      <td>-0.005469</td>\n",
       "      <td>0.004250</td>\n",
       "      <td>30</td>\n",
       "      <td>0.008219</td>\n",
       "      <td>0.008787</td>\n",
       "    </tr>\n",
       "    <tr>\n",
       "      <th>Friday</th>\n",
       "      <td>-0.001659</td>\n",
       "      <td>0.010793</td>\n",
       "      <td>27</td>\n",
       "      <td>-0.008793</td>\n",
       "      <td>0.008094</td>\n",
       "      <td>24</td>\n",
       "      <td>0.006367</td>\n",
       "      <td>0.007223</td>\n",
       "    </tr>\n",
       "  </tbody>\n",
       "</table>\n",
       "</div>"
      ],
      "text/plain": [
       "              mu(R)  sigma(R)  |Rminus|  mu(Rminus)  sigma(Rminus)  |Rplus|  \\\n",
       "Monday     0.000145  0.012738        20   -0.010484       0.010164       26   \n",
       "Tuesday    0.001311  0.011967        21   -0.009770       0.006765       31   \n",
       "Wednesday  0.001613  0.013851        25   -0.007872       0.008876       27   \n",
       "Thursday   0.002583  0.009911        21   -0.005469       0.004250       30   \n",
       "Friday    -0.001659  0.010793        27   -0.008793       0.008094       24   \n",
       "\n",
       "           mu(Rplus)  sigma(Rplus)  \n",
       "Monday      0.008321      0.007340  \n",
       "Tuesday     0.008818      0.008348  \n",
       "Wednesday   0.010395      0.011666  \n",
       "Thursday    0.008219      0.008787  \n",
       "Friday      0.006367      0.007223  "
      ]
     },
     "execution_count": 124,
     "metadata": {},
     "output_type": "execute_result"
    }
   ],
   "source": [
    "result_dict[2016]"
   ]
  },
  {
   "cell_type": "markdown",
   "metadata": {},
   "source": [
    "For 2016, the result from previous part is the same for Monday, Tuesday, Friday. "
   ]
  },
  {
   "cell_type": "code",
   "execution_count": 125,
   "metadata": {},
   "outputs": [
    {
     "data": {
      "text/html": [
       "<div>\n",
       "<style scoped>\n",
       "    .dataframe tbody tr th:only-of-type {\n",
       "        vertical-align: middle;\n",
       "    }\n",
       "\n",
       "    .dataframe tbody tr th {\n",
       "        vertical-align: top;\n",
       "    }\n",
       "\n",
       "    .dataframe thead th {\n",
       "        text-align: right;\n",
       "    }\n",
       "</style>\n",
       "<table border=\"1\" class=\"dataframe\">\n",
       "  <thead>\n",
       "    <tr style=\"text-align: right;\">\n",
       "      <th></th>\n",
       "      <th>mu(R)</th>\n",
       "      <th>sigma(R)</th>\n",
       "      <th>|Rminus|</th>\n",
       "      <th>mu(Rminus)</th>\n",
       "      <th>sigma(Rminus)</th>\n",
       "      <th>|Rplus|</th>\n",
       "      <th>mu(Rplus)</th>\n",
       "      <th>sigma(Rplus)</th>\n",
       "    </tr>\n",
       "  </thead>\n",
       "  <tbody>\n",
       "    <tr>\n",
       "      <th>Monday</th>\n",
       "      <td>0.001156</td>\n",
       "      <td>0.006076</td>\n",
       "      <td>19</td>\n",
       "      <td>-0.004348</td>\n",
       "      <td>0.003941</td>\n",
       "      <td>27</td>\n",
       "      <td>0.005029</td>\n",
       "      <td>0.003954</td>\n",
       "    </tr>\n",
       "    <tr>\n",
       "      <th>Tuesday</th>\n",
       "      <td>-0.000218</td>\n",
       "      <td>0.005472</td>\n",
       "      <td>27</td>\n",
       "      <td>-0.004385</td>\n",
       "      <td>0.003086</td>\n",
       "      <td>24</td>\n",
       "      <td>0.004470</td>\n",
       "      <td>0.003376</td>\n",
       "    </tr>\n",
       "    <tr>\n",
       "      <th>Wednesday</th>\n",
       "      <td>-0.000496</td>\n",
       "      <td>0.008130</td>\n",
       "      <td>25</td>\n",
       "      <td>-0.007300</td>\n",
       "      <td>0.004632</td>\n",
       "      <td>27</td>\n",
       "      <td>0.005805</td>\n",
       "      <td>0.004986</td>\n",
       "    </tr>\n",
       "    <tr>\n",
       "      <th>Thursday</th>\n",
       "      <td>-0.000326</td>\n",
       "      <td>0.007864</td>\n",
       "      <td>23</td>\n",
       "      <td>-0.007263</td>\n",
       "      <td>0.005088</td>\n",
       "      <td>28</td>\n",
       "      <td>0.005372</td>\n",
       "      <td>0.004403</td>\n",
       "    </tr>\n",
       "    <tr>\n",
       "      <th>Friday</th>\n",
       "      <td>-0.000633</td>\n",
       "      <td>0.006983</td>\n",
       "      <td>27</td>\n",
       "      <td>-0.005336</td>\n",
       "      <td>0.005029</td>\n",
       "      <td>24</td>\n",
       "      <td>0.004658</td>\n",
       "      <td>0.004722</td>\n",
       "    </tr>\n",
       "  </tbody>\n",
       "</table>\n",
       "</div>"
      ],
      "text/plain": [
       "              mu(R)  sigma(R)  |Rminus|  mu(Rminus)  sigma(Rminus)  |Rplus|  \\\n",
       "Monday     0.001156  0.006076        19   -0.004348       0.003941       27   \n",
       "Tuesday   -0.000218  0.005472        27   -0.004385       0.003086       24   \n",
       "Wednesday -0.000496  0.008130        25   -0.007300       0.004632       27   \n",
       "Thursday  -0.000326  0.007864        23   -0.007263       0.005088       28   \n",
       "Friday    -0.000633  0.006983        27   -0.005336       0.005029       24   \n",
       "\n",
       "           mu(Rplus)  sigma(Rplus)  \n",
       "Monday      0.005029      0.003954  \n",
       "Tuesday     0.004470      0.003376  \n",
       "Wednesday   0.005805      0.004986  \n",
       "Thursday    0.005372      0.004403  \n",
       "Friday      0.004658      0.004722  "
      ]
     },
     "execution_count": 125,
     "metadata": {},
     "output_type": "execute_result"
    }
   ],
   "source": [
    "result_dict[2017]"
   ]
  },
  {
   "cell_type": "markdown",
   "metadata": {},
   "source": [
    "For 2017, the result from previous part is the same for Wednesday, Thursday, Friday. "
   ]
  },
  {
   "cell_type": "code",
   "execution_count": 126,
   "metadata": {},
   "outputs": [
    {
     "data": {
      "text/html": [
       "<div>\n",
       "<style scoped>\n",
       "    .dataframe tbody tr th:only-of-type {\n",
       "        vertical-align: middle;\n",
       "    }\n",
       "\n",
       "    .dataframe tbody tr th {\n",
       "        vertical-align: top;\n",
       "    }\n",
       "\n",
       "    .dataframe thead th {\n",
       "        text-align: right;\n",
       "    }\n",
       "</style>\n",
       "<table border=\"1\" class=\"dataframe\">\n",
       "  <thead>\n",
       "    <tr style=\"text-align: right;\">\n",
       "      <th></th>\n",
       "      <th>mu(R)</th>\n",
       "      <th>sigma(R)</th>\n",
       "      <th>|Rminus|</th>\n",
       "      <th>mu(Rminus)</th>\n",
       "      <th>sigma(Rminus)</th>\n",
       "      <th>|Rplus|</th>\n",
       "      <th>mu(Rplus)</th>\n",
       "      <th>sigma(Rplus)</th>\n",
       "    </tr>\n",
       "  </thead>\n",
       "  <tbody>\n",
       "    <tr>\n",
       "      <th>Monday</th>\n",
       "      <td>-0.001070</td>\n",
       "      <td>0.014521</td>\n",
       "      <td>22</td>\n",
       "      <td>-0.012982</td>\n",
       "      <td>0.012664</td>\n",
       "      <td>26</td>\n",
       "      <td>0.009009</td>\n",
       "      <td>0.005650</td>\n",
       "    </tr>\n",
       "    <tr>\n",
       "      <th>Tuesday</th>\n",
       "      <td>-0.001349</td>\n",
       "      <td>0.012329</td>\n",
       "      <td>30</td>\n",
       "      <td>-0.008960</td>\n",
       "      <td>0.008201</td>\n",
       "      <td>21</td>\n",
       "      <td>0.009523</td>\n",
       "      <td>0.008494</td>\n",
       "    </tr>\n",
       "    <tr>\n",
       "      <th>Wednesday</th>\n",
       "      <td>0.001443</td>\n",
       "      <td>0.015416</td>\n",
       "      <td>23</td>\n",
       "      <td>-0.011987</td>\n",
       "      <td>0.007557</td>\n",
       "      <td>27</td>\n",
       "      <td>0.012884</td>\n",
       "      <td>0.010341</td>\n",
       "    </tr>\n",
       "    <tr>\n",
       "      <th>Thursday</th>\n",
       "      <td>-0.000078</td>\n",
       "      <td>0.012327</td>\n",
       "      <td>26</td>\n",
       "      <td>-0.009466</td>\n",
       "      <td>0.008735</td>\n",
       "      <td>25</td>\n",
       "      <td>0.009686</td>\n",
       "      <td>0.006608</td>\n",
       "    </tr>\n",
       "    <tr>\n",
       "      <th>Friday</th>\n",
       "      <td>-0.001719</td>\n",
       "      <td>0.013752</td>\n",
       "      <td>24</td>\n",
       "      <td>-0.012538</td>\n",
       "      <td>0.012239</td>\n",
       "      <td>27</td>\n",
       "      <td>0.007897</td>\n",
       "      <td>0.005250</td>\n",
       "    </tr>\n",
       "  </tbody>\n",
       "</table>\n",
       "</div>"
      ],
      "text/plain": [
       "              mu(R)  sigma(R)  |Rminus|  mu(Rminus)  sigma(Rminus)  |Rplus|  \\\n",
       "Monday    -0.001070  0.014521        22   -0.012982       0.012664       26   \n",
       "Tuesday   -0.001349  0.012329        30   -0.008960       0.008201       21   \n",
       "Wednesday  0.001443  0.015416        23   -0.011987       0.007557       27   \n",
       "Thursday  -0.000078  0.012327        26   -0.009466       0.008735       25   \n",
       "Friday    -0.001719  0.013752        24   -0.012538       0.012239       27   \n",
       "\n",
       "           mu(Rplus)  sigma(Rplus)  \n",
       "Monday      0.009009      0.005650  \n",
       "Tuesday     0.009523      0.008494  \n",
       "Wednesday   0.012884      0.010341  \n",
       "Thursday    0.009686      0.006608  \n",
       "Friday      0.007897      0.005250  "
      ]
     },
     "execution_count": 126,
     "metadata": {},
     "output_type": "execute_result"
    }
   ],
   "source": [
    "result_dict[2018]"
   ]
  },
  {
   "cell_type": "markdown",
   "metadata": {},
   "source": [
    "For 2018, the result from previous part is the same for Monday and Friday."
   ]
  },
  {
   "cell_type": "code",
   "execution_count": 127,
   "metadata": {},
   "outputs": [
    {
     "data": {
      "text/html": [
       "<div>\n",
       "<style scoped>\n",
       "    .dataframe tbody tr th:only-of-type {\n",
       "        vertical-align: middle;\n",
       "    }\n",
       "\n",
       "    .dataframe tbody tr th {\n",
       "        vertical-align: top;\n",
       "    }\n",
       "\n",
       "    .dataframe thead th {\n",
       "        text-align: right;\n",
       "    }\n",
       "</style>\n",
       "<table border=\"1\" class=\"dataframe\">\n",
       "  <thead>\n",
       "    <tr style=\"text-align: right;\">\n",
       "      <th></th>\n",
       "      <th>mu(R)</th>\n",
       "      <th>sigma(R)</th>\n",
       "      <th>|Rminus|</th>\n",
       "      <th>mu(Rminus)</th>\n",
       "      <th>sigma(Rminus)</th>\n",
       "      <th>|Rplus|</th>\n",
       "      <th>mu(Rplus)</th>\n",
       "      <th>sigma(Rplus)</th>\n",
       "    </tr>\n",
       "  </thead>\n",
       "  <tbody>\n",
       "    <tr>\n",
       "      <th>Monday</th>\n",
       "      <td>0.001507</td>\n",
       "      <td>0.010107</td>\n",
       "      <td>21</td>\n",
       "      <td>-0.007652</td>\n",
       "      <td>0.004781</td>\n",
       "      <td>27</td>\n",
       "      <td>0.008631</td>\n",
       "      <td>0.006916</td>\n",
       "    </tr>\n",
       "    <tr>\n",
       "      <th>Tuesday</th>\n",
       "      <td>-0.000874</td>\n",
       "      <td>0.010065</td>\n",
       "      <td>26</td>\n",
       "      <td>-0.008938</td>\n",
       "      <td>0.006159</td>\n",
       "      <td>26</td>\n",
       "      <td>0.007190</td>\n",
       "      <td>0.005885</td>\n",
       "    </tr>\n",
       "    <tr>\n",
       "      <th>Wednesday</th>\n",
       "      <td>-0.001842</td>\n",
       "      <td>0.011551</td>\n",
       "      <td>28</td>\n",
       "      <td>-0.010014</td>\n",
       "      <td>0.008809</td>\n",
       "      <td>23</td>\n",
       "      <td>0.008108</td>\n",
       "      <td>0.004594</td>\n",
       "    </tr>\n",
       "    <tr>\n",
       "      <th>Thursday</th>\n",
       "      <td>0.001306</td>\n",
       "      <td>0.011429</td>\n",
       "      <td>26</td>\n",
       "      <td>-0.007392</td>\n",
       "      <td>0.006358</td>\n",
       "      <td>24</td>\n",
       "      <td>0.010729</td>\n",
       "      <td>0.007590</td>\n",
       "    </tr>\n",
       "    <tr>\n",
       "      <th>Friday</th>\n",
       "      <td>0.001731</td>\n",
       "      <td>0.013643</td>\n",
       "      <td>21</td>\n",
       "      <td>-0.010848</td>\n",
       "      <td>0.007562</td>\n",
       "      <td>30</td>\n",
       "      <td>0.010537</td>\n",
       "      <td>0.009385</td>\n",
       "    </tr>\n",
       "  </tbody>\n",
       "</table>\n",
       "</div>"
      ],
      "text/plain": [
       "              mu(R)  sigma(R)  |Rminus|  mu(Rminus)  sigma(Rminus)  |Rplus|  \\\n",
       "Monday     0.001507  0.010107        21   -0.007652       0.004781       27   \n",
       "Tuesday   -0.000874  0.010065        26   -0.008938       0.006159       26   \n",
       "Wednesday -0.001842  0.011551        28   -0.010014       0.008809       23   \n",
       "Thursday   0.001306  0.011429        26   -0.007392       0.006358       24   \n",
       "Friday     0.001731  0.013643        21   -0.010848       0.007562       30   \n",
       "\n",
       "           mu(Rplus)  sigma(Rplus)  \n",
       "Monday      0.008631      0.006916  \n",
       "Tuesday     0.007190      0.005885  \n",
       "Wednesday   0.008108      0.004594  \n",
       "Thursday    0.010729      0.007590  \n",
       "Friday      0.010537      0.009385  "
      ]
     },
     "execution_count": 127,
     "metadata": {},
     "output_type": "execute_result"
    }
   ],
   "source": [
    "result_dict[2019]"
   ]
  },
  {
   "cell_type": "markdown",
   "metadata": {},
   "source": [
    "For 2019, the result from previous part is the same for Tuesday, Wednesday and Friday. "
   ]
  },
  {
   "cell_type": "code",
   "execution_count": 128,
   "metadata": {},
   "outputs": [
    {
     "data": {
      "text/html": [
       "<div>\n",
       "<style scoped>\n",
       "    .dataframe tbody tr th:only-of-type {\n",
       "        vertical-align: middle;\n",
       "    }\n",
       "\n",
       "    .dataframe tbody tr th {\n",
       "        vertical-align: top;\n",
       "    }\n",
       "\n",
       "    .dataframe thead th {\n",
       "        text-align: right;\n",
       "    }\n",
       "</style>\n",
       "<table border=\"1\" class=\"dataframe\">\n",
       "  <thead>\n",
       "    <tr style=\"text-align: right;\">\n",
       "      <th></th>\n",
       "      <th>mu(R)</th>\n",
       "      <th>sigma(R)</th>\n",
       "      <th>|Rminus|</th>\n",
       "      <th>mu(Rminus)</th>\n",
       "      <th>sigma(Rminus)</th>\n",
       "      <th>|Rplus|</th>\n",
       "      <th>mu(Rplus)</th>\n",
       "      <th>sigma(Rplus)</th>\n",
       "    </tr>\n",
       "  </thead>\n",
       "  <tbody>\n",
       "    <tr>\n",
       "      <th>Monday</th>\n",
       "      <td>0.001030</td>\n",
       "      <td>0.040758</td>\n",
       "      <td>23</td>\n",
       "      <td>-0.029535</td>\n",
       "      <td>0.028259</td>\n",
       "      <td>25</td>\n",
       "      <td>0.029149</td>\n",
       "      <td>0.028365</td>\n",
       "    </tr>\n",
       "    <tr>\n",
       "      <th>Tuesday</th>\n",
       "      <td>0.003733</td>\n",
       "      <td>0.030152</td>\n",
       "      <td>29</td>\n",
       "      <td>-0.016758</td>\n",
       "      <td>0.010854</td>\n",
       "      <td>23</td>\n",
       "      <td>0.029568</td>\n",
       "      <td>0.026647</td>\n",
       "    </tr>\n",
       "    <tr>\n",
       "      <th>Wednesday</th>\n",
       "      <td>-0.003334</td>\n",
       "      <td>0.030940</td>\n",
       "      <td>30</td>\n",
       "      <td>-0.023587</td>\n",
       "      <td>0.021025</td>\n",
       "      <td>22</td>\n",
       "      <td>0.024284</td>\n",
       "      <td>0.018379</td>\n",
       "    </tr>\n",
       "    <tr>\n",
       "      <th>Thursday</th>\n",
       "      <td>-0.005055</td>\n",
       "      <td>0.032730</td>\n",
       "      <td>32</td>\n",
       "      <td>-0.022779</td>\n",
       "      <td>0.025721</td>\n",
       "      <td>20</td>\n",
       "      <td>0.023304</td>\n",
       "      <td>0.020493</td>\n",
       "    </tr>\n",
       "    <tr>\n",
       "      <th>Friday</th>\n",
       "      <td>-0.002389</td>\n",
       "      <td>0.029997</td>\n",
       "      <td>33</td>\n",
       "      <td>-0.017473</td>\n",
       "      <td>0.016615</td>\n",
       "      <td>16</td>\n",
       "      <td>0.028721</td>\n",
       "      <td>0.027371</td>\n",
       "    </tr>\n",
       "  </tbody>\n",
       "</table>\n",
       "</div>"
      ],
      "text/plain": [
       "              mu(R)  sigma(R)  |Rminus|  mu(Rminus)  sigma(Rminus)  |Rplus|  \\\n",
       "Monday     0.001030  0.040758        23   -0.029535       0.028259       25   \n",
       "Tuesday    0.003733  0.030152        29   -0.016758       0.010854       23   \n",
       "Wednesday -0.003334  0.030940        30   -0.023587       0.021025       22   \n",
       "Thursday  -0.005055  0.032730        32   -0.022779       0.025721       20   \n",
       "Friday    -0.002389  0.029997        33   -0.017473       0.016615       16   \n",
       "\n",
       "           mu(Rplus)  sigma(Rplus)  \n",
       "Monday      0.029149      0.028365  \n",
       "Tuesday     0.029568      0.026647  \n",
       "Wednesday   0.024284      0.018379  \n",
       "Thursday    0.023304      0.020493  \n",
       "Friday      0.028721      0.027371  "
      ]
     },
     "execution_count": 128,
     "metadata": {},
     "output_type": "execute_result"
    }
   ],
   "source": [
    "result_dict[2020]"
   ]
  },
  {
   "cell_type": "markdown",
   "metadata": {},
   "source": [
    "For 2020, the result from previous part is the same for Monday."
   ]
  },
  {
   "cell_type": "markdown",
   "metadata": {},
   "source": [
    "## Question 2.1"
   ]
  },
  {
   "cell_type": "code",
   "execution_count": 183,
   "metadata": {},
   "outputs": [
    {
     "data": {
      "text/html": [
       "<div>\n",
       "<style scoped>\n",
       "    .dataframe tbody tr th:only-of-type {\n",
       "        vertical-align: middle;\n",
       "    }\n",
       "\n",
       "    .dataframe tbody tr th {\n",
       "        vertical-align: top;\n",
       "    }\n",
       "\n",
       "    .dataframe thead th {\n",
       "        text-align: right;\n",
       "    }\n",
       "</style>\n",
       "<table border=\"1\" class=\"dataframe\">\n",
       "  <thead>\n",
       "    <tr style=\"text-align: right;\">\n",
       "      <th></th>\n",
       "      <th>2016</th>\n",
       "      <th>2017</th>\n",
       "      <th>2018</th>\n",
       "      <th>2019</th>\n",
       "      <th>2020</th>\n",
       "    </tr>\n",
       "  </thead>\n",
       "  <tbody>\n",
       "    <tr>\n",
       "      <th>Monday</th>\n",
       "      <td>0.000145</td>\n",
       "      <td>0.001156</td>\n",
       "      <td>-0.001070</td>\n",
       "      <td>0.001507</td>\n",
       "      <td>0.001030</td>\n",
       "    </tr>\n",
       "    <tr>\n",
       "      <th>Tuesday</th>\n",
       "      <td>0.001311</td>\n",
       "      <td>-0.000218</td>\n",
       "      <td>-0.001349</td>\n",
       "      <td>-0.000874</td>\n",
       "      <td>0.003733</td>\n",
       "    </tr>\n",
       "    <tr>\n",
       "      <th>Wednesday</th>\n",
       "      <td>0.001613</td>\n",
       "      <td>-0.000496</td>\n",
       "      <td>0.001443</td>\n",
       "      <td>-0.001842</td>\n",
       "      <td>-0.003334</td>\n",
       "    </tr>\n",
       "    <tr>\n",
       "      <th>Thursday</th>\n",
       "      <td>0.002583</td>\n",
       "      <td>-0.000326</td>\n",
       "      <td>-0.000078</td>\n",
       "      <td>0.001306</td>\n",
       "      <td>-0.005055</td>\n",
       "    </tr>\n",
       "    <tr>\n",
       "      <th>Friday</th>\n",
       "      <td>-0.001659</td>\n",
       "      <td>-0.000633</td>\n",
       "      <td>-0.001719</td>\n",
       "      <td>0.001731</td>\n",
       "      <td>-0.002389</td>\n",
       "    </tr>\n",
       "  </tbody>\n",
       "</table>\n",
       "</div>"
      ],
      "text/plain": [
       "               2016      2017      2018      2019      2020\n",
       "Monday     0.000145  0.001156 -0.001070  0.001507  0.001030\n",
       "Tuesday    0.001311 -0.000218 -0.001349 -0.000874  0.003733\n",
       "Wednesday  0.001613 -0.000496  0.001443 -0.001842 -0.003334\n",
       "Thursday   0.002583 -0.000326 -0.000078  0.001306 -0.005055\n",
       "Friday    -0.001659 -0.000633 -0.001719  0.001731 -0.002389"
      ]
     },
     "execution_count": 183,
     "metadata": {},
     "output_type": "execute_result"
    }
   ],
   "source": [
    "all_R_mean = pd.concat([result_dict[x]['mu(R)'] for x in range(2016, 2021)], axis = 1)\n",
    "all_R_mean.columns = list(range(2016, 2021))\n",
    "all_R_mean"
   ]
  },
  {
   "cell_type": "code",
   "execution_count": 148,
   "metadata": {},
   "outputs": [
    {
     "data": {
      "text/plain": [
       "Text(0.5, 1.0, 'Average Return against Day of Week by Year')"
      ]
     },
     "execution_count": 148,
     "metadata": {},
     "output_type": "execute_result"
    },
    {
     "data": {
      "image/png": "[encoded data removed]",
      "text/plain": [
       "<Figure size 1080x432 with 1 Axes>"
      ]
     },
     "metadata": {
      "needs_background": "light"
     },
     "output_type": "display_data"
    }
   ],
   "source": [
    "plt.figure(figsize = (15,6))\n",
    "sns.lineplot(data = all_R_mean)\n",
    "plt.xlabel(\"Day of Week\")\n",
    "plt.ylabel(\"Average Return\")\n",
    "plt.title(\"Average Return against Day of Week by Year\")"
   ]
  },
  {
   "cell_type": "markdown",
   "metadata": {},
   "source": [
    "There is no consistent pattern across the days of the week among the five years. \\\n",
    "For 2016, the average return reaches the peak on Thursday and the trough on Friday. \\\n",
    "For 2017, the average return reaches the peak on Monday and the trough on Wednesday. \\\n",
    "For 2018, the average return reaches the peak on Wednesday and the trough on Friday. \\\n",
    "For 2019, the average return reaches the peak on Friday and the trough on Wednesday. \\\n",
    "For 2020, the average return reaches the peak on Tuesday and the trough on Thursday. "
   ]
  },
  {
   "cell_type": "code",
   "execution_count": 149,
   "metadata": {},
   "outputs": [],
   "source": [
    "all_R_minus_mean = pd.concat([result_dict[x]['mu(Rminus)'] for x in range(2016, 2021)], axis = 1)\n",
    "all_R_minus_mean.columns = list(range(2016, 2021))"
   ]
  },
  {
   "cell_type": "code",
   "execution_count": 150,
   "metadata": {},
   "outputs": [
    {
     "data": {
      "text/plain": [
       "Text(0.5, 1.0, \"Average Return in 'down' day against Day of Week by Year\")"
      ]
     },
     "execution_count": 150,
     "metadata": {},
     "output_type": "execute_result"
    },
    {
     "data": {
      "image/png": "[encoded data removed]",
      "text/plain": [
       "<Figure size 1080x432 with 1 Axes>"
      ]
     },
     "metadata": {
      "needs_background": "light"
     },
     "output_type": "display_data"
    }
   ],
   "source": [
    "plt.figure(figsize = (15,6))\n",
    "sns.lineplot(data = all_R_minus_mean)\n",
    "plt.xlabel(\"Day of Week\")\n",
    "plt.ylabel(\"Average Return in 'down' day\")\n",
    "plt.title(\"Average Return in 'down' day against Day of Week by Year\")"
   ]
  },
  {
   "cell_type": "markdown",
   "metadata": {},
   "source": [
    "The average return in 'down' is much lower in each day of the week in 2020 compared to other years. "
   ]
  },
  {
   "cell_type": "code",
   "execution_count": 152,
   "metadata": {},
   "outputs": [],
   "source": [
    "all_R_plus_mean = pd.concat([result_dict[x]['mu(Rplus)'] for x in range(2016, 2021)], axis = 1)\n",
    "all_R_plus_mean.columns = list(range(2016, 2021))"
   ]
  },
  {
   "cell_type": "code",
   "execution_count": 153,
   "metadata": {
    "scrolled": false
   },
   "outputs": [
    {
     "data": {
      "text/plain": [
       "Text(0.5, 1.0, \"Average Return in 'up' day against Day of Week by Year\")"
      ]
     },
     "execution_count": 153,
     "metadata": {},
     "output_type": "execute_result"
    },
    {
     "data": {
      "image/png": "[encoded data removed]",
      "text/plain": [
       "<Figure size 1080x432 with 1 Axes>"
      ]
     },
     "metadata": {
      "needs_background": "light"
     },
     "output_type": "display_data"
    }
   ],
   "source": [
    "plt.figure(figsize = (15,6))\n",
    "sns.lineplot(data = all_R_plus_mean)\n",
    "plt.xlabel(\"Day of Week\")\n",
    "plt.ylabel(\"Average Return in 'up' day\")\n",
    "plt.title(\"Average Return in 'up' day against Day of Week by Year\")"
   ]
  },
  {
   "cell_type": "markdown",
   "metadata": {},
   "source": [
    "The average return in 'up' is much higher in each day of the week in 2020 compared to other years. "
   ]
  },
  {
   "cell_type": "markdown",
   "metadata": {},
   "source": [
    "## Question 2.2"
   ]
  },
  {
   "cell_type": "code",
   "execution_count": 176,
   "metadata": {},
   "outputs": [],
   "source": [
    "r_mon = pd.DataFrame([result_dict[x]['mu(R)'][0] for x in range(2016,2021)], index = list(range(2016, 2021)))\n",
    "r_tue = pd.DataFrame([result_dict[x]['mu(R)'][1] for x in range(2016,2021)], index = list(range(2016, 2021)))\n",
    "r_wed = pd.DataFrame([result_dict[x]['mu(R)'][2] for x in range(2016,2021)], index = list(range(2016, 2021)))\n",
    "r_thu = pd.DataFrame([result_dict[x]['mu(R)'][3] for x in range(2016,2021)], index = list(range(2016, 2021)))\n",
    "r_fri = pd.DataFrame([result_dict[x]['mu(R)'][4] for x in range(2016,2021)], index = list(range(2016, 2021)))"
   ]
  },
  {
   "cell_type": "code",
   "execution_count": 182,
   "metadata": {},
   "outputs": [
    {
     "data": {
      "text/html": [
       "<div>\n",
       "<style scoped>\n",
       "    .dataframe tbody tr th:only-of-type {\n",
       "        vertical-align: middle;\n",
       "    }\n",
       "\n",
       "    .dataframe tbody tr th {\n",
       "        vertical-align: top;\n",
       "    }\n",
       "\n",
       "    .dataframe thead th {\n",
       "        text-align: right;\n",
       "    }\n",
       "</style>\n",
       "<table border=\"1\" class=\"dataframe\">\n",
       "  <thead>\n",
       "    <tr style=\"text-align: right;\">\n",
       "      <th></th>\n",
       "      <th>Monday</th>\n",
       "      <th>Tuesday</th>\n",
       "      <th>Wednesday</th>\n",
       "      <th>Thursday</th>\n",
       "      <th>Friday</th>\n",
       "    </tr>\n",
       "  </thead>\n",
       "  <tbody>\n",
       "    <tr>\n",
       "      <th>2016</th>\n",
       "      <td>0.000145</td>\n",
       "      <td>0.001311</td>\n",
       "      <td>0.001613</td>\n",
       "      <td>0.002583</td>\n",
       "      <td>-0.001659</td>\n",
       "    </tr>\n",
       "    <tr>\n",
       "      <th>2017</th>\n",
       "      <td>0.001156</td>\n",
       "      <td>-0.000218</td>\n",
       "      <td>-0.000496</td>\n",
       "      <td>-0.000326</td>\n",
       "      <td>-0.000633</td>\n",
       "    </tr>\n",
       "    <tr>\n",
       "      <th>2018</th>\n",
       "      <td>-0.001070</td>\n",
       "      <td>-0.001349</td>\n",
       "      <td>0.001443</td>\n",
       "      <td>-0.000078</td>\n",
       "      <td>-0.001719</td>\n",
       "    </tr>\n",
       "    <tr>\n",
       "      <th>2019</th>\n",
       "      <td>0.001507</td>\n",
       "      <td>-0.000874</td>\n",
       "      <td>-0.001842</td>\n",
       "      <td>0.001306</td>\n",
       "      <td>0.001731</td>\n",
       "    </tr>\n",
       "    <tr>\n",
       "      <th>2020</th>\n",
       "      <td>0.001030</td>\n",
       "      <td>0.003733</td>\n",
       "      <td>-0.003334</td>\n",
       "      <td>-0.005055</td>\n",
       "      <td>-0.002389</td>\n",
       "    </tr>\n",
       "  </tbody>\n",
       "</table>\n",
       "</div>"
      ],
      "text/plain": [
       "        Monday   Tuesday  Wednesday  Thursday    Friday\n",
       "2016  0.000145  0.001311   0.001613  0.002583 -0.001659\n",
       "2017  0.001156 -0.000218  -0.000496 -0.000326 -0.000633\n",
       "2018 -0.001070 -0.001349   0.001443 -0.000078 -0.001719\n",
       "2019  0.001507 -0.000874  -0.001842  0.001306  0.001731\n",
       "2020  0.001030  0.003733  -0.003334 -0.005055 -0.002389"
      ]
     },
     "execution_count": 182,
     "metadata": {},
     "output_type": "execute_result"
    }
   ],
   "source": [
    "r_per_day_of_week = pd.concat([r_mon, r_tue, r_wed, r_thu, r_fri], axis = 1)\n",
    "r_per_day_of_week.columns = day_of_week_names\n",
    "r_per_day_of_week"
   ]
  },
  {
   "cell_type": "code",
   "execution_count": 184,
   "metadata": {},
   "outputs": [
    {
     "data": {
      "text/plain": [
       "Text(0.5, 1.0, 'Average Return against Year by the Day of Week')"
      ]
     },
     "execution_count": 184,
     "metadata": {},
     "output_type": "execute_result"
    },
    {
     "data": {
      "image/png": "[encoded data removed]",
      "text/plain": [
       "<Figure size 1080x432 with 1 Axes>"
      ]
     },
     "metadata": {
      "needs_background": "light"
     },
     "output_type": "display_data"
    }
   ],
   "source": [
    "plt.figure(figsize = (15,6))\n",
    "sns.lineplot(data = r_per_day_of_week)\n",
    "plt.xlabel(\"Year\")\n",
    "plt.ylabel(\"Average Return\")\n",
    "plt.title(\"Average Return against Year by the Day of Week\")"
   ]
  },
  {
   "cell_type": "markdown",
   "metadata": {},
   "source": [
    "From 2016 to 2017, the average return decreases on Tuesday, Wednesday and Thursday. The average return increases on Monday and Friday. \\\n",
    "From 2017 to 2018, the average return decreases on Monday, Tuesday and Friday. The average return increases on Wednesday and Thursday. \\\n",
    "From 2018 to 2019, the average return decreases on Wednesday. The average return increases on Monday, Tuesday, Thursday and Friday.\\\n",
    "From 2019 to 2020, the average return decreases on Monday, Wednesday, Thursday and Friday. The average return increases on Tuesday."
   ]
  },
  {
   "cell_type": "markdown",
   "metadata": {},
   "source": [
    "## Question 2.3"
   ]
  },
  {
   "cell_type": "markdown",
   "metadata": {},
   "source": [
    "For 2016, the best day of the week to be invested is Thursday, and the worst day of the week to be invested is Friday. \\\n",
    "For 2017, the best day of the week to be invested is Monday, and the worst day of the week to be invested is Friday. \\\n",
    "For 2018, the best day of the week to be invested is Wednesday, and the worst day of the week to be invested is Friday. \\\n",
    "For 2019, the best day of the week to be invested is Friday, and the worst day of the week to be invested is Wednesday. \\\n",
    "For 2020, the best day of the week to be invested is Tuesday, and the worst day of the week to be invested is Thursday. "
   ]
  },
  {
   "cell_type": "markdown",
   "metadata": {},
   "source": [
    "## Question 2.4"
   ]
  },
  {
   "cell_type": "markdown",
   "metadata": {},
   "source": [
    "Yes. "
   ]
  },
  {
   "cell_type": "markdown",
   "metadata": {},
   "source": [
    "## Question 3.1"
   ]
  },
  {
   "cell_type": "markdown",
   "metadata": {},
   "source": [
    "##### _Create the aggregate table for the stock XOM_"
   ]
  },
  {
   "cell_type": "code",
   "execution_count": 185,
   "metadata": {},
   "outputs": [],
   "source": [
    "day_of_week_names = calendar.day_name[0:5]\n",
    "xom_dict = {}\n",
    "for day in day_of_week_names:\n",
    "    XOM_day = XOM[XOM.wday == day]\n",
    "    xom_dict[day] = XOM_day.Return"
   ]
  },
  {
   "cell_type": "code",
   "execution_count": 189,
   "metadata": {},
   "outputs": [],
   "source": [
    "R_mean = [] \n",
    "R_sd = []    \n",
    "R_minus_mean = []    \n",
    "R_minus_sd = []   \n",
    "R_minus_len = []    \n",
    "R_plus_mean = []\n",
    "R_plus_sd = []    \n",
    "R_plus_len = []\n",
    "\n",
    "for day in day_of_week_names:\n",
    "\n",
    "    # calculate the statistics for R\n",
    "    r = xom_dict[day]\n",
    "    r_mean = np.mean(r)\n",
    "    r_sd = np.sqrt(np.mean(r**2)-(r_mean**2))\n",
    "    R_mean.append(r_mean)    \n",
    "    R_sd.append(r_sd)\n",
    "\n",
    "    # calculate the statistics for R_minus\n",
    "    r_minus = r[r < 0]\n",
    "    r_minus_len = len(r_minus)\n",
    "    r_minus_mean = np.mean(r_minus)\n",
    "    r_minus_sd = np.sqrt(np.mean(r_minus**2)-(r_minus_mean**2))\n",
    "    R_minus_len.append(r_minus_len)\n",
    "    R_minus_mean.append(r_minus_mean)\n",
    "    R_minus_sd.append(r_minus_sd)\n",
    "\n",
    "    # calculate the statistics for R_plus\n",
    "    r_plus = r[r >= 0]\n",
    "    r_plus_len = len(r_plus)\n",
    "    r_plus_mean = np.mean(r_plus)\n",
    "    r_plus_sd = np.sqrt(np.mean(r_plus**2)-(r_plus_mean**2))\n",
    "    R_plus_len.append(r_plus_len)\n",
    "    R_plus_mean.append(r_plus_mean)\n",
    "    R_plus_sd.append(r_plus_sd)\n",
    "\n",
    "xom_result_dict = pd.DataFrame(list(zip(R_mean, R_sd, \n",
    "                                        R_minus_len, R_minus_mean, R_minus_sd,\n",
    "                                        R_plus_len, R_plus_mean, R_plus_sd)), \n",
    "                               index = day_of_week_names, \n",
    "                               columns = ['mu(R)', 'sigma(R)', \n",
    "                                          '|Rminus|', 'mu(Rminus)', 'sigma(Rminus)',\n",
    "                                          '|Rplus|', 'mu(Rplus)', 'sigma(Rplus)'])"
   ]
  },
  {
   "cell_type": "markdown",
   "metadata": {},
   "source": [
    "##### _Create the aggregate table for the stock SPY_"
   ]
  },
  {
   "cell_type": "code",
   "execution_count": 193,
   "metadata": {},
   "outputs": [
    {
     "data": {
      "text/html": [
       "<div>\n",
       "<style scoped>\n",
       "    .dataframe tbody tr th:only-of-type {\n",
       "        vertical-align: middle;\n",
       "    }\n",
       "\n",
       "    .dataframe tbody tr th {\n",
       "        vertical-align: top;\n",
       "    }\n",
       "\n",
       "    .dataframe thead th {\n",
       "        text-align: right;\n",
       "    }\n",
       "</style>\n",
       "<table border=\"1\" class=\"dataframe\">\n",
       "  <thead>\n",
       "    <tr style=\"text-align: right;\">\n",
       "      <th></th>\n",
       "      <th>Date</th>\n",
       "      <th>Year</th>\n",
       "      <th>Month</th>\n",
       "      <th>Day</th>\n",
       "      <th>Weekday</th>\n",
       "      <th>Week_Number</th>\n",
       "      <th>Year_Week</th>\n",
       "      <th>Open</th>\n",
       "      <th>High</th>\n",
       "      <th>Low</th>\n",
       "      <th>Close</th>\n",
       "      <th>Volume</th>\n",
       "      <th>Adj Close</th>\n",
       "      <th>Return</th>\n",
       "      <th>Short_MA</th>\n",
       "      <th>Long_MA</th>\n",
       "    </tr>\n",
       "  </thead>\n",
       "  <tbody>\n",
       "    <tr>\n",
       "      <th>0</th>\n",
       "      <td>2016-01-04</td>\n",
       "      <td>2016</td>\n",
       "      <td>1</td>\n",
       "      <td>4</td>\n",
       "      <td>Monday</td>\n",
       "      <td>1</td>\n",
       "      <td>2016-01</td>\n",
       "      <td>200.49</td>\n",
       "      <td>201.03</td>\n",
       "      <td>198.59</td>\n",
       "      <td>201.02</td>\n",
       "      <td>222353500.0</td>\n",
       "      <td>182.51</td>\n",
       "      <td>0.000000</td>\n",
       "      <td>182.510</td>\n",
       "      <td>182.510</td>\n",
       "    </tr>\n",
       "    <tr>\n",
       "      <th>1</th>\n",
       "      <td>2016-01-05</td>\n",
       "      <td>2016</td>\n",
       "      <td>1</td>\n",
       "      <td>5</td>\n",
       "      <td>Tuesday</td>\n",
       "      <td>1</td>\n",
       "      <td>2016-01</td>\n",
       "      <td>201.40</td>\n",
       "      <td>201.90</td>\n",
       "      <td>200.05</td>\n",
       "      <td>201.36</td>\n",
       "      <td>110845800.0</td>\n",
       "      <td>182.82</td>\n",
       "      <td>0.001691</td>\n",
       "      <td>182.665</td>\n",
       "      <td>182.665</td>\n",
       "    </tr>\n",
       "    <tr>\n",
       "      <th>2</th>\n",
       "      <td>2016-01-06</td>\n",
       "      <td>2016</td>\n",
       "      <td>1</td>\n",
       "      <td>6</td>\n",
       "      <td>Wednesday</td>\n",
       "      <td>1</td>\n",
       "      <td>2016-01</td>\n",
       "      <td>198.34</td>\n",
       "      <td>200.06</td>\n",
       "      <td>197.60</td>\n",
       "      <td>198.82</td>\n",
       "      <td>152112600.0</td>\n",
       "      <td>180.52</td>\n",
       "      <td>-0.012614</td>\n",
       "      <td>181.950</td>\n",
       "      <td>181.950</td>\n",
       "    </tr>\n",
       "    <tr>\n",
       "      <th>3</th>\n",
       "      <td>2016-01-07</td>\n",
       "      <td>2016</td>\n",
       "      <td>1</td>\n",
       "      <td>7</td>\n",
       "      <td>Thursday</td>\n",
       "      <td>1</td>\n",
       "      <td>2016-01</td>\n",
       "      <td>195.33</td>\n",
       "      <td>197.44</td>\n",
       "      <td>193.59</td>\n",
       "      <td>194.05</td>\n",
       "      <td>213436100.0</td>\n",
       "      <td>176.19</td>\n",
       "      <td>-0.023991</td>\n",
       "      <td>180.510</td>\n",
       "      <td>180.510</td>\n",
       "    </tr>\n",
       "    <tr>\n",
       "      <th>4</th>\n",
       "      <td>2016-01-08</td>\n",
       "      <td>2016</td>\n",
       "      <td>1</td>\n",
       "      <td>8</td>\n",
       "      <td>Friday</td>\n",
       "      <td>1</td>\n",
       "      <td>2016-01</td>\n",
       "      <td>195.19</td>\n",
       "      <td>195.85</td>\n",
       "      <td>191.58</td>\n",
       "      <td>191.92</td>\n",
       "      <td>209817200.0</td>\n",
       "      <td>174.25</td>\n",
       "      <td>-0.010977</td>\n",
       "      <td>179.258</td>\n",
       "      <td>179.258</td>\n",
       "    </tr>\n",
       "  </tbody>\n",
       "</table>\n",
       "</div>"
      ],
      "text/plain": [
       "         Date  Year  Month  Day    Weekday  Week_Number Year_Week    Open  \\\n",
       "0  2016-01-04  2016      1    4     Monday            1   2016-01  200.49   \n",
       "1  2016-01-05  2016      1    5    Tuesday            1   2016-01  201.40   \n",
       "2  2016-01-06  2016      1    6  Wednesday            1   2016-01  198.34   \n",
       "3  2016-01-07  2016      1    7   Thursday            1   2016-01  195.33   \n",
       "4  2016-01-08  2016      1    8     Friday            1   2016-01  195.19   \n",
       "\n",
       "     High     Low   Close       Volume  Adj Close    Return  Short_MA  Long_MA  \n",
       "0  201.03  198.59  201.02  222353500.0     182.51  0.000000   182.510  182.510  \n",
       "1  201.90  200.05  201.36  110845800.0     182.82  0.001691   182.665  182.665  \n",
       "2  200.06  197.60  198.82  152112600.0     180.52 -0.012614   181.950  181.950  \n",
       "3  197.44  193.59  194.05  213436100.0     176.19 -0.023991   180.510  180.510  \n",
       "4  195.85  191.58  191.92  209817200.0     174.25 -0.010977   179.258  179.258  "
      ]
     },
     "execution_count": 193,
     "metadata": {},
     "output_type": "execute_result"
    }
   ],
   "source": [
    "SPY = pd.read_csv(\"SPY.csv\")\n",
    "SPY.head()"
   ]
  },
  {
   "cell_type": "code",
   "execution_count": 194,
   "metadata": {},
   "outputs": [],
   "source": [
    "# convert the column Date from string to datetime format\n",
    "SPY.Date = SPY.Date.apply(lambda x: datetime.datetime.strptime(x, \"%Y-%m-%d\"))"
   ]
  },
  {
   "cell_type": "code",
   "execution_count": 195,
   "metadata": {},
   "outputs": [],
   "source": [
    "# create a day of week column \"wday\"\n",
    "SPY['wday'] = SPY.Date.apply(lambda x: calendar.day_name[x.weekday()])"
   ]
  },
  {
   "cell_type": "code",
   "execution_count": 196,
   "metadata": {},
   "outputs": [],
   "source": [
    "spy_dict = {}\n",
    "for day in day_of_week_names:\n",
    "    SPY_day = SPY[SPY.wday == day]\n",
    "    spy_dict[day] = SPY_day.Return"
   ]
  },
  {
   "cell_type": "code",
   "execution_count": 197,
   "metadata": {},
   "outputs": [],
   "source": [
    "R_mean = [] \n",
    "R_sd = []    \n",
    "R_minus_mean = []    \n",
    "R_minus_sd = []   \n",
    "R_minus_len = []    \n",
    "R_plus_mean = []\n",
    "R_plus_sd = []    \n",
    "R_plus_len = []\n",
    "\n",
    "for day in day_of_week_names:\n",
    "\n",
    "    # calculate the statistics for R\n",
    "    r = spy_dict[day]\n",
    "    r_mean = np.mean(r)\n",
    "    r_sd = np.sqrt(np.mean(r**2)-(r_mean**2))\n",
    "    R_mean.append(r_mean)    \n",
    "    R_sd.append(r_sd)\n",
    "\n",
    "    # calculate the statistics for R_minus\n",
    "    r_minus = r[r < 0]\n",
    "    r_minus_len = len(r_minus)\n",
    "    r_minus_mean = np.mean(r_minus)\n",
    "    r_minus_sd = np.sqrt(np.mean(r_minus**2)-(r_minus_mean**2))\n",
    "    R_minus_len.append(r_minus_len)\n",
    "    R_minus_mean.append(r_minus_mean)\n",
    "    R_minus_sd.append(r_minus_sd)\n",
    "\n",
    "    # calculate the statistics for R_plus\n",
    "    r_plus = r[r >= 0]\n",
    "    r_plus_len = len(r_plus)\n",
    "    r_plus_mean = np.mean(r_plus)\n",
    "    r_plus_sd = np.sqrt(np.mean(r_plus**2)-(r_plus_mean**2))\n",
    "    R_plus_len.append(r_plus_len)\n",
    "    R_plus_mean.append(r_plus_mean)\n",
    "    R_plus_sd.append(r_plus_sd)\n",
    "\n",
    "spy_result_dict = pd.DataFrame(list(zip(R_mean, R_sd, \n",
    "                                        R_minus_len, R_minus_mean, R_minus_sd,\n",
    "                                        R_plus_len, R_plus_mean, R_plus_sd)), \n",
    "                               index = day_of_week_names, \n",
    "                               columns = ['mu(R)', 'sigma(R)', \n",
    "                                          '|Rminus|', 'mu(Rminus)', 'sigma(Rminus)',\n",
    "                                          '|Rplus|', 'mu(Rplus)', 'sigma(Rplus)'])"
   ]
  },
  {
   "cell_type": "markdown",
   "metadata": {},
   "source": [
    "The table for XOM is "
   ]
  },
  {
   "cell_type": "code",
   "execution_count": 199,
   "metadata": {},
   "outputs": [
    {
     "data": {
      "text/html": [
       "<div>\n",
       "<style scoped>\n",
       "    .dataframe tbody tr th:only-of-type {\n",
       "        vertical-align: middle;\n",
       "    }\n",
       "\n",
       "    .dataframe tbody tr th {\n",
       "        vertical-align: top;\n",
       "    }\n",
       "\n",
       "    .dataframe thead th {\n",
       "        text-align: right;\n",
       "    }\n",
       "</style>\n",
       "<table border=\"1\" class=\"dataframe\">\n",
       "  <thead>\n",
       "    <tr style=\"text-align: right;\">\n",
       "      <th></th>\n",
       "      <th>mu(R)</th>\n",
       "      <th>sigma(R)</th>\n",
       "      <th>|Rminus|</th>\n",
       "      <th>mu(Rminus)</th>\n",
       "      <th>sigma(Rminus)</th>\n",
       "      <th>|Rplus|</th>\n",
       "      <th>mu(Rplus)</th>\n",
       "      <th>sigma(Rplus)</th>\n",
       "    </tr>\n",
       "  </thead>\n",
       "  <tbody>\n",
       "    <tr>\n",
       "      <th>Monday</th>\n",
       "      <td>0.000552</td>\n",
       "      <td>0.021005</td>\n",
       "      <td>105</td>\n",
       "      <td>-0.013504</td>\n",
       "      <td>0.017768</td>\n",
       "      <td>131</td>\n",
       "      <td>0.011818</td>\n",
       "      <td>0.016018</td>\n",
       "    </tr>\n",
       "    <tr>\n",
       "      <th>Tuesday</th>\n",
       "      <td>0.000531</td>\n",
       "      <td>0.016489</td>\n",
       "      <td>133</td>\n",
       "      <td>-0.009855</td>\n",
       "      <td>0.008616</td>\n",
       "      <td>125</td>\n",
       "      <td>0.011581</td>\n",
       "      <td>0.015662</td>\n",
       "    </tr>\n",
       "    <tr>\n",
       "      <th>Wednesday</th>\n",
       "      <td>-0.000533</td>\n",
       "      <td>0.017950</td>\n",
       "      <td>131</td>\n",
       "      <td>-0.012542</td>\n",
       "      <td>0.013628</td>\n",
       "      <td>126</td>\n",
       "      <td>0.011952</td>\n",
       "      <td>0.012581</td>\n",
       "    </tr>\n",
       "    <tr>\n",
       "      <th>Thursday</th>\n",
       "      <td>-0.000339</td>\n",
       "      <td>0.017699</td>\n",
       "      <td>128</td>\n",
       "      <td>-0.011321</td>\n",
       "      <td>0.015555</td>\n",
       "      <td>127</td>\n",
       "      <td>0.010730</td>\n",
       "      <td>0.011877</td>\n",
       "    </tr>\n",
       "    <tr>\n",
       "      <th>Friday</th>\n",
       "      <td>-0.000922</td>\n",
       "      <td>0.016891</td>\n",
       "      <td>132</td>\n",
       "      <td>-0.011264</td>\n",
       "      <td>0.011930</td>\n",
       "      <td>121</td>\n",
       "      <td>0.010359</td>\n",
       "      <td>0.014049</td>\n",
       "    </tr>\n",
       "  </tbody>\n",
       "</table>\n",
       "</div>"
      ],
      "text/plain": [
       "              mu(R)  sigma(R)  |Rminus|  mu(Rminus)  sigma(Rminus)  |Rplus|  \\\n",
       "Monday     0.000552  0.021005       105   -0.013504       0.017768      131   \n",
       "Tuesday    0.000531  0.016489       133   -0.009855       0.008616      125   \n",
       "Wednesday -0.000533  0.017950       131   -0.012542       0.013628      126   \n",
       "Thursday  -0.000339  0.017699       128   -0.011321       0.015555      127   \n",
       "Friday    -0.000922  0.016891       132   -0.011264       0.011930      121   \n",
       "\n",
       "           mu(Rplus)  sigma(Rplus)  \n",
       "Monday      0.011818      0.016018  \n",
       "Tuesday     0.011581      0.015662  \n",
       "Wednesday   0.011952      0.012581  \n",
       "Thursday    0.010730      0.011877  \n",
       "Friday      0.010359      0.014049  "
      ]
     },
     "execution_count": 199,
     "metadata": {},
     "output_type": "execute_result"
    }
   ],
   "source": [
    "xom_result_dict"
   ]
  },
  {
   "cell_type": "markdown",
   "metadata": {},
   "source": [
    "The table for SPY is "
   ]
  },
  {
   "cell_type": "code",
   "execution_count": 200,
   "metadata": {},
   "outputs": [
    {
     "data": {
      "text/html": [
       "<div>\n",
       "<style scoped>\n",
       "    .dataframe tbody tr th:only-of-type {\n",
       "        vertical-align: middle;\n",
       "    }\n",
       "\n",
       "    .dataframe tbody tr th {\n",
       "        vertical-align: top;\n",
       "    }\n",
       "\n",
       "    .dataframe thead th {\n",
       "        text-align: right;\n",
       "    }\n",
       "</style>\n",
       "<table border=\"1\" class=\"dataframe\">\n",
       "  <thead>\n",
       "    <tr style=\"text-align: right;\">\n",
       "      <th></th>\n",
       "      <th>mu(R)</th>\n",
       "      <th>sigma(R)</th>\n",
       "      <th>|Rminus|</th>\n",
       "      <th>mu(Rminus)</th>\n",
       "      <th>sigma(Rminus)</th>\n",
       "      <th>|Rplus|</th>\n",
       "      <th>mu(Rplus)</th>\n",
       "      <th>sigma(Rplus)</th>\n",
       "    </tr>\n",
       "  </thead>\n",
       "  <tbody>\n",
       "    <tr>\n",
       "      <th>Monday</th>\n",
       "      <td>0.000509</td>\n",
       "      <td>0.013913</td>\n",
       "      <td>99</td>\n",
       "      <td>-0.008613</td>\n",
       "      <td>0.014802</td>\n",
       "      <td>137</td>\n",
       "      <td>0.007100</td>\n",
       "      <td>0.008460</td>\n",
       "    </tr>\n",
       "    <tr>\n",
       "      <th>Tuesday</th>\n",
       "      <td>0.001215</td>\n",
       "      <td>0.011465</td>\n",
       "      <td>112</td>\n",
       "      <td>-0.006709</td>\n",
       "      <td>0.006935</td>\n",
       "      <td>146</td>\n",
       "      <td>0.007294</td>\n",
       "      <td>0.010500</td>\n",
       "    </tr>\n",
       "    <tr>\n",
       "      <th>Wednesday</th>\n",
       "      <td>0.000906</td>\n",
       "      <td>0.011115</td>\n",
       "      <td>106</td>\n",
       "      <td>-0.007369</td>\n",
       "      <td>0.010126</td>\n",
       "      <td>151</td>\n",
       "      <td>0.006715</td>\n",
       "      <td>0.007515</td>\n",
       "    </tr>\n",
       "    <tr>\n",
       "      <th>Thursday</th>\n",
       "      <td>-0.000001</td>\n",
       "      <td>0.011658</td>\n",
       "      <td>117</td>\n",
       "      <td>-0.007136</td>\n",
       "      <td>0.012440</td>\n",
       "      <td>138</td>\n",
       "      <td>0.006048</td>\n",
       "      <td>0.006339</td>\n",
       "    </tr>\n",
       "    <tr>\n",
       "      <th>Friday</th>\n",
       "      <td>0.000556</td>\n",
       "      <td>0.011111</td>\n",
       "      <td>111</td>\n",
       "      <td>-0.007257</td>\n",
       "      <td>0.008449</td>\n",
       "      <td>142</td>\n",
       "      <td>0.006663</td>\n",
       "      <td>0.008895</td>\n",
       "    </tr>\n",
       "  </tbody>\n",
       "</table>\n",
       "</div>"
      ],
      "text/plain": [
       "              mu(R)  sigma(R)  |Rminus|  mu(Rminus)  sigma(Rminus)  |Rplus|  \\\n",
       "Monday     0.000509  0.013913        99   -0.008613       0.014802      137   \n",
       "Tuesday    0.001215  0.011465       112   -0.006709       0.006935      146   \n",
       "Wednesday  0.000906  0.011115       106   -0.007369       0.010126      151   \n",
       "Thursday  -0.000001  0.011658       117   -0.007136       0.012440      138   \n",
       "Friday     0.000556  0.011111       111   -0.007257       0.008449      142   \n",
       "\n",
       "           mu(Rplus)  sigma(Rplus)  \n",
       "Monday      0.007100      0.008460  \n",
       "Tuesday     0.007294      0.010500  \n",
       "Wednesday   0.006715      0.007515  \n",
       "Thursday    0.006048      0.006339  \n",
       "Friday      0.006663      0.008895  "
      ]
     },
     "execution_count": 200,
     "metadata": {},
     "output_type": "execute_result"
    }
   ],
   "source": [
    "spy_result_dict"
   ]
  },
  {
   "cell_type": "markdown",
   "metadata": {},
   "source": [
    "For XOM, the best day of the week is Monday. The worst day of the week is Friday. \\\n",
    "For SPY, the best day of the week is Tuesday. The worst day of the week is Thursday. "
   ]
  },
  {
   "cell_type": "markdown",
   "metadata": {},
   "source": [
    "## Question 3.2"
   ]
  },
  {
   "cell_type": "markdown",
   "metadata": {},
   "source": [
    "No. We have different best day and worst day for XOM and SPY. "
   ]
  },
  {
   "cell_type": "markdown",
   "metadata": {},
   "source": [
    "## Question 4.1"
   ]
  },
  {
   "cell_type": "code",
   "execution_count": 209,
   "metadata": {},
   "outputs": [],
   "source": [
    "xom_r = XOM.Return\n",
    "xom_r_plus = xom_r[xom_r >= 0]\n",
    "\n",
    "xom_A = 100\n",
    "for rr in xom_r_plus:\n",
    "    xom_A += xom_A*rr"
   ]
  },
  {
   "cell_type": "code",
   "execution_count": 210,
   "metadata": {},
   "outputs": [
    {
     "name": "stdout",
     "output_type": "stream",
     "text": [
      "For my stock XOM, I will have $111684.53 in my last trading day of year 5\n"
     ]
    }
   ],
   "source": [
    "print('For my stock XOM, I will have $%0.2f in my last trading day of year 5' % xom_A)"
   ]
  },
  {
   "cell_type": "markdown",
   "metadata": {},
   "source": [
    "## Question 4.2"
   ]
  },
  {
   "cell_type": "code",
   "execution_count": 211,
   "metadata": {},
   "outputs": [],
   "source": [
    "spy_r = SPY.Return\n",
    "spy_r_plus = spy_r[spy_r >= 0]\n",
    "\n",
    "spy_A = 100\n",
    "for rr in spy_r_plus:\n",
    "    spy_A += spy_A*rr"
   ]
  },
  {
   "cell_type": "code",
   "execution_count": 212,
   "metadata": {},
   "outputs": [
    {
     "name": "stdout",
     "output_type": "stream",
     "text": [
      "For the stock SPY, I will have $12045.96 in my last trading day of year 5\n"
     ]
    }
   ],
   "source": [
    "print('For the stock SPY, I will have $%0.2f in my last trading day of year 5' % spy_A)"
   ]
  },
  {
   "cell_type": "markdown",
   "metadata": {},
   "source": [
    "## Question 5.1"
   ]
  },
  {
   "cell_type": "code",
   "execution_count": 214,
   "metadata": {},
   "outputs": [],
   "source": [
    "xom_A = 100\n",
    "for rr in xom_r:\n",
    "    xom_A += xom_A*rr"
   ]
  },
  {
   "cell_type": "code",
   "execution_count": 215,
   "metadata": {},
   "outputs": [
    {
     "name": "stdout",
     "output_type": "stream",
     "text": [
      "For my stock XOM with buy-and-hold strategy, I will have $67.40 in my last trading day of year 5\n"
     ]
    }
   ],
   "source": [
    "print('For my stock XOM with buy-and-hold strategy, I will have $%0.2f in my last trading day of year 5' % xom_A)"
   ]
  },
  {
   "cell_type": "code",
   "execution_count": 217,
   "metadata": {},
   "outputs": [],
   "source": [
    "spy_A = 100\n",
    "for rr in spy_r:\n",
    "    spy_A += spy_A*rr"
   ]
  },
  {
   "cell_type": "code",
   "execution_count": 218,
   "metadata": {},
   "outputs": [
    {
     "name": "stdout",
     "output_type": "stream",
     "text": [
      "For the stock SPY with buy-and-hold strategy, I will have $204.85 in my last trading day of year 5\n"
     ]
    }
   ],
   "source": [
    "print('For the stock SPY with buy-and-hold strategy, I will have $%0.2f in my last trading day of year 5' % spy_A)"
   ]
  },
  {
   "cell_type": "markdown",
   "metadata": {},
   "source": [
    "## Question 5.2"
   ]
  },
  {
   "cell_type": "markdown",
   "metadata": {},
   "source": [
    "Comparing to the results in question 4, we have opposite result. In question 4, we earn more by buying the stock XOM than SPY. \\\n",
    "In this question, we earn more by buying the stock SPY than XOM. "
   ]
  },
  {
   "cell_type": "markdown",
   "metadata": {},
   "source": [
    "## Question 6.1"
   ]
  },
  {
   "cell_type": "code",
   "execution_count": 237,
   "metadata": {},
   "outputs": [],
   "source": [
    "xom_best_10 = np.sort(xom_r)[-10:]\n",
    "xom_worst_10 = np.sort(xom_r)[:10]\n",
    "xom_best_5 = np.sort(xom_r)[-5:]\n",
    "xom_worst_5 = np.sort(xom_r)[:5]\n",
    "xom_best_5_worst_5 = np.concatenate((xom_worst_5, xom_best_5)) "
   ]
  },
  {
   "cell_type": "code",
   "execution_count": 240,
   "metadata": {},
   "outputs": [],
   "source": [
    "spy_best_10 = np.sort(spy_r)[-10:]\n",
    "spy_worst_10 = np.sort(spy_r)[:10]\n",
    "spy_best_5 = np.sort(spy_r)[-5:]\n",
    "spy_worst_5 = np.sort(spy_r)[:5]\n",
    "spy_best_5_worst_5 = np.concatenate((spy_worst_5, spy_best_5)) "
   ]
  },
  {
   "cell_type": "markdown",
   "metadata": {},
   "source": [
    "#### Scenario (a)"
   ]
  },
  {
   "cell_type": "code",
   "execution_count": 238,
   "metadata": {},
   "outputs": [],
   "source": [
    "xom_A = 100\n",
    "for rr in xom_r:\n",
    "    if rr >= 0 and rr not in xom_best_10:\n",
    "        xom_A += xom_A*rr"
   ]
  },
  {
   "cell_type": "code",
   "execution_count": 239,
   "metadata": {},
   "outputs": [
    {
     "name": "stdout",
     "output_type": "stream",
     "text": [
      "For my stock XOM, I will have $49186.18 in my last trading day of year 5\n"
     ]
    }
   ],
   "source": [
    "print('For my stock XOM, I will have $%0.2f in my last trading day of year 5' % xom_A)"
   ]
  },
  {
   "cell_type": "code",
   "execution_count": 241,
   "metadata": {},
   "outputs": [],
   "source": [
    "spy_A = 100\n",
    "for rr in spy_r:\n",
    "    if rr >= 0 and rr not in spy_best_10:\n",
    "        spy_A += spy_A*rr"
   ]
  },
  {
   "cell_type": "code",
   "execution_count": 242,
   "metadata": {
    "scrolled": true
   },
   "outputs": [
    {
     "name": "stdout",
     "output_type": "stream",
     "text": [
      "For the stock SPY, I will have $6884.72 in my last trading day of year 5\n"
     ]
    }
   ],
   "source": [
    "print('For the stock SPY, I will have $%0.2f in my last trading day of year 5' % spy_A)"
   ]
  },
  {
   "cell_type": "markdown",
   "metadata": {},
   "source": [
    "#### Scenario (b)"
   ]
  },
  {
   "cell_type": "code",
   "execution_count": 243,
   "metadata": {},
   "outputs": [],
   "source": [
    "xom_A = 100\n",
    "for rr in xom_r:\n",
    "    if rr >= 0 or rr in xom_worst_10:\n",
    "        xom_A += xom_A*rr"
   ]
  },
  {
   "cell_type": "code",
   "execution_count": 244,
   "metadata": {},
   "outputs": [
    {
     "name": "stdout",
     "output_type": "stream",
     "text": [
      "For my stock XOM, I will have $47609.43 in my last trading day of year 5\n"
     ]
    }
   ],
   "source": [
    "print('For my stock XOM, I will have $%0.2f in my last trading day of year 5' % xom_A)"
   ]
  },
  {
   "cell_type": "code",
   "execution_count": 249,
   "metadata": {},
   "outputs": [],
   "source": [
    "spy_A = 100\n",
    "for rr in spy_r:\n",
    "    if rr >= 0 or rr in spy_worst_10:\n",
    "        spy_A += spy_A*rr"
   ]
  },
  {
   "cell_type": "code",
   "execution_count": 250,
   "metadata": {},
   "outputs": [
    {
     "name": "stdout",
     "output_type": "stream",
     "text": [
      "For the stock SPY, I will have $6365.38 in my last trading day of year 5\n"
     ]
    }
   ],
   "source": [
    "print('For the stock SPY, I will have $%0.2f in my last trading day of year 5' % spy_A)"
   ]
  },
  {
   "cell_type": "markdown",
   "metadata": {},
   "source": [
    "#### Scenario (c)"
   ]
  },
  {
   "cell_type": "code",
   "execution_count": 251,
   "metadata": {},
   "outputs": [],
   "source": [
    "xom_A = 100\n",
    "for rr in xom_r:\n",
    "    if (rr >= 0 and rr not in xom_best_5) or rr in xom_worst_5:\n",
    "        xom_A += xom_A*rr"
   ]
  },
  {
   "cell_type": "code",
   "execution_count": 252,
   "metadata": {
    "scrolled": true
   },
   "outputs": [
    {
     "name": "stdout",
     "output_type": "stream",
     "text": [
      "For my stock XOM, I will have $39399.72 in my last trading day of year 5\n"
     ]
    }
   ],
   "source": [
    "print('For my stock XOM, I will have $%0.2f in my last trading day of year 5' % xom_A)"
   ]
  },
  {
   "cell_type": "code",
   "execution_count": 253,
   "metadata": {},
   "outputs": [],
   "source": [
    "spy_A = 100\n",
    "for rr in spy_r:\n",
    "    if (rr >= 0 and rr not in spy_best_5) or rr in spy_worst_5:\n",
    "        spy_A += spy_A*rr"
   ]
  },
  {
   "cell_type": "code",
   "execution_count": 254,
   "metadata": {},
   "outputs": [
    {
     "name": "stdout",
     "output_type": "stream",
     "text": [
      "For the stock SPY, I will have $5677.58 in my last trading day of year 5\n"
     ]
    }
   ],
   "source": [
    "print('For the stock SPY, I will have $%0.2f in my last trading day of year 5' % spy_A)"
   ]
  },
  {
   "cell_type": "markdown",
   "metadata": {},
   "source": [
    "## Question 6.2"
   ]
  },
  {
   "cell_type": "markdown",
   "metadata": {},
   "source": [
    "We gain more in scenario (a). So, we gain more by missing the worst days, scenario (b)."
   ]
  },
  {
   "cell_type": "markdown",
   "metadata": {},
   "source": [
    "## Question 6.3"
   ]
  },
  {
   "cell_type": "markdown",
   "metadata": {},
   "source": [
    "The result is much different than Question 4. \n",
    "\n",
    "For my stock XOM, I gain \\\\$111684.53 in question 4 and gain just \\\\$39399.72 in question 6(c). \n",
    "\n",
    "For the stock SPY, I gain \\\\$12045.96 in question 4 and gain just \\\\$5677.58 in question 6(c). "
   ]
  },
  {
   "cell_type": "code",
   "execution_count": null,
   "metadata": {},
   "outputs": [],
   "source": []
  }
 ],
 "metadata": {
  "kernelspec": {
   "display_name": "Python 3",
   "language": "python",
   "name": "python3"
  },
  "language_info": {
   "codemirror_mode": {
    "name": "ipython",
    "version": 3
   },
   "file_extension": ".py",
   "mimetype": "text/x-python",
   "name": "python",
   "nbconvert_exporter": "python",
   "pygments_lexer": "ipython3",
   "version": "3.8.5"
  }
 },
 "nbformat": 4,
 "nbformat_minor": 4
}
