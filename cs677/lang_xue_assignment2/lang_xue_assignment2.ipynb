{
 "cells": [
  {
   "cell_type": "code",
   "execution_count": 2,
   "metadata": {},
   "outputs": [],
   "source": [
    "import pandas as pd\n",
    "import numpy as np"
   ]
  },
  {
   "cell_type": "markdown",
   "metadata": {},
   "source": [
    "## Question 1"
   ]
  },
  {
   "cell_type": "markdown",
   "metadata": {},
   "source": [
    "### 1.1."
   ]
  },
  {
   "cell_type": "code",
   "execution_count": 3,
   "metadata": {},
   "outputs": [
    {
     "data": {
      "text/plain": [
       "(1259, 16)"
      ]
     },
     "execution_count": 3,
     "metadata": {},
     "output_type": "execute_result"
    }
   ],
   "source": [
    "# import data\n",
    "spy = pd.read_csv('SPY.csv')\n",
    "spy.shape"
   ]
  },
  {
   "cell_type": "code",
   "execution_count": 4,
   "metadata": {},
   "outputs": [
    {
     "data": {
      "text/html": [
       "<div>\n",
       "<style scoped>\n",
       "    .dataframe tbody tr th:only-of-type {\n",
       "        vertical-align: middle;\n",
       "    }\n",
       "\n",
       "    .dataframe tbody tr th {\n",
       "        vertical-align: top;\n",
       "    }\n",
       "\n",
       "    .dataframe thead th {\n",
       "        text-align: right;\n",
       "    }\n",
       "</style>\n",
       "<table border=\"1\" class=\"dataframe\">\n",
       "  <thead>\n",
       "    <tr style=\"text-align: right;\">\n",
       "      <th></th>\n",
       "      <th>Date</th>\n",
       "      <th>Year</th>\n",
       "      <th>Month</th>\n",
       "      <th>Day</th>\n",
       "      <th>Weekday</th>\n",
       "      <th>Week_Number</th>\n",
       "      <th>Year_Week</th>\n",
       "      <th>Open</th>\n",
       "      <th>High</th>\n",
       "      <th>Low</th>\n",
       "      <th>Close</th>\n",
       "      <th>Volume</th>\n",
       "      <th>Adj Close</th>\n",
       "      <th>Return</th>\n",
       "      <th>Short_MA</th>\n",
       "      <th>Long_MA</th>\n",
       "      <th>True_Label</th>\n",
       "    </tr>\n",
       "  </thead>\n",
       "  <tbody>\n",
       "    <tr>\n",
       "      <th>0</th>\n",
       "      <td>2016-01-04</td>\n",
       "      <td>2016</td>\n",
       "      <td>1</td>\n",
       "      <td>4</td>\n",
       "      <td>Monday</td>\n",
       "      <td>1</td>\n",
       "      <td>2016-01</td>\n",
       "      <td>200.49</td>\n",
       "      <td>201.03</td>\n",
       "      <td>198.59</td>\n",
       "      <td>201.02</td>\n",
       "      <td>222353500.0</td>\n",
       "      <td>182.51</td>\n",
       "      <td>0.000000</td>\n",
       "      <td>182.510</td>\n",
       "      <td>182.510</td>\n",
       "      <td>+</td>\n",
       "    </tr>\n",
       "    <tr>\n",
       "      <th>1</th>\n",
       "      <td>2016-01-05</td>\n",
       "      <td>2016</td>\n",
       "      <td>1</td>\n",
       "      <td>5</td>\n",
       "      <td>Tuesday</td>\n",
       "      <td>1</td>\n",
       "      <td>2016-01</td>\n",
       "      <td>201.40</td>\n",
       "      <td>201.90</td>\n",
       "      <td>200.05</td>\n",
       "      <td>201.36</td>\n",
       "      <td>110845800.0</td>\n",
       "      <td>182.82</td>\n",
       "      <td>0.001691</td>\n",
       "      <td>182.665</td>\n",
       "      <td>182.665</td>\n",
       "      <td>+</td>\n",
       "    </tr>\n",
       "    <tr>\n",
       "      <th>2</th>\n",
       "      <td>2016-01-06</td>\n",
       "      <td>2016</td>\n",
       "      <td>1</td>\n",
       "      <td>6</td>\n",
       "      <td>Wednesday</td>\n",
       "      <td>1</td>\n",
       "      <td>2016-01</td>\n",
       "      <td>198.34</td>\n",
       "      <td>200.06</td>\n",
       "      <td>197.60</td>\n",
       "      <td>198.82</td>\n",
       "      <td>152112600.0</td>\n",
       "      <td>180.52</td>\n",
       "      <td>-0.012614</td>\n",
       "      <td>181.950</td>\n",
       "      <td>181.950</td>\n",
       "      <td>-</td>\n",
       "    </tr>\n",
       "    <tr>\n",
       "      <th>3</th>\n",
       "      <td>2016-01-07</td>\n",
       "      <td>2016</td>\n",
       "      <td>1</td>\n",
       "      <td>7</td>\n",
       "      <td>Thursday</td>\n",
       "      <td>1</td>\n",
       "      <td>2016-01</td>\n",
       "      <td>195.33</td>\n",
       "      <td>197.44</td>\n",
       "      <td>193.59</td>\n",
       "      <td>194.05</td>\n",
       "      <td>213436100.0</td>\n",
       "      <td>176.19</td>\n",
       "      <td>-0.023991</td>\n",
       "      <td>180.510</td>\n",
       "      <td>180.510</td>\n",
       "      <td>-</td>\n",
       "    </tr>\n",
       "    <tr>\n",
       "      <th>4</th>\n",
       "      <td>2016-01-08</td>\n",
       "      <td>2016</td>\n",
       "      <td>1</td>\n",
       "      <td>8</td>\n",
       "      <td>Friday</td>\n",
       "      <td>1</td>\n",
       "      <td>2016-01</td>\n",
       "      <td>195.19</td>\n",
       "      <td>195.85</td>\n",
       "      <td>191.58</td>\n",
       "      <td>191.92</td>\n",
       "      <td>209817200.0</td>\n",
       "      <td>174.25</td>\n",
       "      <td>-0.010977</td>\n",
       "      <td>179.258</td>\n",
       "      <td>179.258</td>\n",
       "      <td>-</td>\n",
       "    </tr>\n",
       "  </tbody>\n",
       "</table>\n",
       "</div>"
      ],
      "text/plain": [
       "         Date  Year  Month  Day    Weekday  Week_Number Year_Week    Open  \\\n",
       "0  2016-01-04  2016      1    4     Monday            1   2016-01  200.49   \n",
       "1  2016-01-05  2016      1    5    Tuesday            1   2016-01  201.40   \n",
       "2  2016-01-06  2016      1    6  Wednesday            1   2016-01  198.34   \n",
       "3  2016-01-07  2016      1    7   Thursday            1   2016-01  195.33   \n",
       "4  2016-01-08  2016      1    8     Friday            1   2016-01  195.19   \n",
       "\n",
       "     High     Low   Close       Volume  Adj Close    Return  Short_MA  \\\n",
       "0  201.03  198.59  201.02  222353500.0     182.51  0.000000   182.510   \n",
       "1  201.90  200.05  201.36  110845800.0     182.82  0.001691   182.665   \n",
       "2  200.06  197.60  198.82  152112600.0     180.52 -0.012614   181.950   \n",
       "3  197.44  193.59  194.05  213436100.0     176.19 -0.023991   180.510   \n",
       "4  195.85  191.58  191.92  209817200.0     174.25 -0.010977   179.258   \n",
       "\n",
       "   Long_MA True_Label  \n",
       "0  182.510          +  \n",
       "1  182.665          +  \n",
       "2  181.950          -  \n",
       "3  180.510          -  \n",
       "4  179.258          -  "
      ]
     },
     "execution_count": 4,
     "metadata": {},
     "output_type": "execute_result"
    }
   ],
   "source": [
    "# add a new column \"True Label\", assign \"+\" if \"Return\" >= 0, assign \"-\" if \"Return\" < 0\n",
    "spy[\"True_Label\"] = np.where(spy[\"Return\"] >= 0, \"+\", \"-\")\n",
    "spy.head()"
   ]
  },
  {
   "cell_type": "markdown",
   "metadata": {},
   "source": [
    "### 1.2."
   ]
  },
  {
   "cell_type": "code",
   "execution_count": 5,
   "metadata": {},
   "outputs": [
    {
     "data": {
      "text/plain": [
       "(750, 17)"
      ]
     },
     "execution_count": 5,
     "metadata": {},
     "output_type": "execute_result"
    }
   ],
   "source": [
    "# seperate training data\n",
    "L = spy[0:750]\n",
    "L.shape"
   ]
  },
  {
   "cell_type": "code",
   "execution_count": 7,
   "metadata": {},
   "outputs": [
    {
     "data": {
      "text/plain": [
       "(415, 17)"
      ]
     },
     "execution_count": 7,
     "metadata": {},
     "output_type": "execute_result"
    }
   ],
   "source": [
    "L_up = L.loc[L[\"True_Label\"] == \"+\"]\n",
    "L_up.shape"
   ]
  },
  {
   "cell_type": "code",
   "execution_count": 8,
   "metadata": {},
   "outputs": [
    {
     "data": {
      "text/plain": [
       "(335, 17)"
      ]
     },
     "execution_count": 8,
     "metadata": {},
     "output_type": "execute_result"
    }
   ],
   "source": [
    "L_down = L.loc[L[\"True_Label\"] == \"-\"]\n",
    "L_down.shape"
   ]
  },
  {
   "cell_type": "code",
   "execution_count": 9,
   "metadata": {},
   "outputs": [
    {
     "data": {
      "text/plain": [
       "0.5533333333333333"
      ]
     },
     "execution_count": 9,
     "metadata": {},
     "output_type": "execute_result"
    }
   ],
   "source": [
    "# compute default probability that the next day is a \"up\" day\n",
    "default_p = 415/(750)\n",
    "default_p"
   ]
  },
  {
   "cell_type": "markdown",
   "metadata": {},
   "source": [
    "The default probability that the next day is a \"up\" day is 0.53333"
   ]
  },
  {
   "cell_type": "markdown",
   "metadata": {},
   "source": [
    "### 1.3."
   ]
  },
  {
   "cell_type": "code",
   "execution_count": 10,
   "metadata": {},
   "outputs": [],
   "source": [
    "from scipy import stats"
   ]
  },
  {
   "cell_type": "markdown",
   "metadata": {},
   "source": [
    "First, all the days are independent, so \n",
    "\n",
    "$P(\"+\" \\text{in day 4 |} \"-\" \\text{in last three days}) = P(\"+\") \\approx \\hat{p} = 0.53333$\n",
    "\n",
    "$P(\"-\" \\text{in day 4 |} \"-\" \\text{in last three days}) = P(\"-\") \\approx 1-\\hat{p} = 1-0.53333= 0.4666667$\n",
    "\n",
    "Now, if we want to calculate the probability of seeing k's \"-\" before \"+\", it is equal to \n",
    "\n",
    "$P(\\text{k's \"-\" before \"+\"}) \\approx (1-\\hat{p})^{k}\\hat{p}$\n",
    "\n",
    "the probability of seeing (k+1) \"-\" is equal to \n",
    "\n",
    "$P(\\text{(k+1)'s \"-\"}) \\approx (1-\\hat{p})^{k+1}$"
   ]
  },
  {
   "cell_type": "code",
   "execution_count": 17,
   "metadata": {},
   "outputs": [],
   "source": [
    "phat = 0.5533333333333333"
   ]
  },
  {
   "cell_type": "code",
   "execution_count": 25,
   "metadata": {},
   "outputs": [
    {
     "name": "stdout",
     "output_type": "stream",
     "text": [
      "When k = 1, the probability of 1's '-' before '+' is 0.2472\n",
      "When k = 2, the probability of 2's '-' before '+' is 0.1104\n",
      "When k = 3, the probability of 3's '-' before '+' is 0.0493\n"
     ]
    }
   ],
   "source": [
    "for k in range(1,4):\n",
    "    print(\"When k = %d, the probability of %d's '-' before '+' is %.4f\" % (k,k,((1-phat)**k)*phat))"
   ]
  },
  {
   "cell_type": "code",
   "execution_count": 28,
   "metadata": {},
   "outputs": [
    {
     "name": "stdout",
     "output_type": "stream",
     "text": [
      "When k = 1, the probability of (1+1)'s '-' is 0.1995\n",
      "When k = 2, the probability of (2+1)'s '-' is 0.0891\n",
      "When k = 3, the probability of (3+1)'s '-' is 0.0398\n"
     ]
    }
   ],
   "source": [
    "for k in range(1,4):\n",
    "    print(\"When k = %d, the probability of (%d+1)'s '-' is %.4f\" % (k,k,(1-phat)**(k+1)))"
   ]
  },
  {
   "cell_type": "markdown",
   "metadata": {},
   "source": [
    "### 1.4."
   ]
  },
  {
   "cell_type": "markdown",
   "metadata": {},
   "source": [
    "First, all the days are independent, so \n",
    "\n",
    "$P(\"+\" \\text{in day 4 |} \"+\" \\text{in last three days}) = P(\"+\") \\approx \\hat{p} = 0.53333$\n",
    "\n",
    "$P(\"-\" \\text{in day 4 |} \"+\" \\text{in last three days}) = P(\"-\") \\approx 1-\\hat{p} = 1-0.53333= 0.4666667$\n",
    "\n",
    "Now, if we want to calculate the probability of seeing k's \"+\" before \"-\", it is equal to \n",
    "\n",
    "$P(\\text{k's \"+\" before \"-\"}) \\approx \\hat{p}^{k}(1-\\hat{p})$\n",
    "\n",
    "the probability of seeing (k+1) \"+\" is equal to \n",
    "\n",
    "$P(\\text{(k+1)'s \"+\"}) \\approx \\hat{p}^{k+1}$"
   ]
  },
  {
   "cell_type": "code",
   "execution_count": 32,
   "metadata": {},
   "outputs": [
    {
     "name": "stdout",
     "output_type": "stream",
     "text": [
      "When k = 1, the probability of (1+1)'s '+' is 0.3062\n",
      "When k = 2, the probability of (2+1)'s '+' is 0.1694\n",
      "When k = 3, the probability of (3+1)'s '+' is 0.0937\n"
     ]
    }
   ],
   "source": [
    "for k in range(1,4):\n",
    "    print(\"When k = %d, the probability of (%d+1)'s '+' is %.4f\" % (k,k,phat**(k+1)))"
   ]
  },
  {
   "cell_type": "code",
   "execution_count": 31,
   "metadata": {},
   "outputs": [
    {
     "name": "stdout",
     "output_type": "stream",
     "text": [
      "When k = 1, the probability of 1's '+' before '-' is 0.2472\n",
      "When k = 2, the probability of 2's '+' before '-' is 0.1368\n",
      "When k = 3, the probability of 3's '+' before '-' is 0.0757\n"
     ]
    }
   ],
   "source": [
    "for k in range(1,4):\n",
    "    print(\"When k = %d, the probability of %d's '+' before '-' is %.4f\" % (k,k,(phat**k)*(1-phat)))"
   ]
  },
  {
   "cell_type": "markdown",
   "metadata": {},
   "source": [
    "## Question 2"
   ]
  },
  {
   "cell_type": "code",
   "execution_count": 63,
   "metadata": {},
   "outputs": [
    {
     "data": {
      "text/html": [
       "<div>\n",
       "<style scoped>\n",
       "    .dataframe tbody tr th:only-of-type {\n",
       "        vertical-align: middle;\n",
       "    }\n",
       "\n",
       "    .dataframe tbody tr th {\n",
       "        vertical-align: top;\n",
       "    }\n",
       "\n",
       "    .dataframe thead th {\n",
       "        text-align: right;\n",
       "    }\n",
       "</style>\n",
       "<table border=\"1\" class=\"dataframe\">\n",
       "  <thead>\n",
       "    <tr style=\"text-align: right;\">\n",
       "      <th></th>\n",
       "      <th>Date</th>\n",
       "      <th>Year</th>\n",
       "      <th>Month</th>\n",
       "      <th>Day</th>\n",
       "      <th>Weekday</th>\n",
       "      <th>Week_Number</th>\n",
       "      <th>Year_Week</th>\n",
       "      <th>Open</th>\n",
       "      <th>High</th>\n",
       "      <th>Low</th>\n",
       "      <th>Close</th>\n",
       "      <th>Volume</th>\n",
       "      <th>Adj Close</th>\n",
       "      <th>Return</th>\n",
       "      <th>Short_MA</th>\n",
       "      <th>Long_MA</th>\n",
       "      <th>True_Label</th>\n",
       "    </tr>\n",
       "  </thead>\n",
       "  <tbody>\n",
       "    <tr>\n",
       "      <th>745</th>\n",
       "      <td>2018-12-18</td>\n",
       "      <td>2018</td>\n",
       "      <td>12</td>\n",
       "      <td>18</td>\n",
       "      <td>Tuesday</td>\n",
       "      <td>50</td>\n",
       "      <td>2018-50</td>\n",
       "      <td>257.20</td>\n",
       "      <td>257.95</td>\n",
       "      <td>253.28</td>\n",
       "      <td>255.08</td>\n",
       "      <td>134515100.0</td>\n",
       "      <td>244.32</td>\n",
       "      <td>-0.001097</td>\n",
       "      <td>255.680000</td>\n",
       "      <td>259.9628</td>\n",
       "      <td>-</td>\n",
       "    </tr>\n",
       "    <tr>\n",
       "      <th>746</th>\n",
       "      <td>2018-12-19</td>\n",
       "      <td>2018</td>\n",
       "      <td>12</td>\n",
       "      <td>19</td>\n",
       "      <td>Wednesday</td>\n",
       "      <td>50</td>\n",
       "      <td>2018-50</td>\n",
       "      <td>255.17</td>\n",
       "      <td>259.40</td>\n",
       "      <td>249.35</td>\n",
       "      <td>251.26</td>\n",
       "      <td>214992800.0</td>\n",
       "      <td>240.66</td>\n",
       "      <td>-0.014976</td>\n",
       "      <td>254.084286</td>\n",
       "      <td>259.2624</td>\n",
       "      <td>-</td>\n",
       "    </tr>\n",
       "    <tr>\n",
       "      <th>747</th>\n",
       "      <td>2018-12-20</td>\n",
       "      <td>2018</td>\n",
       "      <td>12</td>\n",
       "      <td>20</td>\n",
       "      <td>Thursday</td>\n",
       "      <td>50</td>\n",
       "      <td>2018-50</td>\n",
       "      <td>249.86</td>\n",
       "      <td>251.62</td>\n",
       "      <td>244.65</td>\n",
       "      <td>247.17</td>\n",
       "      <td>252053400.0</td>\n",
       "      <td>236.75</td>\n",
       "      <td>-0.016278</td>\n",
       "      <td>252.250000</td>\n",
       "      <td>258.4918</td>\n",
       "      <td>-</td>\n",
       "    </tr>\n",
       "    <tr>\n",
       "      <th>748</th>\n",
       "      <td>2018-12-21</td>\n",
       "      <td>2018</td>\n",
       "      <td>12</td>\n",
       "      <td>21</td>\n",
       "      <td>Friday</td>\n",
       "      <td>50</td>\n",
       "      <td>2018-50</td>\n",
       "      <td>246.74</td>\n",
       "      <td>249.71</td>\n",
       "      <td>239.98</td>\n",
       "      <td>240.70</td>\n",
       "      <td>255345600.0</td>\n",
       "      <td>231.90</td>\n",
       "      <td>-0.020490</td>\n",
       "      <td>249.955000</td>\n",
       "      <td>257.7986</td>\n",
       "      <td>-</td>\n",
       "    </tr>\n",
       "    <tr>\n",
       "      <th>749</th>\n",
       "      <td>2018-12-24</td>\n",
       "      <td>2018</td>\n",
       "      <td>12</td>\n",
       "      <td>24</td>\n",
       "      <td>Monday</td>\n",
       "      <td>51</td>\n",
       "      <td>2018-51</td>\n",
       "      <td>239.04</td>\n",
       "      <td>240.84</td>\n",
       "      <td>234.27</td>\n",
       "      <td>234.34</td>\n",
       "      <td>147311600.0</td>\n",
       "      <td>225.77</td>\n",
       "      <td>-0.026423</td>\n",
       "      <td>246.972857</td>\n",
       "      <td>257.1002</td>\n",
       "      <td>-</td>\n",
       "    </tr>\n",
       "  </tbody>\n",
       "</table>\n",
       "</div>"
      ],
      "text/plain": [
       "           Date  Year  Month  Day    Weekday  Week_Number Year_Week    Open  \\\n",
       "745  2018-12-18  2018     12   18    Tuesday           50   2018-50  257.20   \n",
       "746  2018-12-19  2018     12   19  Wednesday           50   2018-50  255.17   \n",
       "747  2018-12-20  2018     12   20   Thursday           50   2018-50  249.86   \n",
       "748  2018-12-21  2018     12   21     Friday           50   2018-50  246.74   \n",
       "749  2018-12-24  2018     12   24     Monday           51   2018-51  239.04   \n",
       "\n",
       "       High     Low   Close       Volume  Adj Close    Return    Short_MA  \\\n",
       "745  257.95  253.28  255.08  134515100.0     244.32 -0.001097  255.680000   \n",
       "746  259.40  249.35  251.26  214992800.0     240.66 -0.014976  254.084286   \n",
       "747  251.62  244.65  247.17  252053400.0     236.75 -0.016278  252.250000   \n",
       "748  249.71  239.98  240.70  255345600.0     231.90 -0.020490  249.955000   \n",
       "749  240.84  234.27  234.34  147311600.0     225.77 -0.026423  246.972857   \n",
       "\n",
       "      Long_MA True_Label  \n",
       "745  259.9628          -  \n",
       "746  259.2624          -  \n",
       "747  258.4918          -  \n",
       "748  257.7986          -  \n",
       "749  257.1002          -  "
      ]
     },
     "execution_count": 63,
     "metadata": {},
     "output_type": "execute_result"
    }
   ],
   "source": [
    "L.tail()"
   ]
  },
  {
   "cell_type": "markdown",
   "metadata": {},
   "source": [
    "### 2.1."
   ]
  },
  {
   "cell_type": "markdown",
   "metadata": {},
   "source": [
    "First, we write a function to predict the label for SPY"
   ]
  },
  {
   "cell_type": "code",
   "execution_count": 169,
   "metadata": {},
   "outputs": [],
   "source": [
    "def spy_predict(d,W, default_p = 0.5533):\n",
    "    s = ','.join(spy['True_Label'][750-W+d-1:750+d-1])\n",
    "    s_minus = s+',-'\n",
    "    s_plus = s+',+'\n",
    "    N_minus = sum([','.join(spy['True_Label'][(x-(W+1)):x]) == s_minus for x in range(W+1,750+d)])\n",
    "    N_plus = sum([','.join(spy['True_Label'][(x-(W+1)):x]) == s_plus for x in range(W+1,750+d)])\n",
    "    if (N_plus == 0 and N_minus == 0):\n",
    "        return(default_p)\n",
    "    elif N_plus >= N_minus:\n",
    "        return('+')\n",
    "    else:\n",
    "        return('-')"
   ]
  },
  {
   "cell_type": "code",
   "execution_count": 176,
   "metadata": {},
   "outputs": [],
   "source": [
    "predict_W2 = [spy_predict(d, W = 2) for d in range(1,501)]\n",
    "predict_W3 = [spy_predict(d, W = 3) for d in range(1,501)]\n",
    "predict_W4 = [spy_predict(d, W = 4) for d in range(1,501)]"
   ]
  },
  {
   "cell_type": "markdown",
   "metadata": {},
   "source": [
    "We could generalize the function to accept all stock data. "
   ]
  },
  {
   "cell_type": "code",
   "execution_count": 212,
   "metadata": {},
   "outputs": [],
   "source": [
    "def stock_predict(d, W, default_p, stock, m):\n",
    "    \"\"\"\n",
    "    m is the number of days in training data\n",
    "    \"\"\"\n",
    "    s = ','.join(stock['True_Label'][m-W+d-1:m+d-1])\n",
    "    s_minus = s+',-'\n",
    "    s_plus = s+',+'\n",
    "    N_minus = sum([','.join(stock['True_Label'][(x-(W+1)):x]) == s_minus for x in range(W+1,m+d)])\n",
    "    N_plus = sum([','.join(stock['True_Label'][(x-(W+1)):x]) == s_plus for x in range(W+1,m+d)])\n",
    "    if (N_plus == 0 and N_minus == 0):\n",
    "        return(default_p)\n",
    "    elif N_plus >= N_minus:\n",
    "        return('+')\n",
    "    else:\n",
    "        return('-')"
   ]
  },
  {
   "cell_type": "code",
   "execution_count": 308,
   "metadata": {},
   "outputs": [],
   "source": [
    "spy_predict_W2 = [stock_predict(d, W = 2, default_p = 0.5533, stock = spy, m = 750) for d in range(1,510)]\n",
    "spy_predict_W3 = [stock_predict(d, W = 3, default_p = 0.5533, stock = spy, m = 750) for d in range(1,510)]\n",
    "spy_predict_W4 = [stock_predict(d, W = 4, default_p = 0.5533, stock = spy, m = 750) for d in range(1,510)]"
   ]
  },
  {
   "cell_type": "markdown",
   "metadata": {},
   "source": [
    "Next, we are going to do the same on the selected stock, SPOT. "
   ]
  },
  {
   "cell_type": "code",
   "execution_count": 194,
   "metadata": {},
   "outputs": [
    {
     "data": {
      "text/html": [
       "<div>\n",
       "<style scoped>\n",
       "    .dataframe tbody tr th:only-of-type {\n",
       "        vertical-align: middle;\n",
       "    }\n",
       "\n",
       "    .dataframe tbody tr th {\n",
       "        vertical-align: top;\n",
       "    }\n",
       "\n",
       "    .dataframe thead th {\n",
       "        text-align: right;\n",
       "    }\n",
       "</style>\n",
       "<table border=\"1\" class=\"dataframe\">\n",
       "  <thead>\n",
       "    <tr style=\"text-align: right;\">\n",
       "      <th></th>\n",
       "      <th>Date</th>\n",
       "      <th>Open</th>\n",
       "      <th>High</th>\n",
       "      <th>Low</th>\n",
       "      <th>Close</th>\n",
       "      <th>Adj Close</th>\n",
       "      <th>Volume</th>\n",
       "    </tr>\n",
       "  </thead>\n",
       "  <tbody>\n",
       "    <tr>\n",
       "      <th>0</th>\n",
       "      <td>2018-04-24</td>\n",
       "      <td>159.000000</td>\n",
       "      <td>159.259995</td>\n",
       "      <td>153.520004</td>\n",
       "      <td>155.070007</td>\n",
       "      <td>155.070007</td>\n",
       "      <td>1180400</td>\n",
       "    </tr>\n",
       "    <tr>\n",
       "      <th>1</th>\n",
       "      <td>2018-04-25</td>\n",
       "      <td>153.949997</td>\n",
       "      <td>154.600006</td>\n",
       "      <td>150.059006</td>\n",
       "      <td>153.330002</td>\n",
       "      <td>153.330002</td>\n",
       "      <td>1884600</td>\n",
       "    </tr>\n",
       "    <tr>\n",
       "      <th>2</th>\n",
       "      <td>2018-04-26</td>\n",
       "      <td>153.000000</td>\n",
       "      <td>157.800003</td>\n",
       "      <td>151.320007</td>\n",
       "      <td>156.600006</td>\n",
       "      <td>156.600006</td>\n",
       "      <td>1277200</td>\n",
       "    </tr>\n",
       "    <tr>\n",
       "      <th>3</th>\n",
       "      <td>2018-04-27</td>\n",
       "      <td>157.369995</td>\n",
       "      <td>160.000000</td>\n",
       "      <td>157.000000</td>\n",
       "      <td>159.979996</td>\n",
       "      <td>159.979996</td>\n",
       "      <td>1737800</td>\n",
       "    </tr>\n",
       "    <tr>\n",
       "      <th>4</th>\n",
       "      <td>2018-04-30</td>\n",
       "      <td>161.509995</td>\n",
       "      <td>162.880005</td>\n",
       "      <td>159.699997</td>\n",
       "      <td>161.669998</td>\n",
       "      <td>161.669998</td>\n",
       "      <td>3638400</td>\n",
       "    </tr>\n",
       "  </tbody>\n",
       "</table>\n",
       "</div>"
      ],
      "text/plain": [
       "         Date        Open        High         Low       Close   Adj Close  \\\n",
       "0  2018-04-24  159.000000  159.259995  153.520004  155.070007  155.070007   \n",
       "1  2018-04-25  153.949997  154.600006  150.059006  153.330002  153.330002   \n",
       "2  2018-04-26  153.000000  157.800003  151.320007  156.600006  156.600006   \n",
       "3  2018-04-27  157.369995  160.000000  157.000000  159.979996  159.979996   \n",
       "4  2018-04-30  161.509995  162.880005  159.699997  161.669998  161.669998   \n",
       "\n",
       "    Volume  \n",
       "0  1180400  \n",
       "1  1884600  \n",
       "2  1277200  \n",
       "3  1737800  \n",
       "4  3638400  "
      ]
     },
     "execution_count": 194,
     "metadata": {},
     "output_type": "execute_result"
    }
   ],
   "source": [
    "SPOT = pd.read_csv(\"SPOT.csv\")\n",
    "SPOT.head()"
   ]
  },
  {
   "cell_type": "code",
   "execution_count": 198,
   "metadata": {},
   "outputs": [],
   "source": [
    "SPOT[\"True_Label\"] = np.where(SPOT.Close-SPOT.Open >= 0 , \"+\", \"-\")"
   ]
  },
  {
   "cell_type": "code",
   "execution_count": 199,
   "metadata": {},
   "outputs": [
    {
     "data": {
      "text/html": [
       "<div>\n",
       "<style scoped>\n",
       "    .dataframe tbody tr th:only-of-type {\n",
       "        vertical-align: middle;\n",
       "    }\n",
       "\n",
       "    .dataframe tbody tr th {\n",
       "        vertical-align: top;\n",
       "    }\n",
       "\n",
       "    .dataframe thead th {\n",
       "        text-align: right;\n",
       "    }\n",
       "</style>\n",
       "<table border=\"1\" class=\"dataframe\">\n",
       "  <thead>\n",
       "    <tr style=\"text-align: right;\">\n",
       "      <th></th>\n",
       "      <th>Date</th>\n",
       "      <th>Open</th>\n",
       "      <th>High</th>\n",
       "      <th>Low</th>\n",
       "      <th>Close</th>\n",
       "      <th>Adj Close</th>\n",
       "      <th>Volume</th>\n",
       "      <th>True_Label</th>\n",
       "    </tr>\n",
       "  </thead>\n",
       "  <tbody>\n",
       "    <tr>\n",
       "      <th>0</th>\n",
       "      <td>2018-04-24</td>\n",
       "      <td>159.000000</td>\n",
       "      <td>159.259995</td>\n",
       "      <td>153.520004</td>\n",
       "      <td>155.070007</td>\n",
       "      <td>155.070007</td>\n",
       "      <td>1180400</td>\n",
       "      <td>-</td>\n",
       "    </tr>\n",
       "    <tr>\n",
       "      <th>1</th>\n",
       "      <td>2018-04-25</td>\n",
       "      <td>153.949997</td>\n",
       "      <td>154.600006</td>\n",
       "      <td>150.059006</td>\n",
       "      <td>153.330002</td>\n",
       "      <td>153.330002</td>\n",
       "      <td>1884600</td>\n",
       "      <td>-</td>\n",
       "    </tr>\n",
       "    <tr>\n",
       "      <th>2</th>\n",
       "      <td>2018-04-26</td>\n",
       "      <td>153.000000</td>\n",
       "      <td>157.800003</td>\n",
       "      <td>151.320007</td>\n",
       "      <td>156.600006</td>\n",
       "      <td>156.600006</td>\n",
       "      <td>1277200</td>\n",
       "      <td>+</td>\n",
       "    </tr>\n",
       "    <tr>\n",
       "      <th>3</th>\n",
       "      <td>2018-04-27</td>\n",
       "      <td>157.369995</td>\n",
       "      <td>160.000000</td>\n",
       "      <td>157.000000</td>\n",
       "      <td>159.979996</td>\n",
       "      <td>159.979996</td>\n",
       "      <td>1737800</td>\n",
       "      <td>+</td>\n",
       "    </tr>\n",
       "    <tr>\n",
       "      <th>4</th>\n",
       "      <td>2018-04-30</td>\n",
       "      <td>161.509995</td>\n",
       "      <td>162.880005</td>\n",
       "      <td>159.699997</td>\n",
       "      <td>161.669998</td>\n",
       "      <td>161.669998</td>\n",
       "      <td>3638400</td>\n",
       "      <td>+</td>\n",
       "    </tr>\n",
       "  </tbody>\n",
       "</table>\n",
       "</div>"
      ],
      "text/plain": [
       "         Date        Open        High         Low       Close   Adj Close  \\\n",
       "0  2018-04-24  159.000000  159.259995  153.520004  155.070007  155.070007   \n",
       "1  2018-04-25  153.949997  154.600006  150.059006  153.330002  153.330002   \n",
       "2  2018-04-26  153.000000  157.800003  151.320007  156.600006  156.600006   \n",
       "3  2018-04-27  157.369995  160.000000  157.000000  159.979996  159.979996   \n",
       "4  2018-04-30  161.509995  162.880005  159.699997  161.669998  161.669998   \n",
       "\n",
       "    Volume True_Label  \n",
       "0  1180400          -  \n",
       "1  1884600          -  \n",
       "2  1277200          +  \n",
       "3  1737800          +  \n",
       "4  3638400          +  "
      ]
     },
     "execution_count": 199,
     "metadata": {},
     "output_type": "execute_result"
    }
   ],
   "source": [
    "SPOT.head()"
   ]
  },
  {
   "cell_type": "code",
   "execution_count": 200,
   "metadata": {},
   "outputs": [
    {
     "data": {
      "text/plain": [
       "(693, 8)"
      ]
     },
     "execution_count": 200,
     "metadata": {},
     "output_type": "execute_result"
    }
   ],
   "source": [
    "SPOT.shape"
   ]
  },
  {
   "cell_type": "markdown",
   "metadata": {},
   "source": [
    "There are 693 days in SPOT data. Therefore, I use first 400 days as training data and last 293 days test data. The default probability is "
   ]
  },
  {
   "cell_type": "code",
   "execution_count": 213,
   "metadata": {},
   "outputs": [
    {
     "data": {
      "text/plain": [
       "0.5075"
      ]
     },
     "execution_count": 213,
     "metadata": {},
     "output_type": "execute_result"
    }
   ],
   "source": [
    "SPOT_default_p = np.mean(SPOT[:400]['True_Label'] == \"+\")\n",
    "SPOT_default_p"
   ]
  },
  {
   "cell_type": "markdown",
   "metadata": {},
   "source": [
    "The predicted labels on the test data for SPOT are given below"
   ]
  },
  {
   "cell_type": "code",
   "execution_count": null,
   "metadata": {},
   "outputs": [],
   "source": [
    "spot_predict_W2 = [stock_predict(d, W = 2, default_p = SPOT_default_p, stock = SPOT, m = 400) for d in range(1,294)]\n",
    "spot_predict_W3 = [stock_predict(d, W = 3, default_p = SPOT_default_p, stock = SPOT, m = 400) for d in range(1,294)]\n",
    "spot_predict_W4 = [stock_predict(d, W = 4, default_p = SPOT_default_p, stock = SPOT, m = 400) for d in range(1,294)]"
   ]
  },
  {
   "cell_type": "markdown",
   "metadata": {},
   "source": [
    "### 2.2."
   ]
  },
  {
   "cell_type": "code",
   "execution_count": 341,
   "metadata": {},
   "outputs": [],
   "source": [
    "spy_acc_W2 = np.mean(np.array(spy_predict_W2) == np.array(spy['True_Label'][750:1259]))\n",
    "spy_acc_W3 = np.mean(np.array(spy_predict_W3) == np.array(spy['True_Label'][750:1259]))\n",
    "spy_acc_W4 = np.mean(np.array(spy_predict_W4) == np.array(spy['True_Label'][750:1259]))"
   ]
  },
  {
   "cell_type": "code",
   "execution_count": 342,
   "metadata": {},
   "outputs": [
    {
     "name": "stdout",
     "output_type": "stream",
     "text": [
      "The accuracy when W = 2 is 0.5874\n",
      "The accuracy when W = 3 is 0.5874\n",
      "The accuracy when W = 4 is 0.5697\n"
     ]
    }
   ],
   "source": [
    "print(\"The accuracy when W = %d is %.4f\" % (2,spy_acc_W2))\n",
    "print(\"The accuracy when W = %d is %.4f\" % (3,spy_acc_W3))\n",
    "print(\"The accuracy when W = %d is %.4f\" % (4,spy_acc_W4))"
   ]
  },
  {
   "cell_type": "code",
   "execution_count": 343,
   "metadata": {
    "scrolled": true
   },
   "outputs": [],
   "source": [
    "spot_acc_W2 = np.mean(np.array(spot_predict_W2) == np.array(SPOT['True_Label'][400:693]))\n",
    "spot_acc_W3 = np.mean(np.array(spot_predict_W3) == np.array(SPOT['True_Label'][400:693]))\n",
    "spot_acc_W4 = np.mean(np.array(spot_predict_W4) == np.array(SPOT['True_Label'][400:693]))"
   ]
  },
  {
   "cell_type": "code",
   "execution_count": 344,
   "metadata": {},
   "outputs": [
    {
     "name": "stdout",
     "output_type": "stream",
     "text": [
      "The accuracy when W = 2 is 0.5392\n",
      "The accuracy when W = 3 is 0.5188\n",
      "The accuracy when W = 4 is 0.5290\n"
     ]
    }
   ],
   "source": [
    "print(\"The accuracy when W = %d is %.4f\" % (2,spot_acc_W2))\n",
    "print(\"The accuracy when W = %d is %.4f\" % (3,spot_acc_W3))\n",
    "print(\"The accuracy when W = %d is %.4f\" % (4,spot_acc_W4))"
   ]
  },
  {
   "cell_type": "markdown",
   "metadata": {},
   "source": [
    "### 2.3."
   ]
  },
  {
   "cell_type": "markdown",
   "metadata": {},
   "source": [
    "For the stock SPOT, W = 2 gave the highest accuracy. For the stock SPY, W = 2 or W = 3 gave the highest accuracy. "
   ]
  },
  {
   "cell_type": "markdown",
   "metadata": {},
   "source": [
    "## Question 3"
   ]
  },
  {
   "cell_type": "markdown",
   "metadata": {},
   "source": [
    "### 3.1."
   ]
  },
  {
   "cell_type": "code",
   "execution_count": 375,
   "metadata": {},
   "outputs": [],
   "source": [
    "spy_plus_total = (np.array(spy_predict_W2) == \"+\")*1 +\\\n",
    "                 (np.array(spy_predict_W3) == \"+\")*1 +\\\n",
    "                 (np.array(spy_predict_W4) == \"+\")*1"
   ]
  },
  {
   "cell_type": "code",
   "execution_count": 376,
   "metadata": {},
   "outputs": [],
   "source": [
    "spy_predict_ensemble = ['+' if x >= 2 else '-' for x in spy_plus_total]"
   ]
  },
  {
   "cell_type": "code",
   "execution_count": 281,
   "metadata": {},
   "outputs": [],
   "source": [
    "spot_plus_total = (np.array(spot_predict_W2) == \"+\")*1 +\\\n",
    "                  (np.array(spot_predict_W3) == \"+\")*1 +\\\n",
    "                  (np.array(spot_predict_W4) == \"+\")*1"
   ]
  },
  {
   "cell_type": "code",
   "execution_count": 282,
   "metadata": {},
   "outputs": [],
   "source": [
    "spot_predict_ensemble = ['+' if x >= 2 else '-' for x in spot_plus_total]"
   ]
  },
  {
   "cell_type": "markdown",
   "metadata": {},
   "source": [
    "### 3.2."
   ]
  },
  {
   "cell_type": "markdown",
   "metadata": {},
   "source": [
    "For SPY, the percentage of labels in year 4 and 5 that we compute correctly by using ensemble is "
   ]
  },
  {
   "cell_type": "code",
   "execution_count": 377,
   "metadata": {},
   "outputs": [
    {
     "data": {
      "text/plain": [
       "0.5893909626719057"
      ]
     },
     "execution_count": 377,
     "metadata": {},
     "output_type": "execute_result"
    }
   ],
   "source": [
    "spy_acc_ensemble = np.mean(np.array(spy_predict_ensemble) == np.array(spy['True_Label'][750:1259]))\n",
    "spy_acc_ensemble"
   ]
  },
  {
   "cell_type": "markdown",
   "metadata": {},
   "source": [
    "For SPOT, the percentage of labels in year 4 and 5 that we compute correctly by using ensemble is "
   ]
  },
  {
   "cell_type": "code",
   "execution_count": 350,
   "metadata": {},
   "outputs": [
    {
     "data": {
      "text/plain": [
       "0.515358361774744"
      ]
     },
     "execution_count": 350,
     "metadata": {},
     "output_type": "execute_result"
    }
   ],
   "source": [
    "spot_acc_ensemble = np.mean(np.array(spot_predict_ensemble) == np.array(SPOT['True_Label'][400:693]))\n",
    "spot_acc_ensemble"
   ]
  },
  {
   "cell_type": "markdown",
   "metadata": {},
   "source": [
    "### 3.3."
   ]
  },
  {
   "cell_type": "markdown",
   "metadata": {},
   "source": [
    "Without using ensemble, the specificity or true negative rate is given below. "
   ]
  },
  {
   "cell_type": "code",
   "execution_count": 363,
   "metadata": {},
   "outputs": [],
   "source": [
    "from itertools import compress\n",
    "spy_is_minus = np.array(spy[\"True_Label\"])=='-'\n",
    "spy_minus_acc_W2 = np.mean(np.array(list(compress(spy_predict_W2, spy_is_minus))) == \"-\")\n",
    "spy_minus_acc_W3 = np.mean(np.array(list(compress(spy_predict_W3, spy_is_minus))) == \"-\")\n",
    "spy_minus_acc_W4 = np.mean(np.array(list(compress(spy_predict_W4, spy_is_minus))) == \"-\")"
   ]
  },
  {
   "cell_type": "code",
   "execution_count": 372,
   "metadata": {},
   "outputs": [
    {
     "name": "stdout",
     "output_type": "stream",
     "text": [
      "For SPY, the specificity or true negative rate for W = 2 is 0.00%\n",
      "For SPY, the specificity or true negative rate for W = 3 is 19.09%\n",
      "For SPY, the specificity or true negative rate for W = 4 is 25.91%\n"
     ]
    }
   ],
   "source": [
    "print(\"For SPY, the specificity or true negative rate for W = 2 is %.2f%%\" % (100*spy_minus_acc_W2))\n",
    "print(\"For SPY, the specificity or true negative rate for W = 3 is %.2f%%\" % (100*spy_minus_acc_W3))\n",
    "print(\"For SPY, the specificity or true negative rate for W = 4 is %.2f%%\" % (100*spy_minus_acc_W4))"
   ]
  },
  {
   "cell_type": "code",
   "execution_count": 373,
   "metadata": {},
   "outputs": [],
   "source": [
    "spot_is_minus = np.array(SPOT[\"True_Label\"])=='-'\n",
    "spot_minus_acc_W2 = np.mean(np.array(list(compress(spot_predict_W2, spot_is_minus))) == \"-\")\n",
    "spot_minus_acc_W3 = np.mean(np.array(list(compress(spot_predict_W3, spot_is_minus))) == \"-\")\n",
    "spot_minus_acc_W4 = np.mean(np.array(list(compress(spot_predict_W4, spot_is_minus))) == \"-\")"
   ]
  },
  {
   "cell_type": "code",
   "execution_count": 374,
   "metadata": {
    "scrolled": true
   },
   "outputs": [
    {
     "name": "stdout",
     "output_type": "stream",
     "text": [
      "For SPOT, the specificity or true negative rate for W = 2 is 23.78%\n",
      "For SPOT, the specificity or true negative rate for W = 3 is 11.19%\n",
      "For SPOT, the specificity or true negative rate for W = 4 is 32.87%\n"
     ]
    }
   ],
   "source": [
    "print(\"For SPOT, the specificity or true negative rate for W = 2 is %.2f%%\" % (100*spot_minus_acc_W2))\n",
    "print(\"For SPOT, the specificity or true negative rate for W = 3 is %.2f%%\" % (100*spot_minus_acc_W3))\n",
    "print(\"For SPOT, the specificity or true negative rate for W = 4 is %.2f%%\" % (100*spot_minus_acc_W4))"
   ]
  },
  {
   "cell_type": "markdown",
   "metadata": {},
   "source": [
    "With ensemble, the specificity or true negative rate is given below. "
   ]
  },
  {
   "cell_type": "code",
   "execution_count": 378,
   "metadata": {},
   "outputs": [],
   "source": [
    "spy_minus_acc_ensemble = np.mean(np.array(list(compress(spy_predict_ensemble, spy_is_minus))) == \"-\")"
   ]
  },
  {
   "cell_type": "code",
   "execution_count": 388,
   "metadata": {},
   "outputs": [
    {
     "name": "stdout",
     "output_type": "stream",
     "text": [
      "For SPY with ensemble, the specificity or true negative rate is 10.45%\n"
     ]
    }
   ],
   "source": [
    "print(\"For SPY with ensemble, the specificity or true negative rate is %.2f%%\" % (100*spy_minus_acc_ensemble))"
   ]
  },
  {
   "cell_type": "code",
   "execution_count": 381,
   "metadata": {},
   "outputs": [],
   "source": [
    "spot_minus_acc_ensemble = np.mean(np.array(list(compress(spot_predict_ensemble, spot_is_minus))) == \"-\")"
   ]
  },
  {
   "cell_type": "code",
   "execution_count": 389,
   "metadata": {},
   "outputs": [
    {
     "name": "stdout",
     "output_type": "stream",
     "text": [
      "For SPOT with ensemble, the specificity or true negative rate is 13.29%\n"
     ]
    }
   ],
   "source": [
    "print(\"For SPOT with ensemble, the specificity or true negative rate is %.2f%%\" % (100*spot_minus_acc_ensemble))"
   ]
  },
  {
   "cell_type": "markdown",
   "metadata": {},
   "source": [
    "Consider the stock SPY:\n",
    "\n",
    "For W = 2, the ensemble method improve the accuracy on predictin '-' labels.\n",
    "\n",
    "For W = 3, the ensemble method does not improve the accuracy on predictin '-' labels.\n",
    "\n",
    "For W = 4, the ensemble method does not improve the accuracy on predictin '-' labels.\n",
    "\n",
    "Consider the stock SPOT:\n",
    "\n",
    "For W = 2, the ensemble method does not improve the accuracy on predictin '-' labels.\n",
    "\n",
    "For W = 3, the ensemble method improve the accuracy on predictin '-' labels.\n",
    "\n",
    "For W = 4, the ensemble method does not improve the accuracy on predictin '-' labels."
   ]
  },
  {
   "cell_type": "markdown",
   "metadata": {},
   "source": [
    "### 3.4."
   ]
  },
  {
   "cell_type": "markdown",
   "metadata": {},
   "source": [
    "Without using ensemble, the sensitivity or true positive rate is given below. "
   ]
  },
  {
   "cell_type": "code",
   "execution_count": 383,
   "metadata": {},
   "outputs": [],
   "source": [
    "spy_is_plus = np.array(spy[\"True_Label\"])=='+'\n",
    "spy_plus_acc_W2 = np.mean(np.array(list(compress(spy_predict_W2, spy_is_plus))) == \"+\")\n",
    "spy_plus_acc_W3 = np.mean(np.array(list(compress(spy_predict_W3, spy_is_plus))) == \"+\")\n",
    "spy_plus_acc_W4 = np.mean(np.array(list(compress(spy_predict_W4, spy_is_plus))) == \"+\")"
   ]
  },
  {
   "cell_type": "code",
   "execution_count": 384,
   "metadata": {},
   "outputs": [
    {
     "name": "stdout",
     "output_type": "stream",
     "text": [
      "For SPY, the sensitivity or true positive rate for W = 2 is 100.00%\n",
      "For SPY, the sensitivity or true positive rate for W = 3 is 81.31%\n",
      "For SPY, the sensitivity or true positive rate for W = 4 is 82.01%\n"
     ]
    }
   ],
   "source": [
    "print(\"For SPY, the sensitivity or true positive rate for W = 2 is %.2f%%\" % (100*spy_plus_acc_W2))\n",
    "print(\"For SPY, the sensitivity or true positive rate for W = 3 is %.2f%%\" % (100*spy_plus_acc_W3))\n",
    "print(\"For SPY, the sensitivity or true positive rate for W = 4 is %.2f%%\" % (100*spy_plus_acc_W4))"
   ]
  },
  {
   "cell_type": "code",
   "execution_count": 385,
   "metadata": {},
   "outputs": [],
   "source": [
    "spot_is_plus = np.array(SPOT[\"True_Label\"])=='+'\n",
    "spot_plus_acc_W2 = np.mean(np.array(list(compress(spot_predict_W2, spot_is_plus))) == \"+\")\n",
    "spot_plus_acc_W3 = np.mean(np.array(list(compress(spot_predict_W3, spot_is_plus))) == \"+\")\n",
    "spot_plus_acc_W4 = np.mean(np.array(list(compress(spot_predict_W4, spot_is_plus))) == \"+\")"
   ]
  },
  {
   "cell_type": "code",
   "execution_count": 386,
   "metadata": {},
   "outputs": [
    {
     "name": "stdout",
     "output_type": "stream",
     "text": [
      "For SPOT, the sensitivity or true positive rate for W = 2 is 70.67%\n",
      "For SPOT, the sensitivity or true positive rate for W = 3 is 82.67%\n",
      "For SPOT, the sensitivity or true positive rate for W = 4 is 61.33%\n"
     ]
    }
   ],
   "source": [
    "print(\"For SPOT, the sensitivity or true positive rate for W = 2 is %.2f%%\" % (100*spot_plus_acc_W2))\n",
    "print(\"For SPOT, the sensitivity or true positive rate for W = 3 is %.2f%%\" % (100*spot_plus_acc_W3))\n",
    "print(\"For SPOT, the sensitivity or true positive rate for W = 4 is %.2f%%\" % (100*spot_plus_acc_W4))"
   ]
  },
  {
   "cell_type": "markdown",
   "metadata": {},
   "source": [
    "With ensemble, the sensitivity or true positive rate is given below. "
   ]
  },
  {
   "cell_type": "code",
   "execution_count": 390,
   "metadata": {},
   "outputs": [
    {
     "name": "stdout",
     "output_type": "stream",
     "text": [
      "For SPY with ensemble, the sensitivity or true positive rate is 91.00%\n"
     ]
    }
   ],
   "source": [
    "spy_plus_acc_ensemble = np.mean(np.array(list(compress(spy_predict_ensemble, spy_is_plus))) == \"+\")\n",
    "print(\"For SPY with ensemble, the sensitivity or true positive rate is %.2f%%\" % (100*spy_plus_acc_ensemble))\n"
   ]
  },
  {
   "cell_type": "code",
   "execution_count": 391,
   "metadata": {},
   "outputs": [
    {
     "name": "stdout",
     "output_type": "stream",
     "text": [
      "For SPOT with ensemble, the sensitivity or true positive rate is 78.67%\n"
     ]
    }
   ],
   "source": [
    "spot_plus_acc_ensemble = np.mean(np.array(list(compress(spot_predict_ensemble, spot_is_plus))) == \"+\")\n",
    "print(\"For SPOT with ensemble, the sensitivity or true positive rate is %.2f%%\" % (100*spot_plus_acc_ensemble))\n"
   ]
  },
  {
   "cell_type": "markdown",
   "metadata": {},
   "source": [
    "Consider the stock SPY:\n",
    "\n",
    "For W = 2, the ensemble method does not improve the accuracy on predictin '+' labels.\n",
    "\n",
    "For W = 3, the ensemble method improve the accuracy on predictin '+' labels.\n",
    "\n",
    "For W = 4, the ensemble method improve the accuracy on predictin '+' labels.\n",
    "\n",
    "Consider the stock SPOT:\n",
    "\n",
    "For W = 2, the ensemble method improve the accuracy on predictin '+' labels.\n",
    "\n",
    "For W = 3, the ensemble method does not improve the accuracy on predictin '+' labels.\n",
    "\n",
    "For W = 4, the ensemble method improve the accuracy on predictin '+' labels."
   ]
  },
  {
   "cell_type": "markdown",
   "metadata": {},
   "source": [
    "## Question 4"
   ]
  },
  {
   "cell_type": "markdown",
   "metadata": {},
   "source": [
    "### 4.1."
   ]
  },
  {
   "cell_type": "code",
   "execution_count": 408,
   "metadata": {},
   "outputs": [],
   "source": [
    "spy_TP_W2 = sum(np.array(list(compress(spy_predict_W2, spy_is_plus))) == \"+\")\n",
    "spy_TP_W3 = sum(np.array(list(compress(spy_predict_W3, spy_is_plus))) == \"+\")\n",
    "spy_TP_W4 = sum(np.array(list(compress(spy_predict_W4, spy_is_plus))) == \"+\")\n",
    "spy_TP_ensemble = sum(np.array(list(compress(spy_predict_ensemble, spy_is_plus))) == \"+\")"
   ]
  },
  {
   "cell_type": "code",
   "execution_count": 410,
   "metadata": {},
   "outputs": [
    {
     "name": "stdout",
     "output_type": "stream",
     "text": [
      "For SPY with W = 2, the true positive (TP) is 289\n",
      "For SPY with W = 3, the true positive (TP) is 235\n",
      "For SPY with W = 4, the true positive (TP) is 237\n",
      "For SPY with ensemble, the true positive (TP) is 263\n"
     ]
    }
   ],
   "source": [
    "print(\"For SPY with W = 2, the true positive (TP) is %d\" % spy_TP_W2)\n",
    "print(\"For SPY with W = 3, the true positive (TP) is %d\" % spy_TP_W3)\n",
    "print(\"For SPY with W = 4, the true positive (TP) is %d\" % spy_TP_W4)\n",
    "print(\"For SPY with ensemble, the true positive (TP) is %d\" % spy_TP_ensemble)"
   ]
  },
  {
   "cell_type": "code",
   "execution_count": 413,
   "metadata": {},
   "outputs": [],
   "source": [
    "spot_TP_W2 = sum(np.array(list(compress(spot_predict_W2, spot_is_plus))) == \"+\")\n",
    "spot_TP_W3 = sum(np.array(list(compress(spot_predict_W3, spot_is_plus))) == \"+\")\n",
    "spot_TP_W4 = sum(np.array(list(compress(spot_predict_W4, spot_is_plus))) == \"+\")\n",
    "spot_TP_ensemble = sum(np.array(list(compress(spot_predict_ensemble, spot_is_plus))) == \"+\")"
   ]
  },
  {
   "cell_type": "code",
   "execution_count": 414,
   "metadata": {},
   "outputs": [
    {
     "name": "stdout",
     "output_type": "stream",
     "text": [
      "For SPOT with W = 2, the true positive (TP) is 106\n",
      "For SPOT with W = 3, the true positive (TP) is 124\n",
      "For SPOT with W = 4, the true positive (TP) is 92\n",
      "For SPOT with ensemble, the true positive (TP) is 118\n"
     ]
    }
   ],
   "source": [
    "print(\"For SPOT with W = 2, the true positive (TP) is %d\" % spot_TP_W2)\n",
    "print(\"For SPOT with W = 3, the true positive (TP) is %d\" % spot_TP_W3)\n",
    "print(\"For SPOT with W = 4, the true positive (TP) is %d\" % spot_TP_W4)\n",
    "print(\"For SPOT with ensemble, the true positive (TP) is %d\" % spot_TP_ensemble)"
   ]
  },
  {
   "cell_type": "markdown",
   "metadata": {},
   "source": [
    "### 4.2."
   ]
  },
  {
   "cell_type": "code",
   "execution_count": 411,
   "metadata": {},
   "outputs": [],
   "source": [
    "spy_FP_W2 = sum(np.array(list(compress(spy_predict_W2, spy_is_minus))) == \"+\")\n",
    "spy_FP_W3 = sum(np.array(list(compress(spy_predict_W3, spy_is_minus))) == \"+\")\n",
    "spy_FP_W4 = sum(np.array(list(compress(spy_predict_W4, spy_is_minus))) == \"+\")\n",
    "spy_FP_ensemble = sum(np.array(list(compress(spy_predict_ensemble, spy_is_minus))) == \"+\")"
   ]
  },
  {
   "cell_type": "code",
   "execution_count": 412,
   "metadata": {},
   "outputs": [
    {
     "name": "stdout",
     "output_type": "stream",
     "text": [
      "For SPY with W = 2, the false positive (FP) is 220\n",
      "For SPY with W = 3, the false positive (FP) is 178\n",
      "For SPY with W = 4, the false positive (FP) is 163\n",
      "For SPY with ensemble, the false positive (FP) is 197\n"
     ]
    }
   ],
   "source": [
    "print(\"For SPY with W = 2, the false positive (FP) is %d\" % spy_FP_W2)\n",
    "print(\"For SPY with W = 3, the false positive (FP) is %d\" % spy_FP_W3)\n",
    "print(\"For SPY with W = 4, the false positive (FP) is %d\" % spy_FP_W4)\n",
    "print(\"For SPY with ensemble, the false positive (FP) is %d\" % spy_FP_ensemble)"
   ]
  },
  {
   "cell_type": "code",
   "execution_count": 417,
   "metadata": {},
   "outputs": [],
   "source": [
    "spot_FP_W2 = sum(np.array(list(compress(spot_predict_W2, spot_is_minus))) == \"+\")\n",
    "spot_FP_W3 = sum(np.array(list(compress(spot_predict_W3, spot_is_minus))) == \"+\")\n",
    "spot_FP_W4 = sum(np.array(list(compress(spot_predict_W4, spot_is_minus))) == \"+\")\n",
    "spot_FP_ensemble = sum(np.array(list(compress(spot_predict_ensemble, spot_is_minus))) == \"+\")"
   ]
  },
  {
   "cell_type": "code",
   "execution_count": 418,
   "metadata": {},
   "outputs": [
    {
     "name": "stdout",
     "output_type": "stream",
     "text": [
      "For SPOT with W = 2, the false positive (FP) is 109\n",
      "For SPOT with W = 3, the false positive (FP) is 127\n",
      "For SPOT with W = 4, the false positive (FP) is 96\n",
      "For SPOT with ensemble, the false positive (FP) is 124\n"
     ]
    }
   ],
   "source": [
    "print(\"For SPOT with W = 2, the false positive (FP) is %d\" % spot_FP_W2)\n",
    "print(\"For SPOT with W = 3, the false positive (FP) is %d\" % spot_FP_W3)\n",
    "print(\"For SPOT with W = 4, the false positive (FP) is %d\" % spot_FP_W4)\n",
    "print(\"For SPOT with ensemble, the false positive (FP) is %d\" % spot_FP_ensemble)"
   ]
  },
  {
   "cell_type": "markdown",
   "metadata": {},
   "source": [
    "### 4.3."
   ]
  },
  {
   "cell_type": "code",
   "execution_count": 420,
   "metadata": {},
   "outputs": [],
   "source": [
    "spy_TN_W2 = sum(np.array(list(compress(spy_predict_W2, spy_is_minus))) == \"-\")\n",
    "spy_TN_W3 = sum(np.array(list(compress(spy_predict_W3, spy_is_minus))) == \"-\")\n",
    "spy_TN_W4 = sum(np.array(list(compress(spy_predict_W4, spy_is_minus))) == \"-\")\n",
    "spy_TN_ensemble = sum(np.array(list(compress(spy_predict_ensemble, spy_is_minus))) == \"-\")"
   ]
  },
  {
   "cell_type": "code",
   "execution_count": 423,
   "metadata": {},
   "outputs": [
    {
     "name": "stdout",
     "output_type": "stream",
     "text": [
      "For SPY with W = 2, the true negative (TN) is 0\n",
      "For SPY with W = 3, the true negative (TN) is 42\n",
      "For SPY with W = 4, the true negative (TN) is 57\n",
      "For SPY with ensemble, the true negative (TN) is 23\n"
     ]
    }
   ],
   "source": [
    "print(\"For SPY with W = 2, the true negative (TN) is %d\" % spy_TN_W2)\n",
    "print(\"For SPY with W = 3, the true negative (TN) is %d\" % spy_TN_W3)\n",
    "print(\"For SPY with W = 4, the true negative (TN) is %d\" % spy_TN_W4)\n",
    "print(\"For SPY with ensemble, the true negative (TN) is %d\" % spy_TN_ensemble)"
   ]
  },
  {
   "cell_type": "code",
   "execution_count": 424,
   "metadata": {},
   "outputs": [],
   "source": [
    "spot_TN_W2 = sum(np.array(list(compress(spot_predict_W2, spot_is_minus))) == \"-\")\n",
    "spot_TN_W3 = sum(np.array(list(compress(spot_predict_W3, spot_is_minus))) == \"-\")\n",
    "spot_TN_W4 = sum(np.array(list(compress(spot_predict_W4, spot_is_minus))) == \"-\")\n",
    "spot_TN_ensemble = sum(np.array(list(compress(spot_predict_ensemble, spot_is_minus))) == \"-\")"
   ]
  },
  {
   "cell_type": "code",
   "execution_count": 426,
   "metadata": {},
   "outputs": [
    {
     "name": "stdout",
     "output_type": "stream",
     "text": [
      "For SPOT with W = 2, the true negative (TN) is 34\n",
      "For SPOT with W = 3, the true negative (TN) is 16\n",
      "For SPOT with W = 4, the true negative (TN) is 47\n",
      "For SPOT with ensemble, the true negative (TN) is 19\n"
     ]
    }
   ],
   "source": [
    "print(\"For SPOT with W = 2, the true negative (TN) is %d\" % spot_TN_W2)\n",
    "print(\"For SPOT with W = 3, the true negative (TN) is %d\" % spot_TN_W3)\n",
    "print(\"For SPOT with W = 4, the true negative (TN) is %d\" % spot_TN_W4)\n",
    "print(\"For SPOT with ensemble, the true negative (TN) is %d\" % spot_TN_ensemble)"
   ]
  },
  {
   "cell_type": "markdown",
   "metadata": {},
   "source": [
    "### 4.4."
   ]
  },
  {
   "cell_type": "code",
   "execution_count": 428,
   "metadata": {},
   "outputs": [],
   "source": [
    "spy_FN_W2 = sum(np.array(list(compress(spy_predict_W2, spy_is_plus))) == \"-\")\n",
    "spy_FN_W3 = sum(np.array(list(compress(spy_predict_W3, spy_is_plus))) == \"-\")\n",
    "spy_FN_W4 = sum(np.array(list(compress(spy_predict_W4, spy_is_plus))) == \"-\")\n",
    "spy_FN_ensemble = sum(np.array(list(compress(spy_predict_ensemble, spy_is_plus))) == \"-\")"
   ]
  },
  {
   "cell_type": "code",
   "execution_count": 429,
   "metadata": {},
   "outputs": [
    {
     "name": "stdout",
     "output_type": "stream",
     "text": [
      "For SPY with W = 2, the false negative (FN) is 0\n",
      "For SPY with W = 3, the false negative (FN) is 54\n",
      "For SPY with W = 4, the false negative (FN) is 52\n",
      "For SPY with ensemble, the false negative (FN) is 26\n"
     ]
    }
   ],
   "source": [
    "print(\"For SPY with W = 2, the false negative (FN) is %d\" % spy_FN_W2)\n",
    "print(\"For SPY with W = 3, the false negative (FN) is %d\" % spy_FN_W3)\n",
    "print(\"For SPY with W = 4, the false negative (FN) is %d\" % spy_FN_W4)\n",
    "print(\"For SPY with ensemble, the false negative (FN) is %d\" % spy_FN_ensemble)"
   ]
  },
  {
   "cell_type": "code",
   "execution_count": 430,
   "metadata": {},
   "outputs": [],
   "source": [
    "spot_FN_W2 = sum(np.array(list(compress(spot_predict_W2, spot_is_plus))) == \"-\")\n",
    "spot_FN_W3 = sum(np.array(list(compress(spot_predict_W3, spot_is_plus))) == \"-\")\n",
    "spot_FN_W4 = sum(np.array(list(compress(spot_predict_W4, spot_is_plus))) == \"-\")\n",
    "spot_FN_ensemble = sum(np.array(list(compress(spot_predict_ensemble, spot_is_plus))) == \"-\")"
   ]
  },
  {
   "cell_type": "code",
   "execution_count": 431,
   "metadata": {},
   "outputs": [
    {
     "name": "stdout",
     "output_type": "stream",
     "text": [
      "For SPOT with W = 2, the false negative (FN) is 44\n",
      "For SPOT with W = 3, the false negative (FN) is 26\n",
      "For SPOT with W = 4, the false negative (FN) is 58\n",
      "For SPOT with ensemble, the false negative (FN) is 32\n"
     ]
    }
   ],
   "source": [
    "print(\"For SPOT with W = 2, the false negative (FN) is %d\" % spot_FN_W2)\n",
    "print(\"For SPOT with W = 3, the false negative (FN) is %d\" % spot_FN_W3)\n",
    "print(\"For SPOT with W = 4, the false negative (FN) is %d\" % spot_FN_W4)\n",
    "print(\"For SPOT with ensemble, the false negative (FN) is %d\" % spot_FN_ensemble)"
   ]
  },
  {
   "cell_type": "markdown",
   "metadata": {},
   "source": [
    "### 4.5."
   ]
  },
  {
   "cell_type": "code",
   "execution_count": 394,
   "metadata": {},
   "outputs": [
    {
     "name": "stdout",
     "output_type": "stream",
     "text": [
      "For SPY with W = 2, the sensitivity or true positive rate is 100.00%\n",
      "For SPY with W = 3, the sensitivity or true positive rate is 81.31%\n",
      "For SPY with W = 4, the sensitivity or true positive rate is 82.01%\n",
      "For SPY with ensemble, the sensitivity or true positive rate is 91.00%\n"
     ]
    }
   ],
   "source": [
    "print(\"For SPY with W = 2, the sensitivity or true positive rate is %.2f%%\" % (100*spy_plus_acc_W2))\n",
    "print(\"For SPY with W = 3, the sensitivity or true positive rate is %.2f%%\" % (100*spy_plus_acc_W3))\n",
    "print(\"For SPY with W = 4, the sensitivity or true positive rate is %.2f%%\" % (100*spy_plus_acc_W4))\n",
    "print(\"For SPY with ensemble, the sensitivity or true positive rate is %.2f%%\" % (100*spy_plus_acc_ensemble))"
   ]
  },
  {
   "cell_type": "code",
   "execution_count": 395,
   "metadata": {},
   "outputs": [
    {
     "name": "stdout",
     "output_type": "stream",
     "text": [
      "For SPOT with W = 2, the sensitivity or true positive rate is 70.67%\n",
      "For SPOT with W = 3, the sensitivity or true positive rate is 82.67%\n",
      "For SPOT with W = 4, the sensitivity or true positive rate is 61.33%\n",
      "For SPOT with ensemble, the sensitivity or true positive rate is 78.67%\n"
     ]
    }
   ],
   "source": [
    "print(\"For SPOT with W = 2, the sensitivity or true positive rate is %.2f%%\" % (100*spot_plus_acc_W2))\n",
    "print(\"For SPOT with W = 3, the sensitivity or true positive rate is %.2f%%\" % (100*spot_plus_acc_W3))\n",
    "print(\"For SPOT with W = 4, the sensitivity or true positive rate is %.2f%%\" % (100*spot_plus_acc_W4))\n",
    "print(\"For SPOT with ensemble, the sensitivity or true positive rate is %.2f%%\" % (100*spot_plus_acc_ensemble))"
   ]
  },
  {
   "cell_type": "markdown",
   "metadata": {},
   "source": [
    "### 4.6."
   ]
  },
  {
   "cell_type": "code",
   "execution_count": 405,
   "metadata": {},
   "outputs": [
    {
     "name": "stdout",
     "output_type": "stream",
     "text": [
      "For SPY with W = 2, the true negative rate is 0.00%\n",
      "For SPY with W = 3, the true negative rate is 19.09%\n",
      "For SPY with W = 4, the true negative rate is 25.91%\n",
      "For SPY with ensemble, the true negative rate is 10.45%\n"
     ]
    }
   ],
   "source": [
    "print(\"For SPY with W = 2, the true negative rate is %.2f%%\" % (100*(spy_minus_acc_W2)))\n",
    "print(\"For SPY with W = 3, the true negative rate is %.2f%%\" % (100*(spy_minus_acc_W3)))\n",
    "print(\"For SPY with W = 4, the true negative rate is %.2f%%\" % (100*(spy_minus_acc_W4)))\n",
    "print(\"For SPY with ensemble, the true negative rate is %.2f%%\" % (100*(spy_minus_acc_ensemble)))"
   ]
  },
  {
   "cell_type": "code",
   "execution_count": 406,
   "metadata": {},
   "outputs": [
    {
     "name": "stdout",
     "output_type": "stream",
     "text": [
      "For SPOT with W = 2, the true negative rate is 23.78%\n",
      "For SPOT with W = 3, the true negative rate is 11.19%\n",
      "For SPOT with W = 4, the true negative rate is 32.87%\n",
      "For SPOT with ensemble, the true negative rate is 13.29%\n"
     ]
    }
   ],
   "source": [
    "print(\"For SPOT with W = 2, the true negative rate is %.2f%%\" % (100*(spot_minus_acc_W2)))\n",
    "print(\"For SPOT with W = 3, the true negative rate is %.2f%%\" % (100*(spot_minus_acc_W3)))\n",
    "print(\"For SPOT with W = 4, the true negative rate is %.2f%%\" % (100*(spot_minus_acc_W4)))\n",
    "print(\"For SPOT with ensemble, the true negative rate is %.2f%%\" % (100*(spot_minus_acc_ensemble)))"
   ]
  },
  {
   "cell_type": "markdown",
   "metadata": {},
   "source": [
    "### 4.7."
   ]
  },
  {
   "cell_type": "markdown",
   "metadata": {},
   "source": [
    "| W | ticker | TP | FP | TN | FN | accuracy | TPR | TNR |\n",
    "| --- | --- | --- | --- | --- | --- | --- | --- | --- |\n",
    "| 2 | S&P-500 | 289 | 220 | 0 | 0 | 58.74% |  100% | 0.00% |\n",
    "| 3 | S&P-500 | 235 | 178 | 42 | 54 | 58.74% |  81.31% | 19.09% |\n",
    "| 4 | S&P-500 | 237 | 163 | 57 | 52 | 56.97% |  82.01% | 25.91% |\n",
    "| ensemble | S&P-500 | 263 | 197 | 23 | 26 | 58.94% |  91.00% | 10.45% |\n",
    "| 2 | SPOT | 106 | 109 | 34 | 44 | 53.92% |  70.67% | 23.78% |\n",
    "| 3 | SPOT | 124 | 127 | 16 | 26 | 51.87% |  82.67% | 11.19% |\n",
    "| 4 | SPOT | 92 | 96 | 47 | 58 | 52.90% |  61.33% | 32.87% |\n",
    "| ensemble | SPOT | 118 | 124 | 19 | 32 | 51.54% |  78.67% | 13.29% |"
   ]
  },
  {
   "cell_type": "markdown",
   "metadata": {},
   "source": [
    "### 4.8."
   ]
  },
  {
   "cell_type": "markdown",
   "metadata": {},
   "source": [
    "For S&P-500, the ensemble method improves the accuracy. However, the true positive rate is higher if we use W=2 instead of ensemble method. Also, the true negative rate is higher if we use W = 3 or W = 4 instead of ensemble method. \n",
    "\n",
    "For SPOT, the ensemble method does not improve the accuracy. The true positive rate is higher if we use W=3 instead of ensemble method. Also, the true negative rate is higher if we use W = 2 or W = 4 instead of ensemble method. "
   ]
  },
  {
   "cell_type": "markdown",
   "metadata": {},
   "source": [
    "## Question 5"
   ]
  },
  {
   "cell_type": "markdown",
   "metadata": {},
   "source": [
    "### 5.1."
   ]
  },
  {
   "cell_type": "code",
   "execution_count": 526,
   "metadata": {},
   "outputs": [],
   "source": [
    "import seaborn as sns\n",
    "from datetime import datetime"
   ]
  },
  {
   "cell_type": "markdown",
   "metadata": {},
   "source": [
    "For SPOT, the best $W$ is 2. So we have $W^*=2$"
   ]
  },
  {
   "cell_type": "code",
   "execution_count": 465,
   "metadata": {},
   "outputs": [],
   "source": [
    "price_close = SPOT[400:693].Close.iloc[0]\n",
    "price_open = SPOT[400:693].Open.iloc[0]"
   ]
  },
  {
   "cell_type": "code",
   "execution_count": 515,
   "metadata": {},
   "outputs": [],
   "source": [
    "money = 100\n",
    "current_money_W2 = 100\n",
    "growth_amount_W2 = []\n",
    "growth_W2 = []\n",
    "for i in range(293):\n",
    "    if spot_predict_W2[i] == '+':\n",
    "        r = (price_close-price_open)/price_open\n",
    "        current_money_W2 += current_money_W2*r\n",
    "        growth_W2.append((current_money_W2-money)/money)\n",
    "        growth_amount_W2.append(current_money_W2)\n",
    "    else:\n",
    "        growth_amount_W2.append(current_money_W2)"
   ]
  },
  {
   "cell_type": "code",
   "execution_count": 518,
   "metadata": {},
   "outputs": [],
   "source": [
    "money = 100\n",
    "current_money_ensemble = 100\n",
    "growth_amount_ensemble = []\n",
    "growth_ensemble = []\n",
    "for i in range(293):\n",
    "    if spot_predict_ensemble[i] == '+':\n",
    "        r = (price_close-price_open)/price_open\n",
    "        current_money_ensemble += current_money_ensemble*r\n",
    "        growth_ensemble.append((current_money_ensemble-money)/money)\n",
    "        growth_amount_ensemble.append(current_money_ensemble)\n",
    "    else:\n",
    "        growth_amount_ensemble.append(current_money_ensemble)        "
   ]
  },
  {
   "cell_type": "code",
   "execution_count": 521,
   "metadata": {},
   "outputs": [],
   "source": [
    "spot_earning = pd.DataFrame({'Date':list(range(293)), \n",
    "                             'growth_W':growth_amount_W2, \n",
    "                             'growth_ensemble':growth_amount_ensemble})"
   ]
  },
  {
   "cell_type": "code",
   "execution_count": 525,
   "metadata": {},
   "outputs": [
    {
     "data": {
      "text/plain": [
       "<AxesSubplot:xlabel='Date', ylabel='value'>"
      ]
     },
     "execution_count": 525,
     "metadata": {},
     "output_type": "execute_result"
    },
    {
     "data": {
      "image/png": "[encoded data removed]",
      "text/plain": [
       "<Figure size 432x288 with 1 Axes>"
      ]
     },
     "metadata": {
      "needs_background": "light"
     },
     "output_type": "display_data"
    }
   ],
   "source": [
    "sns.lineplot(x = 'Date', y = 'value', hue = \"variable\", data = pd.melt(spot_earning, ['Date']))"
   ]
  },
  {
   "cell_type": "markdown",
   "metadata": {},
   "source": [
    "### 5.2."
   ]
  },
  {
   "cell_type": "markdown",
   "metadata": {},
   "source": [
    "The growth rate/amount is higher if we use ensemble method than the best W. "
   ]
  },
  {
   "cell_type": "code",
   "execution_count": null,
   "metadata": {},
   "outputs": [],
   "source": []
  }
 ],
 "metadata": {
  "kernelspec": {
   "display_name": "Python 3",
   "language": "python",
   "name": "python3"
  },
  "language_info": {
   "codemirror_mode": {
    "name": "ipython",
    "version": 3
   },
   "file_extension": ".py",
   "mimetype": "text/x-python",
   "name": "python",
   "nbconvert_exporter": "python",
   "pygments_lexer": "ipython3",
   "version": "3.8.5"
  }
 },
 "nbformat": 4,
 "nbformat_minor": 4
}
